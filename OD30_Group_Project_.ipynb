{
 "cells": [
  {
   "cell_type": "markdown",
   "metadata": {
    "id": "1d244aab"
   },
   "source": [
    "## Loading Python modules"
   ]
  },
  {
   "cell_type": "code",
   "execution_count": 1,
   "metadata": {
    "id": "c81fd309"
   },
   "outputs": [],
   "source": [
    "import pandas as pd               \n",
    "import numpy as np                \n",
    "import matplotlib.pyplot as plt   \n",
    "import sqlite3 as sqldatabase\n",
    "from scipy.stats import normaltest\n",
    "from sklearn.model_selection import train_test_split\n",
    "from sklearn.linear_model import LinearRegression\n",
    "from sklearn.cluster import KMeans\n",
    "from sklearn.preprocessing import StandardScaler"
   ]
  },
  {
   "cell_type": "markdown",
   "metadata": {
    "id": "c0c006f5"
   },
   "source": [
    "## Retrieving data"
   ]
  },
  {
   "cell_type": "code",
   "execution_count": 2,
   "metadata": {
    "colab": {
     "base_uri": "https://localhost:8080/",
     "height": 0
    },
    "id": "9443a4fe",
    "outputId": "c893f75e-5fa2-4c95-f2c3-96c8570d1674"
   },
   "outputs": [
    {
     "data": {
      "text/html": [
       "<div>\n",
       "<style scoped>\n",
       "    .dataframe tbody tr th:only-of-type {\n",
       "        vertical-align: middle;\n",
       "    }\n",
       "\n",
       "    .dataframe tbody tr th {\n",
       "        vertical-align: top;\n",
       "    }\n",
       "\n",
       "    .dataframe thead th {\n",
       "        text-align: right;\n",
       "    }\n",
       "</style>\n",
       "<table border=\"1\" class=\"dataframe\">\n",
       "  <thead>\n",
       "    <tr style=\"text-align: right;\">\n",
       "      <th></th>\n",
       "      <th>type</th>\n",
       "      <th>amount</th>\n",
       "      <th>payment_type_name</th>\n",
       "      <th>donor_id</th>\n",
       "      <th>donation_date</th>\n",
       "      <th>donation_type</th>\n",
       "      <th>recurring_donation_status</th>\n",
       "      <th>billing_city</th>\n",
       "      <th>billing_state</th>\n",
       "      <th>billing_FSA</th>\n",
       "      <th>billing_country</th>\n",
       "      <th>billing_country_code</th>\n",
       "      <th>signup_email_opt_in</th>\n",
       "      <th>signup_mobile_opt_in</th>\n",
       "      <th>signup_point_person_name_or_email</th>\n",
       "      <th>signup_tag_list</th>\n",
       "    </tr>\n",
       "    <tr>\n",
       "      <th>nationbuilder_id</th>\n",
       "      <th></th>\n",
       "      <th></th>\n",
       "      <th></th>\n",
       "      <th></th>\n",
       "      <th></th>\n",
       "      <th></th>\n",
       "      <th></th>\n",
       "      <th></th>\n",
       "      <th></th>\n",
       "      <th></th>\n",
       "      <th></th>\n",
       "      <th></th>\n",
       "      <th></th>\n",
       "      <th></th>\n",
       "      <th></th>\n",
       "      <th></th>\n",
       "    </tr>\n",
       "  </thead>\n",
       "  <tbody>\n",
       "    <tr>\n",
       "      <th>1</th>\n",
       "      <td>Donation</td>\n",
       "      <td>$125.00</td>\n",
       "      <td>Credit Card</td>\n",
       "      <td>541</td>\n",
       "      <td>1/8/2020 12:41</td>\n",
       "      <td>NaN</td>\n",
       "      <td>NaN</td>\n",
       "      <td>Markham</td>\n",
       "      <td>Ontario</td>\n",
       "      <td>L3P</td>\n",
       "      <td>Canada</td>\n",
       "      <td>CA</td>\n",
       "      <td>True</td>\n",
       "      <td>True</td>\n",
       "      <td>Chris Thompson</td>\n",
       "      <td>Black Fund Signatory,defundpolicesurvey,Genera...</td>\n",
       "    </tr>\n",
       "    <tr>\n",
       "      <th>10</th>\n",
       "      <td>Donation</td>\n",
       "      <td>$25.00</td>\n",
       "      <td>Credit Card</td>\n",
       "      <td>5509</td>\n",
       "      <td>5/11/2020 22:10</td>\n",
       "      <td>annual_membership_fee</td>\n",
       "      <td>NaN</td>\n",
       "      <td>St-Hubert</td>\n",
       "      <td>Quebec</td>\n",
       "      <td>J4T</td>\n",
       "      <td>Canada</td>\n",
       "      <td>CA</td>\n",
       "      <td>True</td>\n",
       "      <td>True</td>\n",
       "      <td>NaN</td>\n",
       "      <td>FR,General Member,newsletter,Ontario,Paid Memb...</td>\n",
       "    </tr>\n",
       "    <tr>\n",
       "      <th>100</th>\n",
       "      <td>Donation</td>\n",
       "      <td>$15.00</td>\n",
       "      <td>Credit Card</td>\n",
       "      <td>6039</td>\n",
       "      <td>6/1/2020 16:53</td>\n",
       "      <td>general_donation</td>\n",
       "      <td>NaN</td>\n",
       "      <td>Ottawa</td>\n",
       "      <td>Ontario</td>\n",
       "      <td>K1G</td>\n",
       "      <td>Canada</td>\n",
       "      <td>CA</td>\n",
       "      <td>NaN</td>\n",
       "      <td>True</td>\n",
       "      <td>Chris Thompson</td>\n",
       "      <td>donor</td>\n",
       "    </tr>\n",
       "    <tr>\n",
       "      <th>1000</th>\n",
       "      <td>Donation</td>\n",
       "      <td>$15.00</td>\n",
       "      <td>Credit Card</td>\n",
       "      <td>7233</td>\n",
       "      <td>6/11/2020 17:30</td>\n",
       "      <td>general_donation</td>\n",
       "      <td>NaN</td>\n",
       "      <td>Orillia</td>\n",
       "      <td>ON</td>\n",
       "      <td>L3V</td>\n",
       "      <td>Canada</td>\n",
       "      <td>CA</td>\n",
       "      <td>NaN</td>\n",
       "      <td>True</td>\n",
       "      <td>NaN</td>\n",
       "      <td>donor,Elder Prospects,General Member,Non - bla...</td>\n",
       "    </tr>\n",
       "    <tr>\n",
       "      <th>1001</th>\n",
       "      <td>Donation</td>\n",
       "      <td>$100.00</td>\n",
       "      <td>Credit Card</td>\n",
       "      <td>7234</td>\n",
       "      <td>6/11/2020 17:38</td>\n",
       "      <td>general_donation</td>\n",
       "      <td>NaN</td>\n",
       "      <td>Mississauga</td>\n",
       "      <td>Ontario</td>\n",
       "      <td>L5G</td>\n",
       "      <td>Canada</td>\n",
       "      <td>CA</td>\n",
       "      <td>True</td>\n",
       "      <td>True</td>\n",
       "      <td>NaN</td>\n",
       "      <td>donor</td>\n",
       "    </tr>\n",
       "  </tbody>\n",
       "</table>\n",
       "</div>"
      ],
      "text/plain": [
       "                      type  ...                                    signup_tag_list\n",
       "nationbuilder_id            ...                                                   \n",
       "1                 Donation  ...  Black Fund Signatory,defundpolicesurvey,Genera...\n",
       "10                Donation  ...  FR,General Member,newsletter,Ontario,Paid Memb...\n",
       "100               Donation  ...                                              donor\n",
       "1000              Donation  ...  donor,Elder Prospects,General Member,Non - bla...\n",
       "1001              Donation  ...                                              donor\n",
       "\n",
       "[5 rows x 16 columns]"
      ]
     },
     "execution_count": 2,
     "metadata": {},
     "output_type": "execute_result"
    }
   ],
   "source": [
    "dfDonations = pd.read_csv(\"donations.csv\", index_col=0, header=0, thousands=',')\n",
    "dfDonations.head(5)"
   ]
  },
  {
   "cell_type": "code",
   "execution_count": 3,
   "metadata": {
    "colab": {
     "base_uri": "https://localhost:8080/"
    },
    "id": "ba48100c",
    "outputId": "b5008484-fdd3-4a25-e3cf-f97184f7cffe"
   },
   "outputs": [
    {
     "data": {
      "text/plain": [
       "1594"
      ]
     },
     "execution_count": 3,
     "metadata": {},
     "output_type": "execute_result"
    }
   ],
   "source": [
    "dfDonations.shape[0]"
   ]
  },
  {
   "cell_type": "code",
   "execution_count": 4,
   "metadata": {
    "colab": {
     "base_uri": "https://localhost:8080/"
    },
    "id": "70e62892",
    "outputId": "979b3212-3855-4264-d2ad-e798b9eeb13f"
   },
   "outputs": [
    {
     "data": {
      "text/plain": [
       "Index(['type', 'amount', 'payment_type_name', 'donor_id', 'donation_date',\n",
       "       'donation_type', 'recurring_donation_status', 'billing_city',\n",
       "       'billing_state', 'billing_FSA', 'billing_country',\n",
       "       'billing_country_code', 'signup_email_opt_in', 'signup_mobile_opt_in',\n",
       "       'signup_point_person_name_or_email', 'signup_tag_list'],\n",
       "      dtype='object')"
      ]
     },
     "execution_count": 4,
     "metadata": {},
     "output_type": "execute_result"
    }
   ],
   "source": [
    "columns = dfDonations.columns\n",
    "columns"
   ]
  },
  {
   "cell_type": "markdown",
   "metadata": {
    "id": "tltu4AZ8Vw6Y"
   },
   "source": [
    "## Preliminary EDA"
   ]
  },
  {
   "cell_type": "code",
   "execution_count": 5,
   "metadata": {
    "colab": {
     "base_uri": "https://localhost:8080/"
    },
    "id": "LbEDlAo8V213",
    "outputId": "48d87536-55cb-45ed-85a5-819d162df2ab"
   },
   "outputs": [
    {
     "data": {
      "text/plain": [
       "type                                 object\n",
       "amount                               object\n",
       "payment_type_name                    object\n",
       "donor_id                              int64\n",
       "donation_date                        object\n",
       "donation_type                        object\n",
       "recurring_donation_status            object\n",
       "billing_city                         object\n",
       "billing_state                        object\n",
       "billing_FSA                          object\n",
       "billing_country                      object\n",
       "billing_country_code                 object\n",
       "signup_email_opt_in                  object\n",
       "signup_mobile_opt_in                 object\n",
       "signup_point_person_name_or_email    object\n",
       "signup_tag_list                      object\n",
       "dtype: object"
      ]
     },
     "execution_count": 5,
     "metadata": {},
     "output_type": "execute_result"
    }
   ],
   "source": [
    "dfDonations.dtypes"
   ]
  },
  {
   "cell_type": "code",
   "execution_count": 6,
   "metadata": {
    "colab": {
     "base_uri": "https://localhost:8080/"
    },
    "id": "0Y9Y2LNdWs8H",
    "outputId": "ae2274d5-a804-4dc3-98b8-93ce99338374"
   },
   "outputs": [
    {
     "data": {
      "text/plain": [
       "type                                    0\n",
       "amount                                  0\n",
       "payment_type_name                       0\n",
       "donor_id                                0\n",
       "donation_date                           0\n",
       "donation_type                           1\n",
       "recurring_donation_status            1181\n",
       "billing_city                            0\n",
       "billing_state                          35\n",
       "billing_FSA                             0\n",
       "billing_country                         0\n",
       "billing_country_code                    0\n",
       "signup_email_opt_in                   568\n",
       "signup_mobile_opt_in                   11\n",
       "signup_point_person_name_or_email    1055\n",
       "signup_tag_list                        19\n",
       "dtype: int64"
      ]
     },
     "execution_count": 6,
     "metadata": {},
     "output_type": "execute_result"
    }
   ],
   "source": [
    "dfDonations.isnull().sum()"
   ]
  },
  {
   "cell_type": "code",
   "execution_count": 7,
   "metadata": {
    "colab": {
     "base_uri": "https://localhost:8080/"
    },
    "id": "iro3MoohWwj0",
    "outputId": "f8113078-4717-4c12-b50c-a6ea90e08277"
   },
   "outputs": [
    {
     "data": {
      "text/plain": [
       "nationbuilder_id\n",
       "1       125.00 \n",
       "10       25.00 \n",
       "100      15.00 \n",
       "1000     15.00 \n",
       "1001    100.00 \n",
       "         ...   \n",
       "995      25.00 \n",
       "996      74.15 \n",
       "997     500.00 \n",
       "998      25.00 \n",
       "999      50.00 \n",
       "Name: amount, Length: 1594, dtype: object"
      ]
     },
     "execution_count": 7,
     "metadata": {},
     "output_type": "execute_result"
    }
   ],
   "source": [
    "# Turning amounts into numbers.\n",
    "dfDonations[\"amount\"] = dfDonations[\"amount\"].replace({r'\\$':''}, regex = True)\n",
    "dfDonations[\"amount\"]"
   ]
  },
  {
   "cell_type": "code",
   "execution_count": 8,
   "metadata": {
    "colab": {
     "base_uri": "https://localhost:8080/",
     "height": 669
    },
    "id": "S6-crJupW6ZN",
    "outputId": "7ab6a080-c80f-4919-efc9-29f104981461"
   },
   "outputs": [
    {
     "data": {
      "text/html": [
       "<div>\n",
       "<style scoped>\n",
       "    .dataframe tbody tr th:only-of-type {\n",
       "        vertical-align: middle;\n",
       "    }\n",
       "\n",
       "    .dataframe tbody tr th {\n",
       "        vertical-align: top;\n",
       "    }\n",
       "\n",
       "    .dataframe thead th {\n",
       "        text-align: right;\n",
       "    }\n",
       "</style>\n",
       "<table border=\"1\" class=\"dataframe\">\n",
       "  <thead>\n",
       "    <tr style=\"text-align: right;\">\n",
       "      <th></th>\n",
       "      <th>type</th>\n",
       "      <th>amount</th>\n",
       "      <th>payment_type_name</th>\n",
       "      <th>donor_id</th>\n",
       "      <th>donation_date</th>\n",
       "      <th>donation_type</th>\n",
       "      <th>recurring_donation_status</th>\n",
       "      <th>billing_city</th>\n",
       "      <th>billing_state</th>\n",
       "      <th>billing_FSA</th>\n",
       "      <th>billing_country</th>\n",
       "      <th>billing_country_code</th>\n",
       "      <th>signup_email_opt_in</th>\n",
       "      <th>signup_mobile_opt_in</th>\n",
       "      <th>signup_point_person_name_or_email</th>\n",
       "      <th>signup_tag_list</th>\n",
       "    </tr>\n",
       "    <tr>\n",
       "      <th>nationbuilder_id</th>\n",
       "      <th></th>\n",
       "      <th></th>\n",
       "      <th></th>\n",
       "      <th></th>\n",
       "      <th></th>\n",
       "      <th></th>\n",
       "      <th></th>\n",
       "      <th></th>\n",
       "      <th></th>\n",
       "      <th></th>\n",
       "      <th></th>\n",
       "      <th></th>\n",
       "      <th></th>\n",
       "      <th></th>\n",
       "      <th></th>\n",
       "      <th></th>\n",
       "    </tr>\n",
       "  </thead>\n",
       "  <tbody>\n",
       "    <tr>\n",
       "      <th>1002</th>\n",
       "      <td>Donation</td>\n",
       "      <td>1,000.00</td>\n",
       "      <td>Credit Card</td>\n",
       "      <td>7236</td>\n",
       "      <td>6/11/2020 18:54</td>\n",
       "      <td>general_donation</td>\n",
       "      <td>NaN</td>\n",
       "      <td>Burnaby</td>\n",
       "      <td>BC</td>\n",
       "      <td>V5V</td>\n",
       "      <td>Canada</td>\n",
       "      <td>CA</td>\n",
       "      <td>NaN</td>\n",
       "      <td>True</td>\n",
       "      <td>NaN</td>\n",
       "      <td>donor</td>\n",
       "    </tr>\n",
       "    <tr>\n",
       "      <th>1057</th>\n",
       "      <td>Donation</td>\n",
       "      <td>2,000.00</td>\n",
       "      <td>Credit Card</td>\n",
       "      <td>7350</td>\n",
       "      <td>6/15/2020 17:32</td>\n",
       "      <td>general_donation</td>\n",
       "      <td>NaN</td>\n",
       "      <td>Okotoks</td>\n",
       "      <td>Alberta</td>\n",
       "      <td>T1S</td>\n",
       "      <td>Canada</td>\n",
       "      <td>CA</td>\n",
       "      <td>True</td>\n",
       "      <td>True</td>\n",
       "      <td>NaN</td>\n",
       "      <td>donor</td>\n",
       "    </tr>\n",
       "    <tr>\n",
       "      <th>106</th>\n",
       "      <td>Donation</td>\n",
       "      <td>1,000.00</td>\n",
       "      <td>Credit Card</td>\n",
       "      <td>6046</td>\n",
       "      <td>6/1/2020 17:41</td>\n",
       "      <td>general_donation</td>\n",
       "      <td>NaN</td>\n",
       "      <td>Toronto</td>\n",
       "      <td>Ontario</td>\n",
       "      <td>M5V</td>\n",
       "      <td>Canada</td>\n",
       "      <td>CA</td>\n",
       "      <td>True</td>\n",
       "      <td>True</td>\n",
       "      <td>Chris Thompson</td>\n",
       "      <td>donor</td>\n",
       "    </tr>\n",
       "    <tr>\n",
       "      <th>1104</th>\n",
       "      <td>Donation</td>\n",
       "      <td>1,200.00</td>\n",
       "      <td>Credit Card</td>\n",
       "      <td>7533</td>\n",
       "      <td>6/25/2020 21:52</td>\n",
       "      <td>general_donation</td>\n",
       "      <td>NaN</td>\n",
       "      <td>Toronto</td>\n",
       "      <td>Ontario</td>\n",
       "      <td>M5R</td>\n",
       "      <td>Canada</td>\n",
       "      <td>CA</td>\n",
       "      <td>True</td>\n",
       "      <td>True</td>\n",
       "      <td>NaN</td>\n",
       "      <td>donor</td>\n",
       "    </tr>\n",
       "    <tr>\n",
       "      <th>1115</th>\n",
       "      <td>Donation</td>\n",
       "      <td>2,200.00</td>\n",
       "      <td>Credit Card</td>\n",
       "      <td>7558</td>\n",
       "      <td>6/29/2020 15:24</td>\n",
       "      <td>general_donation</td>\n",
       "      <td>NaN</td>\n",
       "      <td>Brampton</td>\n",
       "      <td>Ontario</td>\n",
       "      <td>L7A</td>\n",
       "      <td>Canada</td>\n",
       "      <td>CA</td>\n",
       "      <td>True</td>\n",
       "      <td>True</td>\n",
       "      <td>NaN</td>\n",
       "      <td>donor</td>\n",
       "    </tr>\n",
       "    <tr>\n",
       "      <th>1180</th>\n",
       "      <td>Donation</td>\n",
       "      <td>2,000.00</td>\n",
       "      <td>Credit Card</td>\n",
       "      <td>7666</td>\n",
       "      <td>7/13/2020 16:28</td>\n",
       "      <td>general_donation</td>\n",
       "      <td>NaN</td>\n",
       "      <td>Oshawa</td>\n",
       "      <td>Ontario</td>\n",
       "      <td>L1J</td>\n",
       "      <td>Canada</td>\n",
       "      <td>CA</td>\n",
       "      <td>True</td>\n",
       "      <td>True</td>\n",
       "      <td>NaN</td>\n",
       "      <td>donor</td>\n",
       "    </tr>\n",
       "    <tr>\n",
       "      <th>1196</th>\n",
       "      <td>Donation</td>\n",
       "      <td>1,688.46</td>\n",
       "      <td>Credit Card</td>\n",
       "      <td>7714</td>\n",
       "      <td>7/27/2020 13:02</td>\n",
       "      <td>general_donation</td>\n",
       "      <td>NaN</td>\n",
       "      <td>Toronto</td>\n",
       "      <td>Ontario</td>\n",
       "      <td>M4W</td>\n",
       "      <td>Canada</td>\n",
       "      <td>CA</td>\n",
       "      <td>True</td>\n",
       "      <td>True</td>\n",
       "      <td>NaN</td>\n",
       "      <td>donor</td>\n",
       "    </tr>\n",
       "    <tr>\n",
       "      <th>1203</th>\n",
       "      <td>Donation</td>\n",
       "      <td>1,310.00</td>\n",
       "      <td>Credit Card</td>\n",
       "      <td>7727</td>\n",
       "      <td>7/29/2020 14:38</td>\n",
       "      <td>general_donation</td>\n",
       "      <td>NaN</td>\n",
       "      <td>Saint Laurent</td>\n",
       "      <td>Quebec</td>\n",
       "      <td>H4T</td>\n",
       "      <td>Canada</td>\n",
       "      <td>CA</td>\n",
       "      <td>NaN</td>\n",
       "      <td>True</td>\n",
       "      <td>NaN</td>\n",
       "      <td>donor</td>\n",
       "    </tr>\n",
       "    <tr>\n",
       "      <th>132</th>\n",
       "      <td>Donation</td>\n",
       "      <td>1,500.00</td>\n",
       "      <td>Credit Card</td>\n",
       "      <td>6081</td>\n",
       "      <td>6/1/2020 23:49</td>\n",
       "      <td>general_donation</td>\n",
       "      <td>NaN</td>\n",
       "      <td>Vancouver</td>\n",
       "      <td>BC</td>\n",
       "      <td>V5T</td>\n",
       "      <td>Canada</td>\n",
       "      <td>CA</td>\n",
       "      <td>True</td>\n",
       "      <td>True</td>\n",
       "      <td>Chris Thompson</td>\n",
       "      <td>donor</td>\n",
       "    </tr>\n",
       "    <tr>\n",
       "      <th>1429</th>\n",
       "      <td>Donation</td>\n",
       "      <td>1,000.00</td>\n",
       "      <td>Credit Card</td>\n",
       "      <td>8276</td>\n",
       "      <td>12/24/2020 11:01</td>\n",
       "      <td>general_donation</td>\n",
       "      <td>NaN</td>\n",
       "      <td>Toronto</td>\n",
       "      <td>Ontario</td>\n",
       "      <td>M6J</td>\n",
       "      <td>Canada</td>\n",
       "      <td>CA</td>\n",
       "      <td>True</td>\n",
       "      <td>True</td>\n",
       "      <td>NaN</td>\n",
       "      <td>donor</td>\n",
       "    </tr>\n",
       "    <tr>\n",
       "      <th>1512</th>\n",
       "      <td>Donation</td>\n",
       "      <td>5,000.00</td>\n",
       "      <td>Credit Card</td>\n",
       "      <td>8753</td>\n",
       "      <td>2/19/2021 16:10</td>\n",
       "      <td>general_donation</td>\n",
       "      <td>NaN</td>\n",
       "      <td>Redwood City</td>\n",
       "      <td>CA</td>\n",
       "      <td>940</td>\n",
       "      <td>United States</td>\n",
       "      <td>US</td>\n",
       "      <td>True</td>\n",
       "      <td>True</td>\n",
       "      <td>NaN</td>\n",
       "      <td>donor</td>\n",
       "    </tr>\n",
       "    <tr>\n",
       "      <th>1523</th>\n",
       "      <td>Donation</td>\n",
       "      <td>1,000.00</td>\n",
       "      <td>Credit Card</td>\n",
       "      <td>8875</td>\n",
       "      <td>2/28/2021 15:00</td>\n",
       "      <td>general_donation</td>\n",
       "      <td>NaN</td>\n",
       "      <td>Toronto</td>\n",
       "      <td>ON</td>\n",
       "      <td>M4Y</td>\n",
       "      <td>Canada</td>\n",
       "      <td>CA</td>\n",
       "      <td>True</td>\n",
       "      <td>True</td>\n",
       "      <td>NaN</td>\n",
       "      <td>donor</td>\n",
       "    </tr>\n",
       "    <tr>\n",
       "      <th>169</th>\n",
       "      <td>Donation</td>\n",
       "      <td>3,500.00</td>\n",
       "      <td>Credit Card</td>\n",
       "      <td>6127</td>\n",
       "      <td>6/2/2020 11:22</td>\n",
       "      <td>general_donation</td>\n",
       "      <td>NaN</td>\n",
       "      <td>Mississauga</td>\n",
       "      <td>Ontario</td>\n",
       "      <td>L5T</td>\n",
       "      <td>Canada</td>\n",
       "      <td>CA</td>\n",
       "      <td>NaN</td>\n",
       "      <td>True</td>\n",
       "      <td>Chris Thompson</td>\n",
       "      <td>donor</td>\n",
       "    </tr>\n",
       "    <tr>\n",
       "      <th>324</th>\n",
       "      <td>Donation</td>\n",
       "      <td>1,000.00</td>\n",
       "      <td>Credit Card</td>\n",
       "      <td>6319</td>\n",
       "      <td>6/2/2020 16:45</td>\n",
       "      <td>general_donation</td>\n",
       "      <td>NaN</td>\n",
       "      <td>Burnaby</td>\n",
       "      <td>CA</td>\n",
       "      <td>V5B</td>\n",
       "      <td>Canada</td>\n",
       "      <td>CA</td>\n",
       "      <td>True</td>\n",
       "      <td>True</td>\n",
       "      <td>Chris Thompson</td>\n",
       "      <td>donor</td>\n",
       "    </tr>\n",
       "    <tr>\n",
       "      <th>510</th>\n",
       "      <td>Donation</td>\n",
       "      <td>1,000.00</td>\n",
       "      <td>Credit Card</td>\n",
       "      <td>6571</td>\n",
       "      <td>6/3/2020 12:22</td>\n",
       "      <td>general_donation</td>\n",
       "      <td>NaN</td>\n",
       "      <td>London</td>\n",
       "      <td>Ontario</td>\n",
       "      <td>N6G</td>\n",
       "      <td>Canada</td>\n",
       "      <td>CA</td>\n",
       "      <td>NaN</td>\n",
       "      <td>True</td>\n",
       "      <td>NaN</td>\n",
       "      <td>donor</td>\n",
       "    </tr>\n",
       "    <tr>\n",
       "      <th>684</th>\n",
       "      <td>Donation</td>\n",
       "      <td>1,000.00</td>\n",
       "      <td>Credit Card</td>\n",
       "      <td>6794</td>\n",
       "      <td>6/4/2020 13:00</td>\n",
       "      <td>general_donation</td>\n",
       "      <td>NaN</td>\n",
       "      <td>Huntsville</td>\n",
       "      <td>ON</td>\n",
       "      <td>P1H</td>\n",
       "      <td>Canada</td>\n",
       "      <td>CA</td>\n",
       "      <td>NaN</td>\n",
       "      <td>True</td>\n",
       "      <td>NaN</td>\n",
       "      <td>donor</td>\n",
       "    </tr>\n",
       "    <tr>\n",
       "      <th>879</th>\n",
       "      <td>Donation</td>\n",
       "      <td>1,100.00</td>\n",
       "      <td>Credit Card</td>\n",
       "      <td>7049</td>\n",
       "      <td>6/6/2020 19:37</td>\n",
       "      <td>general_donation</td>\n",
       "      <td>NaN</td>\n",
       "      <td>Winnipeg</td>\n",
       "      <td>MB</td>\n",
       "      <td>R2V</td>\n",
       "      <td>Canada</td>\n",
       "      <td>CA</td>\n",
       "      <td>True</td>\n",
       "      <td>True</td>\n",
       "      <td>NaN</td>\n",
       "      <td>donor</td>\n",
       "    </tr>\n",
       "    <tr>\n",
       "      <th>943</th>\n",
       "      <td>Donation</td>\n",
       "      <td>1,000.00</td>\n",
       "      <td>Credit Card</td>\n",
       "      <td>7141</td>\n",
       "      <td>6/8/2020 19:56</td>\n",
       "      <td>general_donation</td>\n",
       "      <td>NaN</td>\n",
       "      <td>Mississauga</td>\n",
       "      <td>Ontario</td>\n",
       "      <td>L5B</td>\n",
       "      <td>Canada</td>\n",
       "      <td>CA</td>\n",
       "      <td>True</td>\n",
       "      <td>True</td>\n",
       "      <td>NaN</td>\n",
       "      <td>donor</td>\n",
       "    </tr>\n",
       "    <tr>\n",
       "      <th>979</th>\n",
       "      <td>Donation</td>\n",
       "      <td>1,300.00</td>\n",
       "      <td>Credit Card</td>\n",
       "      <td>7204</td>\n",
       "      <td>6/10/2020 17:26</td>\n",
       "      <td>general_donation</td>\n",
       "      <td>NaN</td>\n",
       "      <td>Ottawa</td>\n",
       "      <td>ON</td>\n",
       "      <td>K1V</td>\n",
       "      <td>Canada</td>\n",
       "      <td>CA</td>\n",
       "      <td>True</td>\n",
       "      <td>True</td>\n",
       "      <td>NaN</td>\n",
       "      <td>donor</td>\n",
       "    </tr>\n",
       "  </tbody>\n",
       "</table>\n",
       "</div>"
      ],
      "text/plain": [
       "                      type  ... signup_tag_list\n",
       "nationbuilder_id            ...                \n",
       "1002              Donation  ...           donor\n",
       "1057              Donation  ...           donor\n",
       "106               Donation  ...           donor\n",
       "1104              Donation  ...           donor\n",
       "1115              Donation  ...           donor\n",
       "1180              Donation  ...           donor\n",
       "1196              Donation  ...           donor\n",
       "1203              Donation  ...           donor\n",
       "132               Donation  ...           donor\n",
       "1429              Donation  ...           donor\n",
       "1512              Donation  ...           donor\n",
       "1523              Donation  ...           donor\n",
       "169               Donation  ...           donor\n",
       "324               Donation  ...           donor\n",
       "510               Donation  ...           donor\n",
       "684               Donation  ...           donor\n",
       "879               Donation  ...           donor\n",
       "943               Donation  ...           donor\n",
       "979               Donation  ...           donor\n",
       "\n",
       "[19 rows x 16 columns]"
      ]
     },
     "execution_count": 8,
     "metadata": {},
     "output_type": "execute_result"
    }
   ],
   "source": [
    "def is_number(x):    \n",
    "    try:\n",
    "        float(x)\n",
    "    except ValueError:\n",
    "        return False\n",
    "    else:\n",
    "        return True\n",
    "\n",
    "dfDonations[ ~dfDonations[\"amount\"].apply(is_number) ]"
   ]
  },
  {
   "cell_type": "code",
   "execution_count": 9,
   "metadata": {
    "id": "omK-zrtuXBXE"
   },
   "outputs": [],
   "source": [
    "dfDonations[\"amount\"] = dfDonations[\"amount\"].str.replace(',', '').astype(float)"
   ]
  },
  {
   "cell_type": "code",
   "execution_count": 10,
   "metadata": {
    "colab": {
     "base_uri": "https://localhost:8080/"
    },
    "id": "8yFClFzjXe1e",
    "outputId": "e4520533-728b-42bb-fa31-1691043be21c"
   },
   "outputs": [
    {
     "data": {
      "text/plain": [
       "count    1594.000000\n",
       "mean       69.636468\n",
       "std       215.649679\n",
       "min         0.500000\n",
       "25%        25.000000\n",
       "50%        25.000000\n",
       "75%        50.000000\n",
       "max      5000.000000\n",
       "Name: amount, dtype: float64"
      ]
     },
     "execution_count": 10,
     "metadata": {},
     "output_type": "execute_result"
    }
   ],
   "source": [
    "dfDonations[\"amount\"].describe()"
   ]
  },
  {
   "cell_type": "code",
   "execution_count": 11,
   "metadata": {
    "colab": {
     "base_uri": "https://localhost:8080/",
     "height": 532
    },
    "id": "4iiQxRArXx3X",
    "outputId": "5bd00689-f195-429a-d796-203f64aac179"
   },
   "outputs": [
    {
     "data": {
      "image/png": "[encoded data removed]",
      "text/plain": [
       "<Figure size 432x288 with 1 Axes>"
      ]
     },
     "metadata": {
      "needs_background": "light"
     },
     "output_type": "display_data"
    },
    {
     "data": {
      "image/png": "[encoded data removed]",
      "text/plain": [
       "<Figure size 432x288 with 1 Axes>"
      ]
     },
     "metadata": {
      "needs_background": "light"
     },
     "output_type": "display_data"
    }
   ],
   "source": [
    "# Amount distribution.\n",
    "Amt = dfDonations[\"amount\"]\n",
    "\n",
    "def plot_dist(Amt):\n",
    "  fig, ax = plt.subplots()\n",
    "  ax.hist(Amt, density=False)\n",
    "\n",
    "  for rect in ax.patches:\n",
    "      height = rect.get_height()\n",
    "      ax.annotate(f'{int(height)}', xy=(rect.get_x()+rect.get_width()/2, height), \n",
    "                  xytext=(0, 5), textcoords='offset points', ha='center', va='bottom') \n",
    "  plt.xlabel(\"Amount\")\n",
    "  plt.ylabel(\"Frequency\")\n",
    "  plt.show()\n",
    "\n",
    "  Amt.plot.box()\n",
    "  plt.show()\n",
    "\n",
    "plot_dist(Amt)"
   ]
  },
  {
   "cell_type": "code",
   "execution_count": 12,
   "metadata": {
    "colab": {
     "base_uri": "https://localhost:8080/"
    },
    "id": "uVaBYLOeYVEv",
    "outputId": "63370415-798f-4991-a147-956a4c8455cc"
   },
   "outputs": [
    {
     "data": {
      "text/plain": [
       "NormaltestResult(statistic=2913.1881559041867, pvalue=0.0)"
      ]
     },
     "execution_count": 12,
     "metadata": {},
     "output_type": "execute_result"
    }
   ],
   "source": [
    "normaltest(dfDonations[\"amount\"])"
   ]
  },
  {
   "cell_type": "code",
   "execution_count": 13,
   "metadata": {
    "id": "1xSTuxPZY8oU"
   },
   "outputs": [],
   "source": [
    "# We can tell from graphs and stats that the donation amounts are not normal distributed and majority of the donations are below $1000."
   ]
  },
  {
   "cell_type": "code",
   "execution_count": 14,
   "metadata": {
    "colab": {
     "base_uri": "https://localhost:8080/",
     "height": 793
    },
    "id": "Fn3W7_LxS0Jh",
    "outputId": "e8f145bf-081d-4f95-866b-5ff9631f98c8"
   },
   "outputs": [
    {
     "data": {
      "text/html": [
       "<div>\n",
       "<style scoped>\n",
       "    .dataframe tbody tr th:only-of-type {\n",
       "        vertical-align: middle;\n",
       "    }\n",
       "\n",
       "    .dataframe tbody tr th {\n",
       "        vertical-align: top;\n",
       "    }\n",
       "\n",
       "    .dataframe thead th {\n",
       "        text-align: right;\n",
       "    }\n",
       "</style>\n",
       "<table border=\"1\" class=\"dataframe\">\n",
       "  <thead>\n",
       "    <tr style=\"text-align: right;\">\n",
       "      <th></th>\n",
       "      <th>type</th>\n",
       "      <th>amount</th>\n",
       "      <th>payment_type_name</th>\n",
       "      <th>donor_id</th>\n",
       "      <th>donation_date</th>\n",
       "      <th>donation_type</th>\n",
       "      <th>recurring_donation_status</th>\n",
       "      <th>billing_city</th>\n",
       "      <th>billing_state</th>\n",
       "      <th>billing_FSA</th>\n",
       "      <th>billing_country</th>\n",
       "      <th>billing_country_code</th>\n",
       "      <th>signup_email_opt_in</th>\n",
       "      <th>signup_mobile_opt_in</th>\n",
       "      <th>signup_point_person_name_or_email</th>\n",
       "      <th>signup_tag_list</th>\n",
       "    </tr>\n",
       "    <tr>\n",
       "      <th>nationbuilder_id</th>\n",
       "      <th></th>\n",
       "      <th></th>\n",
       "      <th></th>\n",
       "      <th></th>\n",
       "      <th></th>\n",
       "      <th></th>\n",
       "      <th></th>\n",
       "      <th></th>\n",
       "      <th></th>\n",
       "      <th></th>\n",
       "      <th></th>\n",
       "      <th></th>\n",
       "      <th></th>\n",
       "      <th></th>\n",
       "      <th></th>\n",
       "      <th></th>\n",
       "    </tr>\n",
       "  </thead>\n",
       "  <tbody>\n",
       "    <tr>\n",
       "      <th>1002</th>\n",
       "      <td>Donation</td>\n",
       "      <td>1000.00</td>\n",
       "      <td>Credit Card</td>\n",
       "      <td>7236</td>\n",
       "      <td>6/11/2020 18:54</td>\n",
       "      <td>general_donation</td>\n",
       "      <td>NaN</td>\n",
       "      <td>Burnaby</td>\n",
       "      <td>BC</td>\n",
       "      <td>V5V</td>\n",
       "      <td>Canada</td>\n",
       "      <td>CA</td>\n",
       "      <td>NaN</td>\n",
       "      <td>True</td>\n",
       "      <td>NaN</td>\n",
       "      <td>donor</td>\n",
       "    </tr>\n",
       "    <tr>\n",
       "      <th>1057</th>\n",
       "      <td>Donation</td>\n",
       "      <td>2000.00</td>\n",
       "      <td>Credit Card</td>\n",
       "      <td>7350</td>\n",
       "      <td>6/15/2020 17:32</td>\n",
       "      <td>general_donation</td>\n",
       "      <td>NaN</td>\n",
       "      <td>Okotoks</td>\n",
       "      <td>Alberta</td>\n",
       "      <td>T1S</td>\n",
       "      <td>Canada</td>\n",
       "      <td>CA</td>\n",
       "      <td>True</td>\n",
       "      <td>True</td>\n",
       "      <td>NaN</td>\n",
       "      <td>donor</td>\n",
       "    </tr>\n",
       "    <tr>\n",
       "      <th>106</th>\n",
       "      <td>Donation</td>\n",
       "      <td>1000.00</td>\n",
       "      <td>Credit Card</td>\n",
       "      <td>6046</td>\n",
       "      <td>6/1/2020 17:41</td>\n",
       "      <td>general_donation</td>\n",
       "      <td>NaN</td>\n",
       "      <td>Toronto</td>\n",
       "      <td>Ontario</td>\n",
       "      <td>M5V</td>\n",
       "      <td>Canada</td>\n",
       "      <td>CA</td>\n",
       "      <td>True</td>\n",
       "      <td>True</td>\n",
       "      <td>Chris Thompson</td>\n",
       "      <td>donor</td>\n",
       "    </tr>\n",
       "    <tr>\n",
       "      <th>1104</th>\n",
       "      <td>Donation</td>\n",
       "      <td>1200.00</td>\n",
       "      <td>Credit Card</td>\n",
       "      <td>7533</td>\n",
       "      <td>6/25/2020 21:52</td>\n",
       "      <td>general_donation</td>\n",
       "      <td>NaN</td>\n",
       "      <td>Toronto</td>\n",
       "      <td>Ontario</td>\n",
       "      <td>M5R</td>\n",
       "      <td>Canada</td>\n",
       "      <td>CA</td>\n",
       "      <td>True</td>\n",
       "      <td>True</td>\n",
       "      <td>NaN</td>\n",
       "      <td>donor</td>\n",
       "    </tr>\n",
       "    <tr>\n",
       "      <th>1115</th>\n",
       "      <td>Donation</td>\n",
       "      <td>2200.00</td>\n",
       "      <td>Credit Card</td>\n",
       "      <td>7558</td>\n",
       "      <td>6/29/2020 15:24</td>\n",
       "      <td>general_donation</td>\n",
       "      <td>NaN</td>\n",
       "      <td>Brampton</td>\n",
       "      <td>Ontario</td>\n",
       "      <td>L7A</td>\n",
       "      <td>Canada</td>\n",
       "      <td>CA</td>\n",
       "      <td>True</td>\n",
       "      <td>True</td>\n",
       "      <td>NaN</td>\n",
       "      <td>donor</td>\n",
       "    </tr>\n",
       "    <tr>\n",
       "      <th>1180</th>\n",
       "      <td>Donation</td>\n",
       "      <td>2000.00</td>\n",
       "      <td>Credit Card</td>\n",
       "      <td>7666</td>\n",
       "      <td>7/13/2020 16:28</td>\n",
       "      <td>general_donation</td>\n",
       "      <td>NaN</td>\n",
       "      <td>Oshawa</td>\n",
       "      <td>Ontario</td>\n",
       "      <td>L1J</td>\n",
       "      <td>Canada</td>\n",
       "      <td>CA</td>\n",
       "      <td>True</td>\n",
       "      <td>True</td>\n",
       "      <td>NaN</td>\n",
       "      <td>donor</td>\n",
       "    </tr>\n",
       "    <tr>\n",
       "      <th>1193</th>\n",
       "      <td>Donation</td>\n",
       "      <td>782.00</td>\n",
       "      <td>Credit Card</td>\n",
       "      <td>7699</td>\n",
       "      <td>7/22/2020 15:12</td>\n",
       "      <td>general_donation</td>\n",
       "      <td>NaN</td>\n",
       "      <td>Vancouver</td>\n",
       "      <td>BC</td>\n",
       "      <td>V6M</td>\n",
       "      <td>Canada</td>\n",
       "      <td>CA</td>\n",
       "      <td>NaN</td>\n",
       "      <td>True</td>\n",
       "      <td>NaN</td>\n",
       "      <td>donor</td>\n",
       "    </tr>\n",
       "    <tr>\n",
       "      <th>1196</th>\n",
       "      <td>Donation</td>\n",
       "      <td>1688.46</td>\n",
       "      <td>Credit Card</td>\n",
       "      <td>7714</td>\n",
       "      <td>7/27/2020 13:02</td>\n",
       "      <td>general_donation</td>\n",
       "      <td>NaN</td>\n",
       "      <td>Toronto</td>\n",
       "      <td>Ontario</td>\n",
       "      <td>M4W</td>\n",
       "      <td>Canada</td>\n",
       "      <td>CA</td>\n",
       "      <td>True</td>\n",
       "      <td>True</td>\n",
       "      <td>NaN</td>\n",
       "      <td>donor</td>\n",
       "    </tr>\n",
       "    <tr>\n",
       "      <th>1203</th>\n",
       "      <td>Donation</td>\n",
       "      <td>1310.00</td>\n",
       "      <td>Credit Card</td>\n",
       "      <td>7727</td>\n",
       "      <td>7/29/2020 14:38</td>\n",
       "      <td>general_donation</td>\n",
       "      <td>NaN</td>\n",
       "      <td>Saint Laurent</td>\n",
       "      <td>Quebec</td>\n",
       "      <td>H4T</td>\n",
       "      <td>Canada</td>\n",
       "      <td>CA</td>\n",
       "      <td>NaN</td>\n",
       "      <td>True</td>\n",
       "      <td>NaN</td>\n",
       "      <td>donor</td>\n",
       "    </tr>\n",
       "    <tr>\n",
       "      <th>1287</th>\n",
       "      <td>Donation</td>\n",
       "      <td>980.00</td>\n",
       "      <td>Credit Card</td>\n",
       "      <td>7881</td>\n",
       "      <td>9/8/2020 16:35</td>\n",
       "      <td>general_donation</td>\n",
       "      <td>NaN</td>\n",
       "      <td>Edmonton</td>\n",
       "      <td>AB</td>\n",
       "      <td>T5J</td>\n",
       "      <td>Canada</td>\n",
       "      <td>CA</td>\n",
       "      <td>NaN</td>\n",
       "      <td>True</td>\n",
       "      <td>NaN</td>\n",
       "      <td>donor</td>\n",
       "    </tr>\n",
       "    <tr>\n",
       "      <th>132</th>\n",
       "      <td>Donation</td>\n",
       "      <td>1500.00</td>\n",
       "      <td>Credit Card</td>\n",
       "      <td>6081</td>\n",
       "      <td>6/1/2020 23:49</td>\n",
       "      <td>general_donation</td>\n",
       "      <td>NaN</td>\n",
       "      <td>Vancouver</td>\n",
       "      <td>BC</td>\n",
       "      <td>V5T</td>\n",
       "      <td>Canada</td>\n",
       "      <td>CA</td>\n",
       "      <td>True</td>\n",
       "      <td>True</td>\n",
       "      <td>Chris Thompson</td>\n",
       "      <td>donor</td>\n",
       "    </tr>\n",
       "    <tr>\n",
       "      <th>1333</th>\n",
       "      <td>Donation</td>\n",
       "      <td>800.00</td>\n",
       "      <td>Credit Card</td>\n",
       "      <td>7966</td>\n",
       "      <td>10/6/2020 10:00</td>\n",
       "      <td>general_donation</td>\n",
       "      <td>NaN</td>\n",
       "      <td>Brossard</td>\n",
       "      <td>Quebec</td>\n",
       "      <td>J4Z</td>\n",
       "      <td>Canada</td>\n",
       "      <td>CA</td>\n",
       "      <td>True</td>\n",
       "      <td>True</td>\n",
       "      <td>NaN</td>\n",
       "      <td>donor</td>\n",
       "    </tr>\n",
       "    <tr>\n",
       "      <th>1398</th>\n",
       "      <td>Donation</td>\n",
       "      <td>813.50</td>\n",
       "      <td>Credit Card</td>\n",
       "      <td>8150</td>\n",
       "      <td>12/1/2020 21:38</td>\n",
       "      <td>general_donation</td>\n",
       "      <td>NaN</td>\n",
       "      <td>Duncan</td>\n",
       "      <td>BC</td>\n",
       "      <td>V9L</td>\n",
       "      <td>Canada</td>\n",
       "      <td>CA</td>\n",
       "      <td>True</td>\n",
       "      <td>True</td>\n",
       "      <td>NaN</td>\n",
       "      <td>donor</td>\n",
       "    </tr>\n",
       "    <tr>\n",
       "      <th>1429</th>\n",
       "      <td>Donation</td>\n",
       "      <td>1000.00</td>\n",
       "      <td>Credit Card</td>\n",
       "      <td>8276</td>\n",
       "      <td>12/24/2020 11:01</td>\n",
       "      <td>general_donation</td>\n",
       "      <td>NaN</td>\n",
       "      <td>Toronto</td>\n",
       "      <td>Ontario</td>\n",
       "      <td>M6J</td>\n",
       "      <td>Canada</td>\n",
       "      <td>CA</td>\n",
       "      <td>True</td>\n",
       "      <td>True</td>\n",
       "      <td>NaN</td>\n",
       "      <td>donor</td>\n",
       "    </tr>\n",
       "    <tr>\n",
       "      <th>1512</th>\n",
       "      <td>Donation</td>\n",
       "      <td>5000.00</td>\n",
       "      <td>Credit Card</td>\n",
       "      <td>8753</td>\n",
       "      <td>2/19/2021 16:10</td>\n",
       "      <td>general_donation</td>\n",
       "      <td>NaN</td>\n",
       "      <td>Redwood City</td>\n",
       "      <td>CA</td>\n",
       "      <td>940</td>\n",
       "      <td>United States</td>\n",
       "      <td>US</td>\n",
       "      <td>True</td>\n",
       "      <td>True</td>\n",
       "      <td>NaN</td>\n",
       "      <td>donor</td>\n",
       "    </tr>\n",
       "    <tr>\n",
       "      <th>1523</th>\n",
       "      <td>Donation</td>\n",
       "      <td>1000.00</td>\n",
       "      <td>Credit Card</td>\n",
       "      <td>8875</td>\n",
       "      <td>2/28/2021 15:00</td>\n",
       "      <td>general_donation</td>\n",
       "      <td>NaN</td>\n",
       "      <td>Toronto</td>\n",
       "      <td>ON</td>\n",
       "      <td>M4Y</td>\n",
       "      <td>Canada</td>\n",
       "      <td>CA</td>\n",
       "      <td>True</td>\n",
       "      <td>True</td>\n",
       "      <td>NaN</td>\n",
       "      <td>donor</td>\n",
       "    </tr>\n",
       "    <tr>\n",
       "      <th>169</th>\n",
       "      <td>Donation</td>\n",
       "      <td>3500.00</td>\n",
       "      <td>Credit Card</td>\n",
       "      <td>6127</td>\n",
       "      <td>6/2/2020 11:22</td>\n",
       "      <td>general_donation</td>\n",
       "      <td>NaN</td>\n",
       "      <td>Mississauga</td>\n",
       "      <td>Ontario</td>\n",
       "      <td>L5T</td>\n",
       "      <td>Canada</td>\n",
       "      <td>CA</td>\n",
       "      <td>NaN</td>\n",
       "      <td>True</td>\n",
       "      <td>Chris Thompson</td>\n",
       "      <td>donor</td>\n",
       "    </tr>\n",
       "    <tr>\n",
       "      <th>324</th>\n",
       "      <td>Donation</td>\n",
       "      <td>1000.00</td>\n",
       "      <td>Credit Card</td>\n",
       "      <td>6319</td>\n",
       "      <td>6/2/2020 16:45</td>\n",
       "      <td>general_donation</td>\n",
       "      <td>NaN</td>\n",
       "      <td>Burnaby</td>\n",
       "      <td>CA</td>\n",
       "      <td>V5B</td>\n",
       "      <td>Canada</td>\n",
       "      <td>CA</td>\n",
       "      <td>True</td>\n",
       "      <td>True</td>\n",
       "      <td>Chris Thompson</td>\n",
       "      <td>donor</td>\n",
       "    </tr>\n",
       "    <tr>\n",
       "      <th>510</th>\n",
       "      <td>Donation</td>\n",
       "      <td>1000.00</td>\n",
       "      <td>Credit Card</td>\n",
       "      <td>6571</td>\n",
       "      <td>6/3/2020 12:22</td>\n",
       "      <td>general_donation</td>\n",
       "      <td>NaN</td>\n",
       "      <td>London</td>\n",
       "      <td>Ontario</td>\n",
       "      <td>N6G</td>\n",
       "      <td>Canada</td>\n",
       "      <td>CA</td>\n",
       "      <td>NaN</td>\n",
       "      <td>True</td>\n",
       "      <td>NaN</td>\n",
       "      <td>donor</td>\n",
       "    </tr>\n",
       "    <tr>\n",
       "      <th>684</th>\n",
       "      <td>Donation</td>\n",
       "      <td>1000.00</td>\n",
       "      <td>Credit Card</td>\n",
       "      <td>6794</td>\n",
       "      <td>6/4/2020 13:00</td>\n",
       "      <td>general_donation</td>\n",
       "      <td>NaN</td>\n",
       "      <td>Huntsville</td>\n",
       "      <td>ON</td>\n",
       "      <td>P1H</td>\n",
       "      <td>Canada</td>\n",
       "      <td>CA</td>\n",
       "      <td>NaN</td>\n",
       "      <td>True</td>\n",
       "      <td>NaN</td>\n",
       "      <td>donor</td>\n",
       "    </tr>\n",
       "    <tr>\n",
       "      <th>879</th>\n",
       "      <td>Donation</td>\n",
       "      <td>1100.00</td>\n",
       "      <td>Credit Card</td>\n",
       "      <td>7049</td>\n",
       "      <td>6/6/2020 19:37</td>\n",
       "      <td>general_donation</td>\n",
       "      <td>NaN</td>\n",
       "      <td>Winnipeg</td>\n",
       "      <td>MB</td>\n",
       "      <td>R2V</td>\n",
       "      <td>Canada</td>\n",
       "      <td>CA</td>\n",
       "      <td>True</td>\n",
       "      <td>True</td>\n",
       "      <td>NaN</td>\n",
       "      <td>donor</td>\n",
       "    </tr>\n",
       "    <tr>\n",
       "      <th>943</th>\n",
       "      <td>Donation</td>\n",
       "      <td>1000.00</td>\n",
       "      <td>Credit Card</td>\n",
       "      <td>7141</td>\n",
       "      <td>6/8/2020 19:56</td>\n",
       "      <td>general_donation</td>\n",
       "      <td>NaN</td>\n",
       "      <td>Mississauga</td>\n",
       "      <td>Ontario</td>\n",
       "      <td>L5B</td>\n",
       "      <td>Canada</td>\n",
       "      <td>CA</td>\n",
       "      <td>True</td>\n",
       "      <td>True</td>\n",
       "      <td>NaN</td>\n",
       "      <td>donor</td>\n",
       "    </tr>\n",
       "    <tr>\n",
       "      <th>979</th>\n",
       "      <td>Donation</td>\n",
       "      <td>1300.00</td>\n",
       "      <td>Credit Card</td>\n",
       "      <td>7204</td>\n",
       "      <td>6/10/2020 17:26</td>\n",
       "      <td>general_donation</td>\n",
       "      <td>NaN</td>\n",
       "      <td>Ottawa</td>\n",
       "      <td>ON</td>\n",
       "      <td>K1V</td>\n",
       "      <td>Canada</td>\n",
       "      <td>CA</td>\n",
       "      <td>True</td>\n",
       "      <td>True</td>\n",
       "      <td>NaN</td>\n",
       "      <td>donor</td>\n",
       "    </tr>\n",
       "  </tbody>\n",
       "</table>\n",
       "</div>"
      ],
      "text/plain": [
       "                      type  ...  signup_tag_list\n",
       "nationbuilder_id            ...                 \n",
       "1002              Donation  ...            donor\n",
       "1057              Donation  ...            donor\n",
       "106               Donation  ...            donor\n",
       "1104              Donation  ...            donor\n",
       "1115              Donation  ...            donor\n",
       "1180              Donation  ...            donor\n",
       "1193              Donation  ...            donor\n",
       "1196              Donation  ...            donor\n",
       "1203              Donation  ...            donor\n",
       "1287              Donation  ...            donor\n",
       "132               Donation  ...            donor\n",
       "1333              Donation  ...            donor\n",
       "1398              Donation  ...            donor\n",
       "1429              Donation  ...            donor\n",
       "1512              Donation  ...            donor\n",
       "1523              Donation  ...            donor\n",
       "169               Donation  ...            donor\n",
       "324               Donation  ...            donor\n",
       "510               Donation  ...            donor\n",
       "684               Donation  ...            donor\n",
       "879               Donation  ...            donor\n",
       "943               Donation  ...            donor\n",
       "979               Donation  ...            donor\n",
       "\n",
       "[23 rows x 16 columns]"
      ]
     },
     "execution_count": 14,
     "metadata": {},
     "output_type": "execute_result"
    }
   ],
   "source": [
    "# We are creating a dataframe that would contain the smaller values to get a better understanding of how the majority of donations are distributed.\n",
    "# Beucase the value of donations are not normal distributed, there are no outliers\n",
    "# However, we will remove the extremely large donation values that are 3 std away from the mean\n",
    "donation_threshold = dfDonations['amount'].mean() + 3 * dfDonations['amount'].std()\n",
    "dfDonations[dfDonations['amount'] >= donation_threshold]"
   ]
  },
  {
   "cell_type": "code",
   "execution_count": 15,
   "metadata": {
    "colab": {
     "base_uri": "https://localhost:8080/",
     "height": 340
    },
    "id": "n53XRQvPTlwF",
    "outputId": "ceba5dec-9d60-4862-84cb-792fa223336b"
   },
   "outputs": [
    {
     "data": {
      "text/html": [
       "<div>\n",
       "<style scoped>\n",
       "    .dataframe tbody tr th:only-of-type {\n",
       "        vertical-align: middle;\n",
       "    }\n",
       "\n",
       "    .dataframe tbody tr th {\n",
       "        vertical-align: top;\n",
       "    }\n",
       "\n",
       "    .dataframe thead th {\n",
       "        text-align: right;\n",
       "    }\n",
       "</style>\n",
       "<table border=\"1\" class=\"dataframe\">\n",
       "  <thead>\n",
       "    <tr style=\"text-align: right;\">\n",
       "      <th></th>\n",
       "      <th>type</th>\n",
       "      <th>amount</th>\n",
       "      <th>payment_type_name</th>\n",
       "      <th>donor_id</th>\n",
       "      <th>donation_date</th>\n",
       "      <th>donation_type</th>\n",
       "      <th>recurring_donation_status</th>\n",
       "      <th>billing_city</th>\n",
       "      <th>billing_state</th>\n",
       "      <th>billing_FSA</th>\n",
       "      <th>billing_country</th>\n",
       "      <th>billing_country_code</th>\n",
       "      <th>signup_email_opt_in</th>\n",
       "      <th>signup_mobile_opt_in</th>\n",
       "      <th>signup_point_person_name_or_email</th>\n",
       "      <th>signup_tag_list</th>\n",
       "    </tr>\n",
       "    <tr>\n",
       "      <th>nationbuilder_id</th>\n",
       "      <th></th>\n",
       "      <th></th>\n",
       "      <th></th>\n",
       "      <th></th>\n",
       "      <th></th>\n",
       "      <th></th>\n",
       "      <th></th>\n",
       "      <th></th>\n",
       "      <th></th>\n",
       "      <th></th>\n",
       "      <th></th>\n",
       "      <th></th>\n",
       "      <th></th>\n",
       "      <th></th>\n",
       "      <th></th>\n",
       "      <th></th>\n",
       "    </tr>\n",
       "  </thead>\n",
       "  <tbody>\n",
       "    <tr>\n",
       "      <th>1</th>\n",
       "      <td>Donation</td>\n",
       "      <td>125.0</td>\n",
       "      <td>Credit Card</td>\n",
       "      <td>541</td>\n",
       "      <td>1/8/2020 12:41</td>\n",
       "      <td>NaN</td>\n",
       "      <td>NaN</td>\n",
       "      <td>Markham</td>\n",
       "      <td>Ontario</td>\n",
       "      <td>L3P</td>\n",
       "      <td>Canada</td>\n",
       "      <td>CA</td>\n",
       "      <td>True</td>\n",
       "      <td>True</td>\n",
       "      <td>Chris Thompson</td>\n",
       "      <td>Black Fund Signatory,defundpolicesurvey,Genera...</td>\n",
       "    </tr>\n",
       "    <tr>\n",
       "      <th>10</th>\n",
       "      <td>Donation</td>\n",
       "      <td>25.0</td>\n",
       "      <td>Credit Card</td>\n",
       "      <td>5509</td>\n",
       "      <td>5/11/2020 22:10</td>\n",
       "      <td>annual_membership_fee</td>\n",
       "      <td>NaN</td>\n",
       "      <td>St-Hubert</td>\n",
       "      <td>Quebec</td>\n",
       "      <td>J4T</td>\n",
       "      <td>Canada</td>\n",
       "      <td>CA</td>\n",
       "      <td>True</td>\n",
       "      <td>True</td>\n",
       "      <td>NaN</td>\n",
       "      <td>FR,General Member,newsletter,Ontario,Paid Memb...</td>\n",
       "    </tr>\n",
       "    <tr>\n",
       "      <th>100</th>\n",
       "      <td>Donation</td>\n",
       "      <td>15.0</td>\n",
       "      <td>Credit Card</td>\n",
       "      <td>6039</td>\n",
       "      <td>6/1/2020 16:53</td>\n",
       "      <td>general_donation</td>\n",
       "      <td>NaN</td>\n",
       "      <td>Ottawa</td>\n",
       "      <td>Ontario</td>\n",
       "      <td>K1G</td>\n",
       "      <td>Canada</td>\n",
       "      <td>CA</td>\n",
       "      <td>NaN</td>\n",
       "      <td>True</td>\n",
       "      <td>Chris Thompson</td>\n",
       "      <td>donor</td>\n",
       "    </tr>\n",
       "    <tr>\n",
       "      <th>1000</th>\n",
       "      <td>Donation</td>\n",
       "      <td>15.0</td>\n",
       "      <td>Credit Card</td>\n",
       "      <td>7233</td>\n",
       "      <td>6/11/2020 17:30</td>\n",
       "      <td>general_donation</td>\n",
       "      <td>NaN</td>\n",
       "      <td>Orillia</td>\n",
       "      <td>ON</td>\n",
       "      <td>L3V</td>\n",
       "      <td>Canada</td>\n",
       "      <td>CA</td>\n",
       "      <td>NaN</td>\n",
       "      <td>True</td>\n",
       "      <td>NaN</td>\n",
       "      <td>donor,Elder Prospects,General Member,Non - bla...</td>\n",
       "    </tr>\n",
       "    <tr>\n",
       "      <th>1001</th>\n",
       "      <td>Donation</td>\n",
       "      <td>100.0</td>\n",
       "      <td>Credit Card</td>\n",
       "      <td>7234</td>\n",
       "      <td>6/11/2020 17:38</td>\n",
       "      <td>general_donation</td>\n",
       "      <td>NaN</td>\n",
       "      <td>Mississauga</td>\n",
       "      <td>Ontario</td>\n",
       "      <td>L5G</td>\n",
       "      <td>Canada</td>\n",
       "      <td>CA</td>\n",
       "      <td>True</td>\n",
       "      <td>True</td>\n",
       "      <td>NaN</td>\n",
       "      <td>donor</td>\n",
       "    </tr>\n",
       "  </tbody>\n",
       "</table>\n",
       "</div>"
      ],
      "text/plain": [
       "                      type  ...                                    signup_tag_list\n",
       "nationbuilder_id            ...                                                   \n",
       "1                 Donation  ...  Black Fund Signatory,defundpolicesurvey,Genera...\n",
       "10                Donation  ...  FR,General Member,newsletter,Ontario,Paid Memb...\n",
       "100               Donation  ...                                              donor\n",
       "1000              Donation  ...  donor,Elder Prospects,General Member,Non - bla...\n",
       "1001              Donation  ...                                              donor\n",
       "\n",
       "[5 rows x 16 columns]"
      ]
     },
     "execution_count": 15,
     "metadata": {},
     "output_type": "execute_result"
    }
   ],
   "source": [
    "donationsNoOutliers = dfDonations[dfDonations['amount'] < donation_threshold]\n",
    "donationsNoOutliers.head(5)"
   ]
  },
  {
   "cell_type": "code",
   "execution_count": 16,
   "metadata": {
    "colab": {
     "base_uri": "https://localhost:8080/",
     "height": 532
    },
    "id": "1MESZ3piUSUF",
    "outputId": "f735c772-76eb-4cae-af52-499931324535"
   },
   "outputs": [
    {
     "data": {
      "image/png": "[encoded data removed]",
      "text/plain": [
       "<Figure size 432x288 with 1 Axes>"
      ]
     },
     "metadata": {
      "needs_background": "light"
     },
     "output_type": "display_data"
    },
    {
     "data": {
      "image/png": "[encoded data removed]",
      "text/plain": [
       "<Figure size 432x288 with 1 Axes>"
      ]
     },
     "metadata": {
      "needs_background": "light"
     },
     "output_type": "display_data"
    }
   ],
   "source": [
    "# Amount distribution.\n",
    "Amt = donationsNoOutliers[\"amount\"]\n",
    "\n",
    "plot_dist(Amt)"
   ]
  },
  {
   "cell_type": "code",
   "execution_count": 17,
   "metadata": {
    "id": "S_7vYhQkUo6k"
   },
   "outputs": [],
   "source": [
    "# Looking at the distribution after removing the extremely high values, we can see that most donations are less than $200 in value.\n",
    "# Because of this, we will directly remove any values higher than $200 to take get a better understanding of donation values"
   ]
  },
  {
   "cell_type": "code",
   "execution_count": 18,
   "metadata": {
    "colab": {
     "base_uri": "https://localhost:8080/",
     "height": 532
    },
    "id": "rQLNvBwOVgOA",
    "outputId": "1074e325-ef0c-4767-a91b-309f0a6f08f9"
   },
   "outputs": [
    {
     "data": {
      "image/png": "[encoded data removed]",
      "text/plain": [
       "<Figure size 432x288 with 1 Axes>"
      ]
     },
     "metadata": {
      "needs_background": "light"
     },
     "output_type": "display_data"
    },
    {
     "data": {
      "image/png": "[encoded data removed]",
      "text/plain": [
       "<Figure size 432x288 with 1 Axes>"
      ]
     },
     "metadata": {
      "needs_background": "light"
     },
     "output_type": "display_data"
    }
   ],
   "source": [
    "twoHundredDonations = dfDonations[dfDonations['amount'] < 200] \n",
    "Amt = twoHundredDonations[\"amount\"]\n",
    "\n",
    "plot_dist(Amt)"
   ]
  },
  {
   "cell_type": "code",
   "execution_count": 19,
   "metadata": {
    "colab": {
     "base_uri": "https://localhost:8080/"
    },
    "id": "ymCZ-qXQR1AC",
    "outputId": "96f39b07-3e61-4ced-f5cb-598ba71f9e19"
   },
   "outputs": [
    {
     "data": {
      "text/plain": [
       "count    1517.000000\n",
       "mean       39.772142\n",
       "std        31.678353\n",
       "min         0.500000\n",
       "25%        20.200000\n",
       "50%        25.000000\n",
       "75%        50.000000\n",
       "max       185.000000\n",
       "Name: amount, dtype: float64"
      ]
     },
     "execution_count": 19,
     "metadata": {},
     "output_type": "execute_result"
    }
   ],
   "source": [
    "Amt.describe()"
   ]
  },
  {
   "cell_type": "code",
   "execution_count": 20,
   "metadata": {
    "id": "-9nU5paJn-hY"
   },
   "outputs": [],
   "source": [
    "# From the results above, we can see that there seems to be a particular pattern, two value ranges that hold the most amount of donations.\n",
    "# The vast amount of donations are less than $50 in value, while there is another influx of donations in the $100 range\n",
    "# What is interesting is that between these two ranges, from $50-$100, there is very little amounts being donated.\n",
    "# This could be a behavior pattern, where people tend to donate in even amounts, and in increments that are not too small. \n",
    "# “Might as well donate $100 if i am going to donate $80, it is a nice even number\""
   ]
  },
  {
   "cell_type": "code",
   "execution_count": 21,
   "metadata": {
    "id": "vZUXn33gXslO"
   },
   "outputs": [],
   "source": [
    "# With data without outliers, we are able to predict future donation amounts better. However, we can look into the outliers later to study if large donations comes in \n",
    "# specific time period, specific region or donors with specific demographics. Hope to get a better understanding with large donations and hopefully find a way to continue \n",
    "# to receive large donations."
   ]
  },
  {
   "cell_type": "code",
   "execution_count": 22,
   "metadata": {
    "colab": {
     "base_uri": "https://localhost:8080/",
     "height": 235
    },
    "id": "udVfErWaY3tD",
    "outputId": "cc8fa9d1-3dd6-4a62-9e1c-4ad8144df75f"
   },
   "outputs": [
    {
     "data": {
      "text/html": [
       "<div>\n",
       "<style scoped>\n",
       "    .dataframe tbody tr th:only-of-type {\n",
       "        vertical-align: middle;\n",
       "    }\n",
       "\n",
       "    .dataframe tbody tr th {\n",
       "        vertical-align: top;\n",
       "    }\n",
       "\n",
       "    .dataframe thead th {\n",
       "        text-align: right;\n",
       "    }\n",
       "</style>\n",
       "<table border=\"1\" class=\"dataframe\">\n",
       "  <thead>\n",
       "    <tr style=\"text-align: right;\">\n",
       "      <th></th>\n",
       "      <th>type</th>\n",
       "      <th>amount</th>\n",
       "      <th>payment_type_name</th>\n",
       "      <th>donor_id</th>\n",
       "      <th>donation_date</th>\n",
       "      <th>donation_type</th>\n",
       "      <th>recurring_donation_status</th>\n",
       "      <th>billing_city</th>\n",
       "      <th>billing_state</th>\n",
       "      <th>billing_FSA</th>\n",
       "      <th>billing_country</th>\n",
       "      <th>billing_country_code</th>\n",
       "      <th>signup_email_opt_in</th>\n",
       "      <th>signup_mobile_opt_in</th>\n",
       "      <th>signup_point_person_name_or_email</th>\n",
       "      <th>signup_tag_list</th>\n",
       "    </tr>\n",
       "    <tr>\n",
       "      <th>nationbuilder_id</th>\n",
       "      <th></th>\n",
       "      <th></th>\n",
       "      <th></th>\n",
       "      <th></th>\n",
       "      <th></th>\n",
       "      <th></th>\n",
       "      <th></th>\n",
       "      <th></th>\n",
       "      <th></th>\n",
       "      <th></th>\n",
       "      <th></th>\n",
       "      <th></th>\n",
       "      <th></th>\n",
       "      <th></th>\n",
       "      <th></th>\n",
       "      <th></th>\n",
       "    </tr>\n",
       "  </thead>\n",
       "  <tbody>\n",
       "    <tr>\n",
       "      <th>1006</th>\n",
       "      <td>Donation</td>\n",
       "      <td>25.0</td>\n",
       "      <td>Credit Card</td>\n",
       "      <td>5711</td>\n",
       "      <td>6/12/2020 2:48</td>\n",
       "      <td>annual_membership_fee</td>\n",
       "      <td>canceled</td>\n",
       "      <td>Laval</td>\n",
       "      <td>QC</td>\n",
       "      <td>H7G</td>\n",
       "      <td>Canada</td>\n",
       "      <td>CA</td>\n",
       "      <td>True</td>\n",
       "      <td>True</td>\n",
       "      <td>NaN</td>\n",
       "      <td>General Member</td>\n",
       "    </tr>\n",
       "    <tr>\n",
       "      <th>1015</th>\n",
       "      <td>Donation</td>\n",
       "      <td>5.0</td>\n",
       "      <td>Credit Card</td>\n",
       "      <td>7252</td>\n",
       "      <td>6/12/2020 14:17</td>\n",
       "      <td>general_donation</td>\n",
       "      <td>canceled</td>\n",
       "      <td>Mississauga</td>\n",
       "      <td>Ontario</td>\n",
       "      <td>L5H</td>\n",
       "      <td>Canada</td>\n",
       "      <td>CA</td>\n",
       "      <td>NaN</td>\n",
       "      <td>True</td>\n",
       "      <td>NaN</td>\n",
       "      <td>donor</td>\n",
       "    </tr>\n",
       "    <tr>\n",
       "      <th>1016</th>\n",
       "      <td>Donation</td>\n",
       "      <td>10.0</td>\n",
       "      <td>Credit Card</td>\n",
       "      <td>7253</td>\n",
       "      <td>6/12/2020 14:30</td>\n",
       "      <td>general_donation</td>\n",
       "      <td>active</td>\n",
       "      <td>Hubbards</td>\n",
       "      <td>NS</td>\n",
       "      <td>B0J</td>\n",
       "      <td>Canada</td>\n",
       "      <td>CA</td>\n",
       "      <td>True</td>\n",
       "      <td>True</td>\n",
       "      <td>NaN</td>\n",
       "      <td>donor</td>\n",
       "    </tr>\n",
       "    <tr>\n",
       "      <th>1031</th>\n",
       "      <td>Donation</td>\n",
       "      <td>10.0</td>\n",
       "      <td>Credit Card</td>\n",
       "      <td>7278</td>\n",
       "      <td>6/13/2020 16:21</td>\n",
       "      <td>general_donation</td>\n",
       "      <td>canceled</td>\n",
       "      <td>Toronto</td>\n",
       "      <td>ON</td>\n",
       "      <td>M6H</td>\n",
       "      <td>Canada</td>\n",
       "      <td>CA</td>\n",
       "      <td>NaN</td>\n",
       "      <td>True</td>\n",
       "      <td>NaN</td>\n",
       "      <td>donor</td>\n",
       "    </tr>\n",
       "    <tr>\n",
       "      <th>1034</th>\n",
       "      <td>Donation</td>\n",
       "      <td>100.0</td>\n",
       "      <td>Credit Card</td>\n",
       "      <td>7282</td>\n",
       "      <td>6/13/2020 17:23</td>\n",
       "      <td>general_donation</td>\n",
       "      <td>active</td>\n",
       "      <td>Vancouver</td>\n",
       "      <td>NaN</td>\n",
       "      <td>V6Z</td>\n",
       "      <td>Canada</td>\n",
       "      <td>CA</td>\n",
       "      <td>True</td>\n",
       "      <td>True</td>\n",
       "      <td>NaN</td>\n",
       "      <td>donor</td>\n",
       "    </tr>\n",
       "  </tbody>\n",
       "</table>\n",
       "</div>"
      ],
      "text/plain": [
       "                      type  ...  signup_tag_list\n",
       "nationbuilder_id            ...                 \n",
       "1006              Donation  ...   General Member\n",
       "1015              Donation  ...            donor\n",
       "1016              Donation  ...            donor\n",
       "1031              Donation  ...            donor\n",
       "1034              Donation  ...            donor\n",
       "\n",
       "[5 rows x 16 columns]"
      ]
     },
     "execution_count": 22,
     "metadata": {},
     "output_type": "execute_result"
    }
   ],
   "source": [
    "# Identifying one-time donor and recurring donors.\n",
    "DonorId = dfDonations.donor_id.value_counts()\n",
    "dfRec = dfDonations[dfDonations[\"recurring_donation_status\"].notnull()]\n",
    "dfRec.head(5)"
   ]
  },
  {
   "cell_type": "code",
   "execution_count": 23,
   "metadata": {
    "colab": {
     "base_uri": "https://localhost:8080/"
    },
    "id": "NYUzWqj4a5wg",
    "outputId": "e2bbeaf8-b9a7-4382-cf03-7f409238ac29"
   },
   "outputs": [
    {
     "data": {
      "text/plain": [
       "count    413.000000\n",
       "mean      21.590799\n",
       "std       20.987505\n",
       "min        3.000000\n",
       "25%       10.000000\n",
       "50%       25.000000\n",
       "75%       25.000000\n",
       "max      100.000000\n",
       "Name: amount, dtype: float64"
      ]
     },
     "execution_count": 23,
     "metadata": {},
     "output_type": "execute_result"
    }
   ],
   "source": [
    "dfRec[\"amount\"].describe()"
   ]
  },
  {
   "cell_type": "code",
   "execution_count": 24,
   "metadata": {
    "colab": {
     "base_uri": "https://localhost:8080/",
     "height": 340
    },
    "id": "C0TOcFm2Zw4m",
    "outputId": "b091c623-445b-4f25-e25e-8ae943ea7da5"
   },
   "outputs": [
    {
     "data": {
      "text/html": [
       "<div>\n",
       "<style scoped>\n",
       "    .dataframe tbody tr th:only-of-type {\n",
       "        vertical-align: middle;\n",
       "    }\n",
       "\n",
       "    .dataframe tbody tr th {\n",
       "        vertical-align: top;\n",
       "    }\n",
       "\n",
       "    .dataframe thead th {\n",
       "        text-align: right;\n",
       "    }\n",
       "</style>\n",
       "<table border=\"1\" class=\"dataframe\">\n",
       "  <thead>\n",
       "    <tr style=\"text-align: right;\">\n",
       "      <th></th>\n",
       "      <th>type</th>\n",
       "      <th>amount</th>\n",
       "      <th>payment_type_name</th>\n",
       "      <th>donor_id</th>\n",
       "      <th>donation_date</th>\n",
       "      <th>donation_type</th>\n",
       "      <th>recurring_donation_status</th>\n",
       "      <th>billing_city</th>\n",
       "      <th>billing_state</th>\n",
       "      <th>billing_FSA</th>\n",
       "      <th>billing_country</th>\n",
       "      <th>billing_country_code</th>\n",
       "      <th>signup_email_opt_in</th>\n",
       "      <th>signup_mobile_opt_in</th>\n",
       "      <th>signup_point_person_name_or_email</th>\n",
       "      <th>signup_tag_list</th>\n",
       "    </tr>\n",
       "    <tr>\n",
       "      <th>nationbuilder_id</th>\n",
       "      <th></th>\n",
       "      <th></th>\n",
       "      <th></th>\n",
       "      <th></th>\n",
       "      <th></th>\n",
       "      <th></th>\n",
       "      <th></th>\n",
       "      <th></th>\n",
       "      <th></th>\n",
       "      <th></th>\n",
       "      <th></th>\n",
       "      <th></th>\n",
       "      <th></th>\n",
       "      <th></th>\n",
       "      <th></th>\n",
       "      <th></th>\n",
       "    </tr>\n",
       "  </thead>\n",
       "  <tbody>\n",
       "    <tr>\n",
       "      <th>1</th>\n",
       "      <td>Donation</td>\n",
       "      <td>125.0</td>\n",
       "      <td>Credit Card</td>\n",
       "      <td>541</td>\n",
       "      <td>1/8/2020 12:41</td>\n",
       "      <td>NaN</td>\n",
       "      <td>NaN</td>\n",
       "      <td>Markham</td>\n",
       "      <td>Ontario</td>\n",
       "      <td>L3P</td>\n",
       "      <td>Canada</td>\n",
       "      <td>CA</td>\n",
       "      <td>True</td>\n",
       "      <td>True</td>\n",
       "      <td>Chris Thompson</td>\n",
       "      <td>Black Fund Signatory,defundpolicesurvey,Genera...</td>\n",
       "    </tr>\n",
       "    <tr>\n",
       "      <th>10</th>\n",
       "      <td>Donation</td>\n",
       "      <td>25.0</td>\n",
       "      <td>Credit Card</td>\n",
       "      <td>5509</td>\n",
       "      <td>5/11/2020 22:10</td>\n",
       "      <td>annual_membership_fee</td>\n",
       "      <td>NaN</td>\n",
       "      <td>St-Hubert</td>\n",
       "      <td>Quebec</td>\n",
       "      <td>J4T</td>\n",
       "      <td>Canada</td>\n",
       "      <td>CA</td>\n",
       "      <td>True</td>\n",
       "      <td>True</td>\n",
       "      <td>NaN</td>\n",
       "      <td>FR,General Member,newsletter,Ontario,Paid Memb...</td>\n",
       "    </tr>\n",
       "    <tr>\n",
       "      <th>100</th>\n",
       "      <td>Donation</td>\n",
       "      <td>15.0</td>\n",
       "      <td>Credit Card</td>\n",
       "      <td>6039</td>\n",
       "      <td>6/1/2020 16:53</td>\n",
       "      <td>general_donation</td>\n",
       "      <td>NaN</td>\n",
       "      <td>Ottawa</td>\n",
       "      <td>Ontario</td>\n",
       "      <td>K1G</td>\n",
       "      <td>Canada</td>\n",
       "      <td>CA</td>\n",
       "      <td>NaN</td>\n",
       "      <td>True</td>\n",
       "      <td>Chris Thompson</td>\n",
       "      <td>donor</td>\n",
       "    </tr>\n",
       "    <tr>\n",
       "      <th>1000</th>\n",
       "      <td>Donation</td>\n",
       "      <td>15.0</td>\n",
       "      <td>Credit Card</td>\n",
       "      <td>7233</td>\n",
       "      <td>6/11/2020 17:30</td>\n",
       "      <td>general_donation</td>\n",
       "      <td>NaN</td>\n",
       "      <td>Orillia</td>\n",
       "      <td>ON</td>\n",
       "      <td>L3V</td>\n",
       "      <td>Canada</td>\n",
       "      <td>CA</td>\n",
       "      <td>NaN</td>\n",
       "      <td>True</td>\n",
       "      <td>NaN</td>\n",
       "      <td>donor,Elder Prospects,General Member,Non - bla...</td>\n",
       "    </tr>\n",
       "    <tr>\n",
       "      <th>1001</th>\n",
       "      <td>Donation</td>\n",
       "      <td>100.0</td>\n",
       "      <td>Credit Card</td>\n",
       "      <td>7234</td>\n",
       "      <td>6/11/2020 17:38</td>\n",
       "      <td>general_donation</td>\n",
       "      <td>NaN</td>\n",
       "      <td>Mississauga</td>\n",
       "      <td>Ontario</td>\n",
       "      <td>L5G</td>\n",
       "      <td>Canada</td>\n",
       "      <td>CA</td>\n",
       "      <td>True</td>\n",
       "      <td>True</td>\n",
       "      <td>NaN</td>\n",
       "      <td>donor</td>\n",
       "    </tr>\n",
       "  </tbody>\n",
       "</table>\n",
       "</div>"
      ],
      "text/plain": [
       "                      type  ...                                    signup_tag_list\n",
       "nationbuilder_id            ...                                                   \n",
       "1                 Donation  ...  Black Fund Signatory,defundpolicesurvey,Genera...\n",
       "10                Donation  ...  FR,General Member,newsletter,Ontario,Paid Memb...\n",
       "100               Donation  ...                                              donor\n",
       "1000              Donation  ...  donor,Elder Prospects,General Member,Non - bla...\n",
       "1001              Donation  ...                                              donor\n",
       "\n",
       "[5 rows x 16 columns]"
      ]
     },
     "execution_count": 24,
     "metadata": {},
     "output_type": "execute_result"
    }
   ],
   "source": [
    "dfOne = dfDonations[dfDonations[\"recurring_donation_status\"].isnull()]\n",
    "dfOne.head(5)"
   ]
  },
  {
   "cell_type": "code",
   "execution_count": 25,
   "metadata": {
    "colab": {
     "base_uri": "https://localhost:8080/"
    },
    "id": "i9rUNW1Fa46b",
    "outputId": "de6ebbde-d597-4344-80d4-5947e026faf3"
   },
   "outputs": [
    {
     "data": {
      "text/plain": [
       "count    1181.000000\n",
       "mean       86.438213\n",
       "std       248.066911\n",
       "min         0.500000\n",
       "25%        25.000000\n",
       "50%        50.000000\n",
       "75%       100.000000\n",
       "max      5000.000000\n",
       "Name: amount, dtype: float64"
      ]
     },
     "execution_count": 25,
     "metadata": {},
     "output_type": "execute_result"
    }
   ],
   "source": [
    "dfOne[\"amount\"].describe()"
   ]
  },
  {
   "cell_type": "markdown",
   "metadata": {
    "id": "mTp0IEExzcZn"
   },
   "source": [
    "## Recurring Donors & Non-Recurring Ones"
   ]
  },
  {
   "cell_type": "code",
   "execution_count": 26,
   "metadata": {
    "colab": {
     "base_uri": "https://localhost:8080/"
    },
    "id": "VFRTaOoYan8Q",
    "outputId": "5ca30411-a213-4b1a-9410-95239e67114e"
   },
   "outputs": [
    {
     "name": "stdout",
     "output_type": "stream",
     "text": [
      "Number of donations made by recurring donors:  413\n",
      "Number of donations made by one-time donors:  1181\n"
     ]
    }
   ],
   "source": [
    "print(\"Number of donations made by recurring donors: \", dfRec.shape[0])\n",
    "print(\"Number of donations made by one-time donors: \", dfOne.shape[0])"
   ]
  },
  {
   "cell_type": "code",
   "execution_count": 27,
   "metadata": {
    "colab": {
     "base_uri": "https://localhost:8080/",
     "height": 484
    },
    "id": "grNCg4QubOzJ",
    "outputId": "5ec79f54-f6dc-43f6-e14a-f4035b963db2"
   },
   "outputs": [
    {
     "data": {
      "text/html": [
       "<div>\n",
       "<style scoped>\n",
       "    .dataframe tbody tr th:only-of-type {\n",
       "        vertical-align: middle;\n",
       "    }\n",
       "\n",
       "    .dataframe tbody tr th {\n",
       "        vertical-align: top;\n",
       "    }\n",
       "\n",
       "    .dataframe thead th {\n",
       "        text-align: right;\n",
       "    }\n",
       "</style>\n",
       "<table border=\"1\" class=\"dataframe\">\n",
       "  <thead>\n",
       "    <tr style=\"text-align: right;\">\n",
       "      <th></th>\n",
       "      <th>type</th>\n",
       "      <th>amount</th>\n",
       "      <th>payment_type_name</th>\n",
       "      <th>donor_id</th>\n",
       "      <th>donation_date</th>\n",
       "      <th>donation_type</th>\n",
       "      <th>recurring_donation_status</th>\n",
       "      <th>billing_city</th>\n",
       "      <th>billing_state</th>\n",
       "      <th>billing_FSA</th>\n",
       "      <th>billing_country</th>\n",
       "      <th>billing_country_code</th>\n",
       "      <th>signup_email_opt_in</th>\n",
       "      <th>signup_mobile_opt_in</th>\n",
       "      <th>signup_point_person_name_or_email</th>\n",
       "      <th>signup_tag_list</th>\n",
       "    </tr>\n",
       "    <tr>\n",
       "      <th>nationbuilder_id</th>\n",
       "      <th></th>\n",
       "      <th></th>\n",
       "      <th></th>\n",
       "      <th></th>\n",
       "      <th></th>\n",
       "      <th></th>\n",
       "      <th></th>\n",
       "      <th></th>\n",
       "      <th></th>\n",
       "      <th></th>\n",
       "      <th></th>\n",
       "      <th></th>\n",
       "      <th></th>\n",
       "      <th></th>\n",
       "      <th></th>\n",
       "      <th></th>\n",
       "    </tr>\n",
       "  </thead>\n",
       "  <tbody>\n",
       "    <tr>\n",
       "      <th>119</th>\n",
       "      <td>Donation</td>\n",
       "      <td>50.0</td>\n",
       "      <td>Credit Card</td>\n",
       "      <td>6063</td>\n",
       "      <td>6/1/2020 20:50</td>\n",
       "      <td>general_donation</td>\n",
       "      <td>NaN</td>\n",
       "      <td>Montreal</td>\n",
       "      <td>QC</td>\n",
       "      <td>H3C</td>\n",
       "      <td>Canada</td>\n",
       "      <td>CA</td>\n",
       "      <td>True</td>\n",
       "      <td>True</td>\n",
       "      <td>Chris Thompson</td>\n",
       "      <td>donor</td>\n",
       "    </tr>\n",
       "    <tr>\n",
       "      <th>1432</th>\n",
       "      <td>Donation</td>\n",
       "      <td>100.0</td>\n",
       "      <td>Credit Card</td>\n",
       "      <td>6063</td>\n",
       "      <td>12/26/2020 14:24</td>\n",
       "      <td>general_donation</td>\n",
       "      <td>NaN</td>\n",
       "      <td>Philadelphia</td>\n",
       "      <td>PA</td>\n",
       "      <td>191</td>\n",
       "      <td>United States</td>\n",
       "      <td>US</td>\n",
       "      <td>True</td>\n",
       "      <td>True</td>\n",
       "      <td>Chris Thompson</td>\n",
       "      <td>donor</td>\n",
       "    </tr>\n",
       "    <tr>\n",
       "      <th>358</th>\n",
       "      <td>Donation</td>\n",
       "      <td>25.0</td>\n",
       "      <td>Credit Card</td>\n",
       "      <td>6273</td>\n",
       "      <td>6/2/2020 17:53</td>\n",
       "      <td>general_donation</td>\n",
       "      <td>NaN</td>\n",
       "      <td>Ottawa</td>\n",
       "      <td>Ontario</td>\n",
       "      <td>K1Y</td>\n",
       "      <td>Canada</td>\n",
       "      <td>CA</td>\n",
       "      <td>True</td>\n",
       "      <td>True</td>\n",
       "      <td>Chris Thompson</td>\n",
       "      <td>donor</td>\n",
       "    </tr>\n",
       "    <tr>\n",
       "      <th>283</th>\n",
       "      <td>Donation</td>\n",
       "      <td>25.0</td>\n",
       "      <td>Credit Card</td>\n",
       "      <td>6273</td>\n",
       "      <td>6/2/2020 14:53</td>\n",
       "      <td>general_donation</td>\n",
       "      <td>NaN</td>\n",
       "      <td>Ottawa</td>\n",
       "      <td>ON</td>\n",
       "      <td>K1R</td>\n",
       "      <td>Canada</td>\n",
       "      <td>CA</td>\n",
       "      <td>True</td>\n",
       "      <td>True</td>\n",
       "      <td>Chris Thompson</td>\n",
       "      <td>donor</td>\n",
       "    </tr>\n",
       "    <tr>\n",
       "      <th>333</th>\n",
       "      <td>Donation</td>\n",
       "      <td>125.0</td>\n",
       "      <td>Credit Card</td>\n",
       "      <td>6328</td>\n",
       "      <td>6/2/2020 16:56</td>\n",
       "      <td>general_donation</td>\n",
       "      <td>NaN</td>\n",
       "      <td>Windsor</td>\n",
       "      <td>Ontario</td>\n",
       "      <td>N8P</td>\n",
       "      <td>Canada</td>\n",
       "      <td>CA</td>\n",
       "      <td>NaN</td>\n",
       "      <td>True</td>\n",
       "      <td>Chris Thompson</td>\n",
       "      <td>donor</td>\n",
       "    </tr>\n",
       "    <tr>\n",
       "      <th>...</th>\n",
       "      <td>...</td>\n",
       "      <td>...</td>\n",
       "      <td>...</td>\n",
       "      <td>...</td>\n",
       "      <td>...</td>\n",
       "      <td>...</td>\n",
       "      <td>...</td>\n",
       "      <td>...</td>\n",
       "      <td>...</td>\n",
       "      <td>...</td>\n",
       "      <td>...</td>\n",
       "      <td>...</td>\n",
       "      <td>...</td>\n",
       "      <td>...</td>\n",
       "      <td>...</td>\n",
       "      <td>...</td>\n",
       "    </tr>\n",
       "    <tr>\n",
       "      <th>1172</th>\n",
       "      <td>Donation</td>\n",
       "      <td>15.0</td>\n",
       "      <td>Credit Card</td>\n",
       "      <td>7657</td>\n",
       "      <td>7/10/2020 21:15</td>\n",
       "      <td>general_donation</td>\n",
       "      <td>NaN</td>\n",
       "      <td>Conception Bay South</td>\n",
       "      <td>Newfoundland and Labrador</td>\n",
       "      <td>A1W</td>\n",
       "      <td>Canada</td>\n",
       "      <td>CA</td>\n",
       "      <td>True</td>\n",
       "      <td>True</td>\n",
       "      <td>NaN</td>\n",
       "      <td>donor</td>\n",
       "    </tr>\n",
       "    <tr>\n",
       "      <th>1192</th>\n",
       "      <td>Donation</td>\n",
       "      <td>10.0</td>\n",
       "      <td>Credit Card</td>\n",
       "      <td>7694</td>\n",
       "      <td>7/21/2020 18:12</td>\n",
       "      <td>general_donation</td>\n",
       "      <td>NaN</td>\n",
       "      <td>Trois-Rivières</td>\n",
       "      <td>QC</td>\n",
       "      <td>G9B</td>\n",
       "      <td>Canada</td>\n",
       "      <td>CA</td>\n",
       "      <td>True</td>\n",
       "      <td>True</td>\n",
       "      <td>NaN</td>\n",
       "      <td>donor</td>\n",
       "    </tr>\n",
       "    <tr>\n",
       "      <th>1191</th>\n",
       "      <td>Donation</td>\n",
       "      <td>10.0</td>\n",
       "      <td>Credit Card</td>\n",
       "      <td>7694</td>\n",
       "      <td>7/21/2020 18:07</td>\n",
       "      <td>general_donation</td>\n",
       "      <td>NaN</td>\n",
       "      <td>Trois-Rivières</td>\n",
       "      <td>QC</td>\n",
       "      <td>G9B</td>\n",
       "      <td>Canada</td>\n",
       "      <td>CA</td>\n",
       "      <td>True</td>\n",
       "      <td>True</td>\n",
       "      <td>NaN</td>\n",
       "      <td>donor</td>\n",
       "    </tr>\n",
       "    <tr>\n",
       "      <th>1516</th>\n",
       "      <td>Donation</td>\n",
       "      <td>100.0</td>\n",
       "      <td>Credit Card</td>\n",
       "      <td>8829</td>\n",
       "      <td>2/24/2021 18:48</td>\n",
       "      <td>general_donation</td>\n",
       "      <td>NaN</td>\n",
       "      <td>Orangeville</td>\n",
       "      <td>ON</td>\n",
       "      <td>L9W</td>\n",
       "      <td>Canada</td>\n",
       "      <td>CA</td>\n",
       "      <td>True</td>\n",
       "      <td>True</td>\n",
       "      <td>NaN</td>\n",
       "      <td>donor</td>\n",
       "    </tr>\n",
       "    <tr>\n",
       "      <th>1529</th>\n",
       "      <td>Donation</td>\n",
       "      <td>500.0</td>\n",
       "      <td>Credit Card</td>\n",
       "      <td>8829</td>\n",
       "      <td>3/2/2021 22:12</td>\n",
       "      <td>general_donation</td>\n",
       "      <td>NaN</td>\n",
       "      <td>Orangeville</td>\n",
       "      <td>ON</td>\n",
       "      <td>L9W</td>\n",
       "      <td>Canada</td>\n",
       "      <td>CA</td>\n",
       "      <td>True</td>\n",
       "      <td>True</td>\n",
       "      <td>NaN</td>\n",
       "      <td>donor</td>\n",
       "    </tr>\n",
       "  </tbody>\n",
       "</table>\n",
       "<p>61 rows × 16 columns</p>\n",
       "</div>"
      ],
      "text/plain": [
       "                      type  ...  signup_tag_list\n",
       "nationbuilder_id            ...                 \n",
       "119               Donation  ...            donor\n",
       "1432              Donation  ...            donor\n",
       "358               Donation  ...            donor\n",
       "283               Donation  ...            donor\n",
       "333               Donation  ...            donor\n",
       "...                    ...  ...              ...\n",
       "1172              Donation  ...            donor\n",
       "1192              Donation  ...            donor\n",
       "1191              Donation  ...            donor\n",
       "1516              Donation  ...            donor\n",
       "1529              Donation  ...            donor\n",
       "\n",
       "[61 rows x 16 columns]"
      ]
     },
     "execution_count": 27,
     "metadata": {},
     "output_type": "execute_result"
    }
   ],
   "source": [
    "# However, we found out that there are some non-recurring donors who donated more than once.\n",
    "DonorId = dfOne.donor_id.value_counts()\n",
    "dfNonRec = dfOne[dfOne.donor_id.isin(DonorId.index[DonorId.gt(1)])]\n",
    "dfNotRec = dfNonRec.sort_values(by=\"donor_id\")\n",
    "dfNotRec"
   ]
  },
  {
   "cell_type": "code",
   "execution_count": 28,
   "metadata": {
    "colab": {
     "base_uri": "https://localhost:8080/"
    },
    "id": "29C7shEinKSu",
    "outputId": "e783fabf-0279-4209-f2e8-135367138cd3"
   },
   "outputs": [
    {
     "name": "stdout",
     "output_type": "stream",
     "text": [
      "Total number of non-recurring donors who donated more than once:  24\n"
     ]
    }
   ],
   "source": [
    "dfOneNotNoDup = dfNotRec.drop_duplicates(subset=['donor_id'], keep='first')\n",
    "print(\"Total number of non-recurring donors who donated more than once: \", dfOneNotNoDup.shape[0])"
   ]
  },
  {
   "cell_type": "code",
   "execution_count": 29,
   "metadata": {
    "colab": {
     "base_uri": "https://localhost:8080/",
     "height": 340
    },
    "id": "LqPVi4W2c5cf",
    "outputId": "86502bb4-2f23-4d5b-dc16-2d68eaab906c"
   },
   "outputs": [
    {
     "data": {
      "text/html": [
       "<div>\n",
       "<style scoped>\n",
       "    .dataframe tbody tr th:only-of-type {\n",
       "        vertical-align: middle;\n",
       "    }\n",
       "\n",
       "    .dataframe tbody tr th {\n",
       "        vertical-align: top;\n",
       "    }\n",
       "\n",
       "    .dataframe thead th {\n",
       "        text-align: right;\n",
       "    }\n",
       "</style>\n",
       "<table border=\"1\" class=\"dataframe\">\n",
       "  <thead>\n",
       "    <tr style=\"text-align: right;\">\n",
       "      <th></th>\n",
       "      <th>type</th>\n",
       "      <th>amount</th>\n",
       "      <th>payment_type_name</th>\n",
       "      <th>donor_id</th>\n",
       "      <th>donation_date</th>\n",
       "      <th>donation_type</th>\n",
       "      <th>recurring_donation_status</th>\n",
       "      <th>billing_city</th>\n",
       "      <th>billing_state</th>\n",
       "      <th>billing_FSA</th>\n",
       "      <th>billing_country</th>\n",
       "      <th>billing_country_code</th>\n",
       "      <th>signup_email_opt_in</th>\n",
       "      <th>signup_mobile_opt_in</th>\n",
       "      <th>signup_point_person_name_or_email</th>\n",
       "      <th>signup_tag_list</th>\n",
       "    </tr>\n",
       "    <tr>\n",
       "      <th>nationbuilder_id</th>\n",
       "      <th></th>\n",
       "      <th></th>\n",
       "      <th></th>\n",
       "      <th></th>\n",
       "      <th></th>\n",
       "      <th></th>\n",
       "      <th></th>\n",
       "      <th></th>\n",
       "      <th></th>\n",
       "      <th></th>\n",
       "      <th></th>\n",
       "      <th></th>\n",
       "      <th></th>\n",
       "      <th></th>\n",
       "      <th></th>\n",
       "      <th></th>\n",
       "    </tr>\n",
       "  </thead>\n",
       "  <tbody>\n",
       "    <tr>\n",
       "      <th>1</th>\n",
       "      <td>Donation</td>\n",
       "      <td>125.0</td>\n",
       "      <td>Credit Card</td>\n",
       "      <td>541</td>\n",
       "      <td>1/8/2020 12:41</td>\n",
       "      <td>NaN</td>\n",
       "      <td>NaN</td>\n",
       "      <td>Markham</td>\n",
       "      <td>Ontario</td>\n",
       "      <td>L3P</td>\n",
       "      <td>Canada</td>\n",
       "      <td>CA</td>\n",
       "      <td>True</td>\n",
       "      <td>True</td>\n",
       "      <td>Chris Thompson</td>\n",
       "      <td>Black Fund Signatory,defundpolicesurvey,Genera...</td>\n",
       "    </tr>\n",
       "    <tr>\n",
       "      <th>10</th>\n",
       "      <td>Donation</td>\n",
       "      <td>25.0</td>\n",
       "      <td>Credit Card</td>\n",
       "      <td>5509</td>\n",
       "      <td>5/11/2020 22:10</td>\n",
       "      <td>annual_membership_fee</td>\n",
       "      <td>NaN</td>\n",
       "      <td>St-Hubert</td>\n",
       "      <td>Quebec</td>\n",
       "      <td>J4T</td>\n",
       "      <td>Canada</td>\n",
       "      <td>CA</td>\n",
       "      <td>True</td>\n",
       "      <td>True</td>\n",
       "      <td>NaN</td>\n",
       "      <td>FR,General Member,newsletter,Ontario,Paid Memb...</td>\n",
       "    </tr>\n",
       "    <tr>\n",
       "      <th>100</th>\n",
       "      <td>Donation</td>\n",
       "      <td>15.0</td>\n",
       "      <td>Credit Card</td>\n",
       "      <td>6039</td>\n",
       "      <td>6/1/2020 16:53</td>\n",
       "      <td>general_donation</td>\n",
       "      <td>NaN</td>\n",
       "      <td>Ottawa</td>\n",
       "      <td>Ontario</td>\n",
       "      <td>K1G</td>\n",
       "      <td>Canada</td>\n",
       "      <td>CA</td>\n",
       "      <td>NaN</td>\n",
       "      <td>True</td>\n",
       "      <td>Chris Thompson</td>\n",
       "      <td>donor</td>\n",
       "    </tr>\n",
       "    <tr>\n",
       "      <th>1000</th>\n",
       "      <td>Donation</td>\n",
       "      <td>15.0</td>\n",
       "      <td>Credit Card</td>\n",
       "      <td>7233</td>\n",
       "      <td>6/11/2020 17:30</td>\n",
       "      <td>general_donation</td>\n",
       "      <td>NaN</td>\n",
       "      <td>Orillia</td>\n",
       "      <td>ON</td>\n",
       "      <td>L3V</td>\n",
       "      <td>Canada</td>\n",
       "      <td>CA</td>\n",
       "      <td>NaN</td>\n",
       "      <td>True</td>\n",
       "      <td>NaN</td>\n",
       "      <td>donor,Elder Prospects,General Member,Non - bla...</td>\n",
       "    </tr>\n",
       "    <tr>\n",
       "      <th>1001</th>\n",
       "      <td>Donation</td>\n",
       "      <td>100.0</td>\n",
       "      <td>Credit Card</td>\n",
       "      <td>7234</td>\n",
       "      <td>6/11/2020 17:38</td>\n",
       "      <td>general_donation</td>\n",
       "      <td>NaN</td>\n",
       "      <td>Mississauga</td>\n",
       "      <td>Ontario</td>\n",
       "      <td>L5G</td>\n",
       "      <td>Canada</td>\n",
       "      <td>CA</td>\n",
       "      <td>True</td>\n",
       "      <td>True</td>\n",
       "      <td>NaN</td>\n",
       "      <td>donor</td>\n",
       "    </tr>\n",
       "  </tbody>\n",
       "</table>\n",
       "</div>"
      ],
      "text/plain": [
       "                      type  ...                                    signup_tag_list\n",
       "nationbuilder_id            ...                                                   \n",
       "1                 Donation  ...  Black Fund Signatory,defundpolicesurvey,Genera...\n",
       "10                Donation  ...  FR,General Member,newsletter,Ontario,Paid Memb...\n",
       "100               Donation  ...                                              donor\n",
       "1000              Donation  ...  donor,Elder Prospects,General Member,Non - bla...\n",
       "1001              Donation  ...                                              donor\n",
       "\n",
       "[5 rows x 16 columns]"
      ]
     },
     "execution_count": 29,
     "metadata": {},
     "output_type": "execute_result"
    }
   ],
   "source": [
    "# Creating a dataset without duplicated donor ids.\n",
    "dfDonationsNoDup = dfDonations.drop_duplicates(subset=['donor_id'], keep='first')\n",
    "dfDonationsNoDup.head(5)"
   ]
  },
  {
   "cell_type": "code",
   "execution_count": 30,
   "metadata": {
    "colab": {
     "base_uri": "https://localhost:8080/"
    },
    "id": "5e-cbYnH3q_u",
    "outputId": "e279246f-88f9-4671-e8dc-0595c9d6d94c"
   },
   "outputs": [
    {
     "data": {
      "text/plain": [
       "array(['Ontario', 'Quebec', 'ON', 'BC', 'QC', 'Qc', 'Alberta',\n",
       "       'Quebec, Canada', 'Quebec ', 'NS', 'Qu', 'Québec', nan,\n",
       "       'British Columbia', 'British Colombia', 'Bc', 'OR', 'Ontario ',\n",
       "       'Ab', 'AB', 'YT', 'MB', 'NS ', 'QUEBEC', 'sk', 'NL', 'QC - Quebec',\n",
       "       'Saskatchewan', 'On', 'FL', 'NB', 'Ab ', 'Nova Scotia ',\n",
       "       'British Columbia ', 'Newfoundland and Labrador', 'MA', 'qc',\n",
       "       'CA-Quebec', 'bc', 'Aylmer', 'GA', 'CA', 'WA', 'MN', 'Nova Scotia',\n",
       "       'Ont', 'New Brunswick', 'Newfoundland', 'Province', 'Québec ',\n",
       "       'Canada', 'Manitoba', 'V7P2H5', 'NY', 'SK', 'Alberta ',\n",
       "       'ON - Ontario', 'RI', 'ontario', 'ONTARIO', 'Saskatchewan ',\n",
       "       'alberta', 'QC ', 'AB - Alberta', 'AB ', 'Western Australia',\n",
       "       'BC ', 'Vancouver', 'CA|-_-|QC', 'PE', 'CA-AB',\n",
       "       'BC - British Columbia', 'on', 'quebec', 'B.C.', 'Sk ', 'ONT',\n",
       "       'KY', 'British columbia', 'Newfoundland &amp; Labrador', 'Sk'],\n",
       "      dtype=object)"
      ]
     },
     "execution_count": 30,
     "metadata": {},
     "output_type": "execute_result"
    }
   ],
   "source": [
    "dfDonationsNoDup['billing_state'].unique()"
   ]
  },
  {
   "cell_type": "code",
   "execution_count": 31,
   "metadata": {
    "colab": {
     "base_uri": "https://localhost:8080/",
     "height": 235
    },
    "id": "SybeDjyPfPWl",
    "outputId": "5c406bce-1696-4705-bf8e-51e7df2da484"
   },
   "outputs": [
    {
     "data": {
      "text/html": [
       "<div>\n",
       "<style scoped>\n",
       "    .dataframe tbody tr th:only-of-type {\n",
       "        vertical-align: middle;\n",
       "    }\n",
       "\n",
       "    .dataframe tbody tr th {\n",
       "        vertical-align: top;\n",
       "    }\n",
       "\n",
       "    .dataframe thead th {\n",
       "        text-align: right;\n",
       "    }\n",
       "</style>\n",
       "<table border=\"1\" class=\"dataframe\">\n",
       "  <thead>\n",
       "    <tr style=\"text-align: right;\">\n",
       "      <th></th>\n",
       "      <th>type</th>\n",
       "      <th>amount</th>\n",
       "      <th>payment_type_name</th>\n",
       "      <th>donor_id</th>\n",
       "      <th>donation_date</th>\n",
       "      <th>donation_type</th>\n",
       "      <th>recurring_donation_status</th>\n",
       "      <th>billing_city</th>\n",
       "      <th>billing_state</th>\n",
       "      <th>billing_FSA</th>\n",
       "      <th>billing_country</th>\n",
       "      <th>billing_country_code</th>\n",
       "      <th>signup_email_opt_in</th>\n",
       "      <th>signup_mobile_opt_in</th>\n",
       "      <th>signup_point_person_name_or_email</th>\n",
       "      <th>signup_tag_list</th>\n",
       "    </tr>\n",
       "    <tr>\n",
       "      <th>nationbuilder_id</th>\n",
       "      <th></th>\n",
       "      <th></th>\n",
       "      <th></th>\n",
       "      <th></th>\n",
       "      <th></th>\n",
       "      <th></th>\n",
       "      <th></th>\n",
       "      <th></th>\n",
       "      <th></th>\n",
       "      <th></th>\n",
       "      <th></th>\n",
       "      <th></th>\n",
       "      <th></th>\n",
       "      <th></th>\n",
       "      <th></th>\n",
       "      <th></th>\n",
       "    </tr>\n",
       "  </thead>\n",
       "  <tbody>\n",
       "    <tr>\n",
       "      <th>1006</th>\n",
       "      <td>Donation</td>\n",
       "      <td>25.0</td>\n",
       "      <td>Credit Card</td>\n",
       "      <td>5711</td>\n",
       "      <td>6/12/2020 2:48</td>\n",
       "      <td>annual_membership_fee</td>\n",
       "      <td>canceled</td>\n",
       "      <td>Laval</td>\n",
       "      <td>QC</td>\n",
       "      <td>H7G</td>\n",
       "      <td>Canada</td>\n",
       "      <td>CA</td>\n",
       "      <td>True</td>\n",
       "      <td>True</td>\n",
       "      <td>NaN</td>\n",
       "      <td>General Member</td>\n",
       "    </tr>\n",
       "    <tr>\n",
       "      <th>1015</th>\n",
       "      <td>Donation</td>\n",
       "      <td>5.0</td>\n",
       "      <td>Credit Card</td>\n",
       "      <td>7252</td>\n",
       "      <td>6/12/2020 14:17</td>\n",
       "      <td>general_donation</td>\n",
       "      <td>canceled</td>\n",
       "      <td>Mississauga</td>\n",
       "      <td>Ontario</td>\n",
       "      <td>L5H</td>\n",
       "      <td>Canada</td>\n",
       "      <td>CA</td>\n",
       "      <td>NaN</td>\n",
       "      <td>True</td>\n",
       "      <td>NaN</td>\n",
       "      <td>donor</td>\n",
       "    </tr>\n",
       "    <tr>\n",
       "      <th>1016</th>\n",
       "      <td>Donation</td>\n",
       "      <td>10.0</td>\n",
       "      <td>Credit Card</td>\n",
       "      <td>7253</td>\n",
       "      <td>6/12/2020 14:30</td>\n",
       "      <td>general_donation</td>\n",
       "      <td>active</td>\n",
       "      <td>Hubbards</td>\n",
       "      <td>NS</td>\n",
       "      <td>B0J</td>\n",
       "      <td>Canada</td>\n",
       "      <td>CA</td>\n",
       "      <td>True</td>\n",
       "      <td>True</td>\n",
       "      <td>NaN</td>\n",
       "      <td>donor</td>\n",
       "    </tr>\n",
       "    <tr>\n",
       "      <th>1031</th>\n",
       "      <td>Donation</td>\n",
       "      <td>10.0</td>\n",
       "      <td>Credit Card</td>\n",
       "      <td>7278</td>\n",
       "      <td>6/13/2020 16:21</td>\n",
       "      <td>general_donation</td>\n",
       "      <td>canceled</td>\n",
       "      <td>Toronto</td>\n",
       "      <td>ON</td>\n",
       "      <td>M6H</td>\n",
       "      <td>Canada</td>\n",
       "      <td>CA</td>\n",
       "      <td>NaN</td>\n",
       "      <td>True</td>\n",
       "      <td>NaN</td>\n",
       "      <td>donor</td>\n",
       "    </tr>\n",
       "    <tr>\n",
       "      <th>1034</th>\n",
       "      <td>Donation</td>\n",
       "      <td>100.0</td>\n",
       "      <td>Credit Card</td>\n",
       "      <td>7282</td>\n",
       "      <td>6/13/2020 17:23</td>\n",
       "      <td>general_donation</td>\n",
       "      <td>active</td>\n",
       "      <td>Vancouver</td>\n",
       "      <td>NaN</td>\n",
       "      <td>V6Z</td>\n",
       "      <td>Canada</td>\n",
       "      <td>CA</td>\n",
       "      <td>True</td>\n",
       "      <td>True</td>\n",
       "      <td>NaN</td>\n",
       "      <td>donor</td>\n",
       "    </tr>\n",
       "  </tbody>\n",
       "</table>\n",
       "</div>"
      ],
      "text/plain": [
       "                      type  ...  signup_tag_list\n",
       "nationbuilder_id            ...                 \n",
       "1006              Donation  ...   General Member\n",
       "1015              Donation  ...            donor\n",
       "1016              Donation  ...            donor\n",
       "1031              Donation  ...            donor\n",
       "1034              Donation  ...            donor\n",
       "\n",
       "[5 rows x 16 columns]"
      ]
     },
     "execution_count": 31,
     "metadata": {},
     "output_type": "execute_result"
    }
   ],
   "source": [
    "dfRecNoDup = dfDonationsNoDup[dfDonationsNoDup[\"recurring_donation_status\"].notnull()]\n",
    "dfRecNoDup.head(5)"
   ]
  },
  {
   "cell_type": "code",
   "execution_count": 32,
   "metadata": {
    "colab": {
     "base_uri": "https://localhost:8080/",
     "height": 340
    },
    "id": "JSLq6VMNfCxk",
    "outputId": "d068ee0b-c5a4-47e5-c96b-dbd72583fcbd"
   },
   "outputs": [
    {
     "data": {
      "text/html": [
       "<div>\n",
       "<style scoped>\n",
       "    .dataframe tbody tr th:only-of-type {\n",
       "        vertical-align: middle;\n",
       "    }\n",
       "\n",
       "    .dataframe tbody tr th {\n",
       "        vertical-align: top;\n",
       "    }\n",
       "\n",
       "    .dataframe thead th {\n",
       "        text-align: right;\n",
       "    }\n",
       "</style>\n",
       "<table border=\"1\" class=\"dataframe\">\n",
       "  <thead>\n",
       "    <tr style=\"text-align: right;\">\n",
       "      <th></th>\n",
       "      <th>type</th>\n",
       "      <th>amount</th>\n",
       "      <th>payment_type_name</th>\n",
       "      <th>donor_id</th>\n",
       "      <th>donation_date</th>\n",
       "      <th>donation_type</th>\n",
       "      <th>recurring_donation_status</th>\n",
       "      <th>billing_city</th>\n",
       "      <th>billing_state</th>\n",
       "      <th>billing_FSA</th>\n",
       "      <th>billing_country</th>\n",
       "      <th>billing_country_code</th>\n",
       "      <th>signup_email_opt_in</th>\n",
       "      <th>signup_mobile_opt_in</th>\n",
       "      <th>signup_point_person_name_or_email</th>\n",
       "      <th>signup_tag_list</th>\n",
       "    </tr>\n",
       "    <tr>\n",
       "      <th>nationbuilder_id</th>\n",
       "      <th></th>\n",
       "      <th></th>\n",
       "      <th></th>\n",
       "      <th></th>\n",
       "      <th></th>\n",
       "      <th></th>\n",
       "      <th></th>\n",
       "      <th></th>\n",
       "      <th></th>\n",
       "      <th></th>\n",
       "      <th></th>\n",
       "      <th></th>\n",
       "      <th></th>\n",
       "      <th></th>\n",
       "      <th></th>\n",
       "      <th></th>\n",
       "    </tr>\n",
       "  </thead>\n",
       "  <tbody>\n",
       "    <tr>\n",
       "      <th>1</th>\n",
       "      <td>Donation</td>\n",
       "      <td>125.0</td>\n",
       "      <td>Credit Card</td>\n",
       "      <td>541</td>\n",
       "      <td>1/8/2020 12:41</td>\n",
       "      <td>NaN</td>\n",
       "      <td>NaN</td>\n",
       "      <td>Markham</td>\n",
       "      <td>Ontario</td>\n",
       "      <td>L3P</td>\n",
       "      <td>Canada</td>\n",
       "      <td>CA</td>\n",
       "      <td>True</td>\n",
       "      <td>True</td>\n",
       "      <td>Chris Thompson</td>\n",
       "      <td>Black Fund Signatory,defundpolicesurvey,Genera...</td>\n",
       "    </tr>\n",
       "    <tr>\n",
       "      <th>10</th>\n",
       "      <td>Donation</td>\n",
       "      <td>25.0</td>\n",
       "      <td>Credit Card</td>\n",
       "      <td>5509</td>\n",
       "      <td>5/11/2020 22:10</td>\n",
       "      <td>annual_membership_fee</td>\n",
       "      <td>NaN</td>\n",
       "      <td>St-Hubert</td>\n",
       "      <td>Quebec</td>\n",
       "      <td>J4T</td>\n",
       "      <td>Canada</td>\n",
       "      <td>CA</td>\n",
       "      <td>True</td>\n",
       "      <td>True</td>\n",
       "      <td>NaN</td>\n",
       "      <td>FR,General Member,newsletter,Ontario,Paid Memb...</td>\n",
       "    </tr>\n",
       "    <tr>\n",
       "      <th>100</th>\n",
       "      <td>Donation</td>\n",
       "      <td>15.0</td>\n",
       "      <td>Credit Card</td>\n",
       "      <td>6039</td>\n",
       "      <td>6/1/2020 16:53</td>\n",
       "      <td>general_donation</td>\n",
       "      <td>NaN</td>\n",
       "      <td>Ottawa</td>\n",
       "      <td>Ontario</td>\n",
       "      <td>K1G</td>\n",
       "      <td>Canada</td>\n",
       "      <td>CA</td>\n",
       "      <td>NaN</td>\n",
       "      <td>True</td>\n",
       "      <td>Chris Thompson</td>\n",
       "      <td>donor</td>\n",
       "    </tr>\n",
       "    <tr>\n",
       "      <th>1000</th>\n",
       "      <td>Donation</td>\n",
       "      <td>15.0</td>\n",
       "      <td>Credit Card</td>\n",
       "      <td>7233</td>\n",
       "      <td>6/11/2020 17:30</td>\n",
       "      <td>general_donation</td>\n",
       "      <td>NaN</td>\n",
       "      <td>Orillia</td>\n",
       "      <td>ON</td>\n",
       "      <td>L3V</td>\n",
       "      <td>Canada</td>\n",
       "      <td>CA</td>\n",
       "      <td>NaN</td>\n",
       "      <td>True</td>\n",
       "      <td>NaN</td>\n",
       "      <td>donor,Elder Prospects,General Member,Non - bla...</td>\n",
       "    </tr>\n",
       "    <tr>\n",
       "      <th>1001</th>\n",
       "      <td>Donation</td>\n",
       "      <td>100.0</td>\n",
       "      <td>Credit Card</td>\n",
       "      <td>7234</td>\n",
       "      <td>6/11/2020 17:38</td>\n",
       "      <td>general_donation</td>\n",
       "      <td>NaN</td>\n",
       "      <td>Mississauga</td>\n",
       "      <td>Ontario</td>\n",
       "      <td>L5G</td>\n",
       "      <td>Canada</td>\n",
       "      <td>CA</td>\n",
       "      <td>True</td>\n",
       "      <td>True</td>\n",
       "      <td>NaN</td>\n",
       "      <td>donor</td>\n",
       "    </tr>\n",
       "  </tbody>\n",
       "</table>\n",
       "</div>"
      ],
      "text/plain": [
       "                      type  ...                                    signup_tag_list\n",
       "nationbuilder_id            ...                                                   \n",
       "1                 Donation  ...  Black Fund Signatory,defundpolicesurvey,Genera...\n",
       "10                Donation  ...  FR,General Member,newsletter,Ontario,Paid Memb...\n",
       "100               Donation  ...                                              donor\n",
       "1000              Donation  ...  donor,Elder Prospects,General Member,Non - bla...\n",
       "1001              Donation  ...                                              donor\n",
       "\n",
       "[5 rows x 16 columns]"
      ]
     },
     "execution_count": 32,
     "metadata": {},
     "output_type": "execute_result"
    }
   ],
   "source": [
    "dfOneNoDup = dfDonationsNoDup[dfDonationsNoDup[\"recurring_donation_status\"].isnull()]\n",
    "dfOneNoDup.head(5)"
   ]
  },
  {
   "cell_type": "code",
   "execution_count": 33,
   "metadata": {
    "colab": {
     "base_uri": "https://localhost:8080/"
    },
    "id": "bNwAhrJ8fAY0",
    "outputId": "2f20a864-46b6-457c-f378-bf0c4bb848f2"
   },
   "outputs": [
    {
     "name": "stdout",
     "output_type": "stream",
     "text": [
      "Total number of donors:  1180\n",
      "Total number of recurring donors:  40\n",
      "Total number of one-time donors:  1140\n"
     ]
    }
   ],
   "source": [
    "print(\"Total number of donors: \", dfDonationsNoDup.shape[0])\n",
    "print(\"Total number of recurring donors: \", dfRecNoDup.shape[0])\n",
    "print(\"Total number of one-time donors: \", dfOneNoDup.shape[0])"
   ]
  },
  {
   "cell_type": "code",
   "execution_count": 34,
   "metadata": {
    "colab": {
     "base_uri": "https://localhost:8080/",
     "height": 450
    },
    "id": "Wf9XpEU7LyLx",
    "outputId": "a3e8fa43-090d-4fed-ad9b-adbb74a2ab2f"
   },
   "outputs": [
    {
     "data": {
      "text/html": [
       "<div>\n",
       "<style scoped>\n",
       "    .dataframe tbody tr th:only-of-type {\n",
       "        vertical-align: middle;\n",
       "    }\n",
       "\n",
       "    .dataframe tbody tr th {\n",
       "        vertical-align: top;\n",
       "    }\n",
       "\n",
       "    .dataframe thead th {\n",
       "        text-align: right;\n",
       "    }\n",
       "</style>\n",
       "<table border=\"1\" class=\"dataframe\">\n",
       "  <thead>\n",
       "    <tr style=\"text-align: right;\">\n",
       "      <th></th>\n",
       "      <th>type</th>\n",
       "      <th>amount</th>\n",
       "      <th>payment_type_name</th>\n",
       "      <th>donation_date</th>\n",
       "      <th>donation_type</th>\n",
       "      <th>recurring_donation_status</th>\n",
       "      <th>billing_city</th>\n",
       "      <th>billing_state</th>\n",
       "      <th>billing_FSA</th>\n",
       "      <th>billing_country</th>\n",
       "      <th>billing_country_code</th>\n",
       "      <th>signup_email_opt_in</th>\n",
       "      <th>signup_mobile_opt_in</th>\n",
       "      <th>signup_point_person_name_or_email</th>\n",
       "      <th>signup_tag_list</th>\n",
       "    </tr>\n",
       "    <tr>\n",
       "      <th>donor_id</th>\n",
       "      <th></th>\n",
       "      <th></th>\n",
       "      <th></th>\n",
       "      <th></th>\n",
       "      <th></th>\n",
       "      <th></th>\n",
       "      <th></th>\n",
       "      <th></th>\n",
       "      <th></th>\n",
       "      <th></th>\n",
       "      <th></th>\n",
       "      <th></th>\n",
       "      <th></th>\n",
       "      <th></th>\n",
       "      <th></th>\n",
       "    </tr>\n",
       "  </thead>\n",
       "  <tbody>\n",
       "    <tr>\n",
       "      <th>5806</th>\n",
       "      <td>15</td>\n",
       "      <td>15</td>\n",
       "      <td>15</td>\n",
       "      <td>15</td>\n",
       "      <td>15</td>\n",
       "      <td>14</td>\n",
       "      <td>15</td>\n",
       "      <td>15</td>\n",
       "      <td>15</td>\n",
       "      <td>15</td>\n",
       "      <td>15</td>\n",
       "      <td>15</td>\n",
       "      <td>15</td>\n",
       "      <td>15</td>\n",
       "      <td>15</td>\n",
       "    </tr>\n",
       "    <tr>\n",
       "      <th>6641</th>\n",
       "      <td>15</td>\n",
       "      <td>15</td>\n",
       "      <td>15</td>\n",
       "      <td>15</td>\n",
       "      <td>15</td>\n",
       "      <td>14</td>\n",
       "      <td>15</td>\n",
       "      <td>15</td>\n",
       "      <td>15</td>\n",
       "      <td>15</td>\n",
       "      <td>15</td>\n",
       "      <td>0</td>\n",
       "      <td>15</td>\n",
       "      <td>0</td>\n",
       "      <td>15</td>\n",
       "    </tr>\n",
       "    <tr>\n",
       "      <th>5710</th>\n",
       "      <td>15</td>\n",
       "      <td>15</td>\n",
       "      <td>15</td>\n",
       "      <td>15</td>\n",
       "      <td>15</td>\n",
       "      <td>14</td>\n",
       "      <td>15</td>\n",
       "      <td>15</td>\n",
       "      <td>15</td>\n",
       "      <td>15</td>\n",
       "      <td>15</td>\n",
       "      <td>15</td>\n",
       "      <td>15</td>\n",
       "      <td>0</td>\n",
       "      <td>15</td>\n",
       "    </tr>\n",
       "    <tr>\n",
       "      <th>6137</th>\n",
       "      <td>14</td>\n",
       "      <td>14</td>\n",
       "      <td>14</td>\n",
       "      <td>14</td>\n",
       "      <td>14</td>\n",
       "      <td>14</td>\n",
       "      <td>14</td>\n",
       "      <td>14</td>\n",
       "      <td>14</td>\n",
       "      <td>14</td>\n",
       "      <td>14</td>\n",
       "      <td>14</td>\n",
       "      <td>14</td>\n",
       "      <td>0</td>\n",
       "      <td>14</td>\n",
       "    </tr>\n",
       "    <tr>\n",
       "      <th>6942</th>\n",
       "      <td>14</td>\n",
       "      <td>14</td>\n",
       "      <td>14</td>\n",
       "      <td>14</td>\n",
       "      <td>14</td>\n",
       "      <td>14</td>\n",
       "      <td>14</td>\n",
       "      <td>14</td>\n",
       "      <td>14</td>\n",
       "      <td>14</td>\n",
       "      <td>14</td>\n",
       "      <td>14</td>\n",
       "      <td>14</td>\n",
       "      <td>14</td>\n",
       "      <td>14</td>\n",
       "    </tr>\n",
       "    <tr>\n",
       "      <th>...</th>\n",
       "      <td>...</td>\n",
       "      <td>...</td>\n",
       "      <td>...</td>\n",
       "      <td>...</td>\n",
       "      <td>...</td>\n",
       "      <td>...</td>\n",
       "      <td>...</td>\n",
       "      <td>...</td>\n",
       "      <td>...</td>\n",
       "      <td>...</td>\n",
       "      <td>...</td>\n",
       "      <td>...</td>\n",
       "      <td>...</td>\n",
       "      <td>...</td>\n",
       "      <td>...</td>\n",
       "    </tr>\n",
       "    <tr>\n",
       "      <th>6436</th>\n",
       "      <td>1</td>\n",
       "      <td>1</td>\n",
       "      <td>1</td>\n",
       "      <td>1</td>\n",
       "      <td>1</td>\n",
       "      <td>0</td>\n",
       "      <td>1</td>\n",
       "      <td>1</td>\n",
       "      <td>1</td>\n",
       "      <td>1</td>\n",
       "      <td>1</td>\n",
       "      <td>0</td>\n",
       "      <td>1</td>\n",
       "      <td>1</td>\n",
       "      <td>1</td>\n",
       "    </tr>\n",
       "    <tr>\n",
       "      <th>6435</th>\n",
       "      <td>1</td>\n",
       "      <td>1</td>\n",
       "      <td>1</td>\n",
       "      <td>1</td>\n",
       "      <td>1</td>\n",
       "      <td>0</td>\n",
       "      <td>1</td>\n",
       "      <td>1</td>\n",
       "      <td>1</td>\n",
       "      <td>1</td>\n",
       "      <td>1</td>\n",
       "      <td>0</td>\n",
       "      <td>1</td>\n",
       "      <td>1</td>\n",
       "      <td>1</td>\n",
       "    </tr>\n",
       "    <tr>\n",
       "      <th>6434</th>\n",
       "      <td>1</td>\n",
       "      <td>1</td>\n",
       "      <td>1</td>\n",
       "      <td>1</td>\n",
       "      <td>1</td>\n",
       "      <td>0</td>\n",
       "      <td>1</td>\n",
       "      <td>1</td>\n",
       "      <td>1</td>\n",
       "      <td>1</td>\n",
       "      <td>1</td>\n",
       "      <td>1</td>\n",
       "      <td>1</td>\n",
       "      <td>1</td>\n",
       "      <td>1</td>\n",
       "    </tr>\n",
       "    <tr>\n",
       "      <th>6433</th>\n",
       "      <td>1</td>\n",
       "      <td>1</td>\n",
       "      <td>1</td>\n",
       "      <td>1</td>\n",
       "      <td>1</td>\n",
       "      <td>0</td>\n",
       "      <td>1</td>\n",
       "      <td>1</td>\n",
       "      <td>1</td>\n",
       "      <td>1</td>\n",
       "      <td>1</td>\n",
       "      <td>0</td>\n",
       "      <td>1</td>\n",
       "      <td>1</td>\n",
       "      <td>1</td>\n",
       "    </tr>\n",
       "    <tr>\n",
       "      <th>9537</th>\n",
       "      <td>1</td>\n",
       "      <td>1</td>\n",
       "      <td>1</td>\n",
       "      <td>1</td>\n",
       "      <td>1</td>\n",
       "      <td>0</td>\n",
       "      <td>1</td>\n",
       "      <td>1</td>\n",
       "      <td>1</td>\n",
       "      <td>1</td>\n",
       "      <td>1</td>\n",
       "      <td>1</td>\n",
       "      <td>1</td>\n",
       "      <td>0</td>\n",
       "      <td>1</td>\n",
       "    </tr>\n",
       "  </tbody>\n",
       "</table>\n",
       "<p>1180 rows × 15 columns</p>\n",
       "</div>"
      ],
      "text/plain": [
       "          type  amount  ...  signup_point_person_name_or_email  signup_tag_list\n",
       "donor_id                ...                                                    \n",
       "5806        15      15  ...                                 15               15\n",
       "6641        15      15  ...                                  0               15\n",
       "5710        15      15  ...                                  0               15\n",
       "6137        14      14  ...                                  0               14\n",
       "6942        14      14  ...                                 14               14\n",
       "...        ...     ...  ...                                ...              ...\n",
       "6436         1       1  ...                                  1                1\n",
       "6435         1       1  ...                                  1                1\n",
       "6434         1       1  ...                                  1                1\n",
       "6433         1       1  ...                                  1                1\n",
       "9537         1       1  ...                                  0                1\n",
       "\n",
       "[1180 rows x 15 columns]"
      ]
     },
     "execution_count": 34,
     "metadata": {},
     "output_type": "execute_result"
    }
   ],
   "source": [
    "GroupId = dfDonations.groupby(\"donor_id\")\n",
    "DonorId = GroupId.count()\n",
    "DonorId.sort_values(by=\"type\", ascending=False)"
   ]
  },
  {
   "cell_type": "code",
   "execution_count": 35,
   "metadata": {
    "colab": {
     "base_uri": "https://localhost:8080/",
     "height": 272
    },
    "id": "KjihGmA0M1uw",
    "outputId": "8eceb92b-eec6-4a55-fcfc-626a55a35cec"
   },
   "outputs": [
    {
     "data": {
      "text/html": [
       "<div>\n",
       "<style scoped>\n",
       "    .dataframe tbody tr th:only-of-type {\n",
       "        vertical-align: middle;\n",
       "    }\n",
       "\n",
       "    .dataframe tbody tr th {\n",
       "        vertical-align: top;\n",
       "    }\n",
       "\n",
       "    .dataframe thead th {\n",
       "        text-align: right;\n",
       "    }\n",
       "</style>\n",
       "<table border=\"1\" class=\"dataframe\">\n",
       "  <thead>\n",
       "    <tr style=\"text-align: right;\">\n",
       "      <th></th>\n",
       "      <th>type_x</th>\n",
       "      <th>amount</th>\n",
       "      <th>payment_type_name</th>\n",
       "      <th>donor_id</th>\n",
       "      <th>donation_date</th>\n",
       "      <th>donation_type</th>\n",
       "      <th>recurring_donation_status</th>\n",
       "      <th>billing_city</th>\n",
       "      <th>billing_state</th>\n",
       "      <th>billing_FSA</th>\n",
       "      <th>billing_country</th>\n",
       "      <th>billing_country_code</th>\n",
       "      <th>signup_email_opt_in</th>\n",
       "      <th>signup_mobile_opt_in</th>\n",
       "      <th>signup_point_person_name_or_email</th>\n",
       "      <th>signup_tag_list</th>\n",
       "      <th>type_y</th>\n",
       "    </tr>\n",
       "  </thead>\n",
       "  <tbody>\n",
       "    <tr>\n",
       "      <th>430</th>\n",
       "      <td>Donation</td>\n",
       "      <td>25.0</td>\n",
       "      <td>Credit Card</td>\n",
       "      <td>5806</td>\n",
       "      <td>1/2/2021 14:07</td>\n",
       "      <td>general_donation</td>\n",
       "      <td>active</td>\n",
       "      <td>Ottawa</td>\n",
       "      <td>ON</td>\n",
       "      <td>K1K</td>\n",
       "      <td>Canada</td>\n",
       "      <td>CA</td>\n",
       "      <td>True</td>\n",
       "      <td>True</td>\n",
       "      <td>Chris Thompson</td>\n",
       "      <td>donor</td>\n",
       "      <td>15</td>\n",
       "    </tr>\n",
       "    <tr>\n",
       "      <th>95</th>\n",
       "      <td>Donation</td>\n",
       "      <td>25.0</td>\n",
       "      <td>Credit Card</td>\n",
       "      <td>5710</td>\n",
       "      <td>6/14/2020 9:50</td>\n",
       "      <td>general_donation</td>\n",
       "      <td>active</td>\n",
       "      <td>Montreal</td>\n",
       "      <td>QC</td>\n",
       "      <td>H1N</td>\n",
       "      <td>Canada</td>\n",
       "      <td>CA</td>\n",
       "      <td>True</td>\n",
       "      <td>True</td>\n",
       "      <td>NaN</td>\n",
       "      <td>defundpolicesurvey,donor,General Member,Quebec...</td>\n",
       "      <td>15</td>\n",
       "    </tr>\n",
       "    <tr>\n",
       "      <th>105</th>\n",
       "      <td>Donation</td>\n",
       "      <td>25.0</td>\n",
       "      <td>Credit Card</td>\n",
       "      <td>5710</td>\n",
       "      <td>2/14/2021 8:51</td>\n",
       "      <td>general_donation</td>\n",
       "      <td>active</td>\n",
       "      <td>Montreal</td>\n",
       "      <td>QC</td>\n",
       "      <td>H1N</td>\n",
       "      <td>Canada</td>\n",
       "      <td>CA</td>\n",
       "      <td>True</td>\n",
       "      <td>True</td>\n",
       "      <td>NaN</td>\n",
       "      <td>defundpolicesurvey,donor,General Member,Quebec...</td>\n",
       "      <td>15</td>\n",
       "    </tr>\n",
       "    <tr>\n",
       "      <th>104</th>\n",
       "      <td>Donation</td>\n",
       "      <td>25.0</td>\n",
       "      <td>Credit Card</td>\n",
       "      <td>5710</td>\n",
       "      <td>5/14/2020 8:50</td>\n",
       "      <td>general_donation</td>\n",
       "      <td>active</td>\n",
       "      <td>Montreal</td>\n",
       "      <td>QC</td>\n",
       "      <td>H1N</td>\n",
       "      <td>Canada</td>\n",
       "      <td>CA</td>\n",
       "      <td>True</td>\n",
       "      <td>True</td>\n",
       "      <td>NaN</td>\n",
       "      <td>defundpolicesurvey,donor,General Member,Quebec...</td>\n",
       "      <td>15</td>\n",
       "    </tr>\n",
       "    <tr>\n",
       "      <th>103</th>\n",
       "      <td>Donation</td>\n",
       "      <td>25.0</td>\n",
       "      <td>Credit Card</td>\n",
       "      <td>5710</td>\n",
       "      <td>1/14/2021 8:51</td>\n",
       "      <td>general_donation</td>\n",
       "      <td>active</td>\n",
       "      <td>Montreal</td>\n",
       "      <td>QC</td>\n",
       "      <td>H1N</td>\n",
       "      <td>Canada</td>\n",
       "      <td>CA</td>\n",
       "      <td>True</td>\n",
       "      <td>True</td>\n",
       "      <td>NaN</td>\n",
       "      <td>defundpolicesurvey,donor,General Member,Quebec...</td>\n",
       "      <td>15</td>\n",
       "    </tr>\n",
       "  </tbody>\n",
       "</table>\n",
       "</div>"
      ],
      "text/plain": [
       "       type_x  ...  type_y\n",
       "430  Donation  ...      15\n",
       "95   Donation  ...      15\n",
       "105  Donation  ...      15\n",
       "104  Donation  ...      15\n",
       "103  Donation  ...      15\n",
       "\n",
       "[5 rows x 17 columns]"
      ]
     },
     "execution_count": 35,
     "metadata": {},
     "output_type": "execute_result"
    }
   ],
   "source": [
    "dfMerge = pd.merge(dfDonations, DonorId[\"type\"], on='donor_id')\n",
    "dfMerge.sort_values(by=\"type_y\", ascending=False).head(5)"
   ]
  },
  {
   "cell_type": "markdown",
   "metadata": {
    "id": "y4FqfzpU3xLz"
   },
   "source": [
    "### Correlation Interaction & Value"
   ]
  },
  {
   "cell_type": "code",
   "execution_count": 36,
   "metadata": {
    "colab": {
     "base_uri": "https://localhost:8080/",
     "height": 279
    },
    "id": "59s04kaKVpGd",
    "outputId": "5ddbef0f-9c41-46fe-c8ab-fcc175dfdab2"
   },
   "outputs": [
    {
     "data": {
      "image/png": "[encoded data removed]",
      "text/plain": [
       "<Figure size 432x288 with 1 Axes>"
      ]
     },
     "metadata": {
      "needs_background": "light"
     },
     "output_type": "display_data"
    }
   ],
   "source": [
    "plt.scatter(dfMerge[\"amount\"], dfMerge[\"type_y\"], alpha=0.5)\n",
    "plt.xlabel(\"Donation Value\")\n",
    "plt.ylabel(\"Interaction Amount\")\n",
    "plt.show()"
   ]
  },
  {
   "cell_type": "code",
   "execution_count": 37,
   "metadata": {
    "colab": {
     "base_uri": "https://localhost:8080/",
     "height": 295
    },
    "id": "cDyXlnTKVrV7",
    "outputId": "974bf035-b709-4593-f5ea-b3cdb6c9f90d"
   },
   "outputs": [
    {
     "data": {
      "image/png": "[encoded data removed]",
      "text/plain": [
       "<Figure size 432x288 with 1 Axes>"
      ]
     },
     "metadata": {
      "needs_background": "light"
     },
     "output_type": "display_data"
    }
   ],
   "source": [
    "dfMergeOne = dfMerge[dfMerge[\"recurring_donation_status\"].isnull()]\n",
    "plt.scatter(dfMergeOne[\"amount\"], dfMergeOne[\"type_y\"], alpha=0.5)\n",
    "plt.xlabel(\"Donation Value\")\n",
    "plt.ylabel(\"Interaction Amount\")\n",
    "plt.title(\"One Time Donors' Interactions & Donations\")\n",
    "plt.show()"
   ]
  },
  {
   "cell_type": "code",
   "execution_count": 38,
   "metadata": {
    "colab": {
     "base_uri": "https://localhost:8080/",
     "height": 295
    },
    "id": "we5oXRdgVs9N",
    "outputId": "4d7819ee-5cbb-4b68-ba4d-7a98166c5ef8"
   },
   "outputs": [
    {
     "data": {
      "image/png": "[encoded data removed]",
      "text/plain": [
       "<Figure size 432x288 with 1 Axes>"
      ]
     },
     "metadata": {
      "needs_background": "light"
     },
     "output_type": "display_data"
    }
   ],
   "source": [
    "dfMergeRec = dfMerge[dfMerge[\"recurring_donation_status\"].notnull()]\n",
    "plt.scatter(dfMergeRec[\"amount\"], dfMergeRec[\"type_y\"], alpha=0.5)\n",
    "plt.xlabel(\"Donation Value\")\n",
    "plt.ylabel(\"Interaction Amount\")\n",
    "plt.title(\"Recurring Donors' Interactions & Donations\")\n",
    "plt.show()"
   ]
  },
  {
   "cell_type": "code",
   "execution_count": 39,
   "metadata": {
    "colab": {
     "base_uri": "https://localhost:8080/",
     "height": 111
    },
    "id": "KpNPBPvOW3Rz",
    "outputId": "4e3b753a-c6e9-4030-f9cc-c584a361b4c4"
   },
   "outputs": [
    {
     "data": {
      "text/html": [
       "<div>\n",
       "<style scoped>\n",
       "    .dataframe tbody tr th:only-of-type {\n",
       "        vertical-align: middle;\n",
       "    }\n",
       "\n",
       "    .dataframe tbody tr th {\n",
       "        vertical-align: top;\n",
       "    }\n",
       "\n",
       "    .dataframe thead th {\n",
       "        text-align: right;\n",
       "    }\n",
       "</style>\n",
       "<table border=\"1\" class=\"dataframe\">\n",
       "  <thead>\n",
       "    <tr style=\"text-align: right;\">\n",
       "      <th></th>\n",
       "      <th>amount</th>\n",
       "      <th>type_y</th>\n",
       "    </tr>\n",
       "  </thead>\n",
       "  <tbody>\n",
       "    <tr>\n",
       "      <th>amount</th>\n",
       "      <td>1.000000</td>\n",
       "      <td>-0.351083</td>\n",
       "    </tr>\n",
       "    <tr>\n",
       "      <th>type_y</th>\n",
       "      <td>-0.351083</td>\n",
       "      <td>1.000000</td>\n",
       "    </tr>\n",
       "  </tbody>\n",
       "</table>\n",
       "</div>"
      ],
      "text/plain": [
       "          amount    type_y\n",
       "amount  1.000000 -0.351083\n",
       "type_y -0.351083  1.000000"
      ]
     },
     "execution_count": 39,
     "metadata": {},
     "output_type": "execute_result"
    }
   ],
   "source": [
    "dfMerge[[\"amount\",\"type_y\"]].corr(\"kendall\")"
   ]
  },
  {
   "cell_type": "code",
   "execution_count": 40,
   "metadata": {
    "id": "R8oBcrrQXiwu"
   },
   "outputs": [],
   "source": [
    "# The graph and stats suggests that higher interaction might not associate with higher donation values, oppositely, majority of \n",
    "# the higher value donations comes from one-time donors."
   ]
  },
  {
   "cell_type": "markdown",
   "metadata": {
    "id": "ueMiGniiwBwy"
   },
   "source": [
    "## Donation Demographics"
   ]
  },
  {
   "cell_type": "markdown",
   "metadata": {
    "id": "o9kaSXf7yp8g"
   },
   "source": [
    "### Donation Cities"
   ]
  },
  {
   "cell_type": "code",
   "execution_count": 41,
   "metadata": {
    "colab": {
     "base_uri": "https://localhost:8080/"
    },
    "id": "Cs2mxz8Szrw_",
    "outputId": "41b952bb-80c5-41f8-c15d-c9aa21200704"
   },
   "outputs": [
    {
     "data": {
      "text/plain": [
       "array(['Markham', 'St-Hubert', 'Ottawa', 'Orillia', 'Mississauga',\n",
       "       'Burnaby', 'Montreal', 'Toronto', 'Laval', 'Ddo', 'Westmount',\n",
       "       'Stratford', 'Edmonton', 'Montreal ', 'Westmount ', 'Hubbards',\n",
       "       'Vanier', 'Hampstead', 'Calgary', 'Saint-Zotique', 'quebec',\n",
       "       'Vancouver', 'toronto', 'Caledon', 'Oshawa', 'Brossard',\n",
       "       'Gatineau', 'Abbotsford', 'Kelowna', 'Victoria', 'St. Catharines',\n",
       "       'Eugene', 'North York', 'Windsor', 'Sherwood Park', 'Sarnia',\n",
       "       'Okotoks', 'Whitehorse', 'st-laurent', 'Wainwright', 'Longueuil',\n",
       "       'Kitchener', 'Oakville', 'Winnipeg', 'Montréal', 'Belleville',\n",
       "       'Pierrefonds', 'Burnaby ', 'St margarets bay ', 'Waterloo',\n",
       "       'Coquitlam', 'Carman', 'St-Eustache', 'København K', 'Surrey',\n",
       "       'West Pennant', 'montreal', 'Orleans', 'Regina', 'North Bay',\n",
       "       'Brampton', 'Newmarket', 'Cbs', 'Mississauga, ON', 'Keene',\n",
       "       'Schumacher', 'West Vancouver', 'Kanata', 'Emerald Park', 'Guelph',\n",
       "       'Port Williams', 'Leduc County', 'Weston', 'Fredericton',\n",
       "       'Chatham ', 'Richmond Hill', 'Lennoxville', 'vaughan', 'Camrose',\n",
       "       \"St. John's\", 'Hawkesburyry', 'New Westminster', 'Sherbrooke',\n",
       "       'Chilliwack', 'Port Williams ', 'Scarborough', 'Cambridge',\n",
       "       'Ottawa ', 'Port Coquitlam ', 'Halifax', 'Conception Bay South',\n",
       "       'Grande Prairie', 'Lanark', 'Boston', 'Trois-Rivières',\n",
       "       'Hamilton Canada', 'North Vancouver', 'Brantford', 'Saint Laurent',\n",
       "       'Burlington ', 'Sainte-Thérèse', 'Gloucester', 'Almonte',\n",
       "       'Grand Falls-Windsor', 'Georgetown', 'Milton', 'Unionville',\n",
       "       'Cambridge ', 'Kingston ', 'Brampton ', 'Brossard ', 'victoria',\n",
       "       'Mississauga ', 'Halifax ', 'Nanaimo', 'London', 'Atlanta',\n",
       "       'Kingston', 'Duncan', 'Russell', 'Riverview', 'Scarborough ',\n",
       "       'Courtice', 'Quispamsis', 'Amherstburg ', 'Hamilton', 'Thornhill',\n",
       "       'Ancaster', 'Redwood City', 'Seattle', 'Orangeville ', 'Dunrobin',\n",
       "       'Boisbriand', 'Minneapolis', 'Aurora', 'Hañifax', 'Branchton',\n",
       "       'St Hubert', 'Carp', 'Clarenville', 'Edmonton ', 'Dartmouth ',\n",
       "       'Charters Settlement ', 'St. John’s ', 'Whitby', 'Pickering',\n",
       "       'Toronto ', 'Bowmanville', 'St-Laurent', 'Greely', 'Quebec',\n",
       "       'Moose Jaw ', 'vancouver', 'Chateauguay', 'St. Davids',\n",
       "       'East Gwillimbury ', 'Chatham', 'Thorold', 'Dartmouth',\n",
       "       'Saint-Hubert', 'York', 'Thornbury', 'Burlington', 'Nepean',\n",
       "       'Bedford', 'East York', 'Petawawa', 'Etobicoke',\n",
       "       'North  Vancouver', 'Shelburne', 'Fort Saskatchewan',\n",
       "       'Kapuskasing', 'Kirkland', 'Thunder Bay', 'Oakville ',\n",
       "       'Fort Mcmurray', 'calgary', 'Kitchener ', 'Brooklyn', 'Moose Jaw',\n",
       "       'Sudbury', 'Barrie', 'Paradise', 'Richmond', 'Corunna', 'Beaumont',\n",
       "       'Langley', 'Oro Medonte', 'Beaconsfield', 'Parksville',\n",
       "       'Pointe-Claire', 'Sherwood park ', 'Windsor ', 'Outremont',\n",
       "       'Tofino', 'Cranston', 'King City ', 'ancaster', 'Saskatoon ',\n",
       "       'St. John’s', 'Stony plain', 'Ajax', 'Melville', 'St albert',\n",
       "       'St. Albert', 'Medicine Hat', 'Vernon', 'Guelpg', 'Gananoque',\n",
       "       'Leamington', 'Maple Ridge', 'Longueuil ', 'Fort McMurray',\n",
       "       'Surrey ', 'Severn Bridge', 'Trenton', 'Bonnyville', 'Orangeville',\n",
       "       'St. Catharines ', 'Holland Landing', 'Wasaga Beach', 'Crawley',\n",
       "       'Fort St. John', 'Delta', 'Chilliwack Proper Village West',\n",
       "       'Porcupine Plain', 'Esquimalt ', 'Perth', 'Ottawa-Vanier',\n",
       "       'Pakenham', 'Jacksons Point', 'Vancouver ', 'Corner Brook',\n",
       "       'Margaree', 'Cote-Saint-Luc', 'Truro',\n",
       "       'Scarborough (Malvern / Rouge River)', 'Collingwood ', 'Embrun',\n",
       "       'Niagara Falls', 'Manotick', 'Red Deer', 'Cornwall', 'Lansdowne ',\n",
       "       'Hay Lakes', 'REgina', \"Portugal Cove-St. Philip's\",\n",
       "       'Garibaldi Highlands', 'Charlottetown', 'Glen Levit', 'King City',\n",
       "       'Fort St John', 'St Albert ', 'Maxwell', 'Prince George',\n",
       "       'Peterborough ', 'Carlsbad Springs', 'Galiano Island', 'Bc',\n",
       "       'Stittsville', 'Verdun', 'Courtenay', 'Kanata ', 'Brandon',\n",
       "       'Kamloops', 'Saint John', 'Lasalle', 'Radville', 'Sorel-Tracy',\n",
       "       'Dundalk', 'Monteeal', 'Candiac', 'Cobourg', 'Mount Brydges',\n",
       "       'South surrey ', 'Grimsby', 'Lac Superieur ', 'outremont',\n",
       "       'Airdrie', 'Cobble Hill', 'Regina ', 'Squamish', 'Calgary ',\n",
       "       'Saskatoon', 'Englehart ', 'Waterdown', 'Labelle', 'Vaughan',\n",
       "       'Côte Saint-Luc', 'Maple', 'North Hatley', 'etobicoke',\n",
       "       'St. Laurent', 'Bowen Island', 'Huntsville', 'Missisauga',\n",
       "       'Cochrane', 'edmonton', 'Leduc', 'Newcastle', 'Rawdon',\n",
       "       'Saint Lambert', 'MeathPark', 'Otonabee', 'Stoney Creek',\n",
       "       'lachine', 'ottawa ', 'Eston ', 'Sainte Anne de Bellevue',\n",
       "       'Guadalajara', 'Severn', 'Onoway', 'Cochrane ', 'Mooretown',\n",
       "       'Port moody', 'Dundas', 'Canmore', 'Jasper', 'Lethbridge ',\n",
       "       'Morgantown', 'Warkworth', 'LaSalle', 'Pitt Meadows', 'Fort Mckay',\n",
       "       'Comox ', 'Pefferlaw', 'Sidney', 'Belleville ', 'Waverley',\n",
       "       'ottawa', 'Stouffville ', 'Uxbridge', 'Listowel', 'Blenheim',\n",
       "       'Sylvan Lake', \"St John's\", 'West Kelowna', 'Bouctouche', 'Winlaw',\n",
       "       'OTtawa ', 'Richmond ', 'honey harbour', 'Gibsons', 'Corman Park',\n",
       "       'Boisbriand ', 'Munich', 'Vulcan'], dtype=object)"
      ]
     },
     "execution_count": 41,
     "metadata": {},
     "output_type": "execute_result"
    }
   ],
   "source": [
    "dfDonationsNoDup[\"billing_city\"].unique()"
   ]
  },
  {
   "cell_type": "code",
   "execution_count": 42,
   "metadata": {
    "colab": {
     "base_uri": "https://localhost:8080/",
     "height": 0
    },
    "id": "SxHEMUZ7f1C2",
    "outputId": "b727d146-b45f-4bb4-9fbe-9ba2161f1f03"
   },
   "outputs": [
    {
     "data": {
      "text/html": [
       "<div>\n",
       "<style scoped>\n",
       "    .dataframe tbody tr th:only-of-type {\n",
       "        vertical-align: middle;\n",
       "    }\n",
       "\n",
       "    .dataframe tbody tr th {\n",
       "        vertical-align: top;\n",
       "    }\n",
       "\n",
       "    .dataframe thead th {\n",
       "        text-align: right;\n",
       "    }\n",
       "</style>\n",
       "<table border=\"1\" class=\"dataframe\">\n",
       "  <thead>\n",
       "    <tr style=\"text-align: right;\">\n",
       "      <th></th>\n",
       "      <th>type</th>\n",
       "      <th>amount</th>\n",
       "      <th>payment_type_name</th>\n",
       "      <th>donor_id</th>\n",
       "      <th>donation_date</th>\n",
       "      <th>donation_type</th>\n",
       "      <th>recurring_donation_status</th>\n",
       "      <th>billing_state</th>\n",
       "      <th>billing_FSA</th>\n",
       "      <th>billing_country</th>\n",
       "      <th>billing_country_code</th>\n",
       "      <th>signup_email_opt_in</th>\n",
       "      <th>signup_mobile_opt_in</th>\n",
       "      <th>signup_point_person_name_or_email</th>\n",
       "      <th>signup_tag_list</th>\n",
       "    </tr>\n",
       "    <tr>\n",
       "      <th>billing_city</th>\n",
       "      <th></th>\n",
       "      <th></th>\n",
       "      <th></th>\n",
       "      <th></th>\n",
       "      <th></th>\n",
       "      <th></th>\n",
       "      <th></th>\n",
       "      <th></th>\n",
       "      <th></th>\n",
       "      <th></th>\n",
       "      <th></th>\n",
       "      <th></th>\n",
       "      <th></th>\n",
       "      <th></th>\n",
       "      <th></th>\n",
       "    </tr>\n",
       "  </thead>\n",
       "  <tbody>\n",
       "    <tr>\n",
       "      <th>Toronto</th>\n",
       "      <td>142</td>\n",
       "      <td>142</td>\n",
       "      <td>142</td>\n",
       "      <td>142</td>\n",
       "      <td>142</td>\n",
       "      <td>142</td>\n",
       "      <td>5</td>\n",
       "      <td>141</td>\n",
       "      <td>142</td>\n",
       "      <td>142</td>\n",
       "      <td>142</td>\n",
       "      <td>80</td>\n",
       "      <td>140</td>\n",
       "      <td>62</td>\n",
       "      <td>141</td>\n",
       "    </tr>\n",
       "    <tr>\n",
       "      <th>Ottawa</th>\n",
       "      <td>109</td>\n",
       "      <td>109</td>\n",
       "      <td>109</td>\n",
       "      <td>109</td>\n",
       "      <td>109</td>\n",
       "      <td>109</td>\n",
       "      <td>4</td>\n",
       "      <td>108</td>\n",
       "      <td>109</td>\n",
       "      <td>109</td>\n",
       "      <td>109</td>\n",
       "      <td>64</td>\n",
       "      <td>108</td>\n",
       "      <td>50</td>\n",
       "      <td>109</td>\n",
       "    </tr>\n",
       "    <tr>\n",
       "      <th>Calgary</th>\n",
       "      <td>63</td>\n",
       "      <td>63</td>\n",
       "      <td>63</td>\n",
       "      <td>63</td>\n",
       "      <td>63</td>\n",
       "      <td>63</td>\n",
       "      <td>1</td>\n",
       "      <td>62</td>\n",
       "      <td>63</td>\n",
       "      <td>63</td>\n",
       "      <td>63</td>\n",
       "      <td>36</td>\n",
       "      <td>63</td>\n",
       "      <td>28</td>\n",
       "      <td>63</td>\n",
       "    </tr>\n",
       "    <tr>\n",
       "      <th>Edmonton</th>\n",
       "      <td>63</td>\n",
       "      <td>63</td>\n",
       "      <td>63</td>\n",
       "      <td>63</td>\n",
       "      <td>63</td>\n",
       "      <td>63</td>\n",
       "      <td>0</td>\n",
       "      <td>63</td>\n",
       "      <td>63</td>\n",
       "      <td>63</td>\n",
       "      <td>63</td>\n",
       "      <td>26</td>\n",
       "      <td>63</td>\n",
       "      <td>33</td>\n",
       "      <td>63</td>\n",
       "    </tr>\n",
       "    <tr>\n",
       "      <th>Vancouver</th>\n",
       "      <td>50</td>\n",
       "      <td>50</td>\n",
       "      <td>50</td>\n",
       "      <td>50</td>\n",
       "      <td>50</td>\n",
       "      <td>50</td>\n",
       "      <td>3</td>\n",
       "      <td>48</td>\n",
       "      <td>50</td>\n",
       "      <td>50</td>\n",
       "      <td>50</td>\n",
       "      <td>32</td>\n",
       "      <td>50</td>\n",
       "      <td>17</td>\n",
       "      <td>50</td>\n",
       "    </tr>\n",
       "    <tr>\n",
       "      <th>...</th>\n",
       "      <td>...</td>\n",
       "      <td>...</td>\n",
       "      <td>...</td>\n",
       "      <td>...</td>\n",
       "      <td>...</td>\n",
       "      <td>...</td>\n",
       "      <td>...</td>\n",
       "      <td>...</td>\n",
       "      <td>...</td>\n",
       "      <td>...</td>\n",
       "      <td>...</td>\n",
       "      <td>...</td>\n",
       "      <td>...</td>\n",
       "      <td>...</td>\n",
       "      <td>...</td>\n",
       "    </tr>\n",
       "    <tr>\n",
       "      <th>Lansdowne</th>\n",
       "      <td>1</td>\n",
       "      <td>1</td>\n",
       "      <td>1</td>\n",
       "      <td>1</td>\n",
       "      <td>1</td>\n",
       "      <td>1</td>\n",
       "      <td>0</td>\n",
       "      <td>1</td>\n",
       "      <td>1</td>\n",
       "      <td>1</td>\n",
       "      <td>1</td>\n",
       "      <td>1</td>\n",
       "      <td>1</td>\n",
       "      <td>0</td>\n",
       "      <td>1</td>\n",
       "    </tr>\n",
       "    <tr>\n",
       "      <th>Lasalle</th>\n",
       "      <td>1</td>\n",
       "      <td>1</td>\n",
       "      <td>1</td>\n",
       "      <td>1</td>\n",
       "      <td>1</td>\n",
       "      <td>1</td>\n",
       "      <td>0</td>\n",
       "      <td>1</td>\n",
       "      <td>1</td>\n",
       "      <td>1</td>\n",
       "      <td>1</td>\n",
       "      <td>1</td>\n",
       "      <td>1</td>\n",
       "      <td>0</td>\n",
       "      <td>1</td>\n",
       "    </tr>\n",
       "    <tr>\n",
       "      <th>Leamington</th>\n",
       "      <td>1</td>\n",
       "      <td>1</td>\n",
       "      <td>1</td>\n",
       "      <td>1</td>\n",
       "      <td>1</td>\n",
       "      <td>1</td>\n",
       "      <td>0</td>\n",
       "      <td>1</td>\n",
       "      <td>1</td>\n",
       "      <td>1</td>\n",
       "      <td>1</td>\n",
       "      <td>0</td>\n",
       "      <td>1</td>\n",
       "      <td>1</td>\n",
       "      <td>1</td>\n",
       "    </tr>\n",
       "    <tr>\n",
       "      <th>Lennoxville</th>\n",
       "      <td>1</td>\n",
       "      <td>1</td>\n",
       "      <td>1</td>\n",
       "      <td>1</td>\n",
       "      <td>1</td>\n",
       "      <td>1</td>\n",
       "      <td>1</td>\n",
       "      <td>1</td>\n",
       "      <td>1</td>\n",
       "      <td>1</td>\n",
       "      <td>1</td>\n",
       "      <td>1</td>\n",
       "      <td>1</td>\n",
       "      <td>1</td>\n",
       "      <td>1</td>\n",
       "    </tr>\n",
       "    <tr>\n",
       "      <th>victoria</th>\n",
       "      <td>1</td>\n",
       "      <td>1</td>\n",
       "      <td>1</td>\n",
       "      <td>1</td>\n",
       "      <td>1</td>\n",
       "      <td>1</td>\n",
       "      <td>0</td>\n",
       "      <td>1</td>\n",
       "      <td>1</td>\n",
       "      <td>1</td>\n",
       "      <td>1</td>\n",
       "      <td>1</td>\n",
       "      <td>1</td>\n",
       "      <td>1</td>\n",
       "      <td>1</td>\n",
       "    </tr>\n",
       "  </tbody>\n",
       "</table>\n",
       "<p>347 rows × 15 columns</p>\n",
       "</div>"
      ],
      "text/plain": [
       "              type  amount  ...  signup_point_person_name_or_email  signup_tag_list\n",
       "billing_city                ...                                                    \n",
       "Toronto        142     142  ...                                 62              141\n",
       "Ottawa         109     109  ...                                 50              109\n",
       "Calgary         63      63  ...                                 28               63\n",
       "Edmonton        63      63  ...                                 33               63\n",
       "Vancouver       50      50  ...                                 17               50\n",
       "...            ...     ...  ...                                ...              ...\n",
       "Lansdowne        1       1  ...                                  0                1\n",
       "Lasalle          1       1  ...                                  0                1\n",
       "Leamington       1       1  ...                                  1                1\n",
       "Lennoxville      1       1  ...                                  1                1\n",
       "victoria         1       1  ...                                  1                1\n",
       "\n",
       "[347 rows x 15 columns]"
      ]
     },
     "execution_count": 42,
     "metadata": {},
     "output_type": "execute_result"
    }
   ],
   "source": [
    "groupCity = dfDonationsNoDup.groupby(\"billing_city\")\n",
    "DonorCity = groupCity.count()\n",
    "DonorCity.sort_values(by=\"donor_id\", ascending=False)"
   ]
  },
  {
   "cell_type": "code",
   "execution_count": 43,
   "metadata": {
    "colab": {
     "base_uri": "https://localhost:8080/",
     "height": 0
    },
    "id": "gM5NCjrdT80L",
    "outputId": "a7aae4ee-b018-4144-d917-39de3298314a"
   },
   "outputs": [
    {
     "data": {
      "image/png": "[encoded data removed]",
      "text/plain": [
       "<Figure size 432x288 with 1 Axes>"
      ]
     },
     "metadata": {
      "needs_background": "light"
     },
     "output_type": "display_data"
    }
   ],
   "source": [
    "DonorCount = DonorCity[\"type\"].sort_values(ascending=False).head(10)\n",
    "DonorCount.sort_values(ascending=True).plot.barh()\n",
    "plt.ylabel(\"City\")\n",
    "plt.xlabel(\"Total Donor Amount\")\n",
    "plt.show()"
   ]
  },
  {
   "cell_type": "code",
   "execution_count": 44,
   "metadata": {
    "colab": {
     "base_uri": "https://localhost:8080/"
    },
    "id": "zjTp6cq6o6qy",
    "outputId": "1f30c42d-312b-4b17-cde0-c5b9ea29cbcf"
   },
   "outputs": [
    {
     "data": {
      "text/plain": [
       "billing_city\n",
       "Toronto        142\n",
       "Ottawa         109\n",
       "Calgary         63\n",
       "Edmonton        63\n",
       "Vancouver       50\n",
       "Montreal        39\n",
       "Mississauga     26\n",
       "Victoria        23\n",
       "London          14\n",
       "Winnipeg        14\n",
       "Name: type, dtype: int64"
      ]
     },
     "execution_count": 44,
     "metadata": {},
     "output_type": "execute_result"
    }
   ],
   "source": [
    "DonorCount"
   ]
  },
  {
   "cell_type": "code",
   "execution_count": 45,
   "metadata": {
    "colab": {
     "base_uri": "https://localhost:8080/",
     "height": 0
    },
    "id": "c6Htnzr-WBhf",
    "outputId": "72150f9d-7da3-4d5f-af82-1b5db24f7e9b"
   },
   "outputs": [
    {
     "data": {
      "text/html": [
       "<div>\n",
       "<style scoped>\n",
       "    .dataframe tbody tr th:only-of-type {\n",
       "        vertical-align: middle;\n",
       "    }\n",
       "\n",
       "    .dataframe tbody tr th {\n",
       "        vertical-align: top;\n",
       "    }\n",
       "\n",
       "    .dataframe thead th {\n",
       "        text-align: right;\n",
       "    }\n",
       "</style>\n",
       "<table border=\"1\" class=\"dataframe\">\n",
       "  <thead>\n",
       "    <tr style=\"text-align: right;\">\n",
       "      <th></th>\n",
       "      <th>amount</th>\n",
       "    </tr>\n",
       "    <tr>\n",
       "      <th>billing_city</th>\n",
       "      <th></th>\n",
       "    </tr>\n",
       "  </thead>\n",
       "  <tbody>\n",
       "    <tr>\n",
       "      <th>Toronto</th>\n",
       "      <td>15957.49</td>\n",
       "    </tr>\n",
       "    <tr>\n",
       "      <th>Ottawa</th>\n",
       "      <td>9538.00</td>\n",
       "    </tr>\n",
       "    <tr>\n",
       "      <th>Vancouver</th>\n",
       "      <td>7547.00</td>\n",
       "    </tr>\n",
       "    <tr>\n",
       "      <th>Mississauga</th>\n",
       "      <td>6807.15</td>\n",
       "    </tr>\n",
       "    <tr>\n",
       "      <th>Redwood City</th>\n",
       "      <td>5000.00</td>\n",
       "    </tr>\n",
       "    <tr>\n",
       "      <th>Edmonton</th>\n",
       "      <td>4602.40</td>\n",
       "    </tr>\n",
       "    <tr>\n",
       "      <th>Calgary</th>\n",
       "      <td>3903.13</td>\n",
       "    </tr>\n",
       "    <tr>\n",
       "      <th>Montreal</th>\n",
       "      <td>3072.00</td>\n",
       "    </tr>\n",
       "    <tr>\n",
       "      <th>Brampton</th>\n",
       "      <td>2530.00</td>\n",
       "    </tr>\n",
       "    <tr>\n",
       "      <th>Burnaby</th>\n",
       "      <td>2230.00</td>\n",
       "    </tr>\n",
       "  </tbody>\n",
       "</table>\n",
       "</div>"
      ],
      "text/plain": [
       "                amount\n",
       "billing_city          \n",
       "Toronto       15957.49\n",
       "Ottawa         9538.00\n",
       "Vancouver      7547.00\n",
       "Mississauga    6807.15\n",
       "Redwood City   5000.00\n",
       "Edmonton       4602.40\n",
       "Calgary        3903.13\n",
       "Montreal       3072.00\n",
       "Brampton       2530.00\n",
       "Burnaby        2230.00"
      ]
     },
     "execution_count": 45,
     "metadata": {},
     "output_type": "execute_result"
    }
   ],
   "source": [
    "# The top 10 cities ranked according to the total amount of donations received\n",
    "cityAmountSum = dfDonations[['amount', 'billing_city']].groupby(\"billing_city\").sum()\n",
    "cityAmountSum.sort_values(by=\"amount\", ascending=False).head(10)"
   ]
  },
  {
   "cell_type": "code",
   "execution_count": 46,
   "metadata": {
    "colab": {
     "base_uri": "https://localhost:8080/",
     "height": 0
    },
    "id": "FNxPNkrxPceS",
    "outputId": "41062402-e132-4c59-f9b1-7c7ad17a92a7"
   },
   "outputs": [
    {
     "data": {
      "image/png": "[encoded data removed]",
      "text/plain": [
       "<Figure size 432x288 with 1 Axes>"
      ]
     },
     "metadata": {
      "needs_background": "light"
     },
     "output_type": "display_data"
    }
   ],
   "source": [
    "CityCount = cityAmountSum.sort_values(by=\"amount\", ascending=False).head(10)\n",
    "CityCount[\"amount\"].sort_values(ascending=True).plot.barh()\n",
    "plt.ylabel(\"City\")\n",
    "plt.xlabel(\"Total Donation Amount Received\")\n",
    "plt.show()"
   ]
  },
  {
   "cell_type": "code",
   "execution_count": 47,
   "metadata": {
    "colab": {
     "base_uri": "https://localhost:8080/",
     "height": 0
    },
    "id": "dvo5NZhbWWKq",
    "outputId": "5771310b-b221-480a-96ce-168291af5e3d"
   },
   "outputs": [
    {
     "data": {
      "text/html": [
       "<div>\n",
       "<style scoped>\n",
       "    .dataframe tbody tr th:only-of-type {\n",
       "        vertical-align: middle;\n",
       "    }\n",
       "\n",
       "    .dataframe tbody tr th {\n",
       "        vertical-align: top;\n",
       "    }\n",
       "\n",
       "    .dataframe thead th {\n",
       "        text-align: right;\n",
       "    }\n",
       "</style>\n",
       "<table border=\"1\" class=\"dataframe\">\n",
       "  <thead>\n",
       "    <tr style=\"text-align: right;\">\n",
       "      <th></th>\n",
       "      <th>amount</th>\n",
       "    </tr>\n",
       "    <tr>\n",
       "      <th>billing_city</th>\n",
       "      <th></th>\n",
       "    </tr>\n",
       "  </thead>\n",
       "  <tbody>\n",
       "    <tr>\n",
       "      <th>Redwood City</th>\n",
       "      <td>5000.0</td>\n",
       "    </tr>\n",
       "    <tr>\n",
       "      <th>Okotoks</th>\n",
       "      <td>1002.5</td>\n",
       "    </tr>\n",
       "    <tr>\n",
       "      <th>Huntsville</th>\n",
       "      <td>1000.0</td>\n",
       "    </tr>\n",
       "    <tr>\n",
       "      <th>Duncan</th>\n",
       "      <td>813.5</td>\n",
       "    </tr>\n",
       "    <tr>\n",
       "      <th>Brossard</th>\n",
       "      <td>800.0</td>\n",
       "    </tr>\n",
       "    <tr>\n",
       "      <th>Saint Laurent</th>\n",
       "      <td>680.0</td>\n",
       "    </tr>\n",
       "    <tr>\n",
       "      <th>Oshawa</th>\n",
       "      <td>525.0</td>\n",
       "    </tr>\n",
       "    <tr>\n",
       "      <th>Orangeville</th>\n",
       "      <td>300.0</td>\n",
       "    </tr>\n",
       "    <tr>\n",
       "      <th>Burnaby</th>\n",
       "      <td>300.0</td>\n",
       "    </tr>\n",
       "    <tr>\n",
       "      <th>Atlanta</th>\n",
       "      <td>290.0</td>\n",
       "    </tr>\n",
       "  </tbody>\n",
       "</table>\n",
       "</div>"
      ],
      "text/plain": [
       "               amount\n",
       "billing_city         \n",
       "Redwood City   5000.0\n",
       "Okotoks        1002.5\n",
       "Huntsville     1000.0\n",
       "Duncan          813.5\n",
       "Brossard        800.0\n",
       "Saint Laurent   680.0\n",
       "Oshawa          525.0\n",
       "Orangeville     300.0\n",
       "Burnaby         300.0\n",
       "Atlanta         290.0"
      ]
     },
     "execution_count": 47,
     "metadata": {},
     "output_type": "execute_result"
    }
   ],
   "source": [
    "# The top 10 cities ranked according to the average amount of donations received\n",
    "cityAmountAvg = dfDonations[['amount', 'billing_city']].groupby('billing_city').mean()\n",
    "cityAmountAvg.sort_values(by=\"amount\", ascending=False).head(10)"
   ]
  },
  {
   "cell_type": "code",
   "execution_count": 48,
   "metadata": {
    "colab": {
     "base_uri": "https://localhost:8080/",
     "height": 0
    },
    "id": "BoiSYWUeQSc6",
    "outputId": "809ae731-d451-45f9-d3db-fc31b65eaff0"
   },
   "outputs": [
    {
     "data": {
      "image/png": "[encoded data removed]",
      "text/plain": [
       "<Figure size 432x288 with 1 Axes>"
      ]
     },
     "metadata": {
      "needs_background": "light"
     },
     "output_type": "display_data"
    }
   ],
   "source": [
    "CityCountAvg = cityAmountAvg.sort_values(by=\"amount\", ascending=False).head(10)\n",
    "CityCountAvg[\"amount\"].sort_values(ascending=True).plot.barh()\n",
    "plt.ylabel(\"City\")\n",
    "plt.xlabel(\"Average Donation Amount Received\")\n",
    "plt.show()"
   ]
  },
  {
   "cell_type": "code",
   "execution_count": 49,
   "metadata": {
    "id": "N0XECuZNWh4S"
   },
   "outputs": [],
   "source": [
    "# We can see Toronto has the most donation amount in total and average and are a lot larger compare to other cities. FBC might want to consider developing more donors\n",
    "# in other cities as well. \n",
    "# The result for the demographics may due to different exposures to FBC, we are not sure what's the percentage of exposure FBC has to \n",
    "# different regions across canada."
   ]
  },
  {
   "cell_type": "markdown",
   "metadata": {
    "id": "8FVUueG_yyWn"
   },
   "source": [
    "### Donation Provinces"
   ]
  },
  {
   "cell_type": "code",
   "execution_count": 50,
   "metadata": {
    "colab": {
     "base_uri": "https://localhost:8080/",
     "height": 0
    },
    "id": "MuNEHUBin7Vt",
    "outputId": "b244bf54-1cb0-41da-871c-d62f3dee9b01"
   },
   "outputs": [
    {
     "data": {
      "text/html": [
       "<div>\n",
       "<style scoped>\n",
       "    .dataframe tbody tr th:only-of-type {\n",
       "        vertical-align: middle;\n",
       "    }\n",
       "\n",
       "    .dataframe tbody tr th {\n",
       "        vertical-align: top;\n",
       "    }\n",
       "\n",
       "    .dataframe thead th {\n",
       "        text-align: right;\n",
       "    }\n",
       "</style>\n",
       "<table border=\"1\" class=\"dataframe\">\n",
       "  <thead>\n",
       "    <tr style=\"text-align: right;\">\n",
       "      <th></th>\n",
       "      <th>type</th>\n",
       "      <th>amount</th>\n",
       "      <th>payment_type_name</th>\n",
       "      <th>donor_id</th>\n",
       "      <th>donation_date</th>\n",
       "      <th>donation_type</th>\n",
       "      <th>recurring_donation_status</th>\n",
       "      <th>billing_city</th>\n",
       "      <th>billing_FSA</th>\n",
       "      <th>billing_country</th>\n",
       "      <th>billing_country_code</th>\n",
       "      <th>signup_email_opt_in</th>\n",
       "      <th>signup_mobile_opt_in</th>\n",
       "      <th>signup_point_person_name_or_email</th>\n",
       "      <th>signup_tag_list</th>\n",
       "    </tr>\n",
       "    <tr>\n",
       "      <th>billing_state</th>\n",
       "      <th></th>\n",
       "      <th></th>\n",
       "      <th></th>\n",
       "      <th></th>\n",
       "      <th></th>\n",
       "      <th></th>\n",
       "      <th></th>\n",
       "      <th></th>\n",
       "      <th></th>\n",
       "      <th></th>\n",
       "      <th></th>\n",
       "      <th></th>\n",
       "      <th></th>\n",
       "      <th></th>\n",
       "      <th></th>\n",
       "    </tr>\n",
       "  </thead>\n",
       "  <tbody>\n",
       "    <tr>\n",
       "      <th>Ontario</th>\n",
       "      <td>263</td>\n",
       "      <td>263</td>\n",
       "      <td>263</td>\n",
       "      <td>263</td>\n",
       "      <td>263</td>\n",
       "      <td>262</td>\n",
       "      <td>9</td>\n",
       "      <td>263</td>\n",
       "      <td>263</td>\n",
       "      <td>263</td>\n",
       "      <td>263</td>\n",
       "      <td>149</td>\n",
       "      <td>259</td>\n",
       "      <td>117</td>\n",
       "      <td>262</td>\n",
       "    </tr>\n",
       "    <tr>\n",
       "      <th>ON</th>\n",
       "      <td>255</td>\n",
       "      <td>255</td>\n",
       "      <td>255</td>\n",
       "      <td>255</td>\n",
       "      <td>255</td>\n",
       "      <td>255</td>\n",
       "      <td>11</td>\n",
       "      <td>255</td>\n",
       "      <td>255</td>\n",
       "      <td>255</td>\n",
       "      <td>255</td>\n",
       "      <td>139</td>\n",
       "      <td>252</td>\n",
       "      <td>107</td>\n",
       "      <td>254</td>\n",
       "    </tr>\n",
       "    <tr>\n",
       "      <th>BC</th>\n",
       "      <td>121</td>\n",
       "      <td>121</td>\n",
       "      <td>121</td>\n",
       "      <td>121</td>\n",
       "      <td>121</td>\n",
       "      <td>121</td>\n",
       "      <td>7</td>\n",
       "      <td>121</td>\n",
       "      <td>121</td>\n",
       "      <td>121</td>\n",
       "      <td>121</td>\n",
       "      <td>70</td>\n",
       "      <td>121</td>\n",
       "      <td>36</td>\n",
       "      <td>120</td>\n",
       "    </tr>\n",
       "    <tr>\n",
       "      <th>AB</th>\n",
       "      <td>86</td>\n",
       "      <td>86</td>\n",
       "      <td>86</td>\n",
       "      <td>86</td>\n",
       "      <td>86</td>\n",
       "      <td>86</td>\n",
       "      <td>2</td>\n",
       "      <td>86</td>\n",
       "      <td>86</td>\n",
       "      <td>86</td>\n",
       "      <td>86</td>\n",
       "      <td>43</td>\n",
       "      <td>86</td>\n",
       "      <td>44</td>\n",
       "      <td>86</td>\n",
       "    </tr>\n",
       "    <tr>\n",
       "      <th>Alberta</th>\n",
       "      <td>80</td>\n",
       "      <td>80</td>\n",
       "      <td>80</td>\n",
       "      <td>80</td>\n",
       "      <td>80</td>\n",
       "      <td>80</td>\n",
       "      <td>1</td>\n",
       "      <td>80</td>\n",
       "      <td>80</td>\n",
       "      <td>80</td>\n",
       "      <td>80</td>\n",
       "      <td>45</td>\n",
       "      <td>80</td>\n",
       "      <td>32</td>\n",
       "      <td>79</td>\n",
       "    </tr>\n",
       "    <tr>\n",
       "      <th>...</th>\n",
       "      <td>...</td>\n",
       "      <td>...</td>\n",
       "      <td>...</td>\n",
       "      <td>...</td>\n",
       "      <td>...</td>\n",
       "      <td>...</td>\n",
       "      <td>...</td>\n",
       "      <td>...</td>\n",
       "      <td>...</td>\n",
       "      <td>...</td>\n",
       "      <td>...</td>\n",
       "      <td>...</td>\n",
       "      <td>...</td>\n",
       "      <td>...</td>\n",
       "      <td>...</td>\n",
       "    </tr>\n",
       "    <tr>\n",
       "      <th>OR</th>\n",
       "      <td>1</td>\n",
       "      <td>1</td>\n",
       "      <td>1</td>\n",
       "      <td>1</td>\n",
       "      <td>1</td>\n",
       "      <td>1</td>\n",
       "      <td>0</td>\n",
       "      <td>1</td>\n",
       "      <td>1</td>\n",
       "      <td>1</td>\n",
       "      <td>1</td>\n",
       "      <td>0</td>\n",
       "      <td>1</td>\n",
       "      <td>0</td>\n",
       "      <td>1</td>\n",
       "    </tr>\n",
       "    <tr>\n",
       "      <th>Ont</th>\n",
       "      <td>1</td>\n",
       "      <td>1</td>\n",
       "      <td>1</td>\n",
       "      <td>1</td>\n",
       "      <td>1</td>\n",
       "      <td>1</td>\n",
       "      <td>0</td>\n",
       "      <td>1</td>\n",
       "      <td>1</td>\n",
       "      <td>1</td>\n",
       "      <td>1</td>\n",
       "      <td>1</td>\n",
       "      <td>1</td>\n",
       "      <td>1</td>\n",
       "      <td>1</td>\n",
       "    </tr>\n",
       "    <tr>\n",
       "      <th>Province</th>\n",
       "      <td>1</td>\n",
       "      <td>1</td>\n",
       "      <td>1</td>\n",
       "      <td>1</td>\n",
       "      <td>1</td>\n",
       "      <td>1</td>\n",
       "      <td>0</td>\n",
       "      <td>1</td>\n",
       "      <td>1</td>\n",
       "      <td>1</td>\n",
       "      <td>1</td>\n",
       "      <td>1</td>\n",
       "      <td>1</td>\n",
       "      <td>1</td>\n",
       "      <td>1</td>\n",
       "    </tr>\n",
       "    <tr>\n",
       "      <th>QC</th>\n",
       "      <td>1</td>\n",
       "      <td>1</td>\n",
       "      <td>1</td>\n",
       "      <td>1</td>\n",
       "      <td>1</td>\n",
       "      <td>1</td>\n",
       "      <td>0</td>\n",
       "      <td>1</td>\n",
       "      <td>1</td>\n",
       "      <td>1</td>\n",
       "      <td>1</td>\n",
       "      <td>1</td>\n",
       "      <td>1</td>\n",
       "      <td>1</td>\n",
       "      <td>1</td>\n",
       "    </tr>\n",
       "    <tr>\n",
       "      <th>sk</th>\n",
       "      <td>1</td>\n",
       "      <td>1</td>\n",
       "      <td>1</td>\n",
       "      <td>1</td>\n",
       "      <td>1</td>\n",
       "      <td>1</td>\n",
       "      <td>0</td>\n",
       "      <td>1</td>\n",
       "      <td>1</td>\n",
       "      <td>1</td>\n",
       "      <td>1</td>\n",
       "      <td>0</td>\n",
       "      <td>1</td>\n",
       "      <td>0</td>\n",
       "      <td>1</td>\n",
       "    </tr>\n",
       "  </tbody>\n",
       "</table>\n",
       "<p>80 rows × 15 columns</p>\n",
       "</div>"
      ],
      "text/plain": [
       "               type  amount  ...  signup_point_person_name_or_email  signup_tag_list\n",
       "billing_state                ...                                                    \n",
       "Ontario         263     263  ...                                117              262\n",
       "ON              255     255  ...                                107              254\n",
       "BC              121     121  ...                                 36              120\n",
       "AB               86      86  ...                                 44               86\n",
       "Alberta          80      80  ...                                 32               79\n",
       "...             ...     ...  ...                                ...              ...\n",
       "OR                1       1  ...                                  0                1\n",
       "Ont               1       1  ...                                  1                1\n",
       "Province          1       1  ...                                  1                1\n",
       "QC                1       1  ...                                  1                1\n",
       "sk                1       1  ...                                  0                1\n",
       "\n",
       "[80 rows x 15 columns]"
      ]
     },
     "execution_count": 50,
     "metadata": {},
     "output_type": "execute_result"
    }
   ],
   "source": [
    "groupState = dfDonationsNoDup.groupby(\"billing_state\")\n",
    "DonorState = groupState.count()\n",
    "DonorState.sort_values(by=\"donor_id\", ascending=False)"
   ]
  },
  {
   "cell_type": "code",
   "execution_count": 50,
   "metadata": {
    "id": "jGWrSPNs2uHV"
   },
   "outputs": [],
   "source": []
  },
  {
   "cell_type": "code",
   "execution_count": 51,
   "metadata": {
    "colab": {
     "base_uri": "https://localhost:8080/",
     "height": 0
    },
    "id": "QfrBiAMrQSFr",
    "outputId": "e81527c1-4b6f-4a66-a0aa-42be90480e23"
   },
   "outputs": [
    {
     "data": {
      "image/png": "[encoded data removed]",
      "text/plain": [
       "<Figure size 432x288 with 1 Axes>"
      ]
     },
     "metadata": {
      "needs_background": "light"
     },
     "output_type": "display_data"
    }
   ],
   "source": [
    "ProvinceCount = DonorState[\"type\"].sort_values(ascending=False).head(10)\n",
    "ProvinceCount.sort_values(ascending=True).plot.barh()\n",
    "plt.ylabel(\"State\")\n",
    "plt.xlabel(\"Total Donor Amount\")\n",
    "plt.show()"
   ]
  },
  {
   "cell_type": "code",
   "execution_count": 52,
   "metadata": {
    "colab": {
     "base_uri": "https://localhost:8080/"
    },
    "id": "k1TzlXgQmN9Q",
    "outputId": "310e9471-9bfb-48e5-c298-9850338664b0"
   },
   "outputs": [
    {
     "data": {
      "text/plain": [
       "billing_state\n",
       "Ontario             263\n",
       "ON                  255\n",
       "BC                  121\n",
       "AB                   86\n",
       "Alberta              80\n",
       "QC                   58\n",
       "Quebec               46\n",
       "British Columbia     31\n",
       "NS                   16\n",
       "Ontario              14\n",
       "Name: type, dtype: int64"
      ]
     },
     "execution_count": 52,
     "metadata": {},
     "output_type": "execute_result"
    }
   ],
   "source": [
    "ProvinceCount"
   ]
  },
  {
   "cell_type": "code",
   "execution_count": 53,
   "metadata": {
    "colab": {
     "base_uri": "https://localhost:8080/",
     "height": 0
    },
    "id": "oOwgTVq8c9KW",
    "outputId": "c68232c2-93c8-4186-e352-04d598734b65"
   },
   "outputs": [
    {
     "data": {
      "text/html": [
       "<div>\n",
       "<style scoped>\n",
       "    .dataframe tbody tr th:only-of-type {\n",
       "        vertical-align: middle;\n",
       "    }\n",
       "\n",
       "    .dataframe tbody tr th {\n",
       "        vertical-align: top;\n",
       "    }\n",
       "\n",
       "    .dataframe thead th {\n",
       "        text-align: right;\n",
       "    }\n",
       "</style>\n",
       "<table border=\"1\" class=\"dataframe\">\n",
       "  <thead>\n",
       "    <tr style=\"text-align: right;\">\n",
       "      <th></th>\n",
       "      <th>amount</th>\n",
       "    </tr>\n",
       "    <tr>\n",
       "      <th>billing_state</th>\n",
       "      <th></th>\n",
       "    </tr>\n",
       "  </thead>\n",
       "  <tbody>\n",
       "    <tr>\n",
       "      <th>Ontario</th>\n",
       "      <td>30718.80</td>\n",
       "    </tr>\n",
       "    <tr>\n",
       "      <th>ON</th>\n",
       "      <td>21991.34</td>\n",
       "    </tr>\n",
       "    <tr>\n",
       "      <th>BC</th>\n",
       "      <td>12446.25</td>\n",
       "    </tr>\n",
       "    <tr>\n",
       "      <th>Alberta</th>\n",
       "      <td>6392.23</td>\n",
       "    </tr>\n",
       "    <tr>\n",
       "      <th>AB</th>\n",
       "      <td>6058.30</td>\n",
       "    </tr>\n",
       "    <tr>\n",
       "      <th>CA</th>\n",
       "      <td>6025.00</td>\n",
       "    </tr>\n",
       "    <tr>\n",
       "      <th>Quebec</th>\n",
       "      <td>3968.00</td>\n",
       "    </tr>\n",
       "    <tr>\n",
       "      <th>QC</th>\n",
       "      <td>3950.50</td>\n",
       "    </tr>\n",
       "    <tr>\n",
       "      <th>British Columbia</th>\n",
       "      <td>2070.00</td>\n",
       "    </tr>\n",
       "    <tr>\n",
       "      <th>MB</th>\n",
       "      <td>1507.50</td>\n",
       "    </tr>\n",
       "  </tbody>\n",
       "</table>\n",
       "</div>"
      ],
      "text/plain": [
       "                    amount\n",
       "billing_state             \n",
       "Ontario           30718.80\n",
       "ON                21991.34\n",
       "BC                12446.25\n",
       "Alberta            6392.23\n",
       "AB                 6058.30\n",
       "CA                 6025.00\n",
       "Quebec             3968.00\n",
       "QC                 3950.50\n",
       "British Columbia   2070.00\n",
       "MB                 1507.50"
      ]
     },
     "execution_count": 53,
     "metadata": {},
     "output_type": "execute_result"
    }
   ],
   "source": [
    "# The top 10 states ranked according to the total amount of donations received\n",
    "stateAmountSum = dfDonations[['amount', 'billing_state']].groupby(\"billing_state\").sum()\n",
    "stateAmountSum.sort_values(by=\"amount\", ascending=False).head(10)"
   ]
  },
  {
   "cell_type": "code",
   "execution_count": 54,
   "metadata": {
    "id": "grhZPZvFnmvH"
   },
   "outputs": [],
   "source": [
    "# We can see that Toronto has the highest number of donations among the billing cities and ON has the highest number of donations among the billing states, but we \n",
    "# cannot draw this conclusion yet. Because the format of the input data might not be consistent such as ON was inputted as Ontario/Ont, we need further data cleaning \n",
    "# when we dealing with specific questions regarding the billing states."
   ]
  },
  {
   "cell_type": "code",
   "execution_count": 55,
   "metadata": {
    "colab": {
     "base_uri": "https://localhost:8080/",
     "height": 0
    },
    "id": "leEdgY9rg7ic",
    "outputId": "4a4a0cb1-b14f-4d93-ebc5-a34082595fd3"
   },
   "outputs": [
    {
     "data": {
      "text/html": [
       "<div>\n",
       "<style scoped>\n",
       "    .dataframe tbody tr th:only-of-type {\n",
       "        vertical-align: middle;\n",
       "    }\n",
       "\n",
       "    .dataframe tbody tr th {\n",
       "        vertical-align: top;\n",
       "    }\n",
       "\n",
       "    .dataframe thead th {\n",
       "        text-align: right;\n",
       "    }\n",
       "</style>\n",
       "<table border=\"1\" class=\"dataframe\">\n",
       "  <thead>\n",
       "    <tr style=\"text-align: right;\">\n",
       "      <th></th>\n",
       "      <th>type</th>\n",
       "      <th>amount</th>\n",
       "      <th>payment_type_name</th>\n",
       "      <th>donor_id</th>\n",
       "      <th>donation_date</th>\n",
       "      <th>donation_type</th>\n",
       "      <th>recurring_donation_status</th>\n",
       "      <th>billing_city</th>\n",
       "      <th>billing_state</th>\n",
       "      <th>billing_FSA</th>\n",
       "      <th>billing_country</th>\n",
       "      <th>billing_country_code</th>\n",
       "      <th>signup_email_opt_in</th>\n",
       "      <th>signup_mobile_opt_in</th>\n",
       "      <th>signup_point_person_name_or_email</th>\n",
       "    </tr>\n",
       "    <tr>\n",
       "      <th>signup_tag_list</th>\n",
       "      <th></th>\n",
       "      <th></th>\n",
       "      <th></th>\n",
       "      <th></th>\n",
       "      <th></th>\n",
       "      <th></th>\n",
       "      <th></th>\n",
       "      <th></th>\n",
       "      <th></th>\n",
       "      <th></th>\n",
       "      <th></th>\n",
       "      <th></th>\n",
       "      <th></th>\n",
       "      <th></th>\n",
       "      <th></th>\n",
       "    </tr>\n",
       "  </thead>\n",
       "  <tbody>\n",
       "    <tr>\n",
       "      <th>donor</th>\n",
       "      <td>1001</td>\n",
       "      <td>1001</td>\n",
       "      <td>1001</td>\n",
       "      <td>1001</td>\n",
       "      <td>1001</td>\n",
       "      <td>1001</td>\n",
       "      <td>19</td>\n",
       "      <td>1001</td>\n",
       "      <td>984</td>\n",
       "      <td>1001</td>\n",
       "      <td>1001</td>\n",
       "      <td>1001</td>\n",
       "      <td>529</td>\n",
       "      <td>1001</td>\n",
       "      <td>383</td>\n",
       "    </tr>\n",
       "    <tr>\n",
       "      <th>donor,General Member,Ontario,Recruit Survey Apr 2020 Completed</th>\n",
       "      <td>13</td>\n",
       "      <td>13</td>\n",
       "      <td>13</td>\n",
       "      <td>13</td>\n",
       "      <td>13</td>\n",
       "      <td>13</td>\n",
       "      <td>1</td>\n",
       "      <td>13</td>\n",
       "      <td>13</td>\n",
       "      <td>13</td>\n",
       "      <td>13</td>\n",
       "      <td>13</td>\n",
       "      <td>11</td>\n",
       "      <td>13</td>\n",
       "      <td>7</td>\n",
       "    </tr>\n",
       "    <tr>\n",
       "      <th>Alberta,donor,General Member,Recruit Survey Apr 2020 Completed,Youth Council Prospects</th>\n",
       "      <td>11</td>\n",
       "      <td>11</td>\n",
       "      <td>11</td>\n",
       "      <td>11</td>\n",
       "      <td>11</td>\n",
       "      <td>11</td>\n",
       "      <td>0</td>\n",
       "      <td>11</td>\n",
       "      <td>11</td>\n",
       "      <td>11</td>\n",
       "      <td>11</td>\n",
       "      <td>11</td>\n",
       "      <td>6</td>\n",
       "      <td>11</td>\n",
       "      <td>11</td>\n",
       "    </tr>\n",
       "    <tr>\n",
       "      <th>Alberta,donor,General Member,Recruit Survey Apr 2020 Completed</th>\n",
       "      <td>10</td>\n",
       "      <td>10</td>\n",
       "      <td>10</td>\n",
       "      <td>10</td>\n",
       "      <td>10</td>\n",
       "      <td>10</td>\n",
       "      <td>0</td>\n",
       "      <td>10</td>\n",
       "      <td>10</td>\n",
       "      <td>10</td>\n",
       "      <td>10</td>\n",
       "      <td>10</td>\n",
       "      <td>7</td>\n",
       "      <td>10</td>\n",
       "      <td>7</td>\n",
       "    </tr>\n",
       "    <tr>\n",
       "      <th>donor,General Member,Ontario,Recruit Survey Apr 2020 Completed,Youth Council Prospects</th>\n",
       "      <td>7</td>\n",
       "      <td>7</td>\n",
       "      <td>7</td>\n",
       "      <td>7</td>\n",
       "      <td>7</td>\n",
       "      <td>7</td>\n",
       "      <td>1</td>\n",
       "      <td>7</td>\n",
       "      <td>7</td>\n",
       "      <td>7</td>\n",
       "      <td>7</td>\n",
       "      <td>7</td>\n",
       "      <td>4</td>\n",
       "      <td>7</td>\n",
       "      <td>7</td>\n",
       "    </tr>\n",
       "    <tr>\n",
       "      <th>...</th>\n",
       "      <td>...</td>\n",
       "      <td>...</td>\n",
       "      <td>...</td>\n",
       "      <td>...</td>\n",
       "      <td>...</td>\n",
       "      <td>...</td>\n",
       "      <td>...</td>\n",
       "      <td>...</td>\n",
       "      <td>...</td>\n",
       "      <td>...</td>\n",
       "      <td>...</td>\n",
       "      <td>...</td>\n",
       "      <td>...</td>\n",
       "      <td>...</td>\n",
       "      <td>...</td>\n",
       "    </tr>\n",
       "    <tr>\n",
       "      <th>Elder Prospects,General Member,Recruit Survey Apr 2020 Completed,Saskatchewan,Volunteer</th>\n",
       "      <td>1</td>\n",
       "      <td>1</td>\n",
       "      <td>1</td>\n",
       "      <td>1</td>\n",
       "      <td>1</td>\n",
       "      <td>1</td>\n",
       "      <td>0</td>\n",
       "      <td>1</td>\n",
       "      <td>1</td>\n",
       "      <td>1</td>\n",
       "      <td>1</td>\n",
       "      <td>1</td>\n",
       "      <td>0</td>\n",
       "      <td>0</td>\n",
       "      <td>1</td>\n",
       "    </tr>\n",
       "    <tr>\n",
       "      <th>EN,FR,General Member,Membership fee,newsletter,Ontario,Paid Member</th>\n",
       "      <td>1</td>\n",
       "      <td>1</td>\n",
       "      <td>1</td>\n",
       "      <td>1</td>\n",
       "      <td>1</td>\n",
       "      <td>1</td>\n",
       "      <td>0</td>\n",
       "      <td>1</td>\n",
       "      <td>1</td>\n",
       "      <td>1</td>\n",
       "      <td>1</td>\n",
       "      <td>1</td>\n",
       "      <td>1</td>\n",
       "      <td>1</td>\n",
       "      <td>0</td>\n",
       "    </tr>\n",
       "    <tr>\n",
       "      <th>Covid Call RSVPs March 2020,defundpolicesurvey,donor,Elder Prospects,General Member,newsletter,Ontario,Paid Member,Recruit Survey Apr 2020 Completed,Sign-Up</th>\n",
       "      <td>1</td>\n",
       "      <td>1</td>\n",
       "      <td>1</td>\n",
       "      <td>1</td>\n",
       "      <td>1</td>\n",
       "      <td>1</td>\n",
       "      <td>0</td>\n",
       "      <td>1</td>\n",
       "      <td>1</td>\n",
       "      <td>1</td>\n",
       "      <td>1</td>\n",
       "      <td>1</td>\n",
       "      <td>1</td>\n",
       "      <td>1</td>\n",
       "      <td>1</td>\n",
       "    </tr>\n",
       "    <tr>\n",
       "      <th>British Columbia; BC Hub 001,donor</th>\n",
       "      <td>1</td>\n",
       "      <td>1</td>\n",
       "      <td>1</td>\n",
       "      <td>1</td>\n",
       "      <td>1</td>\n",
       "      <td>1</td>\n",
       "      <td>0</td>\n",
       "      <td>1</td>\n",
       "      <td>1</td>\n",
       "      <td>1</td>\n",
       "      <td>1</td>\n",
       "      <td>1</td>\n",
       "      <td>1</td>\n",
       "      <td>1</td>\n",
       "      <td>0</td>\n",
       "    </tr>\n",
       "    <tr>\n",
       "      <th>donor,newsletter,Ontario,Recruit Survey Apr 2020 Completed</th>\n",
       "      <td>1</td>\n",
       "      <td>1</td>\n",
       "      <td>1</td>\n",
       "      <td>1</td>\n",
       "      <td>1</td>\n",
       "      <td>1</td>\n",
       "      <td>0</td>\n",
       "      <td>1</td>\n",
       "      <td>1</td>\n",
       "      <td>1</td>\n",
       "      <td>1</td>\n",
       "      <td>1</td>\n",
       "      <td>1</td>\n",
       "      <td>1</td>\n",
       "      <td>1</td>\n",
       "    </tr>\n",
       "  </tbody>\n",
       "</table>\n",
       "<p>104 rows × 15 columns</p>\n",
       "</div>"
      ],
      "text/plain": [
       "                                                    type  ...  signup_point_person_name_or_email\n",
       "signup_tag_list                                           ...                                   \n",
       "donor                                               1001  ...                                383\n",
       "donor,General Member,Ontario,Recruit Survey Apr...    13  ...                                  7\n",
       "Alberta,donor,General Member,Recruit Survey Apr...    11  ...                                 11\n",
       "Alberta,donor,General Member,Recruit Survey Apr...    10  ...                                  7\n",
       "donor,General Member,Ontario,Recruit Survey Apr...     7  ...                                  7\n",
       "...                                                  ...  ...                                ...\n",
       "Elder Prospects,General Member,Recruit Survey A...     1  ...                                  1\n",
       "EN,FR,General Member,Membership fee,newsletter,...     1  ...                                  0\n",
       "Covid Call RSVPs March 2020,defundpolicesurvey,...     1  ...                                  1\n",
       "British Columbia; BC Hub 001,donor                     1  ...                                  0\n",
       "donor,newsletter,Ontario,Recruit Survey Apr 202...     1  ...                                  1\n",
       "\n",
       "[104 rows x 15 columns]"
      ]
     },
     "execution_count": 55,
     "metadata": {},
     "output_type": "execute_result"
    }
   ],
   "source": [
    "groupTag = dfDonationsNoDup.groupby(\"signup_tag_list\")\n",
    "DonorTag = groupTag.count()\n",
    "DonorTag.sort_values(by=\"type\", ascending=False)"
   ]
  },
  {
   "cell_type": "code",
   "execution_count": 56,
   "metadata": {
    "id": "7xssIizgoYqQ"
   },
   "outputs": [],
   "source": [
    "# We can look into the donor tags later when studying donor profiles."
   ]
  },
  {
   "cell_type": "markdown",
   "metadata": {
    "id": "pKWBjq6kwJj2"
   },
   "source": [
    "## Donor Opt-in Status"
   ]
  },
  {
   "cell_type": "code",
   "execution_count": 57,
   "metadata": {
    "colab": {
     "base_uri": "https://localhost:8080/",
     "height": 204
    },
    "id": "jFTj8_qeic5d",
    "outputId": "beab882a-3ffc-4dc3-d662-e2eddf84859e"
   },
   "outputs": [
    {
     "data": {
      "text/html": [
       "<div>\n",
       "<style scoped>\n",
       "    .dataframe tbody tr th:only-of-type {\n",
       "        vertical-align: middle;\n",
       "    }\n",
       "\n",
       "    .dataframe tbody tr th {\n",
       "        vertical-align: top;\n",
       "    }\n",
       "\n",
       "    .dataframe thead th {\n",
       "        text-align: right;\n",
       "    }\n",
       "</style>\n",
       "<table border=\"1\" class=\"dataframe\">\n",
       "  <thead>\n",
       "    <tr style=\"text-align: right;\">\n",
       "      <th></th>\n",
       "      <th></th>\n",
       "      <th>type</th>\n",
       "      <th>amount</th>\n",
       "      <th>payment_type_name</th>\n",
       "      <th>donor_id</th>\n",
       "      <th>donation_date</th>\n",
       "      <th>donation_type</th>\n",
       "      <th>recurring_donation_status</th>\n",
       "      <th>billing_city</th>\n",
       "      <th>billing_state</th>\n",
       "      <th>billing_FSA</th>\n",
       "      <th>billing_country</th>\n",
       "      <th>billing_country_code</th>\n",
       "      <th>signup_point_person_name_or_email</th>\n",
       "      <th>signup_tag_list</th>\n",
       "    </tr>\n",
       "    <tr>\n",
       "      <th>signup_email_opt_in</th>\n",
       "      <th>signup_mobile_opt_in</th>\n",
       "      <th></th>\n",
       "      <th></th>\n",
       "      <th></th>\n",
       "      <th></th>\n",
       "      <th></th>\n",
       "      <th></th>\n",
       "      <th></th>\n",
       "      <th></th>\n",
       "      <th></th>\n",
       "      <th></th>\n",
       "      <th></th>\n",
       "      <th></th>\n",
       "      <th></th>\n",
       "      <th></th>\n",
       "    </tr>\n",
       "  </thead>\n",
       "  <tbody>\n",
       "    <tr>\n",
       "      <th rowspan=\"2\" valign=\"top\">True</th>\n",
       "      <th>True</th>\n",
       "      <td>661</td>\n",
       "      <td>661</td>\n",
       "      <td>661</td>\n",
       "      <td>661</td>\n",
       "      <td>661</td>\n",
       "      <td>660</td>\n",
       "      <td>661</td>\n",
       "      <td>661</td>\n",
       "      <td>645</td>\n",
       "      <td>661</td>\n",
       "      <td>661</td>\n",
       "      <td>661</td>\n",
       "      <td>253</td>\n",
       "      <td>657</td>\n",
       "    </tr>\n",
       "    <tr>\n",
       "      <th>False</th>\n",
       "      <td>8</td>\n",
       "      <td>8</td>\n",
       "      <td>8</td>\n",
       "      <td>8</td>\n",
       "      <td>8</td>\n",
       "      <td>8</td>\n",
       "      <td>8</td>\n",
       "      <td>8</td>\n",
       "      <td>8</td>\n",
       "      <td>8</td>\n",
       "      <td>8</td>\n",
       "      <td>8</td>\n",
       "      <td>1</td>\n",
       "      <td>8</td>\n",
       "    </tr>\n",
       "    <tr>\n",
       "      <th rowspan=\"2\" valign=\"top\">False</th>\n",
       "      <th>True</th>\n",
       "      <td>508</td>\n",
       "      <td>508</td>\n",
       "      <td>508</td>\n",
       "      <td>508</td>\n",
       "      <td>508</td>\n",
       "      <td>508</td>\n",
       "      <td>508</td>\n",
       "      <td>508</td>\n",
       "      <td>502</td>\n",
       "      <td>508</td>\n",
       "      <td>508</td>\n",
       "      <td>508</td>\n",
       "      <td>216</td>\n",
       "      <td>508</td>\n",
       "    </tr>\n",
       "    <tr>\n",
       "      <th>False</th>\n",
       "      <td>3</td>\n",
       "      <td>3</td>\n",
       "      <td>3</td>\n",
       "      <td>3</td>\n",
       "      <td>3</td>\n",
       "      <td>3</td>\n",
       "      <td>3</td>\n",
       "      <td>3</td>\n",
       "      <td>3</td>\n",
       "      <td>3</td>\n",
       "      <td>3</td>\n",
       "      <td>3</td>\n",
       "      <td>1</td>\n",
       "      <td>3</td>\n",
       "    </tr>\n",
       "  </tbody>\n",
       "</table>\n",
       "</div>"
      ],
      "text/plain": [
       "                                          type  ...  signup_tag_list\n",
       "signup_email_opt_in signup_mobile_opt_in        ...                 \n",
       "True                True                   661  ...              657\n",
       "                    False                    8  ...                8\n",
       "False               True                   508  ...              508\n",
       "                    False                    3  ...                3\n",
       "\n",
       "[4 rows x 14 columns]"
      ]
     },
     "execution_count": 57,
     "metadata": {},
     "output_type": "execute_result"
    }
   ],
   "source": [
    "# Donor opted-in status.\n",
    "dfDonationsNoDupFill = dfDonationsNoDup.fillna({\"recurring_donation_status\":'One-Time', \"signup_email_opt_in\":'False', \"signup_mobile_opt_in\":'False'})\n",
    "groupOpt = dfDonationsNoDupFill.groupby([\"signup_email_opt_in\",\"signup_mobile_opt_in\"])\n",
    "groupOpt.count()"
   ]
  },
  {
   "cell_type": "code",
   "execution_count": 58,
   "metadata": {
    "colab": {
     "base_uri": "https://localhost:8080/",
     "height": 425
    },
    "id": "1hEMnIE7R3P_",
    "outputId": "a5c2f45e-616b-4351-a512-58230db6bde6"
   },
   "outputs": [
    {
     "data": {
      "image/png": "[encoded data removed]",
      "text/plain": [
       "<Figure size 720x504 with 1 Axes>"
      ]
     },
     "metadata": {},
     "output_type": "display_data"
    }
   ],
   "source": [
    "groupOpt.count()['type'].plot.pie(autopct=\"%.1f%%\", figsize=(10,7), fontsize=12)\n",
    "plt.xlabel(\"Opt-in Status\")\n",
    "plt.ylabel(\"Quantity\")\n",
    "plt.legend(title = \"Email Opt-in, Mobile Opt-in:\")\n",
    "plt.show()"
   ]
  },
  {
   "cell_type": "code",
   "execution_count": 59,
   "metadata": {
    "id": "aQBNWDfAo9r_"
   },
   "outputs": [],
   "source": [
    "# Most of the donors have signed up for mobile opt in, does mobile opt in a better way to engage with donors? How well does mobile engagement perform in terms of\n",
    "# the donation amount? We can look into this later."
   ]
  },
  {
   "cell_type": "code",
   "execution_count": 60,
   "metadata": {
    "colab": {
     "base_uri": "https://localhost:8080/",
     "height": 142
    },
    "id": "jYkLunUoWOmL",
    "outputId": "06f10475-48b4-454e-da68-50b49067fb72"
   },
   "outputs": [
    {
     "data": {
      "text/html": [
       "<div>\n",
       "<style scoped>\n",
       "    .dataframe tbody tr th:only-of-type {\n",
       "        vertical-align: middle;\n",
       "    }\n",
       "\n",
       "    .dataframe tbody tr th {\n",
       "        vertical-align: top;\n",
       "    }\n",
       "\n",
       "    .dataframe thead th {\n",
       "        text-align: right;\n",
       "    }\n",
       "</style>\n",
       "<table border=\"1\" class=\"dataframe\">\n",
       "  <thead>\n",
       "    <tr style=\"text-align: right;\">\n",
       "      <th></th>\n",
       "      <th>amount</th>\n",
       "    </tr>\n",
       "    <tr>\n",
       "      <th>signup_email_opt_in</th>\n",
       "      <th></th>\n",
       "    </tr>\n",
       "  </thead>\n",
       "  <tbody>\n",
       "    <tr>\n",
       "      <th>True</th>\n",
       "      <td>63744.66</td>\n",
       "    </tr>\n",
       "    <tr>\n",
       "      <th>False</th>\n",
       "      <td>36791.77</td>\n",
       "    </tr>\n",
       "  </tbody>\n",
       "</table>\n",
       "</div>"
      ],
      "text/plain": [
       "                       amount\n",
       "signup_email_opt_in          \n",
       "True                 63744.66\n",
       "False                36791.77"
      ]
     },
     "execution_count": 60,
     "metadata": {},
     "output_type": "execute_result"
    }
   ],
   "source": [
    "EmailSum = dfDonationsNoDupFill[[\"signup_email_opt_in\", \"amount\"]].groupby([\"signup_email_opt_in\"]).sum()\n",
    "EmailSum"
   ]
  },
  {
   "cell_type": "code",
   "execution_count": 61,
   "metadata": {
    "colab": {
     "base_uri": "https://localhost:8080/",
     "height": 295
    },
    "id": "EV3MTd7TVxJ-",
    "outputId": "2fe0d7ff-e5bc-4451-f684-653f600c6770"
   },
   "outputs": [
    {
     "data": {
      "image/png": "[encoded data removed]",
      "text/plain": [
       "<Figure size 432x288 with 1 Axes>"
      ]
     },
     "metadata": {
      "needs_background": "light"
     },
     "output_type": "display_data"
    }
   ],
   "source": [
    "EmailSum[\"amount\"].sort_values(ascending=True).plot.bar()\n",
    "plt.ylabel(\"Total Donation Amount\")\n",
    "plt.xlabel(\"Email Opt-in Status\")\n",
    "plt.show()"
   ]
  },
  {
   "cell_type": "code",
   "execution_count": 62,
   "metadata": {
    "colab": {
     "base_uri": "https://localhost:8080/",
     "height": 142
    },
    "id": "sv0ByY2-Vywq",
    "outputId": "accc4c50-a362-4d5a-a508-571868cba73f"
   },
   "outputs": [
    {
     "data": {
      "text/html": [
       "<div>\n",
       "<style scoped>\n",
       "    .dataframe tbody tr th:only-of-type {\n",
       "        vertical-align: middle;\n",
       "    }\n",
       "\n",
       "    .dataframe tbody tr th {\n",
       "        vertical-align: top;\n",
       "    }\n",
       "\n",
       "    .dataframe thead th {\n",
       "        text-align: right;\n",
       "    }\n",
       "</style>\n",
       "<table border=\"1\" class=\"dataframe\">\n",
       "  <thead>\n",
       "    <tr style=\"text-align: right;\">\n",
       "      <th></th>\n",
       "      <th>amount</th>\n",
       "    </tr>\n",
       "    <tr>\n",
       "      <th>signup_email_opt_in</th>\n",
       "      <th></th>\n",
       "    </tr>\n",
       "  </thead>\n",
       "  <tbody>\n",
       "    <tr>\n",
       "      <th>True</th>\n",
       "      <td>95.283498</td>\n",
       "    </tr>\n",
       "    <tr>\n",
       "      <th>False</th>\n",
       "      <td>71.999550</td>\n",
       "    </tr>\n",
       "  </tbody>\n",
       "</table>\n",
       "</div>"
      ],
      "text/plain": [
       "                        amount\n",
       "signup_email_opt_in           \n",
       "True                 95.283498\n",
       "False                71.999550"
      ]
     },
     "execution_count": 62,
     "metadata": {},
     "output_type": "execute_result"
    }
   ],
   "source": [
    "EmailAvg = dfDonationsNoDupFill[[\"signup_email_opt_in\", \"amount\"]].groupby([\"signup_email_opt_in\"]).mean()\n",
    "EmailAvg"
   ]
  },
  {
   "cell_type": "code",
   "execution_count": 63,
   "metadata": {
    "colab": {
     "base_uri": "https://localhost:8080/",
     "height": 298
    },
    "id": "-Ov3Syh4V0NB",
    "outputId": "6b9e97d8-3856-4cf3-8d03-05b4395d3ffb"
   },
   "outputs": [
    {
     "data": {
      "image/png": "[encoded data removed]",
      "text/plain": [
       "<Figure size 432x288 with 1 Axes>"
      ]
     },
     "metadata": {
      "needs_background": "light"
     },
     "output_type": "display_data"
    }
   ],
   "source": [
    "EmailAvg[\"amount\"].sort_values(ascending=True).plot.bar()\n",
    "plt.ylabel(\"Average Donation Amount Per Donor\")\n",
    "plt.xlabel(\"Email Opt-in Status\")\n",
    "plt.show()"
   ]
  },
  {
   "cell_type": "code",
   "execution_count": 64,
   "metadata": {
    "colab": {
     "base_uri": "https://localhost:8080/",
     "height": 142
    },
    "id": "dR-csBC-V1vh",
    "outputId": "9c39a95a-08fc-42ac-d0e2-abbd7ab9bce2"
   },
   "outputs": [
    {
     "data": {
      "text/html": [
       "<div>\n",
       "<style scoped>\n",
       "    .dataframe tbody tr th:only-of-type {\n",
       "        vertical-align: middle;\n",
       "    }\n",
       "\n",
       "    .dataframe tbody tr th {\n",
       "        vertical-align: top;\n",
       "    }\n",
       "\n",
       "    .dataframe thead th {\n",
       "        text-align: right;\n",
       "    }\n",
       "</style>\n",
       "<table border=\"1\" class=\"dataframe\">\n",
       "  <thead>\n",
       "    <tr style=\"text-align: right;\">\n",
       "      <th></th>\n",
       "      <th>amount</th>\n",
       "    </tr>\n",
       "    <tr>\n",
       "      <th>signup_mobile_opt_in</th>\n",
       "      <th></th>\n",
       "    </tr>\n",
       "  </thead>\n",
       "  <tbody>\n",
       "    <tr>\n",
       "      <th>True</th>\n",
       "      <td>100061.43</td>\n",
       "    </tr>\n",
       "    <tr>\n",
       "      <th>False</th>\n",
       "      <td>475.00</td>\n",
       "    </tr>\n",
       "  </tbody>\n",
       "</table>\n",
       "</div>"
      ],
      "text/plain": [
       "                         amount\n",
       "signup_mobile_opt_in           \n",
       "True                  100061.43\n",
       "False                    475.00"
      ]
     },
     "execution_count": 64,
     "metadata": {},
     "output_type": "execute_result"
    }
   ],
   "source": [
    "MobileSum = dfDonationsNoDupFill[[\"signup_mobile_opt_in\", \"amount\"]].groupby([\"signup_mobile_opt_in\"]).sum()\n",
    "MobileSum"
   ]
  },
  {
   "cell_type": "code",
   "execution_count": 65,
   "metadata": {
    "colab": {
     "base_uri": "https://localhost:8080/",
     "height": 295
    },
    "id": "PaVRp5IVV4bp",
    "outputId": "bd11bfa3-e6f8-47f5-c033-7d38850aaeb3"
   },
   "outputs": [
    {
     "data": {
      "image/png": "[encoded data removed]",
      "text/plain": [
       "<Figure size 432x288 with 1 Axes>"
      ]
     },
     "metadata": {
      "needs_background": "light"
     },
     "output_type": "display_data"
    }
   ],
   "source": [
    "MobileSum[\"amount\"].sort_values(ascending=True).plot.bar()\n",
    "plt.ylabel(\"Total Donation Amount\")\n",
    "plt.xlabel(\"Mobile Opt-in Status\")\n",
    "plt.show()"
   ]
  },
  {
   "cell_type": "code",
   "execution_count": 66,
   "metadata": {
    "colab": {
     "base_uri": "https://localhost:8080/",
     "height": 142
    },
    "id": "R-vS5GNfV48h",
    "outputId": "9084ff02-ba9c-4dc0-f33a-ce759e235460"
   },
   "outputs": [
    {
     "data": {
      "text/html": [
       "<div>\n",
       "<style scoped>\n",
       "    .dataframe tbody tr th:only-of-type {\n",
       "        vertical-align: middle;\n",
       "    }\n",
       "\n",
       "    .dataframe tbody tr th {\n",
       "        vertical-align: top;\n",
       "    }\n",
       "\n",
       "    .dataframe thead th {\n",
       "        text-align: right;\n",
       "    }\n",
       "</style>\n",
       "<table border=\"1\" class=\"dataframe\">\n",
       "  <thead>\n",
       "    <tr style=\"text-align: right;\">\n",
       "      <th></th>\n",
       "      <th>amount</th>\n",
       "    </tr>\n",
       "    <tr>\n",
       "      <th>signup_mobile_opt_in</th>\n",
       "      <th></th>\n",
       "    </tr>\n",
       "  </thead>\n",
       "  <tbody>\n",
       "    <tr>\n",
       "      <th>True</th>\n",
       "      <td>85.595749</td>\n",
       "    </tr>\n",
       "    <tr>\n",
       "      <th>False</th>\n",
       "      <td>43.181818</td>\n",
       "    </tr>\n",
       "  </tbody>\n",
       "</table>\n",
       "</div>"
      ],
      "text/plain": [
       "                         amount\n",
       "signup_mobile_opt_in           \n",
       "True                  85.595749\n",
       "False                 43.181818"
      ]
     },
     "execution_count": 66,
     "metadata": {},
     "output_type": "execute_result"
    }
   ],
   "source": [
    "MobileAvg = dfDonationsNoDupFill[[\"signup_mobile_opt_in\", \"amount\"]].groupby([\"signup_mobile_opt_in\"]).mean()\n",
    "MobileAvg"
   ]
  },
  {
   "cell_type": "code",
   "execution_count": 67,
   "metadata": {
    "colab": {
     "base_uri": "https://localhost:8080/",
     "height": 295
    },
    "id": "k91tq-48V68N",
    "outputId": "5187fee3-8cdd-4091-adca-a325f9c14927"
   },
   "outputs": [
    {
     "data": {
      "image/png": "[encoded data removed]",
      "text/plain": [
       "<Figure size 432x288 with 1 Axes>"
      ]
     },
     "metadata": {
      "needs_background": "light"
     },
     "output_type": "display_data"
    }
   ],
   "source": [
    "MobileAvg[\"amount\"].sort_values(ascending=True).plot.bar()\n",
    "plt.ylabel(\"Average Donation Amount Per Donor\")\n",
    "plt.xlabel(\"Mobile Opt-in Status\")\n",
    "plt.show()"
   ]
  },
  {
   "cell_type": "markdown",
   "metadata": {
    "id": "218Waq04X8cV"
   },
   "source": [
    "### Cross-Table"
   ]
  },
  {
   "cell_type": "code",
   "execution_count": 68,
   "metadata": {
    "colab": {
     "base_uri": "https://localhost:8080/",
     "height": 173
    },
    "id": "4mWwn7UDZe7t",
    "outputId": "bc19751c-e4ce-4626-c78d-2bdd5da4e952"
   },
   "outputs": [
    {
     "data": {
      "text/html": [
       "<div>\n",
       "<style scoped>\n",
       "    .dataframe tbody tr th:only-of-type {\n",
       "        vertical-align: middle;\n",
       "    }\n",
       "\n",
       "    .dataframe tbody tr th {\n",
       "        vertical-align: top;\n",
       "    }\n",
       "\n",
       "    .dataframe thead th {\n",
       "        text-align: right;\n",
       "    }\n",
       "</style>\n",
       "<table border=\"1\" class=\"dataframe\">\n",
       "  <thead>\n",
       "    <tr style=\"text-align: right;\">\n",
       "      <th></th>\n",
       "      <th>signup_email_opt_in</th>\n",
       "      <th>signup_mobile_opt_in</th>\n",
       "    </tr>\n",
       "  </thead>\n",
       "  <tbody>\n",
       "    <tr>\n",
       "      <th>count</th>\n",
       "      <td>1180</td>\n",
       "      <td>1180</td>\n",
       "    </tr>\n",
       "    <tr>\n",
       "      <th>unique</th>\n",
       "      <td>2</td>\n",
       "      <td>2</td>\n",
       "    </tr>\n",
       "    <tr>\n",
       "      <th>top</th>\n",
       "      <td>True</td>\n",
       "      <td>True</td>\n",
       "    </tr>\n",
       "    <tr>\n",
       "      <th>freq</th>\n",
       "      <td>669</td>\n",
       "      <td>1169</td>\n",
       "    </tr>\n",
       "  </tbody>\n",
       "</table>\n",
       "</div>"
      ],
      "text/plain": [
       "       signup_email_opt_in signup_mobile_opt_in\n",
       "count                 1180                 1180\n",
       "unique                   2                    2\n",
       "top                   True                 True\n",
       "freq                   669                 1169"
      ]
     },
     "execution_count": 68,
     "metadata": {},
     "output_type": "execute_result"
    }
   ],
   "source": [
    "dfCrossTable = dfDonationsNoDupFill[[\"signup_email_opt_in\", \"signup_mobile_opt_in\"]]\n",
    "dfCrossTable.describe()"
   ]
  },
  {
   "cell_type": "code",
   "execution_count": 69,
   "metadata": {
    "colab": {
     "base_uri": "https://localhost:8080/",
     "height": 142
    },
    "id": "vg1m_pXXYAPN",
    "outputId": "7abfe940-713f-4458-b78a-fd231a3dbe4a"
   },
   "outputs": [
    {
     "data": {
      "text/html": [
       "<div>\n",
       "<style scoped>\n",
       "    .dataframe tbody tr th:only-of-type {\n",
       "        vertical-align: middle;\n",
       "    }\n",
       "\n",
       "    .dataframe tbody tr th {\n",
       "        vertical-align: top;\n",
       "    }\n",
       "\n",
       "    .dataframe thead th {\n",
       "        text-align: right;\n",
       "    }\n",
       "</style>\n",
       "<table border=\"1\" class=\"dataframe\">\n",
       "  <thead>\n",
       "    <tr style=\"text-align: right;\">\n",
       "      <th>signup_mobile_opt_in</th>\n",
       "      <th>False</th>\n",
       "      <th>True</th>\n",
       "    </tr>\n",
       "    <tr>\n",
       "      <th>signup_email_opt_in</th>\n",
       "      <th></th>\n",
       "      <th></th>\n",
       "    </tr>\n",
       "  </thead>\n",
       "  <tbody>\n",
       "    <tr>\n",
       "      <th>False</th>\n",
       "      <td>3</td>\n",
       "      <td>508</td>\n",
       "    </tr>\n",
       "    <tr>\n",
       "      <th>True</th>\n",
       "      <td>8</td>\n",
       "      <td>661</td>\n",
       "    </tr>\n",
       "  </tbody>\n",
       "</table>\n",
       "</div>"
      ],
      "text/plain": [
       "signup_mobile_opt_in  False  True \n",
       "signup_email_opt_in               \n",
       "False                     3    508\n",
       "True                      8    661"
      ]
     },
     "execution_count": 69,
     "metadata": {},
     "output_type": "execute_result"
    }
   ],
   "source": [
    "a = dfCrossTable[\"signup_email_opt_in\"] == True\n",
    "b = dfCrossTable[\"signup_mobile_opt_in\"] == True\n",
    "dfDonorFreq = pd.crosstab(a,b)\n",
    "dfDonorFreq"
   ]
  },
  {
   "cell_type": "code",
   "execution_count": 70,
   "metadata": {
    "id": "iJzJlrhvZGvO"
   },
   "outputs": [],
   "source": [
    "# Almost every donor chose to have mobile-opt-in.\n",
    "# Out of a total 1180 unique donors, 1169 donors choose to have mobile opt-in\n",
    "# Only 11 donors do not have mobile-opt-in\n",
    "\n",
    "# Meanwhile, email-opt-in is a much more mixed among the donations\n",
    "# 511 donors do not have email-opt-in\n",
    "# 669 donors have email-opt-in\n",
    "\n",
    "# 661 donors have both\n",
    "# 508 only mobile\n",
    "# 8 only email\n",
    "# 3 neither"
   ]
  },
  {
   "cell_type": "markdown",
   "metadata": {
    "id": "nO5XRUz7euPf"
   },
   "source": [
    "### Opt-In Status and Donation Frequency"
   ]
  },
  {
   "cell_type": "code",
   "execution_count": 71,
   "metadata": {
    "colab": {
     "base_uri": "https://localhost:8080/"
    },
    "id": "NKMWwzEDfsMh",
    "outputId": "1053fda0-d0a3-47cf-ebc2-5ae193354d83"
   },
   "outputs": [
    {
     "data": {
      "text/plain": [
       "Index(['type', 'amount', 'payment_type_name', 'donor_id', 'donation_date',\n",
       "       'donation_type', 'recurring_donation_status', 'billing_city',\n",
       "       'billing_state', 'billing_FSA', 'billing_country',\n",
       "       'billing_country_code', 'signup_email_opt_in', 'signup_mobile_opt_in',\n",
       "       'signup_point_person_name_or_email', 'signup_tag_list'],\n",
       "      dtype='object')"
      ]
     },
     "execution_count": 71,
     "metadata": {},
     "output_type": "execute_result"
    }
   ],
   "source": [
    "dfDonations.columns"
   ]
  },
  {
   "cell_type": "code",
   "execution_count": 72,
   "metadata": {
    "colab": {
     "base_uri": "https://localhost:8080/",
     "height": 173
    },
    "id": "Vxy1HCJWexQI",
    "outputId": "724cf59a-e960-48b8-d283-8f925639f5cc"
   },
   "outputs": [
    {
     "data": {
      "text/html": [
       "<div>\n",
       "<style scoped>\n",
       "    .dataframe tbody tr th:only-of-type {\n",
       "        vertical-align: middle;\n",
       "    }\n",
       "\n",
       "    .dataframe tbody tr th {\n",
       "        vertical-align: top;\n",
       "    }\n",
       "\n",
       "    .dataframe thead th {\n",
       "        text-align: right;\n",
       "    }\n",
       "</style>\n",
       "<table border=\"1\" class=\"dataframe\">\n",
       "  <thead>\n",
       "    <tr style=\"text-align: right;\">\n",
       "      <th></th>\n",
       "      <th>signup_mobile_opt_in</th>\n",
       "      <th>signup_email_opt_in</th>\n",
       "    </tr>\n",
       "  </thead>\n",
       "  <tbody>\n",
       "    <tr>\n",
       "      <th>count</th>\n",
       "      <td>1594</td>\n",
       "      <td>1594</td>\n",
       "    </tr>\n",
       "    <tr>\n",
       "      <th>unique</th>\n",
       "      <td>2</td>\n",
       "      <td>2</td>\n",
       "    </tr>\n",
       "    <tr>\n",
       "      <th>top</th>\n",
       "      <td>True</td>\n",
       "      <td>True</td>\n",
       "    </tr>\n",
       "    <tr>\n",
       "      <th>freq</th>\n",
       "      <td>1583</td>\n",
       "      <td>1026</td>\n",
       "    </tr>\n",
       "  </tbody>\n",
       "</table>\n",
       "</div>"
      ],
      "text/plain": [
       "       signup_mobile_opt_in signup_email_opt_in\n",
       "count                  1594                1594\n",
       "unique                    2                   2\n",
       "top                    True                True\n",
       "freq                   1583                1026"
      ]
     },
     "execution_count": 72,
     "metadata": {},
     "output_type": "execute_result"
    }
   ],
   "source": [
    "dfDonationFrequency = dfDonations[[\"signup_mobile_opt_in\", \"signup_email_opt_in\"]]\n",
    "dfDonationFrequency = dfDonationFrequency.fillna({\"signup_email_opt_in\":'False', \"signup_mobile_opt_in\":'False'})\n",
    "dfDonationFrequency.describe()"
   ]
  },
  {
   "cell_type": "code",
   "execution_count": 73,
   "metadata": {
    "colab": {
     "base_uri": "https://localhost:8080/",
     "height": 142
    },
    "id": "nHZM9vQbf8Fm",
    "outputId": "f5eb00f3-1b9c-4149-9442-b10d3c2c9d4c"
   },
   "outputs": [
    {
     "data": {
      "text/html": [
       "<div>\n",
       "<style scoped>\n",
       "    .dataframe tbody tr th:only-of-type {\n",
       "        vertical-align: middle;\n",
       "    }\n",
       "\n",
       "    .dataframe tbody tr th {\n",
       "        vertical-align: top;\n",
       "    }\n",
       "\n",
       "    .dataframe thead th {\n",
       "        text-align: right;\n",
       "    }\n",
       "</style>\n",
       "<table border=\"1\" class=\"dataframe\">\n",
       "  <thead>\n",
       "    <tr style=\"text-align: right;\">\n",
       "      <th>signup_mobile_opt_in</th>\n",
       "      <th>False</th>\n",
       "      <th>True</th>\n",
       "    </tr>\n",
       "    <tr>\n",
       "      <th>signup_email_opt_in</th>\n",
       "      <th></th>\n",
       "      <th></th>\n",
       "    </tr>\n",
       "  </thead>\n",
       "  <tbody>\n",
       "    <tr>\n",
       "      <th>False</th>\n",
       "      <td>3</td>\n",
       "      <td>565</td>\n",
       "    </tr>\n",
       "    <tr>\n",
       "      <th>True</th>\n",
       "      <td>8</td>\n",
       "      <td>1018</td>\n",
       "    </tr>\n",
       "  </tbody>\n",
       "</table>\n",
       "</div>"
      ],
      "text/plain": [
       "signup_mobile_opt_in  False  True \n",
       "signup_email_opt_in               \n",
       "False                     3    565\n",
       "True                      8   1018"
      ]
     },
     "execution_count": 73,
     "metadata": {},
     "output_type": "execute_result"
    }
   ],
   "source": [
    "x = dfDonationFrequency[\"signup_email_opt_in\"] == True\n",
    "y = dfDonationFrequency[\"signup_mobile_opt_in\"] == True\n",
    "dfDonationFreq = pd.crosstab(x,y)\n",
    "dfDonationFreq"
   ]
  },
  {
   "cell_type": "code",
   "execution_count": 74,
   "metadata": {
    "colab": {
     "base_uri": "https://localhost:8080/",
     "height": 142
    },
    "id": "MzMi1U6JgjNK",
    "outputId": "f5eec6aa-4b47-40b7-e163-d341454259d4"
   },
   "outputs": [
    {
     "data": {
      "text/html": [
       "<div>\n",
       "<style scoped>\n",
       "    .dataframe tbody tr th:only-of-type {\n",
       "        vertical-align: middle;\n",
       "    }\n",
       "\n",
       "    .dataframe tbody tr th {\n",
       "        vertical-align: top;\n",
       "    }\n",
       "\n",
       "    .dataframe thead th {\n",
       "        text-align: right;\n",
       "    }\n",
       "</style>\n",
       "<table border=\"1\" class=\"dataframe\">\n",
       "  <thead>\n",
       "    <tr style=\"text-align: right;\">\n",
       "      <th>signup_mobile_opt_in</th>\n",
       "      <th>False</th>\n",
       "      <th>True</th>\n",
       "    </tr>\n",
       "    <tr>\n",
       "      <th>signup_email_opt_in</th>\n",
       "      <th></th>\n",
       "      <th></th>\n",
       "    </tr>\n",
       "  </thead>\n",
       "  <tbody>\n",
       "    <tr>\n",
       "      <th>False</th>\n",
       "      <td>1.0</td>\n",
       "      <td>1.112205</td>\n",
       "    </tr>\n",
       "    <tr>\n",
       "      <th>True</th>\n",
       "      <td>1.0</td>\n",
       "      <td>1.540091</td>\n",
       "    </tr>\n",
       "  </tbody>\n",
       "</table>\n",
       "</div>"
      ],
      "text/plain": [
       "signup_mobile_opt_in  False     True \n",
       "signup_email_opt_in                  \n",
       "False                   1.0  1.112205\n",
       "True                    1.0  1.540091"
      ]
     },
     "execution_count": 74,
     "metadata": {},
     "output_type": "execute_result"
    }
   ],
   "source": [
    "# Ratio of amount of donations to the amount of donors for each opt-in status\n",
    "dfDonationFreq/dfDonorFreq"
   ]
  },
  {
   "cell_type": "markdown",
   "metadata": {
    "id": "xjQ1QFIQic8K"
   },
   "source": [
    "### Opt-In Findings\n",
    "\n"
   ]
  },
  {
   "cell_type": "code",
   "execution_count": 75,
   "metadata": {
    "id": "gxWgtyhIihcf"
   },
   "outputs": [],
   "source": [
    "# From the opt-in status analysis, we have come to a couple conclusions\n",
    "# First, we discovered that the total donation amount for both email-opt-in and \n",
    "# mobile-opt-in are higher when the donors have opted in.\n",
    "# For donors with email-opt-in, the total donation amounted to $63,744.66\n",
    "# without email-opt-in, the total donation amounted to $36,791.77\n",
    "# The average donation amount with email-opt-in is $95.28\n",
    "# The average without email-opt-in is $71.99\n",
    "\n",
    "# For donors with mobile-opt-in, the total donation amounted to $100,061.43\n",
    "# without mobile-opt-in, the total donation amounted to $475\n",
    "# The average donation amount with mobile-opt-in is $85.60\n",
    "# The average without mobile-opt-in is $43.18\n",
    "\n",
    "# From looking at the raw donation amounts and averages, we can see that\n",
    "# donors who have opted for mobile-opt-in on average donate more, and \n",
    "# have a higher donation total\n",
    "\n",
    "# In cell 73, we can see the ratio of the number of donations to the number of donors\n",
    "# categorized by the opt-in status they choose to have.\n",
    "# For donors who have both email and mobile opt-in, the ratio of donations to donors is 1.54\n",
    "# For donors who have only mobile but not email, the ratio is 1.11\n",
    "# All other categories have a 1-to-1 donation to donor ratio.\n",
    "# This shows that donors who are subscribed to both email and mobile\n",
    "# donate more frequently on average\n",
    "\n",
    "# From a managerial perspective, the FBC can make use of this knowledge to plan how they\n",
    "# wish to promote the organisation with respect to the notification opt-in status.\n",
    "# While both opt-in options seem to increase the donation amounts, on average and in whole,\n",
    "# mobile-opt-in seems to have a better effect among donors. \n",
    "# There could be many reasons why FBC's clientele are more responsive with mobile.\n",
    "# This should be one of the main goals, taking a look into the donor profiles with\n",
    "# the objective of not donation amounts, but specifically mobile usage.\n",
    "# Having this question answered, FBC could continue and improve the ways they \n",
    "# communicate through mobile. As well as discovering ways to increase mobile\n",
    "# opt-in statuses.\n"
   ]
  },
  {
   "cell_type": "markdown",
   "metadata": {
    "id": "HMZYLRflwPKc"
   },
   "source": [
    "## Donation Timing"
   ]
  },
  {
   "cell_type": "code",
   "execution_count": 76,
   "metadata": {
    "colab": {
     "base_uri": "https://localhost:8080/",
     "height": 0
    },
    "id": "Mehbb_1jk500",
    "outputId": "6c4860f4-0cfd-4304-cf61-fed908a844b3"
   },
   "outputs": [
    {
     "data": {
      "text/html": [
       "<div>\n",
       "<style scoped>\n",
       "    .dataframe tbody tr th:only-of-type {\n",
       "        vertical-align: middle;\n",
       "    }\n",
       "\n",
       "    .dataframe tbody tr th {\n",
       "        vertical-align: top;\n",
       "    }\n",
       "\n",
       "    .dataframe thead th {\n",
       "        text-align: right;\n",
       "    }\n",
       "</style>\n",
       "<table border=\"1\" class=\"dataframe\">\n",
       "  <thead>\n",
       "    <tr style=\"text-align: right;\">\n",
       "      <th></th>\n",
       "      <th>type</th>\n",
       "      <th>amount</th>\n",
       "      <th>payment_type_name</th>\n",
       "      <th>donor_id</th>\n",
       "      <th>donation_date</th>\n",
       "      <th>donation_type</th>\n",
       "      <th>recurring_donation_status</th>\n",
       "      <th>billing_city</th>\n",
       "      <th>billing_state</th>\n",
       "      <th>billing_FSA</th>\n",
       "      <th>billing_country</th>\n",
       "      <th>billing_country_code</th>\n",
       "      <th>signup_email_opt_in</th>\n",
       "      <th>signup_mobile_opt_in</th>\n",
       "      <th>signup_point_person_name_or_email</th>\n",
       "      <th>signup_tag_list</th>\n",
       "      <th>donation_month_year</th>\n",
       "    </tr>\n",
       "    <tr>\n",
       "      <th>nationbuilder_id</th>\n",
       "      <th></th>\n",
       "      <th></th>\n",
       "      <th></th>\n",
       "      <th></th>\n",
       "      <th></th>\n",
       "      <th></th>\n",
       "      <th></th>\n",
       "      <th></th>\n",
       "      <th></th>\n",
       "      <th></th>\n",
       "      <th></th>\n",
       "      <th></th>\n",
       "      <th></th>\n",
       "      <th></th>\n",
       "      <th></th>\n",
       "      <th></th>\n",
       "      <th></th>\n",
       "    </tr>\n",
       "  </thead>\n",
       "  <tbody>\n",
       "    <tr>\n",
       "      <th>1</th>\n",
       "      <td>Donation</td>\n",
       "      <td>125.0</td>\n",
       "      <td>Credit Card</td>\n",
       "      <td>541</td>\n",
       "      <td>1/8/2020 12:41</td>\n",
       "      <td>NaN</td>\n",
       "      <td>NaN</td>\n",
       "      <td>Markham</td>\n",
       "      <td>Ontario</td>\n",
       "      <td>L3P</td>\n",
       "      <td>Canada</td>\n",
       "      <td>CA</td>\n",
       "      <td>True</td>\n",
       "      <td>True</td>\n",
       "      <td>Chris Thompson</td>\n",
       "      <td>Black Fund Signatory,defundpolicesurvey,Genera...</td>\n",
       "      <td>2020-01</td>\n",
       "    </tr>\n",
       "    <tr>\n",
       "      <th>10</th>\n",
       "      <td>Donation</td>\n",
       "      <td>25.0</td>\n",
       "      <td>Credit Card</td>\n",
       "      <td>5509</td>\n",
       "      <td>5/11/2020 22:10</td>\n",
       "      <td>annual_membership_fee</td>\n",
       "      <td>NaN</td>\n",
       "      <td>St-Hubert</td>\n",
       "      <td>Quebec</td>\n",
       "      <td>J4T</td>\n",
       "      <td>Canada</td>\n",
       "      <td>CA</td>\n",
       "      <td>True</td>\n",
       "      <td>True</td>\n",
       "      <td>NaN</td>\n",
       "      <td>FR,General Member,newsletter,Ontario,Paid Memb...</td>\n",
       "      <td>2020-05</td>\n",
       "    </tr>\n",
       "    <tr>\n",
       "      <th>100</th>\n",
       "      <td>Donation</td>\n",
       "      <td>15.0</td>\n",
       "      <td>Credit Card</td>\n",
       "      <td>6039</td>\n",
       "      <td>6/1/2020 16:53</td>\n",
       "      <td>general_donation</td>\n",
       "      <td>NaN</td>\n",
       "      <td>Ottawa</td>\n",
       "      <td>Ontario</td>\n",
       "      <td>K1G</td>\n",
       "      <td>Canada</td>\n",
       "      <td>CA</td>\n",
       "      <td>NaN</td>\n",
       "      <td>True</td>\n",
       "      <td>Chris Thompson</td>\n",
       "      <td>donor</td>\n",
       "      <td>2020-06</td>\n",
       "    </tr>\n",
       "    <tr>\n",
       "      <th>1000</th>\n",
       "      <td>Donation</td>\n",
       "      <td>15.0</td>\n",
       "      <td>Credit Card</td>\n",
       "      <td>7233</td>\n",
       "      <td>6/11/2020 17:30</td>\n",
       "      <td>general_donation</td>\n",
       "      <td>NaN</td>\n",
       "      <td>Orillia</td>\n",
       "      <td>ON</td>\n",
       "      <td>L3V</td>\n",
       "      <td>Canada</td>\n",
       "      <td>CA</td>\n",
       "      <td>NaN</td>\n",
       "      <td>True</td>\n",
       "      <td>NaN</td>\n",
       "      <td>donor,Elder Prospects,General Member,Non - bla...</td>\n",
       "      <td>2020-06</td>\n",
       "    </tr>\n",
       "    <tr>\n",
       "      <th>1001</th>\n",
       "      <td>Donation</td>\n",
       "      <td>100.0</td>\n",
       "      <td>Credit Card</td>\n",
       "      <td>7234</td>\n",
       "      <td>6/11/2020 17:38</td>\n",
       "      <td>general_donation</td>\n",
       "      <td>NaN</td>\n",
       "      <td>Mississauga</td>\n",
       "      <td>Ontario</td>\n",
       "      <td>L5G</td>\n",
       "      <td>Canada</td>\n",
       "      <td>CA</td>\n",
       "      <td>True</td>\n",
       "      <td>True</td>\n",
       "      <td>NaN</td>\n",
       "      <td>donor</td>\n",
       "      <td>2020-06</td>\n",
       "    </tr>\n",
       "  </tbody>\n",
       "</table>\n",
       "</div>"
      ],
      "text/plain": [
       "                      type  ...  donation_month_year\n",
       "nationbuilder_id            ...                     \n",
       "1                 Donation  ...              2020-01\n",
       "10                Donation  ...              2020-05\n",
       "100               Donation  ...              2020-06\n",
       "1000              Donation  ...              2020-06\n",
       "1001              Donation  ...              2020-06\n",
       "\n",
       "[5 rows x 17 columns]"
      ]
     },
     "execution_count": 76,
     "metadata": {},
     "output_type": "execute_result"
    }
   ],
   "source": [
    "# Donation in different months.\n",
    "dfDonations['donation_month_year'] = pd.to_datetime(dfDonations['donation_date']).dt.to_period('M')\n",
    "dfDonations.head(5)"
   ]
  },
  {
   "cell_type": "code",
   "execution_count": 77,
   "metadata": {
    "colab": {
     "base_uri": "https://localhost:8080/",
     "height": 0
    },
    "id": "n2uSzSwBmCXA",
    "outputId": "54d5a110-95f3-4f69-d142-9adb6a25e0a2"
   },
   "outputs": [
    {
     "data": {
      "text/html": [
       "<div>\n",
       "<style scoped>\n",
       "    .dataframe tbody tr th:only-of-type {\n",
       "        vertical-align: middle;\n",
       "    }\n",
       "\n",
       "    .dataframe tbody tr th {\n",
       "        vertical-align: top;\n",
       "    }\n",
       "\n",
       "    .dataframe thead th {\n",
       "        text-align: right;\n",
       "    }\n",
       "</style>\n",
       "<table border=\"1\" class=\"dataframe\">\n",
       "  <thead>\n",
       "    <tr style=\"text-align: right;\">\n",
       "      <th></th>\n",
       "      <th>type</th>\n",
       "      <th>amount</th>\n",
       "      <th>payment_type_name</th>\n",
       "      <th>donor_id</th>\n",
       "      <th>donation_date</th>\n",
       "      <th>donation_type</th>\n",
       "      <th>recurring_donation_status</th>\n",
       "      <th>billing_city</th>\n",
       "      <th>billing_state</th>\n",
       "      <th>billing_FSA</th>\n",
       "      <th>billing_country</th>\n",
       "      <th>billing_country_code</th>\n",
       "      <th>signup_email_opt_in</th>\n",
       "      <th>signup_mobile_opt_in</th>\n",
       "      <th>signup_point_person_name_or_email</th>\n",
       "      <th>signup_tag_list</th>\n",
       "    </tr>\n",
       "    <tr>\n",
       "      <th>donation_month_year</th>\n",
       "      <th></th>\n",
       "      <th></th>\n",
       "      <th></th>\n",
       "      <th></th>\n",
       "      <th></th>\n",
       "      <th></th>\n",
       "      <th></th>\n",
       "      <th></th>\n",
       "      <th></th>\n",
       "      <th></th>\n",
       "      <th></th>\n",
       "      <th></th>\n",
       "      <th></th>\n",
       "      <th></th>\n",
       "      <th></th>\n",
       "      <th></th>\n",
       "    </tr>\n",
       "  </thead>\n",
       "  <tbody>\n",
       "    <tr>\n",
       "      <th>2020-06</th>\n",
       "      <td>1024</td>\n",
       "      <td>1024</td>\n",
       "      <td>1024</td>\n",
       "      <td>1024</td>\n",
       "      <td>1024</td>\n",
       "      <td>1024</td>\n",
       "      <td>34</td>\n",
       "      <td>1024</td>\n",
       "      <td>1005</td>\n",
       "      <td>1024</td>\n",
       "      <td>1024</td>\n",
       "      <td>1024</td>\n",
       "      <td>561</td>\n",
       "      <td>1018</td>\n",
       "      <td>406</td>\n",
       "      <td>1020</td>\n",
       "    </tr>\n",
       "    <tr>\n",
       "      <th>2020-07</th>\n",
       "      <td>77</td>\n",
       "      <td>77</td>\n",
       "      <td>77</td>\n",
       "      <td>77</td>\n",
       "      <td>77</td>\n",
       "      <td>77</td>\n",
       "      <td>35</td>\n",
       "      <td>77</td>\n",
       "      <td>76</td>\n",
       "      <td>77</td>\n",
       "      <td>77</td>\n",
       "      <td>77</td>\n",
       "      <td>55</td>\n",
       "      <td>77</td>\n",
       "      <td>5</td>\n",
       "      <td>73</td>\n",
       "    </tr>\n",
       "    <tr>\n",
       "      <th>2020-05</th>\n",
       "      <td>67</td>\n",
       "      <td>67</td>\n",
       "      <td>67</td>\n",
       "      <td>67</td>\n",
       "      <td>67</td>\n",
       "      <td>67</td>\n",
       "      <td>5</td>\n",
       "      <td>67</td>\n",
       "      <td>66</td>\n",
       "      <td>67</td>\n",
       "      <td>67</td>\n",
       "      <td>67</td>\n",
       "      <td>46</td>\n",
       "      <td>66</td>\n",
       "      <td>57</td>\n",
       "      <td>67</td>\n",
       "    </tr>\n",
       "    <tr>\n",
       "      <th>2020-08</th>\n",
       "      <td>51</td>\n",
       "      <td>51</td>\n",
       "      <td>51</td>\n",
       "      <td>51</td>\n",
       "      <td>51</td>\n",
       "      <td>51</td>\n",
       "      <td>35</td>\n",
       "      <td>51</td>\n",
       "      <td>50</td>\n",
       "      <td>51</td>\n",
       "      <td>51</td>\n",
       "      <td>51</td>\n",
       "      <td>37</td>\n",
       "      <td>50</td>\n",
       "      <td>7</td>\n",
       "      <td>48</td>\n",
       "    </tr>\n",
       "    <tr>\n",
       "      <th>2020-09</th>\n",
       "      <td>44</td>\n",
       "      <td>44</td>\n",
       "      <td>44</td>\n",
       "      <td>44</td>\n",
       "      <td>44</td>\n",
       "      <td>44</td>\n",
       "      <td>34</td>\n",
       "      <td>44</td>\n",
       "      <td>42</td>\n",
       "      <td>44</td>\n",
       "      <td>44</td>\n",
       "      <td>44</td>\n",
       "      <td>36</td>\n",
       "      <td>44</td>\n",
       "      <td>5</td>\n",
       "      <td>41</td>\n",
       "    </tr>\n",
       "    <tr>\n",
       "      <th>2020-12</th>\n",
       "      <td>42</td>\n",
       "      <td>42</td>\n",
       "      <td>42</td>\n",
       "      <td>42</td>\n",
       "      <td>42</td>\n",
       "      <td>42</td>\n",
       "      <td>33</td>\n",
       "      <td>42</td>\n",
       "      <td>41</td>\n",
       "      <td>42</td>\n",
       "      <td>42</td>\n",
       "      <td>42</td>\n",
       "      <td>37</td>\n",
       "      <td>42</td>\n",
       "      <td>7</td>\n",
       "      <td>41</td>\n",
       "    </tr>\n",
       "    <tr>\n",
       "      <th>2020-10</th>\n",
       "      <td>41</td>\n",
       "      <td>41</td>\n",
       "      <td>41</td>\n",
       "      <td>41</td>\n",
       "      <td>41</td>\n",
       "      <td>41</td>\n",
       "      <td>33</td>\n",
       "      <td>41</td>\n",
       "      <td>39</td>\n",
       "      <td>41</td>\n",
       "      <td>41</td>\n",
       "      <td>41</td>\n",
       "      <td>36</td>\n",
       "      <td>41</td>\n",
       "      <td>5</td>\n",
       "      <td>39</td>\n",
       "    </tr>\n",
       "    <tr>\n",
       "      <th>2020-11</th>\n",
       "      <td>41</td>\n",
       "      <td>41</td>\n",
       "      <td>41</td>\n",
       "      <td>41</td>\n",
       "      <td>41</td>\n",
       "      <td>41</td>\n",
       "      <td>34</td>\n",
       "      <td>41</td>\n",
       "      <td>40</td>\n",
       "      <td>41</td>\n",
       "      <td>41</td>\n",
       "      <td>41</td>\n",
       "      <td>35</td>\n",
       "      <td>40</td>\n",
       "      <td>5</td>\n",
       "      <td>39</td>\n",
       "    </tr>\n",
       "    <tr>\n",
       "      <th>2021-01</th>\n",
       "      <td>39</td>\n",
       "      <td>39</td>\n",
       "      <td>39</td>\n",
       "      <td>39</td>\n",
       "      <td>39</td>\n",
       "      <td>39</td>\n",
       "      <td>31</td>\n",
       "      <td>39</td>\n",
       "      <td>37</td>\n",
       "      <td>39</td>\n",
       "      <td>39</td>\n",
       "      <td>39</td>\n",
       "      <td>34</td>\n",
       "      <td>38</td>\n",
       "      <td>7</td>\n",
       "      <td>39</td>\n",
       "    </tr>\n",
       "    <tr>\n",
       "      <th>2021-02</th>\n",
       "      <td>39</td>\n",
       "      <td>39</td>\n",
       "      <td>39</td>\n",
       "      <td>39</td>\n",
       "      <td>39</td>\n",
       "      <td>39</td>\n",
       "      <td>30</td>\n",
       "      <td>39</td>\n",
       "      <td>38</td>\n",
       "      <td>39</td>\n",
       "      <td>39</td>\n",
       "      <td>39</td>\n",
       "      <td>32</td>\n",
       "      <td>39</td>\n",
       "      <td>5</td>\n",
       "      <td>39</td>\n",
       "    </tr>\n",
       "    <tr>\n",
       "      <th>2021-03</th>\n",
       "      <td>32</td>\n",
       "      <td>32</td>\n",
       "      <td>32</td>\n",
       "      <td>32</td>\n",
       "      <td>32</td>\n",
       "      <td>32</td>\n",
       "      <td>29</td>\n",
       "      <td>32</td>\n",
       "      <td>31</td>\n",
       "      <td>32</td>\n",
       "      <td>32</td>\n",
       "      <td>32</td>\n",
       "      <td>28</td>\n",
       "      <td>32</td>\n",
       "      <td>5</td>\n",
       "      <td>32</td>\n",
       "    </tr>\n",
       "    <tr>\n",
       "      <th>2021-04</th>\n",
       "      <td>28</td>\n",
       "      <td>28</td>\n",
       "      <td>28</td>\n",
       "      <td>28</td>\n",
       "      <td>28</td>\n",
       "      <td>28</td>\n",
       "      <td>25</td>\n",
       "      <td>28</td>\n",
       "      <td>27</td>\n",
       "      <td>28</td>\n",
       "      <td>28</td>\n",
       "      <td>28</td>\n",
       "      <td>26</td>\n",
       "      <td>28</td>\n",
       "      <td>7</td>\n",
       "      <td>28</td>\n",
       "    </tr>\n",
       "    <tr>\n",
       "      <th>2021-06</th>\n",
       "      <td>26</td>\n",
       "      <td>26</td>\n",
       "      <td>26</td>\n",
       "      <td>26</td>\n",
       "      <td>26</td>\n",
       "      <td>26</td>\n",
       "      <td>23</td>\n",
       "      <td>26</td>\n",
       "      <td>25</td>\n",
       "      <td>26</td>\n",
       "      <td>26</td>\n",
       "      <td>26</td>\n",
       "      <td>24</td>\n",
       "      <td>25</td>\n",
       "      <td>5</td>\n",
       "      <td>26</td>\n",
       "    </tr>\n",
       "    <tr>\n",
       "      <th>2021-05</th>\n",
       "      <td>26</td>\n",
       "      <td>26</td>\n",
       "      <td>26</td>\n",
       "      <td>26</td>\n",
       "      <td>26</td>\n",
       "      <td>26</td>\n",
       "      <td>23</td>\n",
       "      <td>26</td>\n",
       "      <td>25</td>\n",
       "      <td>26</td>\n",
       "      <td>26</td>\n",
       "      <td>26</td>\n",
       "      <td>24</td>\n",
       "      <td>26</td>\n",
       "      <td>5</td>\n",
       "      <td>26</td>\n",
       "    </tr>\n",
       "    <tr>\n",
       "      <th>2021-07</th>\n",
       "      <td>10</td>\n",
       "      <td>10</td>\n",
       "      <td>10</td>\n",
       "      <td>10</td>\n",
       "      <td>10</td>\n",
       "      <td>10</td>\n",
       "      <td>9</td>\n",
       "      <td>10</td>\n",
       "      <td>10</td>\n",
       "      <td>10</td>\n",
       "      <td>10</td>\n",
       "      <td>10</td>\n",
       "      <td>9</td>\n",
       "      <td>10</td>\n",
       "      <td>4</td>\n",
       "      <td>10</td>\n",
       "    </tr>\n",
       "    <tr>\n",
       "      <th>2020-01</th>\n",
       "      <td>3</td>\n",
       "      <td>3</td>\n",
       "      <td>3</td>\n",
       "      <td>3</td>\n",
       "      <td>3</td>\n",
       "      <td>2</td>\n",
       "      <td>0</td>\n",
       "      <td>3</td>\n",
       "      <td>3</td>\n",
       "      <td>3</td>\n",
       "      <td>3</td>\n",
       "      <td>3</td>\n",
       "      <td>2</td>\n",
       "      <td>3</td>\n",
       "      <td>2</td>\n",
       "      <td>3</td>\n",
       "    </tr>\n",
       "    <tr>\n",
       "      <th>2020-04</th>\n",
       "      <td>2</td>\n",
       "      <td>2</td>\n",
       "      <td>2</td>\n",
       "      <td>2</td>\n",
       "      <td>2</td>\n",
       "      <td>2</td>\n",
       "      <td>0</td>\n",
       "      <td>2</td>\n",
       "      <td>2</td>\n",
       "      <td>2</td>\n",
       "      <td>2</td>\n",
       "      <td>2</td>\n",
       "      <td>2</td>\n",
       "      <td>2</td>\n",
       "      <td>0</td>\n",
       "      <td>2</td>\n",
       "    </tr>\n",
       "    <tr>\n",
       "      <th>2020-02</th>\n",
       "      <td>1</td>\n",
       "      <td>1</td>\n",
       "      <td>1</td>\n",
       "      <td>1</td>\n",
       "      <td>1</td>\n",
       "      <td>1</td>\n",
       "      <td>0</td>\n",
       "      <td>1</td>\n",
       "      <td>1</td>\n",
       "      <td>1</td>\n",
       "      <td>1</td>\n",
       "      <td>1</td>\n",
       "      <td>1</td>\n",
       "      <td>1</td>\n",
       "      <td>1</td>\n",
       "      <td>1</td>\n",
       "    </tr>\n",
       "    <tr>\n",
       "      <th>2020-03</th>\n",
       "      <td>1</td>\n",
       "      <td>1</td>\n",
       "      <td>1</td>\n",
       "      <td>1</td>\n",
       "      <td>1</td>\n",
       "      <td>1</td>\n",
       "      <td>0</td>\n",
       "      <td>1</td>\n",
       "      <td>1</td>\n",
       "      <td>1</td>\n",
       "      <td>1</td>\n",
       "      <td>1</td>\n",
       "      <td>1</td>\n",
       "      <td>1</td>\n",
       "      <td>1</td>\n",
       "      <td>1</td>\n",
       "    </tr>\n",
       "  </tbody>\n",
       "</table>\n",
       "</div>"
      ],
      "text/plain": [
       "                     type  ...  signup_tag_list\n",
       "donation_month_year        ...                 \n",
       "2020-06              1024  ...             1020\n",
       "2020-07                77  ...               73\n",
       "2020-05                67  ...               67\n",
       "2020-08                51  ...               48\n",
       "2020-09                44  ...               41\n",
       "2020-12                42  ...               41\n",
       "2020-10                41  ...               39\n",
       "2020-11                41  ...               39\n",
       "2021-01                39  ...               39\n",
       "2021-02                39  ...               39\n",
       "2021-03                32  ...               32\n",
       "2021-04                28  ...               28\n",
       "2021-06                26  ...               26\n",
       "2021-05                26  ...               26\n",
       "2021-07                10  ...               10\n",
       "2020-01                 3  ...                3\n",
       "2020-04                 2  ...                2\n",
       "2020-02                 1  ...                1\n",
       "2020-03                 1  ...                1\n",
       "\n",
       "[19 rows x 16 columns]"
      ]
     },
     "execution_count": 77,
     "metadata": {},
     "output_type": "execute_result"
    }
   ],
   "source": [
    "groupDate = dfDonations.groupby(\"donation_month_year\")\n",
    "DonationDate = groupDate.count()\n",
    "DonationDate.sort_values(by=\"donor_id\", ascending=False)"
   ]
  },
  {
   "cell_type": "code",
   "execution_count": 78,
   "metadata": {
    "colab": {
     "base_uri": "https://localhost:8080/",
     "height": 0
    },
    "id": "lPwEEDonmQsl",
    "outputId": "766c3931-130a-4594-fc63-5f8476e6575d"
   },
   "outputs": [
    {
     "data": {
      "image/png": "[encoded data removed]",
      "text/plain": [
       "<Figure size 432x288 with 1 Axes>"
      ]
     },
     "metadata": {
      "needs_background": "light"
     },
     "output_type": "display_data"
    },
    {
     "data": {
      "image/png": "[encoded data removed]",
      "text/plain": [
       "<Figure size 432x288 with 1 Axes>"
      ]
     },
     "metadata": {
      "needs_background": "light"
     },
     "output_type": "display_data"
    }
   ],
   "source": [
    "DonationDate[\"type\"].plot.bar() \n",
    "plt.xlabel(\"Months\")\n",
    "plt.ylabel(\"Number of Donations Received\")\n",
    "plt.show()\n",
    "\n",
    "DonationDate[\"type\"].plot.line() \n",
    "plt.xlabel(\"Months\")\n",
    "plt.ylabel(\"Number of Donations Received\")\n",
    "plt.show()"
   ]
  },
  {
   "cell_type": "code",
   "execution_count": 79,
   "metadata": {
    "colab": {
     "base_uri": "https://localhost:8080/",
     "height": 0
    },
    "id": "M6YAC1U2sbYK",
    "outputId": "f5c1715b-60c3-484e-d7a1-d967295f3d8e"
   },
   "outputs": [
    {
     "data": {
      "text/html": [
       "<div>\n",
       "<style scoped>\n",
       "    .dataframe tbody tr th:only-of-type {\n",
       "        vertical-align: middle;\n",
       "    }\n",
       "\n",
       "    .dataframe tbody tr th {\n",
       "        vertical-align: top;\n",
       "    }\n",
       "\n",
       "    .dataframe thead th {\n",
       "        text-align: right;\n",
       "    }\n",
       "</style>\n",
       "<table border=\"1\" class=\"dataframe\">\n",
       "  <thead>\n",
       "    <tr style=\"text-align: right;\">\n",
       "      <th></th>\n",
       "      <th>count</th>\n",
       "      <th>mean</th>\n",
       "      <th>std</th>\n",
       "      <th>min</th>\n",
       "      <th>25%</th>\n",
       "      <th>50%</th>\n",
       "      <th>75%</th>\n",
       "      <th>max</th>\n",
       "    </tr>\n",
       "    <tr>\n",
       "      <th>donation_month_year</th>\n",
       "      <th></th>\n",
       "      <th></th>\n",
       "      <th></th>\n",
       "      <th></th>\n",
       "      <th></th>\n",
       "      <th></th>\n",
       "      <th></th>\n",
       "      <th></th>\n",
       "    </tr>\n",
       "  </thead>\n",
       "  <tbody>\n",
       "    <tr>\n",
       "      <th>2020-01</th>\n",
       "      <td>3.0</td>\n",
       "      <td>66.666667</td>\n",
       "      <td>52.041650</td>\n",
       "      <td>25.0</td>\n",
       "      <td>37.5</td>\n",
       "      <td>50.00</td>\n",
       "      <td>87.50</td>\n",
       "      <td>125.0</td>\n",
       "    </tr>\n",
       "    <tr>\n",
       "      <th>2020-02</th>\n",
       "      <td>1.0</td>\n",
       "      <td>25.000000</td>\n",
       "      <td>NaN</td>\n",
       "      <td>25.0</td>\n",
       "      <td>25.0</td>\n",
       "      <td>25.00</td>\n",
       "      <td>25.00</td>\n",
       "      <td>25.0</td>\n",
       "    </tr>\n",
       "    <tr>\n",
       "      <th>2020-03</th>\n",
       "      <td>1.0</td>\n",
       "      <td>25.000000</td>\n",
       "      <td>NaN</td>\n",
       "      <td>25.0</td>\n",
       "      <td>25.0</td>\n",
       "      <td>25.00</td>\n",
       "      <td>25.00</td>\n",
       "      <td>25.0</td>\n",
       "    </tr>\n",
       "    <tr>\n",
       "      <th>2020-04</th>\n",
       "      <td>2.0</td>\n",
       "      <td>25.000000</td>\n",
       "      <td>0.000000</td>\n",
       "      <td>25.0</td>\n",
       "      <td>25.0</td>\n",
       "      <td>25.00</td>\n",
       "      <td>25.00</td>\n",
       "      <td>25.0</td>\n",
       "    </tr>\n",
       "    <tr>\n",
       "      <th>2020-05</th>\n",
       "      <td>67.0</td>\n",
       "      <td>46.507463</td>\n",
       "      <td>38.344283</td>\n",
       "      <td>5.0</td>\n",
       "      <td>25.0</td>\n",
       "      <td>25.00</td>\n",
       "      <td>50.00</td>\n",
       "      <td>250.0</td>\n",
       "    </tr>\n",
       "    <tr>\n",
       "      <th>2020-06</th>\n",
       "      <td>1024.0</td>\n",
       "      <td>74.444365</td>\n",
       "      <td>186.813261</td>\n",
       "      <td>0.5</td>\n",
       "      <td>25.0</td>\n",
       "      <td>40.00</td>\n",
       "      <td>75.35</td>\n",
       "      <td>3500.0</td>\n",
       "    </tr>\n",
       "    <tr>\n",
       "      <th>2020-07</th>\n",
       "      <td>77.0</td>\n",
       "      <td>119.263766</td>\n",
       "      <td>333.906767</td>\n",
       "      <td>3.0</td>\n",
       "      <td>15.0</td>\n",
       "      <td>25.00</td>\n",
       "      <td>50.00</td>\n",
       "      <td>2000.0</td>\n",
       "    </tr>\n",
       "    <tr>\n",
       "      <th>2020-08</th>\n",
       "      <td>51.0</td>\n",
       "      <td>43.670392</td>\n",
       "      <td>71.284340</td>\n",
       "      <td>3.0</td>\n",
       "      <td>10.0</td>\n",
       "      <td>25.00</td>\n",
       "      <td>27.50</td>\n",
       "      <td>400.0</td>\n",
       "    </tr>\n",
       "    <tr>\n",
       "      <th>2020-09</th>\n",
       "      <td>44.0</td>\n",
       "      <td>54.159091</td>\n",
       "      <td>147.742539</td>\n",
       "      <td>3.0</td>\n",
       "      <td>10.0</td>\n",
       "      <td>25.00</td>\n",
       "      <td>25.00</td>\n",
       "      <td>980.0</td>\n",
       "    </tr>\n",
       "    <tr>\n",
       "      <th>2020-10</th>\n",
       "      <td>41.0</td>\n",
       "      <td>41.170732</td>\n",
       "      <td>123.241410</td>\n",
       "      <td>3.0</td>\n",
       "      <td>10.0</td>\n",
       "      <td>25.00</td>\n",
       "      <td>25.00</td>\n",
       "      <td>800.0</td>\n",
       "    </tr>\n",
       "    <tr>\n",
       "      <th>2020-11</th>\n",
       "      <td>41.0</td>\n",
       "      <td>32.073171</td>\n",
       "      <td>48.968556</td>\n",
       "      <td>3.0</td>\n",
       "      <td>10.0</td>\n",
       "      <td>25.00</td>\n",
       "      <td>25.00</td>\n",
       "      <td>290.0</td>\n",
       "    </tr>\n",
       "    <tr>\n",
       "      <th>2020-12</th>\n",
       "      <td>42.0</td>\n",
       "      <td>81.654762</td>\n",
       "      <td>198.839023</td>\n",
       "      <td>3.0</td>\n",
       "      <td>10.0</td>\n",
       "      <td>25.00</td>\n",
       "      <td>50.00</td>\n",
       "      <td>1000.0</td>\n",
       "    </tr>\n",
       "    <tr>\n",
       "      <th>2021-01</th>\n",
       "      <td>39.0</td>\n",
       "      <td>27.512821</td>\n",
       "      <td>27.571793</td>\n",
       "      <td>3.0</td>\n",
       "      <td>10.0</td>\n",
       "      <td>25.00</td>\n",
       "      <td>25.00</td>\n",
       "      <td>100.0</td>\n",
       "    </tr>\n",
       "    <tr>\n",
       "      <th>2021-02</th>\n",
       "      <td>39.0</td>\n",
       "      <td>175.769231</td>\n",
       "      <td>808.395339</td>\n",
       "      <td>2.0</td>\n",
       "      <td>10.0</td>\n",
       "      <td>25.00</td>\n",
       "      <td>25.00</td>\n",
       "      <td>5000.0</td>\n",
       "    </tr>\n",
       "    <tr>\n",
       "      <th>2021-03</th>\n",
       "      <td>32.0</td>\n",
       "      <td>36.812500</td>\n",
       "      <td>86.689821</td>\n",
       "      <td>3.0</td>\n",
       "      <td>10.0</td>\n",
       "      <td>25.00</td>\n",
       "      <td>25.00</td>\n",
       "      <td>500.0</td>\n",
       "    </tr>\n",
       "    <tr>\n",
       "      <th>2021-04</th>\n",
       "      <td>28.0</td>\n",
       "      <td>19.375000</td>\n",
       "      <td>17.928162</td>\n",
       "      <td>3.0</td>\n",
       "      <td>10.0</td>\n",
       "      <td>19.75</td>\n",
       "      <td>25.00</td>\n",
       "      <td>100.0</td>\n",
       "    </tr>\n",
       "    <tr>\n",
       "      <th>2021-05</th>\n",
       "      <td>26.0</td>\n",
       "      <td>26.269231</td>\n",
       "      <td>30.930319</td>\n",
       "      <td>3.0</td>\n",
       "      <td>10.0</td>\n",
       "      <td>22.50</td>\n",
       "      <td>25.00</td>\n",
       "      <td>120.0</td>\n",
       "    </tr>\n",
       "    <tr>\n",
       "      <th>2021-06</th>\n",
       "      <td>26.0</td>\n",
       "      <td>21.461538</td>\n",
       "      <td>19.192146</td>\n",
       "      <td>3.0</td>\n",
       "      <td>10.0</td>\n",
       "      <td>25.00</td>\n",
       "      <td>25.00</td>\n",
       "      <td>100.0</td>\n",
       "    </tr>\n",
       "    <tr>\n",
       "      <th>2021-07</th>\n",
       "      <td>10.0</td>\n",
       "      <td>23.800000</td>\n",
       "      <td>28.224497</td>\n",
       "      <td>3.0</td>\n",
       "      <td>10.0</td>\n",
       "      <td>17.50</td>\n",
       "      <td>25.00</td>\n",
       "      <td>100.0</td>\n",
       "    </tr>\n",
       "  </tbody>\n",
       "</table>\n",
       "</div>"
      ],
      "text/plain": [
       "                      count        mean         std  ...    50%    75%     max\n",
       "donation_month_year                                  ...                      \n",
       "2020-01                 3.0   66.666667   52.041650  ...  50.00  87.50   125.0\n",
       "2020-02                 1.0   25.000000         NaN  ...  25.00  25.00    25.0\n",
       "2020-03                 1.0   25.000000         NaN  ...  25.00  25.00    25.0\n",
       "2020-04                 2.0   25.000000    0.000000  ...  25.00  25.00    25.0\n",
       "2020-05                67.0   46.507463   38.344283  ...  25.00  50.00   250.0\n",
       "2020-06              1024.0   74.444365  186.813261  ...  40.00  75.35  3500.0\n",
       "2020-07                77.0  119.263766  333.906767  ...  25.00  50.00  2000.0\n",
       "2020-08                51.0   43.670392   71.284340  ...  25.00  27.50   400.0\n",
       "2020-09                44.0   54.159091  147.742539  ...  25.00  25.00   980.0\n",
       "2020-10                41.0   41.170732  123.241410  ...  25.00  25.00   800.0\n",
       "2020-11                41.0   32.073171   48.968556  ...  25.00  25.00   290.0\n",
       "2020-12                42.0   81.654762  198.839023  ...  25.00  50.00  1000.0\n",
       "2021-01                39.0   27.512821   27.571793  ...  25.00  25.00   100.0\n",
       "2021-02                39.0  175.769231  808.395339  ...  25.00  25.00  5000.0\n",
       "2021-03                32.0   36.812500   86.689821  ...  25.00  25.00   500.0\n",
       "2021-04                28.0   19.375000   17.928162  ...  19.75  25.00   100.0\n",
       "2021-05                26.0   26.269231   30.930319  ...  22.50  25.00   120.0\n",
       "2021-06                26.0   21.461538   19.192146  ...  25.00  25.00   100.0\n",
       "2021-07                10.0   23.800000   28.224497  ...  17.50  25.00   100.0\n",
       "\n",
       "[19 rows x 8 columns]"
      ]
     },
     "execution_count": 79,
     "metadata": {},
     "output_type": "execute_result"
    }
   ],
   "source": [
    "groupDate[\"amount\"].describe()"
   ]
  },
  {
   "cell_type": "code",
   "execution_count": 80,
   "metadata": {
    "colab": {
     "base_uri": "https://localhost:8080/"
    },
    "id": "o9mr3Oh2sx-M",
    "outputId": "941e405b-d3cc-4590-f2fb-d1147f3537da"
   },
   "outputs": [
    {
     "data": {
      "text/plain": [
       "donation_month_year\n",
       "2020-01      200.00\n",
       "2020-02       25.00\n",
       "2020-03       25.00\n",
       "2020-04       50.00\n",
       "2020-05     3116.00\n",
       "2020-06    76231.03\n",
       "2020-07     9183.31\n",
       "2020-08     2227.19\n",
       "2020-09     2383.00\n",
       "2020-10     1688.00\n",
       "2020-11     1315.00\n",
       "2020-12     3429.50\n",
       "2021-01     1073.00\n",
       "2021-02     6855.00\n",
       "2021-03     1178.00\n",
       "2021-04      542.50\n",
       "2021-05      683.00\n",
       "2021-06      558.00\n",
       "2021-07      238.00\n",
       "Freq: M, Name: amount, dtype: float64"
      ]
     },
     "execution_count": 80,
     "metadata": {},
     "output_type": "execute_result"
    }
   ],
   "source": [
    "MonthlyAmt = groupDate[\"amount\"].sum()\n",
    "MonthlyAmt"
   ]
  },
  {
   "cell_type": "code",
   "execution_count": 81,
   "metadata": {
    "colab": {
     "base_uri": "https://localhost:8080/",
     "height": 0
    },
    "id": "WNeYga8Es4FG",
    "outputId": "0973694b-4025-422d-d7e4-44fd4c89d4e1"
   },
   "outputs": [
    {
     "data": {
      "image/png": "[encoded data removed]",
      "text/plain": [
       "<Figure size 432x288 with 1 Axes>"
      ]
     },
     "metadata": {
      "needs_background": "light"
     },
     "output_type": "display_data"
    },
    {
     "data": {
      "image/png": "[encoded data removed]",
      "text/plain": [
       "<Figure size 432x288 with 1 Axes>"
      ]
     },
     "metadata": {
      "needs_background": "light"
     },
     "output_type": "display_data"
    }
   ],
   "source": [
    "MonthlyAmt.plot.bar() \n",
    "plt.xlabel(\"Months\")\n",
    "plt.ylabel(\"Dollar Amount of Donations Received\")\n",
    "plt.show()\n",
    "\n",
    "MonthlyAmt.plot.line() \n",
    "plt.xlabel(\"Months\")\n",
    "plt.ylabel(\"Dollar Amount of Donations Received\")\n",
    "plt.show()"
   ]
  },
  {
   "cell_type": "code",
   "execution_count": 82,
   "metadata": {
    "id": "70inKlWFtUwk"
   },
   "outputs": [],
   "source": [
    "# What we can spot is in July 2020, the number of donations we received are significantly higher than other months and the dollar amount of donations are \n",
    "# significantly higher as well. We need to investigate how the occurance of certain social events impact the number of donation we received. How we can attract \n",
    "# more one-time donors through these events and to convert those one-time donors into recurring ones later on. We can also notice that although some of the months\n",
    "# has received similar numbers of donations but the dollar amount received in those months varies."
   ]
  },
  {
   "cell_type": "markdown",
   "metadata": {
    "id": "mIXlerl8xA3Q"
   },
   "source": [
    "## Correlations"
   ]
  },
  {
   "cell_type": "code",
   "execution_count": 83,
   "metadata": {
    "id": "PVPRtyoipn_H"
   },
   "outputs": [],
   "source": [
    "# Are there any sign up factors that can predict a high donation amount?\n",
    "# From the data, a donor's donation type, recurring status, and opt-in status are recorded.\n",
    "# This section will investigate the relationship between these factors and the value of a donation.\n",
    "# We will look to assign a coefficient value for the factors, and look to create a elementary prediction model for donation values."
   ]
  },
  {
   "cell_type": "code",
   "execution_count": 84,
   "metadata": {
    "colab": {
     "base_uri": "https://localhost:8080/",
     "height": 450
    },
    "id": "o9UfYXaL9Ylo",
    "outputId": "82b711b1-d354-4fc1-e348-8df224e1639d"
   },
   "outputs": [
    {
     "data": {
      "text/html": [
       "<div>\n",
       "<style scoped>\n",
       "    .dataframe tbody tr th:only-of-type {\n",
       "        vertical-align: middle;\n",
       "    }\n",
       "\n",
       "    .dataframe tbody tr th {\n",
       "        vertical-align: top;\n",
       "    }\n",
       "\n",
       "    .dataframe thead th {\n",
       "        text-align: right;\n",
       "    }\n",
       "</style>\n",
       "<table border=\"1\" class=\"dataframe\">\n",
       "  <thead>\n",
       "    <tr style=\"text-align: right;\">\n",
       "      <th></th>\n",
       "      <th>amount</th>\n",
       "      <th>donation_type</th>\n",
       "      <th>recurring_donation_status</th>\n",
       "      <th>signup_email_opt_in</th>\n",
       "      <th>signup_mobile_opt_in</th>\n",
       "    </tr>\n",
       "    <tr>\n",
       "      <th>nationbuilder_id</th>\n",
       "      <th></th>\n",
       "      <th></th>\n",
       "      <th></th>\n",
       "      <th></th>\n",
       "      <th></th>\n",
       "    </tr>\n",
       "  </thead>\n",
       "  <tbody>\n",
       "    <tr>\n",
       "      <th>1</th>\n",
       "      <td>125.00</td>\n",
       "      <td>NaN</td>\n",
       "      <td>NaN</td>\n",
       "      <td>True</td>\n",
       "      <td>True</td>\n",
       "    </tr>\n",
       "    <tr>\n",
       "      <th>10</th>\n",
       "      <td>25.00</td>\n",
       "      <td>annual_membership_fee</td>\n",
       "      <td>NaN</td>\n",
       "      <td>True</td>\n",
       "      <td>True</td>\n",
       "    </tr>\n",
       "    <tr>\n",
       "      <th>100</th>\n",
       "      <td>15.00</td>\n",
       "      <td>general_donation</td>\n",
       "      <td>NaN</td>\n",
       "      <td>NaN</td>\n",
       "      <td>True</td>\n",
       "    </tr>\n",
       "    <tr>\n",
       "      <th>1000</th>\n",
       "      <td>15.00</td>\n",
       "      <td>general_donation</td>\n",
       "      <td>NaN</td>\n",
       "      <td>NaN</td>\n",
       "      <td>True</td>\n",
       "    </tr>\n",
       "    <tr>\n",
       "      <th>1001</th>\n",
       "      <td>100.00</td>\n",
       "      <td>general_donation</td>\n",
       "      <td>NaN</td>\n",
       "      <td>True</td>\n",
       "      <td>True</td>\n",
       "    </tr>\n",
       "    <tr>\n",
       "      <th>...</th>\n",
       "      <td>...</td>\n",
       "      <td>...</td>\n",
       "      <td>...</td>\n",
       "      <td>...</td>\n",
       "      <td>...</td>\n",
       "    </tr>\n",
       "    <tr>\n",
       "      <th>995</th>\n",
       "      <td>25.00</td>\n",
       "      <td>annual_membership_fee</td>\n",
       "      <td>NaN</td>\n",
       "      <td>True</td>\n",
       "      <td>True</td>\n",
       "    </tr>\n",
       "    <tr>\n",
       "      <th>996</th>\n",
       "      <td>74.15</td>\n",
       "      <td>general_donation</td>\n",
       "      <td>NaN</td>\n",
       "      <td>NaN</td>\n",
       "      <td>True</td>\n",
       "    </tr>\n",
       "    <tr>\n",
       "      <th>997</th>\n",
       "      <td>500.00</td>\n",
       "      <td>general_donation</td>\n",
       "      <td>NaN</td>\n",
       "      <td>True</td>\n",
       "      <td>True</td>\n",
       "    </tr>\n",
       "    <tr>\n",
       "      <th>998</th>\n",
       "      <td>25.00</td>\n",
       "      <td>general_donation</td>\n",
       "      <td>NaN</td>\n",
       "      <td>NaN</td>\n",
       "      <td>True</td>\n",
       "    </tr>\n",
       "    <tr>\n",
       "      <th>999</th>\n",
       "      <td>50.00</td>\n",
       "      <td>general_donation</td>\n",
       "      <td>NaN</td>\n",
       "      <td>True</td>\n",
       "      <td>True</td>\n",
       "    </tr>\n",
       "  </tbody>\n",
       "</table>\n",
       "<p>1594 rows × 5 columns</p>\n",
       "</div>"
      ],
      "text/plain": [
       "                  amount  ... signup_mobile_opt_in\n",
       "nationbuilder_id          ...                     \n",
       "1                 125.00  ...                 True\n",
       "10                 25.00  ...                 True\n",
       "100                15.00  ...                 True\n",
       "1000               15.00  ...                 True\n",
       "1001              100.00  ...                 True\n",
       "...                  ...  ...                  ...\n",
       "995                25.00  ...                 True\n",
       "996                74.15  ...                 True\n",
       "997               500.00  ...                 True\n",
       "998                25.00  ...                 True\n",
       "999                50.00  ...                 True\n",
       "\n",
       "[1594 rows x 5 columns]"
      ]
     },
     "execution_count": 84,
     "metadata": {},
     "output_type": "execute_result"
    }
   ],
   "source": [
    "dfFactors = dfDonations[['amount', 'donation_type', 'recurring_donation_status', 'signup_email_opt_in', 'signup_mobile_opt_in']]\n",
    "dfFactors"
   ]
  },
  {
   "cell_type": "code",
   "execution_count": 85,
   "metadata": {
    "colab": {
     "base_uri": "https://localhost:8080/",
     "height": 917
    },
    "id": "SZV6zGvg43jh",
    "outputId": "3d311c71-99a5-431f-ba67-252b487b3e7c"
   },
   "outputs": [
    {
     "data": {
      "text/html": [
       "<div>\n",
       "<style scoped>\n",
       "    .dataframe tbody tr th:only-of-type {\n",
       "        vertical-align: middle;\n",
       "    }\n",
       "\n",
       "    .dataframe tbody tr th {\n",
       "        vertical-align: top;\n",
       "    }\n",
       "\n",
       "    .dataframe thead th {\n",
       "        text-align: right;\n",
       "    }\n",
       "</style>\n",
       "<table border=\"1\" class=\"dataframe\">\n",
       "  <thead>\n",
       "    <tr style=\"text-align: right;\">\n",
       "      <th></th>\n",
       "      <th>amount</th>\n",
       "      <th>donation_type</th>\n",
       "      <th>recurring_donation_status</th>\n",
       "      <th>signup_email_opt_in</th>\n",
       "      <th>signup_mobile_opt_in</th>\n",
       "    </tr>\n",
       "    <tr>\n",
       "      <th>nationbuilder_id</th>\n",
       "      <th></th>\n",
       "      <th></th>\n",
       "      <th></th>\n",
       "      <th></th>\n",
       "      <th></th>\n",
       "    </tr>\n",
       "  </thead>\n",
       "  <tbody>\n",
       "    <tr>\n",
       "      <th>10</th>\n",
       "      <td>25.0</td>\n",
       "      <td>annual_membership_fee</td>\n",
       "      <td>NaN</td>\n",
       "      <td>True</td>\n",
       "      <td>True</td>\n",
       "    </tr>\n",
       "    <tr>\n",
       "      <th>1006</th>\n",
       "      <td>25.0</td>\n",
       "      <td>annual_membership_fee</td>\n",
       "      <td>canceled</td>\n",
       "      <td>True</td>\n",
       "      <td>True</td>\n",
       "    </tr>\n",
       "    <tr>\n",
       "      <th>1062</th>\n",
       "      <td>25.0</td>\n",
       "      <td>annual_membership_fee</td>\n",
       "      <td>NaN</td>\n",
       "      <td>True</td>\n",
       "      <td>True</td>\n",
       "    </tr>\n",
       "    <tr>\n",
       "      <th>1081</th>\n",
       "      <td>25.0</td>\n",
       "      <td>annual_membership_fee</td>\n",
       "      <td>NaN</td>\n",
       "      <td>True</td>\n",
       "      <td>True</td>\n",
       "    </tr>\n",
       "    <tr>\n",
       "      <th>1082</th>\n",
       "      <td>25.0</td>\n",
       "      <td>annual_membership_fee</td>\n",
       "      <td>NaN</td>\n",
       "      <td>True</td>\n",
       "      <td>True</td>\n",
       "    </tr>\n",
       "    <tr>\n",
       "      <th>11</th>\n",
       "      <td>25.0</td>\n",
       "      <td>annual_membership_fee</td>\n",
       "      <td>NaN</td>\n",
       "      <td>True</td>\n",
       "      <td>NaN</td>\n",
       "    </tr>\n",
       "    <tr>\n",
       "      <th>1174</th>\n",
       "      <td>25.0</td>\n",
       "      <td>annual_membership_fee</td>\n",
       "      <td>canceled</td>\n",
       "      <td>True</td>\n",
       "      <td>True</td>\n",
       "    </tr>\n",
       "    <tr>\n",
       "      <th>12</th>\n",
       "      <td>25.0</td>\n",
       "      <td>annual_membership_fee</td>\n",
       "      <td>NaN</td>\n",
       "      <td>True</td>\n",
       "      <td>True</td>\n",
       "    </tr>\n",
       "    <tr>\n",
       "      <th>1244</th>\n",
       "      <td>25.0</td>\n",
       "      <td>annual_membership_fee</td>\n",
       "      <td>canceled</td>\n",
       "      <td>True</td>\n",
       "      <td>True</td>\n",
       "    </tr>\n",
       "    <tr>\n",
       "      <th>13</th>\n",
       "      <td>25.0</td>\n",
       "      <td>annual_membership_fee</td>\n",
       "      <td>canceled</td>\n",
       "      <td>True</td>\n",
       "      <td>True</td>\n",
       "    </tr>\n",
       "    <tr>\n",
       "      <th>1309</th>\n",
       "      <td>25.0</td>\n",
       "      <td>annual_membership_fee</td>\n",
       "      <td>NaN</td>\n",
       "      <td>True</td>\n",
       "      <td>True</td>\n",
       "    </tr>\n",
       "    <tr>\n",
       "      <th>1353</th>\n",
       "      <td>25.0</td>\n",
       "      <td>annual_membership_fee</td>\n",
       "      <td>NaN</td>\n",
       "      <td>True</td>\n",
       "      <td>True</td>\n",
       "    </tr>\n",
       "    <tr>\n",
       "      <th>1372</th>\n",
       "      <td>25.0</td>\n",
       "      <td>annual_membership_fee</td>\n",
       "      <td>NaN</td>\n",
       "      <td>True</td>\n",
       "      <td>NaN</td>\n",
       "    </tr>\n",
       "    <tr>\n",
       "      <th>1392</th>\n",
       "      <td>25.0</td>\n",
       "      <td>annual_membership_fee</td>\n",
       "      <td>NaN</td>\n",
       "      <td>True</td>\n",
       "      <td>True</td>\n",
       "    </tr>\n",
       "    <tr>\n",
       "      <th>14</th>\n",
       "      <td>50.0</td>\n",
       "      <td>annual_membership_fee</td>\n",
       "      <td>NaN</td>\n",
       "      <td>True</td>\n",
       "      <td>True</td>\n",
       "    </tr>\n",
       "    <tr>\n",
       "      <th>1422</th>\n",
       "      <td>50.0</td>\n",
       "      <td>annual_membership_fee</td>\n",
       "      <td>NaN</td>\n",
       "      <td>True</td>\n",
       "      <td>True</td>\n",
       "    </tr>\n",
       "    <tr>\n",
       "      <th>1473</th>\n",
       "      <td>25.0</td>\n",
       "      <td>annual_membership_fee</td>\n",
       "      <td>NaN</td>\n",
       "      <td>True</td>\n",
       "      <td>NaN</td>\n",
       "    </tr>\n",
       "    <tr>\n",
       "      <th>1475</th>\n",
       "      <td>25.0</td>\n",
       "      <td>annual_membership_fee</td>\n",
       "      <td>NaN</td>\n",
       "      <td>True</td>\n",
       "      <td>True</td>\n",
       "    </tr>\n",
       "    <tr>\n",
       "      <th>1485</th>\n",
       "      <td>25.0</td>\n",
       "      <td>annual_membership_fee</td>\n",
       "      <td>NaN</td>\n",
       "      <td>True</td>\n",
       "      <td>True</td>\n",
       "    </tr>\n",
       "    <tr>\n",
       "      <th>1577</th>\n",
       "      <td>25.0</td>\n",
       "      <td>annual_membership_fee</td>\n",
       "      <td>NaN</td>\n",
       "      <td>True</td>\n",
       "      <td>True</td>\n",
       "    </tr>\n",
       "    <tr>\n",
       "      <th>16</th>\n",
       "      <td>25.0</td>\n",
       "      <td>annual_membership_fee</td>\n",
       "      <td>NaN</td>\n",
       "      <td>True</td>\n",
       "      <td>True</td>\n",
       "    </tr>\n",
       "    <tr>\n",
       "      <th>1633</th>\n",
       "      <td>25.0</td>\n",
       "      <td>annual_membership_fee</td>\n",
       "      <td>NaN</td>\n",
       "      <td>True</td>\n",
       "      <td>True</td>\n",
       "    </tr>\n",
       "    <tr>\n",
       "      <th>17</th>\n",
       "      <td>25.0</td>\n",
       "      <td>annual_membership_fee</td>\n",
       "      <td>NaN</td>\n",
       "      <td>True</td>\n",
       "      <td>True</td>\n",
       "    </tr>\n",
       "    <tr>\n",
       "      <th>819</th>\n",
       "      <td>25.0</td>\n",
       "      <td>annual_membership_fee</td>\n",
       "      <td>NaN</td>\n",
       "      <td>True</td>\n",
       "      <td>True</td>\n",
       "    </tr>\n",
       "    <tr>\n",
       "      <th>870</th>\n",
       "      <td>25.0</td>\n",
       "      <td>annual_membership_fee</td>\n",
       "      <td>NaN</td>\n",
       "      <td>True</td>\n",
       "      <td>True</td>\n",
       "    </tr>\n",
       "    <tr>\n",
       "      <th>932</th>\n",
       "      <td>100.0</td>\n",
       "      <td>annual_membership_fee</td>\n",
       "      <td>NaN</td>\n",
       "      <td>NaN</td>\n",
       "      <td>NaN</td>\n",
       "    </tr>\n",
       "    <tr>\n",
       "      <th>995</th>\n",
       "      <td>25.0</td>\n",
       "      <td>annual_membership_fee</td>\n",
       "      <td>NaN</td>\n",
       "      <td>True</td>\n",
       "      <td>True</td>\n",
       "    </tr>\n",
       "  </tbody>\n",
       "</table>\n",
       "</div>"
      ],
      "text/plain": [
       "                  amount  ... signup_mobile_opt_in\n",
       "nationbuilder_id          ...                     \n",
       "10                  25.0  ...                 True\n",
       "1006                25.0  ...                 True\n",
       "1062                25.0  ...                 True\n",
       "1081                25.0  ...                 True\n",
       "1082                25.0  ...                 True\n",
       "11                  25.0  ...                  NaN\n",
       "1174                25.0  ...                 True\n",
       "12                  25.0  ...                 True\n",
       "1244                25.0  ...                 True\n",
       "13                  25.0  ...                 True\n",
       "1309                25.0  ...                 True\n",
       "1353                25.0  ...                 True\n",
       "1372                25.0  ...                  NaN\n",
       "1392                25.0  ...                 True\n",
       "14                  50.0  ...                 True\n",
       "1422                50.0  ...                 True\n",
       "1473                25.0  ...                  NaN\n",
       "1475                25.0  ...                 True\n",
       "1485                25.0  ...                 True\n",
       "1577                25.0  ...                 True\n",
       "16                  25.0  ...                 True\n",
       "1633                25.0  ...                 True\n",
       "17                  25.0  ...                 True\n",
       "819                 25.0  ...                 True\n",
       "870                 25.0  ...                 True\n",
       "932                100.0  ...                  NaN\n",
       "995                 25.0  ...                 True\n",
       "\n",
       "[27 rows x 5 columns]"
      ]
     },
     "execution_count": 85,
     "metadata": {},
     "output_type": "execute_result"
    }
   ],
   "source": [
    "# We notice that all donation categorised as “annual_membership_fee\" are $25\n",
    "# The annual membership fees for everyone is $25, with the exception of one person\n",
    "# The membership fees are likely set in stone and not subject to change from the factors we are analyzing\n",
    "# Thus we can remove these entries from the dataframe to increase accuracy of our model\n",
    "\n",
    "dfFactors[(dfFactors[\"donation_type\"] == \"annual_membership_fee\")]"
   ]
  },
  {
   "cell_type": "code",
   "execution_count": 86,
   "metadata": {
    "colab": {
     "base_uri": "https://localhost:8080/"
    },
    "id": "PZ7cUlxW5048",
    "outputId": "28f9c285-325f-46d9-b5a4-f2b4d6af4478"
   },
   "outputs": [
    {
     "data": {
      "text/plain": [
       "array([nan, 'general_donation'], dtype=object)"
      ]
     },
     "execution_count": 86,
     "metadata": {},
     "output_type": "execute_result"
    }
   ],
   "source": [
    "dfFactors = dfFactors[(dfFactors[\"donation_type\"] != \"annual_membership_fee\")]\n",
    "dfFactors[\"donation_type\"].unique()"
   ]
  },
  {
   "cell_type": "code",
   "execution_count": 87,
   "metadata": {
    "colab": {
     "base_uri": "https://localhost:8080/",
     "height": 111
    },
    "id": "TiEz4Ysi8ZVV",
    "outputId": "11d6e1c9-12d8-4c77-f10e-966c4babe5e7"
   },
   "outputs": [
    {
     "data": {
      "text/html": [
       "<div>\n",
       "<style scoped>\n",
       "    .dataframe tbody tr th:only-of-type {\n",
       "        vertical-align: middle;\n",
       "    }\n",
       "\n",
       "    .dataframe tbody tr th {\n",
       "        vertical-align: top;\n",
       "    }\n",
       "\n",
       "    .dataframe thead th {\n",
       "        text-align: right;\n",
       "    }\n",
       "</style>\n",
       "<table border=\"1\" class=\"dataframe\">\n",
       "  <thead>\n",
       "    <tr style=\"text-align: right;\">\n",
       "      <th></th>\n",
       "      <th>amount</th>\n",
       "      <th>donation_type</th>\n",
       "      <th>recurring_donation_status</th>\n",
       "      <th>signup_email_opt_in</th>\n",
       "      <th>signup_mobile_opt_in</th>\n",
       "    </tr>\n",
       "    <tr>\n",
       "      <th>nationbuilder_id</th>\n",
       "      <th></th>\n",
       "      <th></th>\n",
       "      <th></th>\n",
       "      <th></th>\n",
       "      <th></th>\n",
       "    </tr>\n",
       "  </thead>\n",
       "  <tbody>\n",
       "    <tr>\n",
       "      <th>1</th>\n",
       "      <td>125.0</td>\n",
       "      <td>NaN</td>\n",
       "      <td>NaN</td>\n",
       "      <td>True</td>\n",
       "      <td>True</td>\n",
       "    </tr>\n",
       "  </tbody>\n",
       "</table>\n",
       "</div>"
      ],
      "text/plain": [
       "                  amount donation_type  ... signup_email_opt_in signup_mobile_opt_in\n",
       "nationbuilder_id                        ...                                         \n",
       "1                  125.0           NaN  ...                True                 True\n",
       "\n",
       "[1 rows x 5 columns]"
      ]
     },
     "execution_count": 87,
     "metadata": {},
     "output_type": "execute_result"
    }
   ],
   "source": [
    "dfFactors[(dfFactors[\"donation_type\"].isna())]"
   ]
  },
  {
   "cell_type": "code",
   "execution_count": 88,
   "metadata": {
    "colab": {
     "base_uri": "https://localhost:8080/",
     "height": 297
    },
    "id": "ikOIulpW6Ftr",
    "outputId": "697618e2-8e18-4d77-cf55-6b595b866faa"
   },
   "outputs": [
    {
     "data": {
      "text/html": [
       "<div>\n",
       "<style scoped>\n",
       "    .dataframe tbody tr th:only-of-type {\n",
       "        vertical-align: middle;\n",
       "    }\n",
       "\n",
       "    .dataframe tbody tr th {\n",
       "        vertical-align: top;\n",
       "    }\n",
       "\n",
       "    .dataframe thead th {\n",
       "        text-align: right;\n",
       "    }\n",
       "</style>\n",
       "<table border=\"1\" class=\"dataframe\">\n",
       "  <thead>\n",
       "    <tr style=\"text-align: right;\">\n",
       "      <th></th>\n",
       "      <th>amount</th>\n",
       "    </tr>\n",
       "  </thead>\n",
       "  <tbody>\n",
       "    <tr>\n",
       "      <th>count</th>\n",
       "      <td>1566.000000</td>\n",
       "    </tr>\n",
       "    <tr>\n",
       "      <th>mean</th>\n",
       "      <td>70.290888</td>\n",
       "    </tr>\n",
       "    <tr>\n",
       "      <th>std</th>\n",
       "      <td>217.492057</td>\n",
       "    </tr>\n",
       "    <tr>\n",
       "      <th>min</th>\n",
       "      <td>0.500000</td>\n",
       "    </tr>\n",
       "    <tr>\n",
       "      <th>25%</th>\n",
       "      <td>25.000000</td>\n",
       "    </tr>\n",
       "    <tr>\n",
       "      <th>50%</th>\n",
       "      <td>25.000000</td>\n",
       "    </tr>\n",
       "    <tr>\n",
       "      <th>75%</th>\n",
       "      <td>50.000000</td>\n",
       "    </tr>\n",
       "    <tr>\n",
       "      <th>max</th>\n",
       "      <td>5000.000000</td>\n",
       "    </tr>\n",
       "  </tbody>\n",
       "</table>\n",
       "</div>"
      ],
      "text/plain": [
       "            amount\n",
       "count  1566.000000\n",
       "mean     70.290888\n",
       "std     217.492057\n",
       "min       0.500000\n",
       "25%      25.000000\n",
       "50%      25.000000\n",
       "75%      50.000000\n",
       "max    5000.000000"
      ]
     },
     "execution_count": 88,
     "metadata": {},
     "output_type": "execute_result"
    }
   ],
   "source": [
    "# There is one entry where the donation type is no categorized as either annual membership fee\n",
    "# nor general donation\n",
    "# We will be removing this from the analysis and only look at general donation \n",
    "# for both simplicity and as to not skew the analysis\n",
    "\n",
    "dfFactors[(dfFactors[\"donation_type\"].isna())]\n",
    "dfFactors = dfFactors[(dfFactors[\"donation_type\"] == \"general_donation\")]\n",
    "dfFactors.describe()"
   ]
  },
  {
   "cell_type": "code",
   "execution_count": 89,
   "metadata": {
    "colab": {
     "base_uri": "https://localhost:8080/",
     "height": 450
    },
    "id": "q3jMbssQ85IF",
    "outputId": "b0a4589a-e51d-4f5a-8887-60c82404ef61"
   },
   "outputs": [
    {
     "data": {
      "text/html": [
       "<div>\n",
       "<style scoped>\n",
       "    .dataframe tbody tr th:only-of-type {\n",
       "        vertical-align: middle;\n",
       "    }\n",
       "\n",
       "    .dataframe tbody tr th {\n",
       "        vertical-align: top;\n",
       "    }\n",
       "\n",
       "    .dataframe thead th {\n",
       "        text-align: right;\n",
       "    }\n",
       "</style>\n",
       "<table border=\"1\" class=\"dataframe\">\n",
       "  <thead>\n",
       "    <tr style=\"text-align: right;\">\n",
       "      <th></th>\n",
       "      <th>amount</th>\n",
       "      <th>donation_type</th>\n",
       "      <th>recurring_donation_status</th>\n",
       "      <th>signup_email_opt_in</th>\n",
       "      <th>signup_mobile_opt_in</th>\n",
       "    </tr>\n",
       "    <tr>\n",
       "      <th>nationbuilder_id</th>\n",
       "      <th></th>\n",
       "      <th></th>\n",
       "      <th></th>\n",
       "      <th></th>\n",
       "      <th></th>\n",
       "    </tr>\n",
       "  </thead>\n",
       "  <tbody>\n",
       "    <tr>\n",
       "      <th>100</th>\n",
       "      <td>15.00</td>\n",
       "      <td>general_donation</td>\n",
       "      <td>NaN</td>\n",
       "      <td>NaN</td>\n",
       "      <td>True</td>\n",
       "    </tr>\n",
       "    <tr>\n",
       "      <th>1000</th>\n",
       "      <td>15.00</td>\n",
       "      <td>general_donation</td>\n",
       "      <td>NaN</td>\n",
       "      <td>NaN</td>\n",
       "      <td>True</td>\n",
       "    </tr>\n",
       "    <tr>\n",
       "      <th>1001</th>\n",
       "      <td>100.00</td>\n",
       "      <td>general_donation</td>\n",
       "      <td>NaN</td>\n",
       "      <td>True</td>\n",
       "      <td>True</td>\n",
       "    </tr>\n",
       "    <tr>\n",
       "      <th>1002</th>\n",
       "      <td>1000.00</td>\n",
       "      <td>general_donation</td>\n",
       "      <td>NaN</td>\n",
       "      <td>NaN</td>\n",
       "      <td>True</td>\n",
       "    </tr>\n",
       "    <tr>\n",
       "      <th>1003</th>\n",
       "      <td>25.00</td>\n",
       "      <td>general_donation</td>\n",
       "      <td>NaN</td>\n",
       "      <td>True</td>\n",
       "      <td>True</td>\n",
       "    </tr>\n",
       "    <tr>\n",
       "      <th>...</th>\n",
       "      <td>...</td>\n",
       "      <td>...</td>\n",
       "      <td>...</td>\n",
       "      <td>...</td>\n",
       "      <td>...</td>\n",
       "    </tr>\n",
       "    <tr>\n",
       "      <th>994</th>\n",
       "      <td>100.00</td>\n",
       "      <td>general_donation</td>\n",
       "      <td>NaN</td>\n",
       "      <td>True</td>\n",
       "      <td>True</td>\n",
       "    </tr>\n",
       "    <tr>\n",
       "      <th>996</th>\n",
       "      <td>74.15</td>\n",
       "      <td>general_donation</td>\n",
       "      <td>NaN</td>\n",
       "      <td>NaN</td>\n",
       "      <td>True</td>\n",
       "    </tr>\n",
       "    <tr>\n",
       "      <th>997</th>\n",
       "      <td>500.00</td>\n",
       "      <td>general_donation</td>\n",
       "      <td>NaN</td>\n",
       "      <td>True</td>\n",
       "      <td>True</td>\n",
       "    </tr>\n",
       "    <tr>\n",
       "      <th>998</th>\n",
       "      <td>25.00</td>\n",
       "      <td>general_donation</td>\n",
       "      <td>NaN</td>\n",
       "      <td>NaN</td>\n",
       "      <td>True</td>\n",
       "    </tr>\n",
       "    <tr>\n",
       "      <th>999</th>\n",
       "      <td>50.00</td>\n",
       "      <td>general_donation</td>\n",
       "      <td>NaN</td>\n",
       "      <td>True</td>\n",
       "      <td>True</td>\n",
       "    </tr>\n",
       "  </tbody>\n",
       "</table>\n",
       "<p>1157 rows × 5 columns</p>\n",
       "</div>"
      ],
      "text/plain": [
       "                   amount  ... signup_mobile_opt_in\n",
       "nationbuilder_id           ...                     \n",
       "100                 15.00  ...                 True\n",
       "1000                15.00  ...                 True\n",
       "1001               100.00  ...                 True\n",
       "1002              1000.00  ...                 True\n",
       "1003                25.00  ...                 True\n",
       "...                   ...  ...                  ...\n",
       "994                100.00  ...                 True\n",
       "996                 74.15  ...                 True\n",
       "997                500.00  ...                 True\n",
       "998                 25.00  ...                 True\n",
       "999                 50.00  ...                 True\n",
       "\n",
       "[1157 rows x 5 columns]"
      ]
     },
     "execution_count": 89,
     "metadata": {},
     "output_type": "execute_result"
    }
   ],
   "source": [
    "dfFactors[(dfFactors[\"recurring_donation_status\"].isna())]"
   ]
  },
  {
   "cell_type": "code",
   "execution_count": 90,
   "metadata": {
    "id": "nDY5VqLU9iiZ"
   },
   "outputs": [],
   "source": [
    "# dfFactors isolates the donation amount and the factors that we are taking a look at.\n",
    "# Below, we have converted the factors, that contain a variety of values into a binary status\n",
    "# For factors that are \"true\" and \"false\", such as \"signup_email_opt_in\", we can easily attribute a binary 1 or 0 to true or false\n",
    "# For factors with more than one unique value, such as recurring donation status and donation type, we have created a new column that will \n",
    "# specifically look at the status of one unique value in the column.\n",
    "\n",
    "# All columns have been checked and corrected for the proper unqiue values\n",
    "dfFactors.loc[:, 'isEmailOptIn'] = np.where(dfFactors['signup_email_opt_in'] == True, 1, 0)\n",
    "dfFactors.loc[:, 'isMobileOptIn'] = np.where(dfFactors['signup_mobile_opt_in'] == True, 1, 0)"
   ]
  },
  {
   "cell_type": "code",
   "execution_count": 91,
   "metadata": {
    "id": "_Nz90ZVEqYTj"
   },
   "outputs": [],
   "source": [
    "# Seperating the donation into three categories between\n",
    "# recurring donor status\n",
    "# canceled but previously recurring donors\n",
    "# donors who are not and never were recurring\n",
    "\n",
    "# This will allow us to better understand which factors are important \n",
    "# between donors who have recurring status or not\n",
    "dfFactorsRec = dfFactors[[\"amount\", \"isEmailOptIn\", \"isMobileOptIn\"]][(dfFactors[\"recurring_donation_status\"] == \"active\")]\n",
    "dfFactorsCan = dfFactors[[\"amount\", \"isEmailOptIn\", \"isMobileOptIn\"]][(dfFactors[\"recurring_donation_status\"] == \"canceled\")]\n",
    "dfFactorsNonRec = dfFactors[[\"amount\", \"isEmailOptIn\", \"isMobileOptIn\"]][(dfFactors[\"recurring_donation_status\"].isna())]"
   ]
  },
  {
   "cell_type": "code",
   "execution_count": 92,
   "metadata": {
    "colab": {
     "base_uri": "https://localhost:8080/",
     "height": 1000
    },
    "id": "btC0s7FZ_KMs",
    "outputId": "3a453b49-fd32-4e87-8fcc-17e1ffc14cd3"
   },
   "outputs": [
    {
     "name": "stderr",
     "output_type": "stream",
     "text": [
      "/usr/local/lib/python3.7/dist-packages/pandas/plotting/_matplotlib/misc.py:80: UserWarning: Attempting to set identical left == right == 1.0 results in singular transformations; automatically expanding.\n",
      "  ax.set_xlim(boundaries_list[j])\n",
      "/usr/local/lib/python3.7/dist-packages/pandas/plotting/_matplotlib/misc.py:81: UserWarning: Attempting to set identical bottom == top == 1.0 results in singular transformations; automatically expanding.\n",
      "  ax.set_ylim(boundaries_list[i])\n",
      "/usr/local/lib/python3.7/dist-packages/pandas/plotting/_matplotlib/misc.py:71: UserWarning: Attempting to set identical left == right == 1.0 results in singular transformations; automatically expanding.\n",
      "  ax.set_xlim(boundaries_list[i])\n"
     ]
    },
    {
     "data": {
      "image/png": "[encoded data removed]",
      "text/plain": [
       "<Figure size 432x432 with 9 Axes>"
      ]
     },
     "metadata": {
      "needs_background": "light"
     },
     "output_type": "display_data"
    },
    {
     "data": {
      "image/png": "[encoded data removed]",
      "text/plain": [
       "<Figure size 432x432 with 9 Axes>"
      ]
     },
     "metadata": {
      "needs_background": "light"
     },
     "output_type": "display_data"
    },
    {
     "data": {
      "image/png": "[encoded data removed]",
      "text/plain": [
       "<Figure size 432x432 with 9 Axes>"
      ]
     },
     "metadata": {
      "needs_background": "light"
     },
     "output_type": "display_data"
    }
   ],
   "source": [
    "pd.plotting.scatter_matrix(dfFactorsRec, figsize=(6,6))\n",
    "pd.plotting.scatter_matrix(dfFactorsCan, figsize=(6,6))\n",
    "pd.plotting.scatter_matrix(dfFactorsNonRec, figsize=(6,6))\n",
    "plt.show()"
   ]
  },
  {
   "cell_type": "code",
   "execution_count": 93,
   "metadata": {
    "colab": {
     "base_uri": "https://localhost:8080/",
     "height": 142
    },
    "id": "ycX3fkQSC0WQ",
    "outputId": "f73477eb-61a7-4b2d-a508-96c9ada891ff"
   },
   "outputs": [
    {
     "data": {
      "text/html": [
       "<div>\n",
       "<style scoped>\n",
       "    .dataframe tbody tr th:only-of-type {\n",
       "        vertical-align: middle;\n",
       "    }\n",
       "\n",
       "    .dataframe tbody tr th {\n",
       "        vertical-align: top;\n",
       "    }\n",
       "\n",
       "    .dataframe thead th {\n",
       "        text-align: right;\n",
       "    }\n",
       "</style>\n",
       "<table border=\"1\" class=\"dataframe\">\n",
       "  <thead>\n",
       "    <tr style=\"text-align: right;\">\n",
       "      <th></th>\n",
       "      <th>amount</th>\n",
       "      <th>isEmailOptIn</th>\n",
       "      <th>isMobileOptIn</th>\n",
       "    </tr>\n",
       "  </thead>\n",
       "  <tbody>\n",
       "    <tr>\n",
       "      <th>amount</th>\n",
       "      <td>1.000000</td>\n",
       "      <td>0.158706</td>\n",
       "      <td>NaN</td>\n",
       "    </tr>\n",
       "    <tr>\n",
       "      <th>isEmailOptIn</th>\n",
       "      <td>0.158706</td>\n",
       "      <td>1.000000</td>\n",
       "      <td>NaN</td>\n",
       "    </tr>\n",
       "    <tr>\n",
       "      <th>isMobileOptIn</th>\n",
       "      <td>NaN</td>\n",
       "      <td>NaN</td>\n",
       "      <td>1.0</td>\n",
       "    </tr>\n",
       "  </tbody>\n",
       "</table>\n",
       "</div>"
      ],
      "text/plain": [
       "                 amount  isEmailOptIn  isMobileOptIn\n",
       "amount         1.000000      0.158706            NaN\n",
       "isEmailOptIn   0.158706      1.000000            NaN\n",
       "isMobileOptIn       NaN           NaN            1.0"
      ]
     },
     "execution_count": 93,
     "metadata": {},
     "output_type": "execute_result"
    }
   ],
   "source": [
    "dfCorrelationRec = dfFactorsRec.corr('kendall')\n",
    "dfCorrelationRec"
   ]
  },
  {
   "cell_type": "code",
   "execution_count": 94,
   "metadata": {
    "colab": {
     "base_uri": "https://localhost:8080/",
     "height": 142
    },
    "id": "C2zpBmvg-Ti-",
    "outputId": "af9d35b1-9db2-452b-ab72-bf39fe5631d4"
   },
   "outputs": [
    {
     "data": {
      "text/html": [
       "<div>\n",
       "<style scoped>\n",
       "    .dataframe tbody tr th:only-of-type {\n",
       "        vertical-align: middle;\n",
       "    }\n",
       "\n",
       "    .dataframe tbody tr th {\n",
       "        vertical-align: top;\n",
       "    }\n",
       "\n",
       "    .dataframe thead th {\n",
       "        text-align: right;\n",
       "    }\n",
       "</style>\n",
       "<table border=\"1\" class=\"dataframe\">\n",
       "  <thead>\n",
       "    <tr style=\"text-align: right;\">\n",
       "      <th></th>\n",
       "      <th>amount</th>\n",
       "      <th>isEmailOptIn</th>\n",
       "      <th>isMobileOptIn</th>\n",
       "    </tr>\n",
       "  </thead>\n",
       "  <tbody>\n",
       "    <tr>\n",
       "      <th>amount</th>\n",
       "      <td>1.000000</td>\n",
       "      <td>0.081931</td>\n",
       "      <td>NaN</td>\n",
       "    </tr>\n",
       "    <tr>\n",
       "      <th>isEmailOptIn</th>\n",
       "      <td>0.081931</td>\n",
       "      <td>1.000000</td>\n",
       "      <td>NaN</td>\n",
       "    </tr>\n",
       "    <tr>\n",
       "      <th>isMobileOptIn</th>\n",
       "      <td>NaN</td>\n",
       "      <td>NaN</td>\n",
       "      <td>1.0</td>\n",
       "    </tr>\n",
       "  </tbody>\n",
       "</table>\n",
       "</div>"
      ],
      "text/plain": [
       "                 amount  isEmailOptIn  isMobileOptIn\n",
       "amount         1.000000      0.081931            NaN\n",
       "isEmailOptIn   0.081931      1.000000            NaN\n",
       "isMobileOptIn       NaN           NaN            1.0"
      ]
     },
     "execution_count": 94,
     "metadata": {},
     "output_type": "execute_result"
    }
   ],
   "source": [
    "dfCorrelationCan = dfFactorsCan.corr('kendall')\n",
    "dfCorrelationCan"
   ]
  },
  {
   "cell_type": "code",
   "execution_count": 95,
   "metadata": {
    "colab": {
     "base_uri": "https://localhost:8080/",
     "height": 142
    },
    "id": "2Curk9aU-UC6",
    "outputId": "bca1c77c-53f9-4b00-e025-92c692d8c7ae"
   },
   "outputs": [
    {
     "data": {
      "text/html": [
       "<div>\n",
       "<style scoped>\n",
       "    .dataframe tbody tr th:only-of-type {\n",
       "        vertical-align: middle;\n",
       "    }\n",
       "\n",
       "    .dataframe tbody tr th {\n",
       "        vertical-align: top;\n",
       "    }\n",
       "\n",
       "    .dataframe thead th {\n",
       "        text-align: right;\n",
       "    }\n",
       "</style>\n",
       "<table border=\"1\" class=\"dataframe\">\n",
       "  <thead>\n",
       "    <tr style=\"text-align: right;\">\n",
       "      <th></th>\n",
       "      <th>amount</th>\n",
       "      <th>isEmailOptIn</th>\n",
       "      <th>isMobileOptIn</th>\n",
       "    </tr>\n",
       "  </thead>\n",
       "  <tbody>\n",
       "    <tr>\n",
       "      <th>amount</th>\n",
       "      <td>1.000000</td>\n",
       "      <td>0.054689</td>\n",
       "      <td>0.008752</td>\n",
       "    </tr>\n",
       "    <tr>\n",
       "      <th>isEmailOptIn</th>\n",
       "      <td>0.054689</td>\n",
       "      <td>1.000000</td>\n",
       "      <td>-0.024108</td>\n",
       "    </tr>\n",
       "    <tr>\n",
       "      <th>isMobileOptIn</th>\n",
       "      <td>0.008752</td>\n",
       "      <td>-0.024108</td>\n",
       "      <td>1.000000</td>\n",
       "    </tr>\n",
       "  </tbody>\n",
       "</table>\n",
       "</div>"
      ],
      "text/plain": [
       "                 amount  isEmailOptIn  isMobileOptIn\n",
       "amount         1.000000      0.054689       0.008752\n",
       "isEmailOptIn   0.054689      1.000000      -0.024108\n",
       "isMobileOptIn  0.008752     -0.024108       1.000000"
      ]
     },
     "execution_count": 95,
     "metadata": {},
     "output_type": "execute_result"
    }
   ],
   "source": [
    "dfCorrelationNonRec = dfFactorsNonRec.corr('kendall')\n",
    "dfCorrelationNonRec"
   ]
  },
  {
   "cell_type": "code",
   "execution_count": 96,
   "metadata": {
    "id": "7lQN3ebjtRWT"
   },
   "outputs": [],
   "source": [
    "# From the correlation tables, we see that mobile-opt-in is not a factor\n",
    "# for consideration when talking about recurring or canceled donors\n",
    "# There is however a positive correlation between donors who have email-opt-in and the donation amount they give\n",
    "\n",
    "# For non-recurring donors, it is shown that the is a small but positive correlation between mobile-opt-in and donation amount\n",
    "# as well as email-opt-in and donation amount.\n",
    "# Surprsingly, there is a small negative correlation among non-recurring donors between email and mobile opt-in status\n",
    "# This means that there is a trend among the non-recurring population of having either mobile or email, but not both."
   ]
  },
  {
   "cell_type": "markdown",
   "metadata": {
    "id": "relDCb7vBDuI"
   },
   "source": [
    "### Recurring Donation Linear Regression"
   ]
  },
  {
   "cell_type": "code",
   "execution_count": 97,
   "metadata": {
    "colab": {
     "base_uri": "https://localhost:8080/"
    },
    "id": "lZesGGWyFZKA",
    "outputId": "bc908d27-6e1e-4f7a-faa5-d1fd3f277c4b"
   },
   "outputs": [
    {
     "data": {
      "text/plain": [
       "LinearRegression(copy_X=True, fit_intercept=True, n_jobs=None, normalize=False)"
      ]
     },
     "execution_count": 97,
     "metadata": {},
     "output_type": "execute_result"
    }
   ],
   "source": [
    "# Variables involved for prediction\n",
    "dfX = dfFactorsRec[['isEmailOptIn', 'isMobileOptIn']]\n",
    "\n",
    "# Variable to predict\n",
    "dfY = dfFactorsRec['amount']\n",
    "\n",
    "# Break the data\n",
    "X_train, X_test, Y_train, Y_test = train_test_split(dfX, dfY, test_size=0.4, random_state=0)\n",
    "\n",
    "# Create linear regression object\n",
    "linearRegression = LinearRegression()\n",
    "\n",
    "# Fit data\n",
    "linearRegression.fit(X_train, Y_train)"
   ]
  },
  {
   "cell_type": "code",
   "execution_count": 98,
   "metadata": {
    "colab": {
     "base_uri": "https://localhost:8080/"
    },
    "id": "UjdbVDujO70r",
    "outputId": "de1148f2-7cc0-4135-cc48-2c4ab53b5690"
   },
   "outputs": [
    {
     "data": {
      "text/plain": [
       "11.799999999999997"
      ]
     },
     "execution_count": 98,
     "metadata": {},
     "output_type": "execute_result"
    }
   ],
   "source": [
    "# Print the intercepts\n",
    "linearRegression.intercept_"
   ]
  },
  {
   "cell_type": "code",
   "execution_count": 99,
   "metadata": {
    "colab": {
     "base_uri": "https://localhost:8080/"
    },
    "id": "Oiyh8ZZSQTAK",
    "outputId": "71538a0a-133a-4d3e-ef9d-13bf999dcd97"
   },
   "outputs": [
    {
     "data": {
      "text/plain": [
       "array([9.01168831, 0.        ])"
      ]
     },
     "execution_count": 99,
     "metadata": {},
     "output_type": "execute_result"
    }
   ],
   "source": [
    "# Coefficients\n",
    "linearRegression.coef_"
   ]
  },
  {
   "cell_type": "code",
   "execution_count": 100,
   "metadata": {
    "colab": {
     "base_uri": "https://localhost:8080/",
     "height": 0
    },
    "id": "2jT0jvUTQXcl",
    "outputId": "e7e44191-059b-4107-a081-0fc51b20d93a"
   },
   "outputs": [
    {
     "data": {
      "text/html": [
       "<div>\n",
       "<style scoped>\n",
       "    .dataframe tbody tr th:only-of-type {\n",
       "        vertical-align: middle;\n",
       "    }\n",
       "\n",
       "    .dataframe tbody tr th {\n",
       "        vertical-align: top;\n",
       "    }\n",
       "\n",
       "    .dataframe thead th {\n",
       "        text-align: right;\n",
       "    }\n",
       "</style>\n",
       "<table border=\"1\" class=\"dataframe\">\n",
       "  <thead>\n",
       "    <tr style=\"text-align: right;\">\n",
       "      <th></th>\n",
       "      <th>Regression Coeffs</th>\n",
       "    </tr>\n",
       "  </thead>\n",
       "  <tbody>\n",
       "    <tr>\n",
       "      <th>isEmailOptIn</th>\n",
       "      <td>9.011688</td>\n",
       "    </tr>\n",
       "    <tr>\n",
       "      <th>isMobileOptIn</th>\n",
       "      <td>0.000000</td>\n",
       "    </tr>\n",
       "  </tbody>\n",
       "</table>\n",
       "</div>"
      ],
      "text/plain": [
       "               Regression Coeffs\n",
       "isEmailOptIn            9.011688\n",
       "isMobileOptIn           0.000000"
      ]
     },
     "execution_count": 100,
     "metadata": {},
     "output_type": "execute_result"
    }
   ],
   "source": [
    "# Table with coefficients\n",
    "pd.DataFrame(linearRegression.coef_, dfX.columns, ['Regression Coeffs'])"
   ]
  },
  {
   "cell_type": "code",
   "execution_count": 101,
   "metadata": {
    "colab": {
     "base_uri": "https://localhost:8080/"
    },
    "id": "OQeruTjGQjqi",
    "outputId": "650ad03c-cfb3-4418-d051-c63397893fb5"
   },
   "outputs": [
    {
     "data": {
      "text/plain": [
       "array([20.81168831, 20.81168831, 20.81168831, 20.81168831, 20.81168831,\n",
       "       20.81168831, 20.81168831, 20.81168831, 20.81168831, 20.81168831,\n",
       "       20.81168831, 20.81168831, 11.8       , 11.8       , 20.81168831,\n",
       "       20.81168831, 11.8       , 20.81168831, 20.81168831, 20.81168831,\n",
       "       11.8       , 20.81168831, 11.8       , 20.81168831, 20.81168831,\n",
       "       20.81168831, 20.81168831, 20.81168831, 20.81168831, 20.81168831,\n",
       "       11.8       , 20.81168831, 20.81168831, 11.8       , 20.81168831,\n",
       "       20.81168831, 20.81168831, 20.81168831, 20.81168831, 20.81168831,\n",
       "       20.81168831, 20.81168831, 20.81168831, 11.8       , 11.8       ,\n",
       "       20.81168831, 20.81168831, 20.81168831, 20.81168831, 20.81168831,\n",
       "       11.8       , 20.81168831, 20.81168831, 20.81168831, 11.8       ,\n",
       "       20.81168831, 20.81168831, 20.81168831, 20.81168831, 20.81168831,\n",
       "       20.81168831, 20.81168831, 20.81168831, 20.81168831, 20.81168831,\n",
       "       20.81168831, 20.81168831, 20.81168831, 20.81168831, 20.81168831,\n",
       "       20.81168831, 20.81168831, 20.81168831, 20.81168831, 20.81168831,\n",
       "       20.81168831, 20.81168831, 20.81168831, 20.81168831, 20.81168831,\n",
       "       20.81168831, 20.81168831, 20.81168831, 20.81168831, 20.81168831,\n",
       "       20.81168831, 20.81168831, 20.81168831, 11.8       , 20.81168831,\n",
       "       20.81168831, 20.81168831, 20.81168831, 20.81168831, 11.8       ,\n",
       "       20.81168831, 20.81168831, 20.81168831, 11.8       , 20.81168831,\n",
       "       20.81168831, 20.81168831, 11.8       , 20.81168831, 20.81168831,\n",
       "       11.8       , 11.8       , 20.81168831, 20.81168831, 20.81168831])"
      ]
     },
     "execution_count": 101,
     "metadata": {},
     "output_type": "execute_result"
    }
   ],
   "source": [
    "# Prediction table\n",
    "Y_predicted = linearRegression.predict(X_test)\n",
    "Y_predicted"
   ]
  },
  {
   "cell_type": "code",
   "execution_count": 102,
   "metadata": {
    "colab": {
     "base_uri": "https://localhost:8080/",
     "height": 0
    },
    "id": "UNRoU-DjQxFp",
    "outputId": "7f7d876d-bb38-48e0-a551-6cd0d1b98640"
   },
   "outputs": [
    {
     "data": {
      "image/png": "[encoded data removed]",
      "text/plain": [
       "<Figure size 432x288 with 1 Axes>"
      ]
     },
     "metadata": {
      "needs_background": "light"
     },
     "output_type": "display_data"
    }
   ],
   "source": [
    "# Scatter plot for predicted and real values\n",
    "plt.scatter(Y_test, Y_predicted)\n",
    "plt.xlabel('Real Data')\n",
    "plt.ylabel('Predicted Data')\n",
    "\n",
    "plt.show()"
   ]
  },
  {
   "cell_type": "code",
   "execution_count": 103,
   "metadata": {
    "id": "4Rqa4i_2RE9Z"
   },
   "outputs": [],
   "source": [
    "# Due to the fact that mobile-opt in has no correlation with the donation amount, the model\n",
    "# essentailly is a binary predictor with whether or not the donor has email opt-in\n",
    "# It attributes a coefficient of 9.01 with email-opt-in\n",
    "# Meaning any donation amount that has an email-opt-in is 9.01 times higher than without"
   ]
  },
  {
   "cell_type": "code",
   "execution_count": 104,
   "metadata": {
    "colab": {
     "base_uri": "https://localhost:8080/"
    },
    "id": "sUUitATmRw9M",
    "outputId": "978222ee-1866-4b76-caa9-88a7f9be5651"
   },
   "outputs": [
    {
     "data": {
      "text/plain": [
       "0.011978370810257877"
      ]
     },
     "execution_count": 104,
     "metadata": {},
     "output_type": "execute_result"
    }
   ],
   "source": [
    "# Accuracy\n",
    "linearRegression.score(X_test, Y_test)"
   ]
  },
  {
   "cell_type": "markdown",
   "metadata": {
    "id": "pf__Il3iCSiF"
   },
   "source": [
    "### Canceled Donors Linear Regression"
   ]
  },
  {
   "cell_type": "code",
   "execution_count": 105,
   "metadata": {
    "colab": {
     "base_uri": "https://localhost:8080/"
    },
    "id": "0xBs7hBkCSiF",
    "outputId": "41c0de8a-8f1b-4be4-f4b3-3ede5e194444"
   },
   "outputs": [
    {
     "data": {
      "text/plain": [
       "LinearRegression(copy_X=True, fit_intercept=True, n_jobs=None, normalize=False)"
      ]
     },
     "execution_count": 105,
     "metadata": {},
     "output_type": "execute_result"
    }
   ],
   "source": [
    "# Variables involved for prediction\n",
    "dfX = dfFactorsCan[['isEmailOptIn', 'isMobileOptIn']]\n",
    "\n",
    "# Variable to predict\n",
    "dfY = dfFactorsCan['amount']\n",
    "\n",
    "# Break the data\n",
    "X_train, X_test, Y_train, Y_test = train_test_split(dfX, dfY, test_size=0.4, random_state=0)\n",
    "\n",
    "# Create linear regression object\n",
    "linearRegression = LinearRegression()\n",
    "\n",
    "# Fit data\n",
    "linearRegression.fit(X_train, Y_train)"
   ]
  },
  {
   "cell_type": "code",
   "execution_count": 106,
   "metadata": {
    "colab": {
     "base_uri": "https://localhost:8080/"
    },
    "id": "mObfDTNECSiG",
    "outputId": "2d266d0b-fc7a-4778-cf48-28a455dbc2b4"
   },
   "outputs": [
    {
     "data": {
      "text/plain": [
       "22.272727272727273"
      ]
     },
     "execution_count": 106,
     "metadata": {},
     "output_type": "execute_result"
    }
   ],
   "source": [
    "# Print the intercepts\n",
    "linearRegression.intercept_"
   ]
  },
  {
   "cell_type": "code",
   "execution_count": 107,
   "metadata": {
    "colab": {
     "base_uri": "https://localhost:8080/"
    },
    "id": "7wkQRsRLCSiG",
    "outputId": "361b78af-f25f-4529-f0d6-43084b94df2a"
   },
   "outputs": [
    {
     "data": {
      "text/plain": [
       "array([4.59167951, 0.        ])"
      ]
     },
     "execution_count": 107,
     "metadata": {},
     "output_type": "execute_result"
    }
   ],
   "source": [
    "# Coefficients\n",
    "linearRegression.coef_"
   ]
  },
  {
   "cell_type": "code",
   "execution_count": 108,
   "metadata": {
    "colab": {
     "base_uri": "https://localhost:8080/",
     "height": 0
    },
    "id": "hDOQH1ueCSiG",
    "outputId": "f517f9d3-94fb-4007-d8d0-ae3f22d8db0b"
   },
   "outputs": [
    {
     "data": {
      "text/html": [
       "<div>\n",
       "<style scoped>\n",
       "    .dataframe tbody tr th:only-of-type {\n",
       "        vertical-align: middle;\n",
       "    }\n",
       "\n",
       "    .dataframe tbody tr th {\n",
       "        vertical-align: top;\n",
       "    }\n",
       "\n",
       "    .dataframe thead th {\n",
       "        text-align: right;\n",
       "    }\n",
       "</style>\n",
       "<table border=\"1\" class=\"dataframe\">\n",
       "  <thead>\n",
       "    <tr style=\"text-align: right;\">\n",
       "      <th></th>\n",
       "      <th>Regression Coeffs</th>\n",
       "    </tr>\n",
       "  </thead>\n",
       "  <tbody>\n",
       "    <tr>\n",
       "      <th>isEmailOptIn</th>\n",
       "      <td>4.59168</td>\n",
       "    </tr>\n",
       "    <tr>\n",
       "      <th>isMobileOptIn</th>\n",
       "      <td>0.00000</td>\n",
       "    </tr>\n",
       "  </tbody>\n",
       "</table>\n",
       "</div>"
      ],
      "text/plain": [
       "               Regression Coeffs\n",
       "isEmailOptIn             4.59168\n",
       "isMobileOptIn            0.00000"
      ]
     },
     "execution_count": 108,
     "metadata": {},
     "output_type": "execute_result"
    }
   ],
   "source": [
    "# Table with coefficients\n",
    "pd.DataFrame(linearRegression.coef_, dfX.columns, ['Regression Coeffs'])"
   ]
  },
  {
   "cell_type": "code",
   "execution_count": 109,
   "metadata": {
    "colab": {
     "base_uri": "https://localhost:8080/"
    },
    "id": "SR_mf1YYCSiH",
    "outputId": "0e970a6c-a8a3-41f9-a42e-d782528a2a44"
   },
   "outputs": [
    {
     "data": {
      "text/plain": [
       "array([26.86440678, 22.27272727, 26.86440678, 26.86440678, 26.86440678,\n",
       "       26.86440678, 26.86440678, 26.86440678, 26.86440678, 26.86440678,\n",
       "       22.27272727, 26.86440678, 26.86440678, 22.27272727, 26.86440678,\n",
       "       26.86440678, 26.86440678, 26.86440678, 22.27272727, 26.86440678,\n",
       "       26.86440678, 26.86440678, 26.86440678, 26.86440678, 22.27272727,\n",
       "       22.27272727, 26.86440678, 26.86440678, 26.86440678, 26.86440678,\n",
       "       26.86440678, 22.27272727, 26.86440678, 26.86440678, 26.86440678,\n",
       "       22.27272727, 26.86440678, 22.27272727, 26.86440678, 26.86440678,\n",
       "       26.86440678, 26.86440678, 26.86440678, 26.86440678, 26.86440678,\n",
       "       26.86440678, 26.86440678, 26.86440678, 26.86440678, 22.27272727,\n",
       "       26.86440678, 26.86440678, 26.86440678, 26.86440678])"
      ]
     },
     "execution_count": 109,
     "metadata": {},
     "output_type": "execute_result"
    }
   ],
   "source": [
    "# Prediction table\n",
    "Y_predicted = linearRegression.predict(X_test)\n",
    "Y_predicted"
   ]
  },
  {
   "cell_type": "code",
   "execution_count": 110,
   "metadata": {
    "colab": {
     "base_uri": "https://localhost:8080/",
     "height": 0
    },
    "id": "bwiklFVfCSiH",
    "outputId": "72cc5756-7f44-4553-ae92-6f118c03a997"
   },
   "outputs": [
    {
     "data": {
      "image/png": "[encoded data removed]",
      "text/plain": [
       "<Figure size 432x288 with 1 Axes>"
      ]
     },
     "metadata": {
      "needs_background": "light"
     },
     "output_type": "display_data"
    }
   ],
   "source": [
    "# Scatter plot for predicted and real values\n",
    "plt.scatter(Y_test, Y_predicted)\n",
    "plt.xlabel('Real Data')\n",
    "plt.ylabel('Predicted Data')\n",
    "\n",
    "plt.show()"
   ]
  },
  {
   "cell_type": "code",
   "execution_count": 111,
   "metadata": {
    "id": "uo6QkZWyCSiH"
   },
   "outputs": [],
   "source": [
    "# Similar to the recurring donations model,\n",
    "# Due to the fact that mobile-opt in has no correlation with the donation amount, the model\n",
    "# essentailly is a binary predictor with whether or not the donor has email opt-in\n",
    "# It attributes a coefficient of 9.01 with email-opt-in\n",
    "# Meaning any donation amount that has an email-opt-in is 9.01 times higher than without"
   ]
  },
  {
   "cell_type": "code",
   "execution_count": 112,
   "metadata": {
    "colab": {
     "base_uri": "https://localhost:8080/"
    },
    "id": "W0GojXYmCSiI",
    "outputId": "0fe3438a-6df6-49a8-b0bb-98ba13c8cf45"
   },
   "outputs": [
    {
     "data": {
      "text/plain": [
       "-0.0706808425080161"
      ]
     },
     "execution_count": 112,
     "metadata": {},
     "output_type": "execute_result"
    }
   ],
   "source": [
    "# Accuracy\n",
    "linearRegression.score(X_test, Y_test)"
   ]
  },
  {
   "cell_type": "markdown",
   "metadata": {
    "id": "qbKD-V9xCVax"
   },
   "source": [
    "### Non_Recurring Donors Linear Regression"
   ]
  },
  {
   "cell_type": "code",
   "execution_count": 113,
   "metadata": {
    "colab": {
     "base_uri": "https://localhost:8080/"
    },
    "id": "fGLIKyLuCVay",
    "outputId": "42fd55c1-62fd-450e-9834-945f4bd8b49a"
   },
   "outputs": [
    {
     "data": {
      "text/plain": [
       "LinearRegression(copy_X=True, fit_intercept=True, n_jobs=None, normalize=False)"
      ]
     },
     "execution_count": 113,
     "metadata": {},
     "output_type": "execute_result"
    }
   ],
   "source": [
    "# Variables involved for prediction\n",
    "dfX = dfFactorsNonRec[['isEmailOptIn', 'isMobileOptIn']]\n",
    "\n",
    "# Variable to predict\n",
    "dfY = dfFactorsNonRec['amount']\n",
    "\n",
    "# Break the data\n",
    "X_train, X_test, Y_train, Y_test = train_test_split(dfX, dfY, test_size=0.4, random_state=0)\n",
    "\n",
    "# Create linear regression object\n",
    "linearRegression = LinearRegression()\n",
    "\n",
    "# Fit data\n",
    "linearRegression.fit(X_train, Y_train)"
   ]
  },
  {
   "cell_type": "code",
   "execution_count": 114,
   "metadata": {
    "colab": {
     "base_uri": "https://localhost:8080/"
    },
    "id": "uelvsG97CVaz",
    "outputId": "ac750cab-8f8c-4f1a-a89d-3c8fe1c240c3"
   },
   "outputs": [
    {
     "data": {
      "text/plain": [
       "4.576837192060083"
      ]
     },
     "execution_count": 114,
     "metadata": {},
     "output_type": "execute_result"
    }
   ],
   "source": [
    "# Print the intercepts\n",
    "linearRegression.intercept_"
   ]
  },
  {
   "cell_type": "code",
   "execution_count": 115,
   "metadata": {
    "colab": {
     "base_uri": "https://localhost:8080/"
    },
    "id": "Ova8cEQCCVaz",
    "outputId": "82cebda0-4d7d-4a7e-867e-0c28ccef6d7d"
   },
   "outputs": [
    {
     "data": {
      "text/plain": [
       "array([32.92316281, 79.14854497])"
      ]
     },
     "execution_count": 115,
     "metadata": {},
     "output_type": "execute_result"
    }
   ],
   "source": [
    "# Coefficients\n",
    "linearRegression.coef_"
   ]
  },
  {
   "cell_type": "code",
   "execution_count": 116,
   "metadata": {
    "colab": {
     "base_uri": "https://localhost:8080/",
     "height": 0
    },
    "id": "PreiD7rbCVa0",
    "outputId": "03729e88-f3df-4c9b-d69c-be25b3e6ece5"
   },
   "outputs": [
    {
     "data": {
      "text/html": [
       "<div>\n",
       "<style scoped>\n",
       "    .dataframe tbody tr th:only-of-type {\n",
       "        vertical-align: middle;\n",
       "    }\n",
       "\n",
       "    .dataframe tbody tr th {\n",
       "        vertical-align: top;\n",
       "    }\n",
       "\n",
       "    .dataframe thead th {\n",
       "        text-align: right;\n",
       "    }\n",
       "</style>\n",
       "<table border=\"1\" class=\"dataframe\">\n",
       "  <thead>\n",
       "    <tr style=\"text-align: right;\">\n",
       "      <th></th>\n",
       "      <th>Regression Coeffs</th>\n",
       "    </tr>\n",
       "  </thead>\n",
       "  <tbody>\n",
       "    <tr>\n",
       "      <th>isEmailOptIn</th>\n",
       "      <td>32.923163</td>\n",
       "    </tr>\n",
       "    <tr>\n",
       "      <th>isMobileOptIn</th>\n",
       "      <td>79.148545</td>\n",
       "    </tr>\n",
       "  </tbody>\n",
       "</table>\n",
       "</div>"
      ],
      "text/plain": [
       "               Regression Coeffs\n",
       "isEmailOptIn           32.923163\n",
       "isMobileOptIn          79.148545"
      ]
     },
     "execution_count": 116,
     "metadata": {},
     "output_type": "execute_result"
    }
   ],
   "source": [
    "# Table with coefficients\n",
    "pd.DataFrame(linearRegression.coef_, dfX.columns, ['Regression Coeffs'])"
   ]
  },
  {
   "cell_type": "code",
   "execution_count": 117,
   "metadata": {
    "colab": {
     "base_uri": "https://localhost:8080/"
    },
    "id": "RFH_Qry4CVa0",
    "outputId": "7e5162bb-5e81-440b-9c85-27b418122a1d"
   },
   "outputs": [
    {
     "data": {
      "text/plain": [
       "array([116.64854497, 116.64854497,  83.72538217,  83.72538217,\n",
       "       116.64854497, 116.64854497, 116.64854497,  83.72538217,\n",
       "       116.64854497, 116.64854497,  83.72538217, 116.64854497,\n",
       "       116.64854497,  83.72538217,  83.72538217, 116.64854497,\n",
       "        83.72538217,  83.72538217, 116.64854497, 116.64854497,\n",
       "       116.64854497, 116.64854497,  83.72538217,  83.72538217,\n",
       "       116.64854497,  83.72538217,  83.72538217, 116.64854497,\n",
       "       116.64854497,  83.72538217, 116.64854497,  83.72538217,\n",
       "        37.5       ,  83.72538217,  83.72538217, 116.64854497,\n",
       "       116.64854497, 116.64854497,  83.72538217, 116.64854497,\n",
       "       116.64854497, 116.64854497,  83.72538217,  83.72538217,\n",
       "       116.64854497, 116.64854497,  83.72538217,  83.72538217,\n",
       "        83.72538217, 116.64854497, 116.64854497,  83.72538217,\n",
       "        83.72538217, 116.64854497, 116.64854497,  83.72538217,\n",
       "        83.72538217, 116.64854497, 116.64854497,  83.72538217,\n",
       "       116.64854497,  83.72538217, 116.64854497,  83.72538217,\n",
       "       116.64854497,  83.72538217, 116.64854497, 116.64854497,\n",
       "        83.72538217, 116.64854497, 116.64854497,  83.72538217,\n",
       "       116.64854497,  83.72538217,  37.5       , 116.64854497,\n",
       "        83.72538217,  83.72538217,  83.72538217,  83.72538217,\n",
       "       116.64854497, 116.64854497, 116.64854497, 116.64854497,\n",
       "       116.64854497, 116.64854497, 116.64854497,  83.72538217,\n",
       "       116.64854497, 116.64854497,  83.72538217, 116.64854497,\n",
       "       116.64854497, 116.64854497, 116.64854497, 116.64854497,\n",
       "        83.72538217, 116.64854497,  37.5       , 116.64854497,\n",
       "       116.64854497, 116.64854497,  83.72538217, 116.64854497,\n",
       "       116.64854497, 116.64854497, 116.64854497, 116.64854497,\n",
       "        83.72538217, 116.64854497, 116.64854497, 116.64854497,\n",
       "        83.72538217, 116.64854497, 116.64854497, 116.64854497,\n",
       "       116.64854497, 116.64854497,  83.72538217,  83.72538217,\n",
       "       116.64854497,  83.72538217, 116.64854497,  83.72538217,\n",
       "       116.64854497,  83.72538217, 116.64854497,  83.72538217,\n",
       "        83.72538217,  83.72538217, 116.64854497,  83.72538217,\n",
       "       116.64854497, 116.64854497,  83.72538217,  83.72538217,\n",
       "        83.72538217,  83.72538217,  83.72538217, 116.64854497,\n",
       "        83.72538217, 116.64854497, 116.64854497,  83.72538217,\n",
       "       116.64854497,  83.72538217, 116.64854497,  83.72538217,\n",
       "       116.64854497, 116.64854497,  83.72538217, 116.64854497,\n",
       "       116.64854497,  83.72538217, 116.64854497, 116.64854497,\n",
       "        83.72538217, 116.64854497,  83.72538217,  83.72538217,\n",
       "        83.72538217, 116.64854497,  83.72538217, 116.64854497,\n",
       "        83.72538217, 116.64854497,  83.72538217,  83.72538217,\n",
       "       116.64854497, 116.64854497,  83.72538217, 116.64854497,\n",
       "       116.64854497, 116.64854497, 116.64854497,  83.72538217,\n",
       "       116.64854497, 116.64854497, 116.64854497, 116.64854497,\n",
       "       116.64854497, 116.64854497,  83.72538217,  83.72538217,\n",
       "       116.64854497, 116.64854497,  83.72538217,  83.72538217,\n",
       "       116.64854497, 116.64854497, 116.64854497,  83.72538217,\n",
       "       116.64854497, 116.64854497, 116.64854497,  83.72538217,\n",
       "       116.64854497,  83.72538217,  83.72538217, 116.64854497,\n",
       "       116.64854497, 116.64854497,  83.72538217, 116.64854497,\n",
       "       116.64854497,  83.72538217, 116.64854497, 116.64854497,\n",
       "        83.72538217, 116.64854497,   4.57683719, 116.64854497,\n",
       "        83.72538217, 116.64854497, 116.64854497, 116.64854497,\n",
       "         4.57683719, 116.64854497, 116.64854497, 116.64854497,\n",
       "       116.64854497, 116.64854497, 116.64854497,  83.72538217,\n",
       "       116.64854497, 116.64854497,  83.72538217,  83.72538217,\n",
       "        83.72538217, 116.64854497,  83.72538217,  83.72538217,\n",
       "       116.64854497, 116.64854497, 116.64854497,  83.72538217,\n",
       "       116.64854497,  83.72538217,  83.72538217,  83.72538217,\n",
       "        83.72538217,  83.72538217, 116.64854497, 116.64854497,\n",
       "       116.64854497,  83.72538217, 116.64854497, 116.64854497,\n",
       "        83.72538217,  83.72538217,  83.72538217,  83.72538217,\n",
       "       116.64854497,  83.72538217, 116.64854497, 116.64854497,\n",
       "        83.72538217, 116.64854497,  83.72538217, 116.64854497,\n",
       "       116.64854497, 116.64854497, 116.64854497, 116.64854497,\n",
       "       116.64854497,  83.72538217,  83.72538217,  83.72538217,\n",
       "        83.72538217,  83.72538217,  83.72538217, 116.64854497,\n",
       "       116.64854497, 116.64854497, 116.64854497, 116.64854497,\n",
       "        83.72538217,  83.72538217, 116.64854497, 116.64854497,\n",
       "       116.64854497, 116.64854497, 116.64854497, 116.64854497,\n",
       "        83.72538217,  83.72538217,  83.72538217, 116.64854497,\n",
       "       116.64854497,  83.72538217,  83.72538217, 116.64854497,\n",
       "       116.64854497, 116.64854497, 116.64854497,  83.72538217,\n",
       "       116.64854497, 116.64854497,  83.72538217,  83.72538217,\n",
       "       116.64854497, 116.64854497, 116.64854497,  83.72538217,\n",
       "       116.64854497,  83.72538217, 116.64854497,  83.72538217,\n",
       "       116.64854497, 116.64854497,  83.72538217, 116.64854497,\n",
       "       116.64854497, 116.64854497, 116.64854497, 116.64854497,\n",
       "       116.64854497,  83.72538217,  83.72538217,  83.72538217,\n",
       "        83.72538217,  83.72538217,  83.72538217,  83.72538217,\n",
       "       116.64854497,  83.72538217, 116.64854497, 116.64854497,\n",
       "       116.64854497, 116.64854497, 116.64854497, 116.64854497,\n",
       "       116.64854497,  83.72538217,  83.72538217, 116.64854497,\n",
       "       116.64854497, 116.64854497, 116.64854497, 116.64854497,\n",
       "       116.64854497,  83.72538217,  83.72538217,  83.72538217,\n",
       "       116.64854497,  83.72538217, 116.64854497, 116.64854497,\n",
       "       116.64854497,  83.72538217,  83.72538217, 116.64854497,\n",
       "       116.64854497, 116.64854497, 116.64854497, 116.64854497,\n",
       "       116.64854497, 116.64854497,  83.72538217,  83.72538217,\n",
       "        83.72538217, 116.64854497, 116.64854497, 116.64854497,\n",
       "        83.72538217,  83.72538217, 116.64854497, 116.64854497,\n",
       "        83.72538217,  83.72538217, 116.64854497, 116.64854497,\n",
       "       116.64854497, 116.64854497,  83.72538217,  83.72538217,\n",
       "       116.64854497,  83.72538217,  83.72538217,  83.72538217,\n",
       "       116.64854497, 116.64854497, 116.64854497,  83.72538217,\n",
       "       116.64854497,  83.72538217, 116.64854497,  83.72538217,\n",
       "       116.64854497, 116.64854497, 116.64854497,  83.72538217,\n",
       "       116.64854497,  83.72538217,  83.72538217, 116.64854497,\n",
       "       116.64854497, 116.64854497, 116.64854497,  83.72538217,\n",
       "        83.72538217,  83.72538217, 116.64854497, 116.64854497,\n",
       "       116.64854497, 116.64854497, 116.64854497,  83.72538217,\n",
       "       116.64854497, 116.64854497, 116.64854497, 116.64854497,\n",
       "        83.72538217, 116.64854497,  83.72538217,  83.72538217,\n",
       "        83.72538217, 116.64854497,  83.72538217, 116.64854497,\n",
       "        83.72538217,  83.72538217,  83.72538217, 116.64854497,\n",
       "       116.64854497,  83.72538217, 116.64854497, 116.64854497,\n",
       "        83.72538217,  83.72538217,  83.72538217,  83.72538217,\n",
       "        83.72538217,  83.72538217, 116.64854497, 116.64854497,\n",
       "       116.64854497,  83.72538217,  83.72538217, 116.64854497,\n",
       "        83.72538217,  83.72538217, 116.64854497,  83.72538217,\n",
       "       116.64854497,  83.72538217, 116.64854497, 116.64854497,\n",
       "        83.72538217,  83.72538217, 116.64854497, 116.64854497,\n",
       "        83.72538217,  83.72538217, 116.64854497, 116.64854497,\n",
       "        83.72538217,  83.72538217,  83.72538217,  83.72538217,\n",
       "       116.64854497, 116.64854497, 116.64854497])"
      ]
     },
     "execution_count": 117,
     "metadata": {},
     "output_type": "execute_result"
    }
   ],
   "source": [
    "# Prediction table\n",
    "Y_predicted = linearRegression.predict(X_test)\n",
    "Y_predicted"
   ]
  },
  {
   "cell_type": "code",
   "execution_count": 118,
   "metadata": {
    "colab": {
     "base_uri": "https://localhost:8080/",
     "height": 0
    },
    "id": "rPLc4qk_CVa0",
    "outputId": "ef9254d1-f41b-4eb8-db39-bd37613b987a"
   },
   "outputs": [
    {
     "data": {
      "image/png": "[encoded data removed]",
      "text/plain": [
       "<Figure size 432x288 with 1 Axes>"
      ]
     },
     "metadata": {
      "needs_background": "light"
     },
     "output_type": "display_data"
    }
   ],
   "source": [
    "# Scatter plot for predicted and real values\n",
    "plt.scatter(Y_test, Y_predicted)\n",
    "plt.xlabel('Real Data')\n",
    "plt.ylabel('Predicted Data')\n",
    "\n",
    "plt.show()"
   ]
  },
  {
   "cell_type": "code",
   "execution_count": 119,
   "metadata": {
    "id": "VgoebpZkCVa0"
   },
   "outputs": [],
   "source": [
    "# The linear model with the non-recurring donations has a correlation with both email and mobile opt-in factors\n",
    "# The results predicted is visualized above. \n",
    "# The coefficients associated with this model has email-opt-in at 32.93\n",
    "# and mobile-opt-in at 79.15"
   ]
  },
  {
   "cell_type": "code",
   "execution_count": 120,
   "metadata": {
    "colab": {
     "base_uri": "https://localhost:8080/"
    },
    "id": "GkFMToxqCVa1",
    "outputId": "98f83656-ae58-4d6d-d92b-ab0efd119670"
   },
   "outputs": [
    {
     "data": {
      "text/plain": [
       "-0.09215286394706945"
      ]
     },
     "execution_count": 120,
     "metadata": {},
     "output_type": "execute_result"
    }
   ],
   "source": [
    "# Accuracy\n",
    "linearRegression.score(X_test, Y_test)"
   ]
  },
  {
   "cell_type": "markdown",
   "metadata": {
    "id": "Hppg5QsAFaDd"
   },
   "source": [
    "### Linear Regression Conclusions"
   ]
  },
  {
   "cell_type": "code",
   "execution_count": 121,
   "metadata": {
    "id": "sm0pySVYH6x_"
   },
   "outputs": [],
   "source": [
    "# The efficacy of a linear model is rather low is this senario\n",
    "# There are limited factors that could be quantifiable, and even the quantifiable\n",
    "# factors end up being discrete.\n",
    "# In two of the models, one of the factors did not have a correlation at all with\n",
    "# target factor, thus simplifying the linear model into a single factor model\n",
    "# The accuracy for each model is rather low.\n",
    "\n",
    "# The predictions, while within the range of the actual donation values, are rather \n",
    "# simplistic in variaety. We can see the same numbers being predicted over and over\n",
    "# Although, the model does a good job of showing one trend. That is, non-recurring \n",
    "# donations are generally higher value than recurring donations, or donors who have canceled\n",
    "# their recurring status. \n",
    "\n",
    "# One pattern emerged among the correlations\n",
    "# For non-recurring donors, there is a small tendency to choose either email-opt-in\n",
    "# or mobile-opt-in, not both. Perhaps management could make use of this fact to \n",
    "# further promote their relationship among non-recurring donors.\n",
    "# By lowering or increasing the frequency of news, notifications, and updates\n",
    "# while limiting the method of communication to whichever source the donors prefer.\n",
    "\n",
    "# From a managerial standpoint, the use of a linear model is not feasible.\n",
    "# There is little need to predict the donation amounts, when elementary analysis\n",
    "# can already show the trends among donations.\n",
    "# More complex models such as clustering or trees could draw more relationships\n",
    "# between factors such as donation time.\n",
    "# These will be explored further down the analysis."
   ]
  },
  {
   "cell_type": "markdown",
   "metadata": {
    "id": "l-iei6ZGWHXP"
   },
   "source": [
    "# Correlation Opt-in & Value"
   ]
  },
  {
   "cell_type": "markdown",
   "metadata": {
    "id": "Xa2DkPNYa1wa"
   },
   "source": [
    "## Email"
   ]
  },
  {
   "cell_type": "code",
   "execution_count": 122,
   "metadata": {
    "colab": {
     "base_uri": "https://localhost:8080/",
     "height": 333
    },
    "id": "UhaBIQocX6Ub",
    "outputId": "f7e24d05-fabf-4dcd-da82-f60ce512c84f"
   },
   "outputs": [
    {
     "name": "stderr",
     "output_type": "stream",
     "text": [
      "/usr/local/lib/python3.7/dist-packages/numpy/core/_asarray.py:83: VisibleDeprecationWarning: Creating an ndarray from ragged nested sequences (which is a list-or-tuple of lists-or-tuples-or ndarrays with different lengths or shapes) is deprecated. If you meant to do this, you must specify 'dtype=object' when creating the ndarray\n",
      "  return array(a, dtype, copy=False, order=order)\n"
     ]
    },
    {
     "data": {
      "image/png": "[encoded data removed]",
      "text/plain": [
       "<Figure size 432x288 with 1 Axes>"
      ]
     },
     "metadata": {
      "needs_background": "light"
     },
     "output_type": "display_data"
    }
   ],
   "source": [
    "dfEmailOptIn = dfFactors[ (dfFactors[\"isEmailOptIn\"] == 1) ]\n",
    "dfEmailNotOptIn = dfFactors[ (dfFactors[\"isEmailOptIn\"] == 0) ]\n",
    "data = [dfEmailOptIn[\"amount\"], dfEmailNotOptIn[\"amount\"]]\n",
    "plt.boxplot(data, labels=[\"EmailOptIn\", \"EmailNotOptIn\"])\n",
    "plt.xlabel(\"Email Opt-in Status\")\n",
    "plt.ylabel(\"Donation Value\")\n",
    "plt.show()"
   ]
  },
  {
   "cell_type": "code",
   "execution_count": 123,
   "metadata": {
    "colab": {
     "base_uri": "https://localhost:8080/",
     "height": 297
    },
    "id": "CHE5UD31uxLz",
    "outputId": "3f7ef210-d24d-4b9d-f614-dbdeb4bc6347"
   },
   "outputs": [
    {
     "data": {
      "text/html": [
       "<div>\n",
       "<style scoped>\n",
       "    .dataframe tbody tr th:only-of-type {\n",
       "        vertical-align: middle;\n",
       "    }\n",
       "\n",
       "    .dataframe tbody tr th {\n",
       "        vertical-align: top;\n",
       "    }\n",
       "\n",
       "    .dataframe thead th {\n",
       "        text-align: right;\n",
       "    }\n",
       "</style>\n",
       "<table border=\"1\" class=\"dataframe\">\n",
       "  <thead>\n",
       "    <tr style=\"text-align: right;\">\n",
       "      <th></th>\n",
       "      <th>amount</th>\n",
       "      <th>isEmailOptIn</th>\n",
       "      <th>isMobileOptIn</th>\n",
       "    </tr>\n",
       "  </thead>\n",
       "  <tbody>\n",
       "    <tr>\n",
       "      <th>count</th>\n",
       "      <td>999.000000</td>\n",
       "      <td>999.0</td>\n",
       "      <td>999.000000</td>\n",
       "    </tr>\n",
       "    <tr>\n",
       "      <th>mean</th>\n",
       "      <td>72.136897</td>\n",
       "      <td>1.0</td>\n",
       "      <td>0.994995</td>\n",
       "    </tr>\n",
       "    <tr>\n",
       "      <th>std</th>\n",
       "      <td>234.168726</td>\n",
       "      <td>0.0</td>\n",
       "      <td>0.070604</td>\n",
       "    </tr>\n",
       "    <tr>\n",
       "      <th>min</th>\n",
       "      <td>0.500000</td>\n",
       "      <td>1.0</td>\n",
       "      <td>0.000000</td>\n",
       "    </tr>\n",
       "    <tr>\n",
       "      <th>25%</th>\n",
       "      <td>20.000000</td>\n",
       "      <td>1.0</td>\n",
       "      <td>1.000000</td>\n",
       "    </tr>\n",
       "    <tr>\n",
       "      <th>50%</th>\n",
       "      <td>25.000000</td>\n",
       "      <td>1.0</td>\n",
       "      <td>1.000000</td>\n",
       "    </tr>\n",
       "    <tr>\n",
       "      <th>75%</th>\n",
       "      <td>50.000000</td>\n",
       "      <td>1.0</td>\n",
       "      <td>1.000000</td>\n",
       "    </tr>\n",
       "    <tr>\n",
       "      <th>max</th>\n",
       "      <td>5000.000000</td>\n",
       "      <td>1.0</td>\n",
       "      <td>1.000000</td>\n",
       "    </tr>\n",
       "  </tbody>\n",
       "</table>\n",
       "</div>"
      ],
      "text/plain": [
       "            amount  isEmailOptIn  isMobileOptIn\n",
       "count   999.000000         999.0     999.000000\n",
       "mean     72.136897           1.0       0.994995\n",
       "std     234.168726           0.0       0.070604\n",
       "min       0.500000           1.0       0.000000\n",
       "25%      20.000000           1.0       1.000000\n",
       "50%      25.000000           1.0       1.000000\n",
       "75%      50.000000           1.0       1.000000\n",
       "max    5000.000000           1.0       1.000000"
      ]
     },
     "execution_count": 123,
     "metadata": {},
     "output_type": "execute_result"
    }
   ],
   "source": [
    "dfEmailOptIn.describe()"
   ]
  },
  {
   "cell_type": "code",
   "execution_count": 124,
   "metadata": {
    "colab": {
     "base_uri": "https://localhost:8080/",
     "height": 297
    },
    "id": "m3gUQhzEu1iw",
    "outputId": "440a0cd7-2b42-4f50-9f31-8580df2486a6"
   },
   "outputs": [
    {
     "data": {
      "text/html": [
       "<div>\n",
       "<style scoped>\n",
       "    .dataframe tbody tr th:only-of-type {\n",
       "        vertical-align: middle;\n",
       "    }\n",
       "\n",
       "    .dataframe tbody tr th {\n",
       "        vertical-align: top;\n",
       "    }\n",
       "\n",
       "    .dataframe thead th {\n",
       "        text-align: right;\n",
       "    }\n",
       "</style>\n",
       "<table border=\"1\" class=\"dataframe\">\n",
       "  <thead>\n",
       "    <tr style=\"text-align: right;\">\n",
       "      <th></th>\n",
       "      <th>amount</th>\n",
       "      <th>isEmailOptIn</th>\n",
       "      <th>isMobileOptIn</th>\n",
       "    </tr>\n",
       "  </thead>\n",
       "  <tbody>\n",
       "    <tr>\n",
       "      <th>count</th>\n",
       "      <td>567.000000</td>\n",
       "      <td>567.0</td>\n",
       "      <td>567.000000</td>\n",
       "    </tr>\n",
       "    <tr>\n",
       "      <th>mean</th>\n",
       "      <td>67.038395</td>\n",
       "      <td>0.0</td>\n",
       "      <td>0.996473</td>\n",
       "    </tr>\n",
       "    <tr>\n",
       "      <th>std</th>\n",
       "      <td>184.630993</td>\n",
       "      <td>0.0</td>\n",
       "      <td>0.059339</td>\n",
       "    </tr>\n",
       "    <tr>\n",
       "      <th>min</th>\n",
       "      <td>0.500000</td>\n",
       "      <td>0.0</td>\n",
       "      <td>0.000000</td>\n",
       "    </tr>\n",
       "    <tr>\n",
       "      <th>25%</th>\n",
       "      <td>25.000000</td>\n",
       "      <td>0.0</td>\n",
       "      <td>1.000000</td>\n",
       "    </tr>\n",
       "    <tr>\n",
       "      <th>50%</th>\n",
       "      <td>25.000000</td>\n",
       "      <td>0.0</td>\n",
       "      <td>1.000000</td>\n",
       "    </tr>\n",
       "    <tr>\n",
       "      <th>75%</th>\n",
       "      <td>50.000000</td>\n",
       "      <td>0.0</td>\n",
       "      <td>1.000000</td>\n",
       "    </tr>\n",
       "    <tr>\n",
       "      <th>max</th>\n",
       "      <td>3500.000000</td>\n",
       "      <td>0.0</td>\n",
       "      <td>1.000000</td>\n",
       "    </tr>\n",
       "  </tbody>\n",
       "</table>\n",
       "</div>"
      ],
      "text/plain": [
       "            amount  isEmailOptIn  isMobileOptIn\n",
       "count   567.000000         567.0     567.000000\n",
       "mean     67.038395           0.0       0.996473\n",
       "std     184.630993           0.0       0.059339\n",
       "min       0.500000           0.0       0.000000\n",
       "25%      25.000000           0.0       1.000000\n",
       "50%      25.000000           0.0       1.000000\n",
       "75%      50.000000           0.0       1.000000\n",
       "max    3500.000000           0.0       1.000000"
      ]
     },
     "execution_count": 124,
     "metadata": {},
     "output_type": "execute_result"
    }
   ],
   "source": [
    "dfEmailNotOptIn.describe()"
   ]
  },
  {
   "cell_type": "code",
   "execution_count": 125,
   "metadata": {
    "colab": {
     "base_uri": "https://localhost:8080/",
     "height": 279
    },
    "id": "ikoM602DupyW",
    "outputId": "cbf3c8b7-1b50-4967-a1a1-52071f18fa84"
   },
   "outputs": [
    {
     "data": {
      "image/png": "[encoded data removed]",
      "text/plain": [
       "<Figure size 432x288 with 1 Axes>"
      ]
     },
     "metadata": {
      "needs_background": "light"
     },
     "output_type": "display_data"
    }
   ],
   "source": [
    "plt.scatter(dfFactors[\"amount\"], dfFactors[\"isEmailOptIn\"], alpha=0.5)\n",
    "plt.xlabel(\"Donation Value\")\n",
    "plt.ylabel(\"Email Opt-in Status\")\n",
    "plt.show()"
   ]
  },
  {
   "cell_type": "code",
   "execution_count": 126,
   "metadata": {
    "colab": {
     "base_uri": "https://localhost:8080/",
     "height": 573
    },
    "id": "LZoPrL0kYv_Y",
    "outputId": "b30b4f6e-3a7d-48e6-a112-6a111e21c1dd"
   },
   "outputs": [
    {
     "data": {
      "image/png": "[encoded data removed]",
      "text/plain": [
       "<Figure size 432x288 with 1 Axes>"
      ]
     },
     "metadata": {
      "needs_background": "light"
     },
     "output_type": "display_data"
    },
    {
     "data": {
      "image/png": "[encoded data removed]",
      "text/plain": [
       "<Figure size 432x288 with 1 Axes>"
      ]
     },
     "metadata": {
      "needs_background": "light"
     },
     "output_type": "display_data"
    }
   ],
   "source": [
    "fig, ax = plt.subplots()\n",
    "ax.hist(dfEmailOptIn[\"amount\"], density=False)\n",
    "\n",
    "for rect in ax.patches:\n",
    "    height = rect.get_height()\n",
    "    ax.annotate(f'{int(height)}', xy=(rect.get_x()+rect.get_width()/2, height), \n",
    "                xytext=(0, 5), textcoords='offset points', ha='center', va='bottom')\n",
    "plt.xlabel(\"Donation Value\")\n",
    "plt.ylabel(\"Number of Donations\")\n",
    "plt.title(\"Donation Value of Email Opt-in Donors\")\n",
    "plt.show()\n",
    "\n",
    "\n",
    "fig, ax = plt.subplots()\n",
    "ax.hist(dfEmailNotOptIn[\"amount\"], density=False)\n",
    "\n",
    "for rect in ax.patches:\n",
    "    height = rect.get_height()\n",
    "    ax.annotate(f'{int(height)}', xy=(rect.get_x()+rect.get_width()/2, height), \n",
    "                xytext=(0, 5), textcoords='offset points', ha='center', va='bottom')\n",
    "plt.xlabel(\"Donation Value\")\n",
    "plt.ylabel(\"Number of Donations\")\n",
    "plt.title(\"Donation Value of Email Not Opt-in Donors\")\n",
    "plt.show()"
   ]
  },
  {
   "cell_type": "markdown",
   "metadata": {
    "id": "Ef3GRkI8a4Wm"
   },
   "source": [
    "## Mobile"
   ]
  },
  {
   "cell_type": "code",
   "execution_count": 127,
   "metadata": {
    "colab": {
     "base_uri": "https://localhost:8080/",
     "height": 333
    },
    "id": "ympyeS9ia9Zk",
    "outputId": "d7c17bb4-7ec5-4bac-c954-553f649f56fe"
   },
   "outputs": [
    {
     "name": "stderr",
     "output_type": "stream",
     "text": [
      "/usr/local/lib/python3.7/dist-packages/numpy/core/_asarray.py:83: VisibleDeprecationWarning: Creating an ndarray from ragged nested sequences (which is a list-or-tuple of lists-or-tuples-or ndarrays with different lengths or shapes) is deprecated. If you meant to do this, you must specify 'dtype=object' when creating the ndarray\n",
      "  return array(a, dtype, copy=False, order=order)\n"
     ]
    },
    {
     "data": {
      "image/png": "[encoded data removed]",
      "text/plain": [
       "<Figure size 432x288 with 1 Axes>"
      ]
     },
     "metadata": {
      "needs_background": "light"
     },
     "output_type": "display_data"
    }
   ],
   "source": [
    "dfMobileOptIn = dfFactors[ (dfFactors[\"isMobileOptIn\"] == 1) ]\n",
    "dfMobileNotOptIn = dfFactors[ (dfFactors[\"isMobileOptIn\"] == 0) ]\n",
    "data = [dfMobileOptIn[\"amount\"], dfMobileNotOptIn[\"amount\"]]\n",
    "plt.boxplot(data, labels=[\"MobileOptIn\", \"MobileNotOptIn\"])\n",
    "plt.xlabel(\"Mobile Opt-in Status\")\n",
    "plt.ylabel(\"Donation Value\")\n",
    "plt.show()"
   ]
  },
  {
   "cell_type": "code",
   "execution_count": 128,
   "metadata": {
    "colab": {
     "base_uri": "https://localhost:8080/",
     "height": 297
    },
    "id": "u3aaloqqvDHo",
    "outputId": "dcfa95c1-d0db-4f92-bed3-743b6ad29701"
   },
   "outputs": [
    {
     "data": {
      "text/html": [
       "<div>\n",
       "<style scoped>\n",
       "    .dataframe tbody tr th:only-of-type {\n",
       "        vertical-align: middle;\n",
       "    }\n",
       "\n",
       "    .dataframe tbody tr th {\n",
       "        vertical-align: top;\n",
       "    }\n",
       "\n",
       "    .dataframe thead th {\n",
       "        text-align: right;\n",
       "    }\n",
       "</style>\n",
       "<table border=\"1\" class=\"dataframe\">\n",
       "  <thead>\n",
       "    <tr style=\"text-align: right;\">\n",
       "      <th></th>\n",
       "      <th>amount</th>\n",
       "      <th>isEmailOptIn</th>\n",
       "      <th>isMobileOptIn</th>\n",
       "    </tr>\n",
       "  </thead>\n",
       "  <tbody>\n",
       "    <tr>\n",
       "      <th>count</th>\n",
       "      <td>1559.000000</td>\n",
       "      <td>1559.000000</td>\n",
       "      <td>1559.0</td>\n",
       "    </tr>\n",
       "    <tr>\n",
       "      <th>mean</th>\n",
       "      <td>70.414067</td>\n",
       "      <td>0.637588</td>\n",
       "      <td>1.0</td>\n",
       "    </tr>\n",
       "    <tr>\n",
       "      <th>std</th>\n",
       "      <td>217.965472</td>\n",
       "      <td>0.480851</td>\n",
       "      <td>0.0</td>\n",
       "    </tr>\n",
       "    <tr>\n",
       "      <th>min</th>\n",
       "      <td>0.500000</td>\n",
       "      <td>0.000000</td>\n",
       "      <td>1.0</td>\n",
       "    </tr>\n",
       "    <tr>\n",
       "      <th>25%</th>\n",
       "      <td>25.000000</td>\n",
       "      <td>0.000000</td>\n",
       "      <td>1.0</td>\n",
       "    </tr>\n",
       "    <tr>\n",
       "      <th>50%</th>\n",
       "      <td>25.000000</td>\n",
       "      <td>1.000000</td>\n",
       "      <td>1.0</td>\n",
       "    </tr>\n",
       "    <tr>\n",
       "      <th>75%</th>\n",
       "      <td>50.000000</td>\n",
       "      <td>1.000000</td>\n",
       "      <td>1.0</td>\n",
       "    </tr>\n",
       "    <tr>\n",
       "      <th>max</th>\n",
       "      <td>5000.000000</td>\n",
       "      <td>1.000000</td>\n",
       "      <td>1.0</td>\n",
       "    </tr>\n",
       "  </tbody>\n",
       "</table>\n",
       "</div>"
      ],
      "text/plain": [
       "            amount  isEmailOptIn  isMobileOptIn\n",
       "count  1559.000000   1559.000000         1559.0\n",
       "mean     70.414067      0.637588            1.0\n",
       "std     217.965472      0.480851            0.0\n",
       "min       0.500000      0.000000            1.0\n",
       "25%      25.000000      0.000000            1.0\n",
       "50%      25.000000      1.000000            1.0\n",
       "75%      50.000000      1.000000            1.0\n",
       "max    5000.000000      1.000000            1.0"
      ]
     },
     "execution_count": 128,
     "metadata": {},
     "output_type": "execute_result"
    }
   ],
   "source": [
    "dfMobileOptIn.describe()"
   ]
  },
  {
   "cell_type": "code",
   "execution_count": 128,
   "metadata": {
    "id": "W2VhujD5E0j3"
   },
   "outputs": [],
   "source": []
  },
  {
   "cell_type": "code",
   "execution_count": 129,
   "metadata": {
    "colab": {
     "base_uri": "https://localhost:8080/",
     "height": 297
    },
    "id": "zLoTyr0rvEN3",
    "outputId": "a6bf2f1d-3ee4-46fe-c9f2-570dfe0d0ed3"
   },
   "outputs": [
    {
     "data": {
      "text/html": [
       "<div>\n",
       "<style scoped>\n",
       "    .dataframe tbody tr th:only-of-type {\n",
       "        vertical-align: middle;\n",
       "    }\n",
       "\n",
       "    .dataframe tbody tr th {\n",
       "        vertical-align: top;\n",
       "    }\n",
       "\n",
       "    .dataframe thead th {\n",
       "        text-align: right;\n",
       "    }\n",
       "</style>\n",
       "<table border=\"1\" class=\"dataframe\">\n",
       "  <thead>\n",
       "    <tr style=\"text-align: right;\">\n",
       "      <th></th>\n",
       "      <th>amount</th>\n",
       "      <th>isEmailOptIn</th>\n",
       "      <th>isMobileOptIn</th>\n",
       "    </tr>\n",
       "  </thead>\n",
       "  <tbody>\n",
       "    <tr>\n",
       "      <th>count</th>\n",
       "      <td>7.000000</td>\n",
       "      <td>7.000000</td>\n",
       "      <td>7.0</td>\n",
       "    </tr>\n",
       "    <tr>\n",
       "      <th>mean</th>\n",
       "      <td>42.857143</td>\n",
       "      <td>0.714286</td>\n",
       "      <td>0.0</td>\n",
       "    </tr>\n",
       "    <tr>\n",
       "      <th>std</th>\n",
       "      <td>27.817432</td>\n",
       "      <td>0.487950</td>\n",
       "      <td>0.0</td>\n",
       "    </tr>\n",
       "    <tr>\n",
       "      <th>min</th>\n",
       "      <td>25.000000</td>\n",
       "      <td>0.000000</td>\n",
       "      <td>0.0</td>\n",
       "    </tr>\n",
       "    <tr>\n",
       "      <th>25%</th>\n",
       "      <td>25.000000</td>\n",
       "      <td>0.500000</td>\n",
       "      <td>0.0</td>\n",
       "    </tr>\n",
       "    <tr>\n",
       "      <th>50%</th>\n",
       "      <td>25.000000</td>\n",
       "      <td>1.000000</td>\n",
       "      <td>0.0</td>\n",
       "    </tr>\n",
       "    <tr>\n",
       "      <th>75%</th>\n",
       "      <td>50.000000</td>\n",
       "      <td>1.000000</td>\n",
       "      <td>0.0</td>\n",
       "    </tr>\n",
       "    <tr>\n",
       "      <th>max</th>\n",
       "      <td>100.000000</td>\n",
       "      <td>1.000000</td>\n",
       "      <td>0.0</td>\n",
       "    </tr>\n",
       "  </tbody>\n",
       "</table>\n",
       "</div>"
      ],
      "text/plain": [
       "           amount  isEmailOptIn  isMobileOptIn\n",
       "count    7.000000      7.000000            7.0\n",
       "mean    42.857143      0.714286            0.0\n",
       "std     27.817432      0.487950            0.0\n",
       "min     25.000000      0.000000            0.0\n",
       "25%     25.000000      0.500000            0.0\n",
       "50%     25.000000      1.000000            0.0\n",
       "75%     50.000000      1.000000            0.0\n",
       "max    100.000000      1.000000            0.0"
      ]
     },
     "execution_count": 129,
     "metadata": {},
     "output_type": "execute_result"
    }
   ],
   "source": [
    "dfMobileNotOptIn.describe()"
   ]
  },
  {
   "cell_type": "code",
   "execution_count": 130,
   "metadata": {
    "colab": {
     "base_uri": "https://localhost:8080/",
     "height": 279
    },
    "id": "bubtUJJAbXmG",
    "outputId": "f14e5456-615e-48d6-edd5-f9937274f73d"
   },
   "outputs": [
    {
     "data": {
      "image/png": "[encoded data removed]",
      "text/plain": [
       "<Figure size 432x288 with 1 Axes>"
      ]
     },
     "metadata": {
      "needs_background": "light"
     },
     "output_type": "display_data"
    }
   ],
   "source": [
    "plt.scatter(dfFactors[\"amount\"], dfFactors[\"isMobileOptIn\"], alpha=0.5)\n",
    "plt.xlabel(\"Donation Value\")\n",
    "plt.ylabel(\"Mobile Opt-in Status\")\n",
    "plt.show()"
   ]
  },
  {
   "cell_type": "code",
   "execution_count": 131,
   "metadata": {
    "colab": {
     "base_uri": "https://localhost:8080/",
     "height": 573
    },
    "id": "2E6yLnTZbfAz",
    "outputId": "623782a4-5337-4dae-b99e-251ad4a9784f"
   },
   "outputs": [
    {
     "data": {
      "image/png": "[encoded data removed]",
      "text/plain": [
       "<Figure size 432x288 with 1 Axes>"
      ]
     },
     "metadata": {
      "needs_background": "light"
     },
     "output_type": "display_data"
    },
    {
     "data": {
      "image/png": "[encoded data removed]",
      "text/plain": [
       "<Figure size 432x288 with 1 Axes>"
      ]
     },
     "metadata": {
      "needs_background": "light"
     },
     "output_type": "display_data"
    }
   ],
   "source": [
    "fig, ax = plt.subplots()\n",
    "ax.hist(dfMobileOptIn[\"amount\"], density=False)\n",
    "\n",
    "for rect in ax.patches:\n",
    "    height = rect.get_height()\n",
    "    ax.annotate(f'{int(height)}', xy=(rect.get_x()+rect.get_width()/2, height), \n",
    "                xytext=(0, 5), textcoords='offset points', ha='center', va='bottom')\n",
    "plt.xlabel(\"Donation Value\")\n",
    "plt.ylabel(\"Number of Donations\")\n",
    "plt.title(\"Donation Value of Mobile Opt-in Donors\")\n",
    "plt.show()\n",
    "\n",
    "\n",
    "fig, ax = plt.subplots()\n",
    "ax.hist(dfMobileNotOptIn[\"amount\"], density=False)\n",
    "\n",
    "for rect in ax.patches:\n",
    "    height = rect.get_height()\n",
    "    ax.annotate(f'{int(height)}', xy=(rect.get_x()+rect.get_width()/2, height), \n",
    "                xytext=(0, 5), textcoords='offset points', ha='center', va='bottom')\n",
    "plt.xlabel(\"Donation Value\")\n",
    "plt.ylabel(\"Number of Donations\")\n",
    "plt.title(\"Donation Value of Mobile Not Opt-in Donors\")\n",
    "plt.show()"
   ]
  },
  {
   "cell_type": "markdown",
   "metadata": {
    "id": "OE3RXpB3rXrF"
   },
   "source": [
    "# Donation Tenure\n",
    "\n"
   ]
  },
  {
   "cell_type": "markdown",
   "metadata": {
    "id": "OlfUGvc_xSYV"
   },
   "source": []
  },
  {
   "cell_type": "code",
   "execution_count": 132,
   "metadata": {
    "colab": {
     "base_uri": "https://localhost:8080/"
    },
    "id": "beqpENq1xT9s",
    "outputId": "db1771a3-b91b-4199-b1d0-5de258c81e4e"
   },
   "outputs": [
    {
     "data": {
      "text/plain": [
       "nationbuilder_id\n",
       "1                         NaN\n",
       "10      annual_membership_fee\n",
       "100          general_donation\n",
       "1000         general_donation\n",
       "1001         general_donation\n",
       "Name: donation_type, dtype: object"
      ]
     },
     "execution_count": 132,
     "metadata": {},
     "output_type": "execute_result"
    }
   ],
   "source": [
    "dfDonationType = dfDonations[\"donation_type\"]\n",
    "dfDonationType.head(5)"
   ]
  },
  {
   "cell_type": "code",
   "execution_count": 132,
   "metadata": {
    "id": "nskAMiY73fgU"
   },
   "outputs": [],
   "source": []
  },
  {
   "cell_type": "code",
   "execution_count": 133,
   "metadata": {
    "colab": {
     "base_uri": "https://localhost:8080/",
     "height": 0
    },
    "id": "-NxvaBcU3fcr",
    "outputId": "29f0bbc5-9dd3-421a-e0cf-19a11c9bff16"
   },
   "outputs": [
    {
     "data": {
      "text/html": [
       "<div>\n",
       "<style scoped>\n",
       "    .dataframe tbody tr th:only-of-type {\n",
       "        vertical-align: middle;\n",
       "    }\n",
       "\n",
       "    .dataframe tbody tr th {\n",
       "        vertical-align: top;\n",
       "    }\n",
       "\n",
       "    .dataframe thead th {\n",
       "        text-align: right;\n",
       "    }\n",
       "</style>\n",
       "<table border=\"1\" class=\"dataframe\">\n",
       "  <thead>\n",
       "    <tr style=\"text-align: right;\">\n",
       "      <th></th>\n",
       "      <th>type</th>\n",
       "      <th>amount</th>\n",
       "      <th>payment_type_name</th>\n",
       "      <th>donor_id</th>\n",
       "      <th>donation_date</th>\n",
       "      <th>donation_type</th>\n",
       "      <th>recurring_donation_status</th>\n",
       "      <th>billing_city</th>\n",
       "      <th>billing_state</th>\n",
       "      <th>billing_FSA</th>\n",
       "      <th>billing_country</th>\n",
       "      <th>billing_country_code</th>\n",
       "      <th>signup_email_opt_in</th>\n",
       "      <th>signup_mobile_opt_in</th>\n",
       "      <th>signup_point_person_name_or_email</th>\n",
       "      <th>signup_tag_list</th>\n",
       "      <th>donation_month_year</th>\n",
       "    </tr>\n",
       "    <tr>\n",
       "      <th>nationbuilder_id</th>\n",
       "      <th></th>\n",
       "      <th></th>\n",
       "      <th></th>\n",
       "      <th></th>\n",
       "      <th></th>\n",
       "      <th></th>\n",
       "      <th></th>\n",
       "      <th></th>\n",
       "      <th></th>\n",
       "      <th></th>\n",
       "      <th></th>\n",
       "      <th></th>\n",
       "      <th></th>\n",
       "      <th></th>\n",
       "      <th></th>\n",
       "      <th></th>\n",
       "      <th></th>\n",
       "    </tr>\n",
       "  </thead>\n",
       "  <tbody>\n",
       "    <tr>\n",
       "      <th>10</th>\n",
       "      <td>Donation</td>\n",
       "      <td>25.0</td>\n",
       "      <td>Credit Card</td>\n",
       "      <td>5509</td>\n",
       "      <td>5/11/2020 22:10</td>\n",
       "      <td>annual_membership_fee</td>\n",
       "      <td>NaN</td>\n",
       "      <td>St-Hubert</td>\n",
       "      <td>Quebec</td>\n",
       "      <td>J4T</td>\n",
       "      <td>Canada</td>\n",
       "      <td>CA</td>\n",
       "      <td>True</td>\n",
       "      <td>True</td>\n",
       "      <td>NaN</td>\n",
       "      <td>FR,General Member,newsletter,Ontario,Paid Memb...</td>\n",
       "      <td>2020-05</td>\n",
       "    </tr>\n",
       "    <tr>\n",
       "      <th>1006</th>\n",
       "      <td>Donation</td>\n",
       "      <td>25.0</td>\n",
       "      <td>Credit Card</td>\n",
       "      <td>5711</td>\n",
       "      <td>6/12/2020 2:48</td>\n",
       "      <td>annual_membership_fee</td>\n",
       "      <td>canceled</td>\n",
       "      <td>Laval</td>\n",
       "      <td>QC</td>\n",
       "      <td>H7G</td>\n",
       "      <td>Canada</td>\n",
       "      <td>CA</td>\n",
       "      <td>True</td>\n",
       "      <td>True</td>\n",
       "      <td>NaN</td>\n",
       "      <td>General Member</td>\n",
       "      <td>2020-06</td>\n",
       "    </tr>\n",
       "    <tr>\n",
       "      <th>1062</th>\n",
       "      <td>Donation</td>\n",
       "      <td>25.0</td>\n",
       "      <td>Credit Card</td>\n",
       "      <td>7368</td>\n",
       "      <td>6/16/2020 0:46</td>\n",
       "      <td>annual_membership_fee</td>\n",
       "      <td>NaN</td>\n",
       "      <td>Edmonton</td>\n",
       "      <td>AB</td>\n",
       "      <td>T5T</td>\n",
       "      <td>Canada</td>\n",
       "      <td>CA</td>\n",
       "      <td>True</td>\n",
       "      <td>True</td>\n",
       "      <td>NaN</td>\n",
       "      <td>General Member</td>\n",
       "      <td>2020-06</td>\n",
       "    </tr>\n",
       "    <tr>\n",
       "      <th>1081</th>\n",
       "      <td>Donation</td>\n",
       "      <td>25.0</td>\n",
       "      <td>Credit Card</td>\n",
       "      <td>7147</td>\n",
       "      <td>6/20/2020 0:12</td>\n",
       "      <td>annual_membership_fee</td>\n",
       "      <td>NaN</td>\n",
       "      <td>Vancouver</td>\n",
       "      <td>British Columbia</td>\n",
       "      <td>V5X</td>\n",
       "      <td>Canada</td>\n",
       "      <td>CA</td>\n",
       "      <td>True</td>\n",
       "      <td>True</td>\n",
       "      <td>Nana Boahen</td>\n",
       "      <td>British Columbia,General Member,Recruit Survey...</td>\n",
       "      <td>2020-06</td>\n",
       "    </tr>\n",
       "    <tr>\n",
       "      <th>1082</th>\n",
       "      <td>Donation</td>\n",
       "      <td>25.0</td>\n",
       "      <td>Credit Card</td>\n",
       "      <td>7446</td>\n",
       "      <td>6/20/2020 16:56</td>\n",
       "      <td>annual_membership_fee</td>\n",
       "      <td>NaN</td>\n",
       "      <td>Burnaby</td>\n",
       "      <td>British Columbia</td>\n",
       "      <td>V3N</td>\n",
       "      <td>Canada</td>\n",
       "      <td>CA</td>\n",
       "      <td>True</td>\n",
       "      <td>True</td>\n",
       "      <td>Chris Thompson</td>\n",
       "      <td>BC_Hub_Launch_RSVP,BC-IPT,BC-IPT info session ...</td>\n",
       "      <td>2020-06</td>\n",
       "    </tr>\n",
       "  </tbody>\n",
       "</table>\n",
       "</div>"
      ],
      "text/plain": [
       "                      type  ...  donation_month_year\n",
       "nationbuilder_id            ...                     \n",
       "10                Donation  ...              2020-05\n",
       "1006              Donation  ...              2020-06\n",
       "1062              Donation  ...              2020-06\n",
       "1081              Donation  ...              2020-06\n",
       "1082              Donation  ...              2020-06\n",
       "\n",
       "[5 rows x 17 columns]"
      ]
     },
     "execution_count": 133,
     "metadata": {},
     "output_type": "execute_result"
    }
   ],
   "source": [
    "dfAnnualDonation = dfDonations[ dfDonations[\"donation_type\"] == 'annual_membership_fee']\n",
    "dfAnnualDonation.head(5)"
   ]
  },
  {
   "cell_type": "code",
   "execution_count": 134,
   "metadata": {
    "colab": {
     "base_uri": "https://localhost:8080/",
     "height": 0
    },
    "id": "2TD7HM_m-CT0",
    "outputId": "9b73e4eb-e0ad-4858-961e-a860f5fda60c"
   },
   "outputs": [
    {
     "data": {
      "text/html": [
       "<div>\n",
       "<style scoped>\n",
       "    .dataframe tbody tr th:only-of-type {\n",
       "        vertical-align: middle;\n",
       "    }\n",
       "\n",
       "    .dataframe tbody tr th {\n",
       "        vertical-align: top;\n",
       "    }\n",
       "\n",
       "    .dataframe thead th {\n",
       "        text-align: right;\n",
       "    }\n",
       "</style>\n",
       "<table border=\"1\" class=\"dataframe\">\n",
       "  <thead>\n",
       "    <tr style=\"text-align: right;\">\n",
       "      <th></th>\n",
       "      <th>type</th>\n",
       "      <th>amount</th>\n",
       "      <th>payment_type_name</th>\n",
       "      <th>donor_id</th>\n",
       "      <th>donation_date</th>\n",
       "      <th>donation_type</th>\n",
       "      <th>recurring_donation_status</th>\n",
       "      <th>billing_city</th>\n",
       "      <th>billing_state</th>\n",
       "      <th>billing_FSA</th>\n",
       "      <th>billing_country</th>\n",
       "      <th>billing_country_code</th>\n",
       "      <th>signup_email_opt_in</th>\n",
       "      <th>signup_mobile_opt_in</th>\n",
       "      <th>signup_point_person_name_or_email</th>\n",
       "      <th>signup_tag_list</th>\n",
       "      <th>donation_month_year</th>\n",
       "    </tr>\n",
       "    <tr>\n",
       "      <th>nationbuilder_id</th>\n",
       "      <th></th>\n",
       "      <th></th>\n",
       "      <th></th>\n",
       "      <th></th>\n",
       "      <th></th>\n",
       "      <th></th>\n",
       "      <th></th>\n",
       "      <th></th>\n",
       "      <th></th>\n",
       "      <th></th>\n",
       "      <th></th>\n",
       "      <th></th>\n",
       "      <th></th>\n",
       "      <th></th>\n",
       "      <th></th>\n",
       "      <th></th>\n",
       "      <th></th>\n",
       "    </tr>\n",
       "  </thead>\n",
       "  <tbody>\n",
       "    <tr>\n",
       "      <th>10</th>\n",
       "      <td>Donation</td>\n",
       "      <td>25.0</td>\n",
       "      <td>Credit Card</td>\n",
       "      <td>5509</td>\n",
       "      <td>5/11/2020 22:10</td>\n",
       "      <td>annual_membership_fee</td>\n",
       "      <td>NaN</td>\n",
       "      <td>St-Hubert</td>\n",
       "      <td>Quebec</td>\n",
       "      <td>J4T</td>\n",
       "      <td>Canada</td>\n",
       "      <td>CA</td>\n",
       "      <td>True</td>\n",
       "      <td>True</td>\n",
       "      <td>NaN</td>\n",
       "      <td>FR,General Member,newsletter,Ontario,Paid Memb...</td>\n",
       "      <td>2020-05</td>\n",
       "    </tr>\n",
       "    <tr>\n",
       "      <th>1006</th>\n",
       "      <td>Donation</td>\n",
       "      <td>25.0</td>\n",
       "      <td>Credit Card</td>\n",
       "      <td>5711</td>\n",
       "      <td>6/12/2020 2:48</td>\n",
       "      <td>annual_membership_fee</td>\n",
       "      <td>canceled</td>\n",
       "      <td>Laval</td>\n",
       "      <td>QC</td>\n",
       "      <td>H7G</td>\n",
       "      <td>Canada</td>\n",
       "      <td>CA</td>\n",
       "      <td>True</td>\n",
       "      <td>True</td>\n",
       "      <td>NaN</td>\n",
       "      <td>General Member</td>\n",
       "      <td>2020-06</td>\n",
       "    </tr>\n",
       "    <tr>\n",
       "      <th>1062</th>\n",
       "      <td>Donation</td>\n",
       "      <td>25.0</td>\n",
       "      <td>Credit Card</td>\n",
       "      <td>7368</td>\n",
       "      <td>6/16/2020 0:46</td>\n",
       "      <td>annual_membership_fee</td>\n",
       "      <td>NaN</td>\n",
       "      <td>Edmonton</td>\n",
       "      <td>AB</td>\n",
       "      <td>T5T</td>\n",
       "      <td>Canada</td>\n",
       "      <td>CA</td>\n",
       "      <td>True</td>\n",
       "      <td>True</td>\n",
       "      <td>NaN</td>\n",
       "      <td>General Member</td>\n",
       "      <td>2020-06</td>\n",
       "    </tr>\n",
       "    <tr>\n",
       "      <th>1081</th>\n",
       "      <td>Donation</td>\n",
       "      <td>25.0</td>\n",
       "      <td>Credit Card</td>\n",
       "      <td>7147</td>\n",
       "      <td>6/20/2020 0:12</td>\n",
       "      <td>annual_membership_fee</td>\n",
       "      <td>NaN</td>\n",
       "      <td>Vancouver</td>\n",
       "      <td>British Columbia</td>\n",
       "      <td>V5X</td>\n",
       "      <td>Canada</td>\n",
       "      <td>CA</td>\n",
       "      <td>True</td>\n",
       "      <td>True</td>\n",
       "      <td>Nana Boahen</td>\n",
       "      <td>British Columbia,General Member,Recruit Survey...</td>\n",
       "      <td>2020-06</td>\n",
       "    </tr>\n",
       "    <tr>\n",
       "      <th>1082</th>\n",
       "      <td>Donation</td>\n",
       "      <td>25.0</td>\n",
       "      <td>Credit Card</td>\n",
       "      <td>7446</td>\n",
       "      <td>6/20/2020 16:56</td>\n",
       "      <td>annual_membership_fee</td>\n",
       "      <td>NaN</td>\n",
       "      <td>Burnaby</td>\n",
       "      <td>British Columbia</td>\n",
       "      <td>V3N</td>\n",
       "      <td>Canada</td>\n",
       "      <td>CA</td>\n",
       "      <td>True</td>\n",
       "      <td>True</td>\n",
       "      <td>Chris Thompson</td>\n",
       "      <td>BC_Hub_Launch_RSVP,BC-IPT,BC-IPT info session ...</td>\n",
       "      <td>2020-06</td>\n",
       "    </tr>\n",
       "    <tr>\n",
       "      <th>11</th>\n",
       "      <td>Donation</td>\n",
       "      <td>25.0</td>\n",
       "      <td>Credit Card</td>\n",
       "      <td>5383</td>\n",
       "      <td>5/11/2020 23:17</td>\n",
       "      <td>annual_membership_fee</td>\n",
       "      <td>NaN</td>\n",
       "      <td>Montreal</td>\n",
       "      <td>QUEBEC</td>\n",
       "      <td>H4B</td>\n",
       "      <td>Canada</td>\n",
       "      <td>CA</td>\n",
       "      <td>True</td>\n",
       "      <td>NaN</td>\n",
       "      <td>NaN</td>\n",
       "      <td>General Member,newsletter,Quebec,YC Call May 2...</td>\n",
       "      <td>2020-05</td>\n",
       "    </tr>\n",
       "    <tr>\n",
       "      <th>1174</th>\n",
       "      <td>Donation</td>\n",
       "      <td>25.0</td>\n",
       "      <td>Credit Card</td>\n",
       "      <td>5711</td>\n",
       "      <td>7/12/2020 2:48</td>\n",
       "      <td>annual_membership_fee</td>\n",
       "      <td>canceled</td>\n",
       "      <td>Laval</td>\n",
       "      <td>QC</td>\n",
       "      <td>H7G</td>\n",
       "      <td>Canada</td>\n",
       "      <td>CA</td>\n",
       "      <td>True</td>\n",
       "      <td>True</td>\n",
       "      <td>NaN</td>\n",
       "      <td>General Member</td>\n",
       "      <td>2020-07</td>\n",
       "    </tr>\n",
       "    <tr>\n",
       "      <th>12</th>\n",
       "      <td>Donation</td>\n",
       "      <td>25.0</td>\n",
       "      <td>Credit Card</td>\n",
       "      <td>5710</td>\n",
       "      <td>5/12/2020 1:14</td>\n",
       "      <td>annual_membership_fee</td>\n",
       "      <td>NaN</td>\n",
       "      <td>Montreal</td>\n",
       "      <td>Quebec</td>\n",
       "      <td>H1N</td>\n",
       "      <td>Canada</td>\n",
       "      <td>CA</td>\n",
       "      <td>True</td>\n",
       "      <td>True</td>\n",
       "      <td>NaN</td>\n",
       "      <td>defundpolicesurvey,donor,General Member,Quebec...</td>\n",
       "      <td>2020-05</td>\n",
       "    </tr>\n",
       "    <tr>\n",
       "      <th>1244</th>\n",
       "      <td>Donation</td>\n",
       "      <td>25.0</td>\n",
       "      <td>Credit Card</td>\n",
       "      <td>5711</td>\n",
       "      <td>8/12/2020 2:48</td>\n",
       "      <td>annual_membership_fee</td>\n",
       "      <td>canceled</td>\n",
       "      <td>Laval</td>\n",
       "      <td>QC</td>\n",
       "      <td>H7G</td>\n",
       "      <td>Canada</td>\n",
       "      <td>CA</td>\n",
       "      <td>True</td>\n",
       "      <td>True</td>\n",
       "      <td>NaN</td>\n",
       "      <td>General Member</td>\n",
       "      <td>2020-08</td>\n",
       "    </tr>\n",
       "    <tr>\n",
       "      <th>13</th>\n",
       "      <td>Donation</td>\n",
       "      <td>25.0</td>\n",
       "      <td>Credit Card</td>\n",
       "      <td>5711</td>\n",
       "      <td>5/12/2020 1:48</td>\n",
       "      <td>annual_membership_fee</td>\n",
       "      <td>canceled</td>\n",
       "      <td>Laval</td>\n",
       "      <td>QC</td>\n",
       "      <td>H7G</td>\n",
       "      <td>Canada</td>\n",
       "      <td>CA</td>\n",
       "      <td>True</td>\n",
       "      <td>True</td>\n",
       "      <td>NaN</td>\n",
       "      <td>General Member</td>\n",
       "      <td>2020-05</td>\n",
       "    </tr>\n",
       "    <tr>\n",
       "      <th>1309</th>\n",
       "      <td>Donation</td>\n",
       "      <td>25.0</td>\n",
       "      <td>Credit Card</td>\n",
       "      <td>4353</td>\n",
       "      <td>9/29/2020 13:22</td>\n",
       "      <td>annual_membership_fee</td>\n",
       "      <td>NaN</td>\n",
       "      <td>Brampton</td>\n",
       "      <td>NaN</td>\n",
       "      <td>L6T</td>\n",
       "      <td>Canada</td>\n",
       "      <td>CA</td>\n",
       "      <td>True</td>\n",
       "      <td>True</td>\n",
       "      <td>NaN</td>\n",
       "      <td>General Member,MemConsultation2020,Ontario,Sum...</td>\n",
       "      <td>2020-09</td>\n",
       "    </tr>\n",
       "    <tr>\n",
       "      <th>1353</th>\n",
       "      <td>Donation</td>\n",
       "      <td>25.0</td>\n",
       "      <td>Credit Card</td>\n",
       "      <td>8031</td>\n",
       "      <td>10/29/2020 22:46</td>\n",
       "      <td>annual_membership_fee</td>\n",
       "      <td>NaN</td>\n",
       "      <td>Halifax</td>\n",
       "      <td>NaN</td>\n",
       "      <td>B3Z</td>\n",
       "      <td>Canada</td>\n",
       "      <td>CA</td>\n",
       "      <td>True</td>\n",
       "      <td>True</td>\n",
       "      <td>NaN</td>\n",
       "      <td>General Member,MemConsultation2020,Nova Scotia</td>\n",
       "      <td>2020-10</td>\n",
       "    </tr>\n",
       "    <tr>\n",
       "      <th>1372</th>\n",
       "      <td>Donation</td>\n",
       "      <td>25.0</td>\n",
       "      <td>Credit Card</td>\n",
       "      <td>8040</td>\n",
       "      <td>11/4/2020 10:17</td>\n",
       "      <td>annual_membership_fee</td>\n",
       "      <td>NaN</td>\n",
       "      <td>Toronto</td>\n",
       "      <td>Ontario</td>\n",
       "      <td>M9V</td>\n",
       "      <td>Canada</td>\n",
       "      <td>CA</td>\n",
       "      <td>True</td>\n",
       "      <td>NaN</td>\n",
       "      <td>NaN</td>\n",
       "      <td>General Member,Ontario</td>\n",
       "      <td>2020-11</td>\n",
       "    </tr>\n",
       "    <tr>\n",
       "      <th>1392</th>\n",
       "      <td>Donation</td>\n",
       "      <td>25.0</td>\n",
       "      <td>Credit Card</td>\n",
       "      <td>8133</td>\n",
       "      <td>11/27/2020 0:08</td>\n",
       "      <td>annual_membership_fee</td>\n",
       "      <td>NaN</td>\n",
       "      <td>Kingston</td>\n",
       "      <td>Ontario</td>\n",
       "      <td>K7P</td>\n",
       "      <td>Canada</td>\n",
       "      <td>CA</td>\n",
       "      <td>True</td>\n",
       "      <td>True</td>\n",
       "      <td>NaN</td>\n",
       "      <td>donor,EN,General Member,newsletter,Ontario</td>\n",
       "      <td>2020-11</td>\n",
       "    </tr>\n",
       "    <tr>\n",
       "      <th>14</th>\n",
       "      <td>Donation</td>\n",
       "      <td>50.0</td>\n",
       "      <td>Credit Card</td>\n",
       "      <td>3518</td>\n",
       "      <td>5/12/2020 1:49</td>\n",
       "      <td>annual_membership_fee</td>\n",
       "      <td>NaN</td>\n",
       "      <td>Montreal</td>\n",
       "      <td>Quebec</td>\n",
       "      <td>H2L</td>\n",
       "      <td>Canada</td>\n",
       "      <td>CA</td>\n",
       "      <td>True</td>\n",
       "      <td>True</td>\n",
       "      <td>Chris Thompson</td>\n",
       "      <td>National Call PIP April 2020 RSVPs,no - how to...</td>\n",
       "      <td>2020-05</td>\n",
       "    </tr>\n",
       "    <tr>\n",
       "      <th>1422</th>\n",
       "      <td>Donation</td>\n",
       "      <td>50.0</td>\n",
       "      <td>Credit Card</td>\n",
       "      <td>8209</td>\n",
       "      <td>12/11/2020 9:56</td>\n",
       "      <td>annual_membership_fee</td>\n",
       "      <td>NaN</td>\n",
       "      <td>Scarborough</td>\n",
       "      <td>ON</td>\n",
       "      <td>M1B</td>\n",
       "      <td>Canada</td>\n",
       "      <td>CA</td>\n",
       "      <td>True</td>\n",
       "      <td>True</td>\n",
       "      <td>Chris Thompson</td>\n",
       "      <td>General Member,Membership fee,MemConsultation2...</td>\n",
       "      <td>2020-12</td>\n",
       "    </tr>\n",
       "    <tr>\n",
       "      <th>1473</th>\n",
       "      <td>Donation</td>\n",
       "      <td>25.0</td>\n",
       "      <td>Credit Card</td>\n",
       "      <td>8376</td>\n",
       "      <td>1/15/2021 7:24</td>\n",
       "      <td>annual_membership_fee</td>\n",
       "      <td>NaN</td>\n",
       "      <td>Amherstburg</td>\n",
       "      <td>Ontario</td>\n",
       "      <td>N9V</td>\n",
       "      <td>Canada</td>\n",
       "      <td>CA</td>\n",
       "      <td>True</td>\n",
       "      <td>NaN</td>\n",
       "      <td>Chris Thompson</td>\n",
       "      <td>General Member,Membership fee,Ontario,Paid Member</td>\n",
       "      <td>2021-01</td>\n",
       "    </tr>\n",
       "    <tr>\n",
       "      <th>1475</th>\n",
       "      <td>Donation</td>\n",
       "      <td>25.0</td>\n",
       "      <td>Credit Card</td>\n",
       "      <td>7823</td>\n",
       "      <td>1/17/2021 17:31</td>\n",
       "      <td>annual_membership_fee</td>\n",
       "      <td>NaN</td>\n",
       "      <td>Montreal</td>\n",
       "      <td>Quebec</td>\n",
       "      <td>H3C</td>\n",
       "      <td>Canada</td>\n",
       "      <td>CA</td>\n",
       "      <td>True</td>\n",
       "      <td>True</td>\n",
       "      <td>Chris Thompson</td>\n",
       "      <td>General Member,Membership fee,Paid Member,Volu...</td>\n",
       "      <td>2021-01</td>\n",
       "    </tr>\n",
       "    <tr>\n",
       "      <th>1485</th>\n",
       "      <td>Donation</td>\n",
       "      <td>25.0</td>\n",
       "      <td>Credit Card</td>\n",
       "      <td>8554</td>\n",
       "      <td>2/1/2021 1:20</td>\n",
       "      <td>annual_membership_fee</td>\n",
       "      <td>NaN</td>\n",
       "      <td>Oshawa</td>\n",
       "      <td>Ontario</td>\n",
       "      <td>L1J</td>\n",
       "      <td>Canada</td>\n",
       "      <td>CA</td>\n",
       "      <td>True</td>\n",
       "      <td>True</td>\n",
       "      <td>NaN</td>\n",
       "      <td>EN,FR,General Member,Membership fee,newsletter...</td>\n",
       "      <td>2021-02</td>\n",
       "    </tr>\n",
       "    <tr>\n",
       "      <th>1577</th>\n",
       "      <td>Donation</td>\n",
       "      <td>25.0</td>\n",
       "      <td>Credit Card</td>\n",
       "      <td>9091</td>\n",
       "      <td>4/4/2021 3:55</td>\n",
       "      <td>annual_membership_fee</td>\n",
       "      <td>NaN</td>\n",
       "      <td>Kanata</td>\n",
       "      <td>ON</td>\n",
       "      <td>K2M</td>\n",
       "      <td>Canada</td>\n",
       "      <td>CA</td>\n",
       "      <td>True</td>\n",
       "      <td>True</td>\n",
       "      <td>Chris Thompson</td>\n",
       "      <td>General Member,Membership fee,Ontario,Paid Member</td>\n",
       "      <td>2021-04</td>\n",
       "    </tr>\n",
       "    <tr>\n",
       "      <th>16</th>\n",
       "      <td>Donation</td>\n",
       "      <td>25.0</td>\n",
       "      <td>Credit Card</td>\n",
       "      <td>4482</td>\n",
       "      <td>5/14/2020 10:46</td>\n",
       "      <td>annual_membership_fee</td>\n",
       "      <td>NaN</td>\n",
       "      <td>Gatineau</td>\n",
       "      <td>Québec</td>\n",
       "      <td>J9J</td>\n",
       "      <td>Canada</td>\n",
       "      <td>CA</td>\n",
       "      <td>True</td>\n",
       "      <td>True</td>\n",
       "      <td>NaN</td>\n",
       "      <td>defundpolicesurvey,FR,newsletter,Non - black,P...</td>\n",
       "      <td>2020-05</td>\n",
       "    </tr>\n",
       "    <tr>\n",
       "      <th>1633</th>\n",
       "      <td>Donation</td>\n",
       "      <td>25.0</td>\n",
       "      <td>Credit Card</td>\n",
       "      <td>9319</td>\n",
       "      <td>6/1/2021 21:51</td>\n",
       "      <td>annual_membership_fee</td>\n",
       "      <td>NaN</td>\n",
       "      <td>Nanaimo</td>\n",
       "      <td>BC</td>\n",
       "      <td>V9R</td>\n",
       "      <td>Canada</td>\n",
       "      <td>CA</td>\n",
       "      <td>True</td>\n",
       "      <td>True</td>\n",
       "      <td>Hilary Osuman</td>\n",
       "      <td>BC,British Columbia,EN,General Member,Membersh...</td>\n",
       "      <td>2021-06</td>\n",
       "    </tr>\n",
       "    <tr>\n",
       "      <th>17</th>\n",
       "      <td>Donation</td>\n",
       "      <td>25.0</td>\n",
       "      <td>Credit Card</td>\n",
       "      <td>5720</td>\n",
       "      <td>5/15/2020 17:19</td>\n",
       "      <td>annual_membership_fee</td>\n",
       "      <td>NaN</td>\n",
       "      <td>Brampton</td>\n",
       "      <td>ON</td>\n",
       "      <td>L7A</td>\n",
       "      <td>Canada</td>\n",
       "      <td>CA</td>\n",
       "      <td>True</td>\n",
       "      <td>True</td>\n",
       "      <td>NaN</td>\n",
       "      <td>General Member</td>\n",
       "      <td>2020-05</td>\n",
       "    </tr>\n",
       "    <tr>\n",
       "      <th>819</th>\n",
       "      <td>Donation</td>\n",
       "      <td>25.0</td>\n",
       "      <td>Credit Card</td>\n",
       "      <td>5964</td>\n",
       "      <td>6/5/2020 18:55</td>\n",
       "      <td>annual_membership_fee</td>\n",
       "      <td>NaN</td>\n",
       "      <td>Airdrie</td>\n",
       "      <td>Alberta</td>\n",
       "      <td>T4B</td>\n",
       "      <td>Canada</td>\n",
       "      <td>CA</td>\n",
       "      <td>True</td>\n",
       "      <td>True</td>\n",
       "      <td>Chris Thompson</td>\n",
       "      <td>AB_Hub_Launch_RSVP,Alberta,Alberta; Alberta Hu...</td>\n",
       "      <td>2020-06</td>\n",
       "    </tr>\n",
       "    <tr>\n",
       "      <th>870</th>\n",
       "      <td>Donation</td>\n",
       "      <td>25.0</td>\n",
       "      <td>Credit Card</td>\n",
       "      <td>7037</td>\n",
       "      <td>6/6/2020 16:09</td>\n",
       "      <td>annual_membership_fee</td>\n",
       "      <td>NaN</td>\n",
       "      <td>Hamilton</td>\n",
       "      <td>Ontario</td>\n",
       "      <td>L8P</td>\n",
       "      <td>Canada</td>\n",
       "      <td>CA</td>\n",
       "      <td>True</td>\n",
       "      <td>True</td>\n",
       "      <td>NaN</td>\n",
       "      <td>defundpolicesurvey,donor,General Member,Ontari...</td>\n",
       "      <td>2020-06</td>\n",
       "    </tr>\n",
       "    <tr>\n",
       "      <th>932</th>\n",
       "      <td>Donation</td>\n",
       "      <td>100.0</td>\n",
       "      <td>Credit Card</td>\n",
       "      <td>7124</td>\n",
       "      <td>6/8/2020 14:05</td>\n",
       "      <td>annual_membership_fee</td>\n",
       "      <td>NaN</td>\n",
       "      <td>Saskatoon</td>\n",
       "      <td>SK</td>\n",
       "      <td>S7J</td>\n",
       "      <td>Canada</td>\n",
       "      <td>CA</td>\n",
       "      <td>NaN</td>\n",
       "      <td>NaN</td>\n",
       "      <td>Chris Thompson</td>\n",
       "      <td>Elder Prospects,General Member,Recruit Survey ...</td>\n",
       "      <td>2020-06</td>\n",
       "    </tr>\n",
       "    <tr>\n",
       "      <th>995</th>\n",
       "      <td>Donation</td>\n",
       "      <td>25.0</td>\n",
       "      <td>Credit Card</td>\n",
       "      <td>7227</td>\n",
       "      <td>6/11/2020 14:36</td>\n",
       "      <td>annual_membership_fee</td>\n",
       "      <td>NaN</td>\n",
       "      <td>Toronto</td>\n",
       "      <td>Ontario</td>\n",
       "      <td>M4X</td>\n",
       "      <td>Canada</td>\n",
       "      <td>CA</td>\n",
       "      <td>True</td>\n",
       "      <td>True</td>\n",
       "      <td>Chris Thompson</td>\n",
       "      <td>2021 PIP List,defundpolicesurvey,General Membe...</td>\n",
       "      <td>2020-06</td>\n",
       "    </tr>\n",
       "  </tbody>\n",
       "</table>\n",
       "</div>"
      ],
      "text/plain": [
       "                      type  ...  donation_month_year\n",
       "nationbuilder_id            ...                     \n",
       "10                Donation  ...              2020-05\n",
       "1006              Donation  ...              2020-06\n",
       "1062              Donation  ...              2020-06\n",
       "1081              Donation  ...              2020-06\n",
       "1082              Donation  ...              2020-06\n",
       "11                Donation  ...              2020-05\n",
       "1174              Donation  ...              2020-07\n",
       "12                Donation  ...              2020-05\n",
       "1244              Donation  ...              2020-08\n",
       "13                Donation  ...              2020-05\n",
       "1309              Donation  ...              2020-09\n",
       "1353              Donation  ...              2020-10\n",
       "1372              Donation  ...              2020-11\n",
       "1392              Donation  ...              2020-11\n",
       "14                Donation  ...              2020-05\n",
       "1422              Donation  ...              2020-12\n",
       "1473              Donation  ...              2021-01\n",
       "1475              Donation  ...              2021-01\n",
       "1485              Donation  ...              2021-02\n",
       "1577              Donation  ...              2021-04\n",
       "16                Donation  ...              2020-05\n",
       "1633              Donation  ...              2021-06\n",
       "17                Donation  ...              2020-05\n",
       "819               Donation  ...              2020-06\n",
       "870               Donation  ...              2020-06\n",
       "932               Donation  ...              2020-06\n",
       "995               Donation  ...              2020-06\n",
       "\n",
       "[27 rows x 17 columns]"
      ]
     },
     "execution_count": 134,
     "metadata": {},
     "output_type": "execute_result"
    }
   ],
   "source": [
    "dfAnnualDonation = dfAnnualDonation.groupby('donor_id')\n",
    "dfAnnualDonation.head(5)"
   ]
  },
  {
   "cell_type": "markdown",
   "metadata": {
    "id": "XKDCVh84JB59"
   },
   "source": [
    "# Clustering\n"
   ]
  },
  {
   "cell_type": "code",
   "execution_count": 135,
   "metadata": {
    "colab": {
     "base_uri": "https://localhost:8080/",
     "height": 337
    },
    "id": "KUKQ5y3q-CFs",
    "outputId": "cdeb7531-2275-44bd-f24f-0e8055f33bce"
   },
   "outputs": [
    {
     "name": "stderr",
     "output_type": "stream",
     "text": [
      "/usr/local/lib/python3.7/dist-packages/ipykernel_launcher.py:15: SettingWithCopyWarning: \n",
      "A value is trying to be set on a copy of a slice from a DataFrame.\n",
      "Try using .loc[row_indexer,col_indexer] = value instead\n",
      "\n",
      "See the caveats in the documentation: https://pandas.pydata.org/pandas-docs/stable/user_guide/indexing.html#returning-a-view-versus-a-copy\n",
      "  from ipykernel import kernelapp as app\n"
     ]
    },
    {
     "data": {
      "text/html": [
       "<div>\n",
       "<style scoped>\n",
       "    .dataframe tbody tr th:only-of-type {\n",
       "        vertical-align: middle;\n",
       "    }\n",
       "\n",
       "    .dataframe tbody tr th {\n",
       "        vertical-align: top;\n",
       "    }\n",
       "\n",
       "    .dataframe thead th {\n",
       "        text-align: right;\n",
       "    }\n",
       "</style>\n",
       "<table border=\"1\" class=\"dataframe\">\n",
       "  <thead>\n",
       "    <tr style=\"text-align: right;\">\n",
       "      <th></th>\n",
       "      <th>amount</th>\n",
       "      <th>donation_type</th>\n",
       "      <th>billing_city</th>\n",
       "      <th>billing_FSA</th>\n",
       "      <th>donation_date</th>\n",
       "    </tr>\n",
       "    <tr>\n",
       "      <th>nationbuilder_id</th>\n",
       "      <th></th>\n",
       "      <th></th>\n",
       "      <th></th>\n",
       "      <th></th>\n",
       "      <th></th>\n",
       "    </tr>\n",
       "  </thead>\n",
       "  <tbody>\n",
       "    <tr>\n",
       "      <th>10</th>\n",
       "      <td>25.0</td>\n",
       "      <td>1.0</td>\n",
       "      <td>275</td>\n",
       "      <td>210</td>\n",
       "      <td>1.589235e+09</td>\n",
       "    </tr>\n",
       "    <tr>\n",
       "      <th>100</th>\n",
       "      <td>15.0</td>\n",
       "      <td>0.0</td>\n",
       "      <td>207</td>\n",
       "      <td>195</td>\n",
       "      <td>1.591030e+09</td>\n",
       "    </tr>\n",
       "    <tr>\n",
       "      <th>1000</th>\n",
       "      <td>15.0</td>\n",
       "      <td>0.0</td>\n",
       "      <td>202</td>\n",
       "      <td>213</td>\n",
       "      <td>1.591897e+09</td>\n",
       "    </tr>\n",
       "    <tr>\n",
       "      <th>1001</th>\n",
       "      <td>100.0</td>\n",
       "      <td>0.0</td>\n",
       "      <td>171</td>\n",
       "      <td>200</td>\n",
       "      <td>1.591897e+09</td>\n",
       "    </tr>\n",
       "    <tr>\n",
       "      <th>1002</th>\n",
       "      <td>1000.0</td>\n",
       "      <td>0.0</td>\n",
       "      <td>33</td>\n",
       "      <td>225</td>\n",
       "      <td>1.591902e+09</td>\n",
       "    </tr>\n",
       "  </tbody>\n",
       "</table>\n",
       "</div>"
      ],
      "text/plain": [
       "                  amount  donation_type  ...  billing_FSA  donation_date\n",
       "nationbuilder_id                         ...                            \n",
       "10                  25.0            1.0  ...          210   1.589235e+09\n",
       "100                 15.0            0.0  ...          195   1.591030e+09\n",
       "1000                15.0            0.0  ...          213   1.591897e+09\n",
       "1001               100.0            0.0  ...          200   1.591897e+09\n",
       "1002              1000.0            0.0  ...          225   1.591902e+09\n",
       "\n",
       "[5 rows x 5 columns]"
      ]
     },
     "execution_count": 135,
     "metadata": {},
     "output_type": "execute_result"
    }
   ],
   "source": [
    "mapping = {'donation_type': {'general_donation':0, 'annual_membership_fee':1}, 'billing_city':{}, 'billing_FSA':{}}\n",
    "dfIndexed = dfDonations[['amount', 'donation_type', 'billing_city', 'billing_FSA', 'donation_date']]\n",
    "\n",
    "cities = sorted(list(set(dfIndexed['billing_city'].values)))\n",
    "for i, city in enumerate(cities):\n",
    "  mapping['billing_city'][city] = i\n",
    "\n",
    "fsas = dfIndexed['billing_FSA'].values\n",
    "for fsa in fsas:\n",
    "  num1 = ord(fsa[0])\n",
    "  num2 = ord(fsa[1])\n",
    "  num3 = ord(fsa[2])\n",
    "  mapping['billing_FSA'][fsa] = num1 + num2 + num3\n",
    "\n",
    "dfIndexed['donation_date'] = pd.to_datetime(dfDonations['donation_date']).astype(int)/ 10**9\n",
    "\n",
    "\n",
    "dfIndexed = dfIndexed.replace(mapping)\n",
    "dfIndexed = dfIndexed.dropna()\n",
    "\n",
    "scaler = StandardScaler()\n",
    "scaler.fit(dfIndexed)\n",
    "dfIndexed.head()\n"
   ]
  },
  {
   "cell_type": "markdown",
   "metadata": {
    "id": "leV52__zJmFh"
   },
   "source": [
    "## Amount vs Donation Date"
   ]
  },
  {
   "cell_type": "code",
   "execution_count": 136,
   "metadata": {
    "colab": {
     "base_uri": "https://localhost:8080/",
     "height": 293
    },
    "id": "Dtsn1ubCJ0sl",
    "outputId": "8a3c24f4-0859-4bfe-f276-bad8dd68a208"
   },
   "outputs": [
    {
     "data": {
      "text/plain": [
       "[<matplotlib.lines.Line2D at 0x7fc7a111c2d0>]"
      ]
     },
     "execution_count": 136,
     "metadata": {},
     "output_type": "execute_result"
    },
    {
     "data": {
      "image/png": "[encoded data removed]",
      "text/plain": [
       "<Figure size 432x288 with 1 Axes>"
      ]
     },
     "metadata": {
      "needs_background": "light"
     },
     "output_type": "display_data"
    }
   ],
   "source": [
    "ks = []\n",
    "distances = []\n",
    "dfCurr = dfIndexed[['amount', 'donation_date']]\n",
    "for k in range(1, 20):\n",
    "  m = KMeans(n_clusters=k, random_state=1).fit(dfCurr)\n",
    "  distances.append(m.inertia_)\n",
    "  ks.append(k)\n",
    "\n",
    "plt.plot(ks, distances, '-bo')\n"
   ]
  },
  {
   "cell_type": "code",
   "execution_count": 137,
   "metadata": {
    "colab": {
     "base_uri": "https://localhost:8080/",
     "height": 500
    },
    "id": "aOxe4Cv7J5rn",
    "outputId": "6191a78a-07a3-47c5-db94-6a3a0cdef8e7"
   },
   "outputs": [
    {
     "name": "stderr",
     "output_type": "stream",
     "text": [
      "/usr/local/lib/python3.7/dist-packages/pandas/core/indexing.py:1596: SettingWithCopyWarning: \n",
      "A value is trying to be set on a copy of a slice from a DataFrame.\n",
      "Try using .loc[row_indexer,col_indexer] = value instead\n",
      "\n",
      "See the caveats in the documentation: https://pandas.pydata.org/pandas-docs/stable/user_guide/indexing.html#returning-a-view-versus-a-copy\n",
      "  self.obj[key] = _infer_fill_value(value)\n",
      "/usr/local/lib/python3.7/dist-packages/pandas/core/indexing.py:1781: SettingWithCopyWarning: \n",
      "A value is trying to be set on a copy of a slice from a DataFrame.\n",
      "Try using .loc[row_indexer,col_indexer] = value instead\n",
      "\n",
      "See the caveats in the documentation: https://pandas.pydata.org/pandas-docs/stable/user_guide/indexing.html#returning-a-view-versus-a-copy\n",
      "  self.obj[item_labels[indexer[info_axis]]] = value\n"
     ]
    },
    {
     "data": {
      "text/plain": [
       "Text(0, 0.5, 'donation amount($)')"
      ]
     },
     "execution_count": 137,
     "metadata": {},
     "output_type": "execute_result"
    },
    {
     "data": {
      "image/png": "[encoded data removed]",
      "text/plain": [
       "<Figure size 432x288 with 1 Axes>"
      ]
     },
     "metadata": {
      "needs_background": "light"
     },
     "output_type": "display_data"
    }
   ],
   "source": [
    "best_m = KMeans(n_clusters=3, random_state=1).fit(dfCurr)\n",
    "dfCurr.loc[:, 'cluster'] = best_m.labels_\n",
    "plt.scatter(dfCurr['donation_date'], dfCurr['amount'], c=dfCurr['cluster'], cmap='brg')\n",
    "plt.xlabel('donation date(s)')\n",
    "plt.ylabel('donation amount($)')"
   ]
  },
  {
   "cell_type": "code",
   "execution_count": 138,
   "metadata": {
    "colab": {
     "base_uri": "https://localhost:8080/",
     "height": 173
    },
    "id": "B2532CmQJ8IR",
    "outputId": "cf323fc8-5276-45b9-f4f0-73c8e1458522"
   },
   "outputs": [
    {
     "data": {
      "text/html": [
       "<div>\n",
       "<style scoped>\n",
       "    .dataframe tbody tr th:only-of-type {\n",
       "        vertical-align: middle;\n",
       "    }\n",
       "\n",
       "    .dataframe tbody tr th {\n",
       "        vertical-align: top;\n",
       "    }\n",
       "\n",
       "    .dataframe thead th {\n",
       "        text-align: right;\n",
       "    }\n",
       "</style>\n",
       "<table border=\"1\" class=\"dataframe\">\n",
       "  <thead>\n",
       "    <tr style=\"text-align: right;\">\n",
       "      <th></th>\n",
       "      <th>amount</th>\n",
       "      <th>donation_date</th>\n",
       "    </tr>\n",
       "    <tr>\n",
       "      <th>cluster</th>\n",
       "      <th></th>\n",
       "      <th></th>\n",
       "    </tr>\n",
       "  </thead>\n",
       "  <tbody>\n",
       "    <tr>\n",
       "      <th>0</th>\n",
       "      <td>74.544918</td>\n",
       "      <td>1.591688e+09</td>\n",
       "    </tr>\n",
       "    <tr>\n",
       "      <th>1</th>\n",
       "      <td>48.120853</td>\n",
       "      <td>1.604399e+09</td>\n",
       "    </tr>\n",
       "    <tr>\n",
       "      <th>2</th>\n",
       "      <td>60.860119</td>\n",
       "      <td>1.617833e+09</td>\n",
       "    </tr>\n",
       "  </tbody>\n",
       "</table>\n",
       "</div>"
      ],
      "text/plain": [
       "            amount  donation_date\n",
       "cluster                          \n",
       "0        74.544918   1.591688e+09\n",
       "1        48.120853   1.604399e+09\n",
       "2        60.860119   1.617833e+09"
      ]
     },
     "execution_count": 138,
     "metadata": {},
     "output_type": "execute_result"
    }
   ],
   "source": [
    "dfCurr.groupby('cluster').mean()"
   ]
  },
  {
   "cell_type": "code",
   "execution_count": 139,
   "metadata": {
    "colab": {
     "base_uri": "https://localhost:8080/",
     "height": 173
    },
    "id": "6QOPKQKJJ_p0",
    "outputId": "e19eeefa-cf23-4f85-82e1-25662818662f"
   },
   "outputs": [
    {
     "data": {
      "text/html": [
       "<div>\n",
       "<style scoped>\n",
       "    .dataframe tbody tr th:only-of-type {\n",
       "        vertical-align: middle;\n",
       "    }\n",
       "\n",
       "    .dataframe tbody tr th {\n",
       "        vertical-align: top;\n",
       "    }\n",
       "\n",
       "    .dataframe thead th {\n",
       "        text-align: right;\n",
       "    }\n",
       "</style>\n",
       "<table border=\"1\" class=\"dataframe\">\n",
       "  <thead>\n",
       "    <tr style=\"text-align: right;\">\n",
       "      <th></th>\n",
       "      <th>amount</th>\n",
       "      <th>donation_date</th>\n",
       "    </tr>\n",
       "    <tr>\n",
       "      <th>cluster</th>\n",
       "      <th></th>\n",
       "      <th></th>\n",
       "    </tr>\n",
       "  </thead>\n",
       "  <tbody>\n",
       "    <tr>\n",
       "      <th>0</th>\n",
       "      <td>192.102238</td>\n",
       "      <td>1.462965e+06</td>\n",
       "    </tr>\n",
       "    <tr>\n",
       "      <th>1</th>\n",
       "      <td>126.904073</td>\n",
       "      <td>3.869536e+06</td>\n",
       "    </tr>\n",
       "    <tr>\n",
       "      <th>2</th>\n",
       "      <td>393.004312</td>\n",
       "      <td>4.218394e+06</td>\n",
       "    </tr>\n",
       "  </tbody>\n",
       "</table>\n",
       "</div>"
      ],
      "text/plain": [
       "             amount  donation_date\n",
       "cluster                           \n",
       "0        192.102238   1.462965e+06\n",
       "1        126.904073   3.869536e+06\n",
       "2        393.004312   4.218394e+06"
      ]
     },
     "execution_count": 139,
     "metadata": {},
     "output_type": "execute_result"
    }
   ],
   "source": [
    "dfCurr.groupby('cluster').std()"
   ]
  },
  {
   "cell_type": "code",
   "execution_count": 140,
   "metadata": {
    "colab": {
     "base_uri": "https://localhost:8080/",
     "height": 173
    },
    "id": "1L8cZf5hKBmO",
    "outputId": "d17b4258-62f6-46ec-f503-80052068daa5"
   },
   "outputs": [
    {
     "data": {
      "text/html": [
       "<div>\n",
       "<style scoped>\n",
       "    .dataframe tbody tr th:only-of-type {\n",
       "        vertical-align: middle;\n",
       "    }\n",
       "\n",
       "    .dataframe tbody tr th {\n",
       "        vertical-align: top;\n",
       "    }\n",
       "\n",
       "    .dataframe thead th {\n",
       "        text-align: right;\n",
       "    }\n",
       "</style>\n",
       "<table border=\"1\" class=\"dataframe\">\n",
       "  <thead>\n",
       "    <tr style=\"text-align: right;\">\n",
       "      <th></th>\n",
       "      <th>amount</th>\n",
       "      <th>donation_date</th>\n",
       "    </tr>\n",
       "    <tr>\n",
       "      <th>cluster</th>\n",
       "      <th></th>\n",
       "      <th></th>\n",
       "    </tr>\n",
       "  </thead>\n",
       "  <tbody>\n",
       "    <tr>\n",
       "      <th>0</th>\n",
       "      <td>3500.0</td>\n",
       "      <td>1.597959e+09</td>\n",
       "    </tr>\n",
       "    <tr>\n",
       "      <th>1</th>\n",
       "      <td>1000.0</td>\n",
       "      <td>1.611019e+09</td>\n",
       "    </tr>\n",
       "    <tr>\n",
       "      <th>2</th>\n",
       "      <td>5000.0</td>\n",
       "      <td>1.625614e+09</td>\n",
       "    </tr>\n",
       "  </tbody>\n",
       "</table>\n",
       "</div>"
      ],
      "text/plain": [
       "         amount  donation_date\n",
       "cluster                       \n",
       "0        3500.0   1.597959e+09\n",
       "1        1000.0   1.611019e+09\n",
       "2        5000.0   1.625614e+09"
      ]
     },
     "execution_count": 140,
     "metadata": {},
     "output_type": "execute_result"
    }
   ],
   "source": [
    "dfCurr.groupby('cluster').max()"
   ]
  },
  {
   "cell_type": "code",
   "execution_count": 141,
   "metadata": {
    "colab": {
     "base_uri": "https://localhost:8080/",
     "height": 173
    },
    "id": "XJNvvbghKEVl",
    "outputId": "91efd350-0876-49fc-858e-0fb5c65f8d1c"
   },
   "outputs": [
    {
     "data": {
      "text/html": [
       "<div>\n",
       "<style scoped>\n",
       "    .dataframe tbody tr th:only-of-type {\n",
       "        vertical-align: middle;\n",
       "    }\n",
       "\n",
       "    .dataframe tbody tr th {\n",
       "        vertical-align: top;\n",
       "    }\n",
       "\n",
       "    .dataframe thead th {\n",
       "        text-align: right;\n",
       "    }\n",
       "</style>\n",
       "<table border=\"1\" class=\"dataframe\">\n",
       "  <thead>\n",
       "    <tr style=\"text-align: right;\">\n",
       "      <th></th>\n",
       "      <th>amount</th>\n",
       "      <th>donation_date</th>\n",
       "    </tr>\n",
       "    <tr>\n",
       "      <th>cluster</th>\n",
       "      <th></th>\n",
       "      <th></th>\n",
       "    </tr>\n",
       "  </thead>\n",
       "  <tbody>\n",
       "    <tr>\n",
       "      <th>0</th>\n",
       "      <td>0.5</td>\n",
       "      <td>1.578775e+09</td>\n",
       "    </tr>\n",
       "    <tr>\n",
       "      <th>1</th>\n",
       "      <td>3.0</td>\n",
       "      <td>1.598100e+09</td>\n",
       "    </tr>\n",
       "    <tr>\n",
       "      <th>2</th>\n",
       "      <td>2.0</td>\n",
       "      <td>1.611216e+09</td>\n",
       "    </tr>\n",
       "  </tbody>\n",
       "</table>\n",
       "</div>"
      ],
      "text/plain": [
       "         amount  donation_date\n",
       "cluster                       \n",
       "0           0.5   1.578775e+09\n",
       "1           3.0   1.598100e+09\n",
       "2           2.0   1.611216e+09"
      ]
     },
     "execution_count": 141,
     "metadata": {},
     "output_type": "execute_result"
    }
   ],
   "source": [
    "dfCurr.groupby('cluster').min()"
   ]
  },
  {
   "cell_type": "markdown",
   "metadata": {
    "id": "Zh4m8Z_gKI4T"
   },
   "source": [
    "## Amount vs Billing FSA"
   ]
  },
  {
   "cell_type": "code",
   "execution_count": 142,
   "metadata": {
    "colab": {
     "base_uri": "https://localhost:8080/",
     "height": 293
    },
    "id": "QblwGA-5KMS9",
    "outputId": "b0c49bc6-d7b5-4cb4-dedc-277a54314128"
   },
   "outputs": [
    {
     "data": {
      "text/plain": [
       "[<matplotlib.lines.Line2D at 0x7fc7a24c6c50>]"
      ]
     },
     "execution_count": 142,
     "metadata": {},
     "output_type": "execute_result"
    },
    {
     "data": {
      "image/png": "[encoded data removed]",
      "text/plain": [
       "<Figure size 432x288 with 1 Axes>"
      ]
     },
     "metadata": {
      "needs_background": "light"
     },
     "output_type": "display_data"
    }
   ],
   "source": [
    "ks = []\n",
    "distances = []\n",
    "dfCurr = dfIndexed[['amount', 'billing_FSA']]\n",
    "for k in range(1, 20):\n",
    "  m = KMeans(n_clusters=k, random_state=1).fit(dfCurr)\n",
    "  distances.append(m.inertia_)\n",
    "  ks.append(k)\n",
    "\n",
    "plt.plot(ks, distances, '-bo')"
   ]
  },
  {
   "cell_type": "code",
   "execution_count": 143,
   "metadata": {
    "colab": {
     "base_uri": "https://localhost:8080/",
     "height": 500
    },
    "id": "1I8JMmtqKOmo",
    "outputId": "78c2a75c-0cf7-488e-9b56-8bf46583698d"
   },
   "outputs": [
    {
     "name": "stderr",
     "output_type": "stream",
     "text": [
      "/usr/local/lib/python3.7/dist-packages/pandas/core/indexing.py:1596: SettingWithCopyWarning: \n",
      "A value is trying to be set on a copy of a slice from a DataFrame.\n",
      "Try using .loc[row_indexer,col_indexer] = value instead\n",
      "\n",
      "See the caveats in the documentation: https://pandas.pydata.org/pandas-docs/stable/user_guide/indexing.html#returning-a-view-versus-a-copy\n",
      "  self.obj[key] = _infer_fill_value(value)\n",
      "/usr/local/lib/python3.7/dist-packages/pandas/core/indexing.py:1743: SettingWithCopyWarning: \n",
      "A value is trying to be set on a copy of a slice from a DataFrame.\n",
      "Try using .loc[row_indexer,col_indexer] = value instead\n",
      "\n",
      "See the caveats in the documentation: https://pandas.pydata.org/pandas-docs/stable/user_guide/indexing.html#returning-a-view-versus-a-copy\n",
      "  isetter(ilocs[0], value)\n"
     ]
    },
    {
     "data": {
      "text/plain": [
       "Text(0, 0.5, 'donation amount($)')"
      ]
     },
     "execution_count": 143,
     "metadata": {},
     "output_type": "execute_result"
    },
    {
     "data": {
      "image/png": "[encoded data removed]",
      "text/plain": [
       "<Figure size 432x288 with 1 Axes>"
      ]
     },
     "metadata": {
      "needs_background": "light"
     },
     "output_type": "display_data"
    }
   ],
   "source": [
    "best_m = KMeans(n_clusters=4, random_state=1).fit(dfCurr)\n",
    "dfCurr.loc[:, 'cluster'] = best_m.labels_\n",
    "plt.scatter(dfCurr['billing_FSA'], dfCurr['amount'], c=dfCurr['cluster'], cmap='brg')\n",
    "plt.xlabel('donation FSA')\n",
    "plt.ylabel('donation amount($)')"
   ]
  },
  {
   "cell_type": "code",
   "execution_count": 144,
   "metadata": {
    "colab": {
     "base_uri": "https://localhost:8080/",
     "height": 204
    },
    "id": "g1vdpTTLKUY8",
    "outputId": "7d86ce49-2a87-4185-8550-67b2b8d5273c"
   },
   "outputs": [
    {
     "data": {
      "text/html": [
       "<div>\n",
       "<style scoped>\n",
       "    .dataframe tbody tr th:only-of-type {\n",
       "        vertical-align: middle;\n",
       "    }\n",
       "\n",
       "    .dataframe tbody tr th {\n",
       "        vertical-align: top;\n",
       "    }\n",
       "\n",
       "    .dataframe thead th {\n",
       "        text-align: right;\n",
       "    }\n",
       "</style>\n",
       "<table border=\"1\" class=\"dataframe\">\n",
       "  <thead>\n",
       "    <tr style=\"text-align: right;\">\n",
       "      <th></th>\n",
       "      <th>amount</th>\n",
       "      <th>billing_FSA</th>\n",
       "    </tr>\n",
       "    <tr>\n",
       "      <th>cluster</th>\n",
       "      <th></th>\n",
       "      <th></th>\n",
       "    </tr>\n",
       "  </thead>\n",
       "  <tbody>\n",
       "    <tr>\n",
       "      <th>0</th>\n",
       "      <td>374.133256</td>\n",
       "      <td>208.651163</td>\n",
       "    </tr>\n",
       "    <tr>\n",
       "      <th>1</th>\n",
       "      <td>41.182575</td>\n",
       "      <td>206.635948</td>\n",
       "    </tr>\n",
       "    <tr>\n",
       "      <th>2</th>\n",
       "      <td>4250.000000</td>\n",
       "      <td>185.000000</td>\n",
       "    </tr>\n",
       "    <tr>\n",
       "      <th>3</th>\n",
       "      <td>1293.247778</td>\n",
       "      <td>209.833333</td>\n",
       "    </tr>\n",
       "  </tbody>\n",
       "</table>\n",
       "</div>"
      ],
      "text/plain": [
       "              amount  billing_FSA\n",
       "cluster                          \n",
       "0         374.133256   208.651163\n",
       "1          41.182575   206.635948\n",
       "2        4250.000000   185.000000\n",
       "3        1293.247778   209.833333"
      ]
     },
     "execution_count": 144,
     "metadata": {},
     "output_type": "execute_result"
    }
   ],
   "source": [
    "dfCurr.groupby('cluster').mean()"
   ]
  },
  {
   "cell_type": "code",
   "execution_count": 145,
   "metadata": {
    "colab": {
     "base_uri": "https://localhost:8080/",
     "height": 204
    },
    "id": "qh7-RmfvKVDl",
    "outputId": "8020a6d8-538f-452c-e00e-9a03cb2695a9"
   },
   "outputs": [
    {
     "data": {
      "text/html": [
       "<div>\n",
       "<style scoped>\n",
       "    .dataframe tbody tr th:only-of-type {\n",
       "        vertical-align: middle;\n",
       "    }\n",
       "\n",
       "    .dataframe tbody tr th {\n",
       "        vertical-align: top;\n",
       "    }\n",
       "\n",
       "    .dataframe thead th {\n",
       "        text-align: right;\n",
       "    }\n",
       "</style>\n",
       "<table border=\"1\" class=\"dataframe\">\n",
       "  <thead>\n",
       "    <tr style=\"text-align: right;\">\n",
       "      <th></th>\n",
       "      <th>amount</th>\n",
       "      <th>billing_FSA</th>\n",
       "    </tr>\n",
       "    <tr>\n",
       "      <th>cluster</th>\n",
       "      <th></th>\n",
       "      <th></th>\n",
       "    </tr>\n",
       "  </thead>\n",
       "  <tbody>\n",
       "    <tr>\n",
       "      <th>0</th>\n",
       "      <td>162.165014</td>\n",
       "      <td>13.246534</td>\n",
       "    </tr>\n",
       "    <tr>\n",
       "      <th>1</th>\n",
       "      <td>34.975909</td>\n",
       "      <td>12.036739</td>\n",
       "    </tr>\n",
       "    <tr>\n",
       "      <th>2</th>\n",
       "      <td>1060.660172</td>\n",
       "      <td>39.597980</td>\n",
       "    </tr>\n",
       "    <tr>\n",
       "      <th>3</th>\n",
       "      <td>409.632583</td>\n",
       "      <td>8.945916</td>\n",
       "    </tr>\n",
       "  </tbody>\n",
       "</table>\n",
       "</div>"
      ],
      "text/plain": [
       "              amount  billing_FSA\n",
       "cluster                          \n",
       "0         162.165014    13.246534\n",
       "1          34.975909    12.036739\n",
       "2        1060.660172    39.597980\n",
       "3         409.632583     8.945916"
      ]
     },
     "execution_count": 145,
     "metadata": {},
     "output_type": "execute_result"
    }
   ],
   "source": [
    "dfCurr.groupby('cluster').std()"
   ]
  },
  {
   "cell_type": "code",
   "execution_count": 146,
   "metadata": {
    "colab": {
     "base_uri": "https://localhost:8080/",
     "height": 204
    },
    "id": "N4kk7yXwKXlp",
    "outputId": "2e9c7266-c8f5-4b5b-f9d2-ad73cba48ccd"
   },
   "outputs": [
    {
     "data": {
      "text/html": [
       "<div>\n",
       "<style scoped>\n",
       "    .dataframe tbody tr th:only-of-type {\n",
       "        vertical-align: middle;\n",
       "    }\n",
       "\n",
       "    .dataframe tbody tr th {\n",
       "        vertical-align: top;\n",
       "    }\n",
       "\n",
       "    .dataframe thead th {\n",
       "        text-align: right;\n",
       "    }\n",
       "</style>\n",
       "<table border=\"1\" class=\"dataframe\">\n",
       "  <thead>\n",
       "    <tr style=\"text-align: right;\">\n",
       "      <th></th>\n",
       "      <th>amount</th>\n",
       "      <th>billing_FSA</th>\n",
       "    </tr>\n",
       "    <tr>\n",
       "      <th>cluster</th>\n",
       "      <th></th>\n",
       "      <th></th>\n",
       "    </tr>\n",
       "  </thead>\n",
       "  <tbody>\n",
       "    <tr>\n",
       "      <th>0</th>\n",
       "      <td>813.5</td>\n",
       "      <td>230</td>\n",
       "    </tr>\n",
       "    <tr>\n",
       "      <th>1</th>\n",
       "      <td>200.0</td>\n",
       "      <td>290</td>\n",
       "    </tr>\n",
       "    <tr>\n",
       "      <th>2</th>\n",
       "      <td>5000.0</td>\n",
       "      <td>213</td>\n",
       "    </tr>\n",
       "    <tr>\n",
       "      <th>3</th>\n",
       "      <td>2200.0</td>\n",
       "      <td>225</td>\n",
       "    </tr>\n",
       "  </tbody>\n",
       "</table>\n",
       "</div>"
      ],
      "text/plain": [
       "         amount  billing_FSA\n",
       "cluster                     \n",
       "0         813.5          230\n",
       "1         200.0          290\n",
       "2        5000.0          213\n",
       "3        2200.0          225"
      ]
     },
     "execution_count": 146,
     "metadata": {},
     "output_type": "execute_result"
    }
   ],
   "source": [
    "dfCurr.groupby('cluster').max()"
   ]
  },
  {
   "cell_type": "code",
   "execution_count": 147,
   "metadata": {
    "colab": {
     "base_uri": "https://localhost:8080/",
     "height": 204
    },
    "id": "iFucX3YJKZsQ",
    "outputId": "a0eb8470-4ed1-4030-b18e-60e8b43a5e1e"
   },
   "outputs": [
    {
     "data": {
      "text/html": [
       "<div>\n",
       "<style scoped>\n",
       "    .dataframe tbody tr th:only-of-type {\n",
       "        vertical-align: middle;\n",
       "    }\n",
       "\n",
       "    .dataframe tbody tr th {\n",
       "        vertical-align: top;\n",
       "    }\n",
       "\n",
       "    .dataframe thead th {\n",
       "        text-align: right;\n",
       "    }\n",
       "</style>\n",
       "<table border=\"1\" class=\"dataframe\">\n",
       "  <thead>\n",
       "    <tr style=\"text-align: right;\">\n",
       "      <th></th>\n",
       "      <th>amount</th>\n",
       "      <th>billing_FSA</th>\n",
       "    </tr>\n",
       "    <tr>\n",
       "      <th>cluster</th>\n",
       "      <th></th>\n",
       "      <th></th>\n",
       "    </tr>\n",
       "  </thead>\n",
       "  <tbody>\n",
       "    <tr>\n",
       "      <th>0</th>\n",
       "      <td>242.14</td>\n",
       "      <td>150</td>\n",
       "    </tr>\n",
       "    <tr>\n",
       "      <th>1</th>\n",
       "      <td>0.50</td>\n",
       "      <td>148</td>\n",
       "    </tr>\n",
       "    <tr>\n",
       "      <th>2</th>\n",
       "      <td>3500.00</td>\n",
       "      <td>157</td>\n",
       "    </tr>\n",
       "    <tr>\n",
       "      <th>3</th>\n",
       "      <td>980.00</td>\n",
       "      <td>195</td>\n",
       "    </tr>\n",
       "  </tbody>\n",
       "</table>\n",
       "</div>"
      ],
      "text/plain": [
       "          amount  billing_FSA\n",
       "cluster                      \n",
       "0         242.14          150\n",
       "1           0.50          148\n",
       "2        3500.00          157\n",
       "3         980.00          195"
      ]
     },
     "execution_count": 147,
     "metadata": {},
     "output_type": "execute_result"
    }
   ],
   "source": [
    "dfCurr.groupby('cluster').min()"
   ]
  }
 ],
 "metadata": {
  "colab": {
   "collapsed_sections": [
    "1d244aab",
    "c0c006f5",
    "tltu4AZ8Vw6Y",
    "ueMiGniiwBwy",
    "HMZYLRflwPKc",
    "relDCb7vBDuI",
    "pf__Il3iCSiF",
    "qbKD-V9xCVax",
    "OE3RXpB3rXrF",
    "XKDCVh84JB59",
    "leV52__zJmFh"
   ],
   "name": "OD30_Group_Project .ipynb",
   "provenance": []
  },
  "kernelspec": {
   "display_name": "Python 3",
   "language": "python",
   "name": "python3"
  },
  "language_info": {
   "codemirror_mode": {
    "name": "ipython",
    "version": 3
   },
   "file_extension": ".py",
   "mimetype": "text/x-python",
   "name": "python",
   "nbconvert_exporter": "python",
   "pygments_lexer": "ipython3",
   "version": "3.8.5"
  }
 },
 "nbformat": 4,
 "nbformat_minor": 5
}
